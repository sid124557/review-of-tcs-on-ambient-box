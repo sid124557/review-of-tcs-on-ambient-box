{
 "cells": [
  {
   "cell_type": "code",
   "execution_count": 1,
   "metadata": {},
   "outputs": [],
   "source": [
    "#inks to fallow :\n",
    "\n",
    "# 1> https://towardsdatascience.com/your-guide-to-natural-language-processing-nlp-48ea2511f6e1\n",
    "\n",
    "# i am fallowing link 2 for this case \n",
    "\n",
    "# 2> https://towardsdatascience.com/introduction-to-natural-language-processing-for-text-df845750fb63\n",
    "\n",
    "# 3>https://www.geeksforgeeks.org/implementing-web-scraping-python-beautiful-soup/\n",
    "\n",
    "# 4>https://gist.github.com/lrhache/7686903\n",
    "\n",
    "# 5>https://github.com/adashofdata/nlp-in-python-tutorial/blob/master/2-Exploratory-Data-Analysis.ipynb"
   ]
  },
  {
   "cell_type": "code",
   "execution_count": 2,
   "metadata": {},
   "outputs": [
    {
     "name": "stdout",
     "output_type": "stream",
     "text": [
      "True\n"
     ]
    },
    {
     "name": "stderr",
     "output_type": "stream",
     "text": [
      "[nltk_data] Downloading package stopwords to\n",
      "[nltk_data]     /home/siddharth/nltk_data...\n",
      "[nltk_data]   Package stopwords is already up-to-date!\n"
     ]
    }
   ],
   "source": [
    "import pandas as pd \n",
    "from sklearn.feature_extraction.text import CountVectorizer\n",
    "import numpy as np\n",
    "import nltk\n",
    "print (nltk.download('stopwords'))"
   ]
  },
  {
   "cell_type": "code",
   "execution_count": 29,
   "metadata": {},
   "outputs": [],
   "source": [
    "data=pd.read_csv('file:///home/siddharth/python scraping/tcs_ambiant_box/tcs_rev.csv')\n",
    "data_1=pd.read_csv('file:///home/siddharth/python scraping/tcs_ambiant_box/tcs_with_rating_rev_2_to_10.csv')\n",
    "data_2=pd.read_csv('file:///home/siddharth/python scraping/tcs_ambiant_box/tcs_with_rating_rev_11_to_19.csv')\n",
    "data_3=pd.read_csv('file:///home/siddharth/python scraping/tcs_ambiant_box/tcs_with_rating_rev_20_to_30.csv')\n",
    "data_4=pd.read_csv('file:///home/siddharth/python scraping/tcs_ambiant_box/tcs_with_rating_rev_31_to_37.csv')"
   ]
  },
  {
   "cell_type": "code",
   "execution_count": 36,
   "metadata": {},
   "outputs": [],
   "source": [
    "frames = [data, data_1, data_2,data_3,data_4]\n",
    "\n",
    "\n",
    "result = pd.concat(frames,ignore_index=True)"
   ]
  },
  {
   "cell_type": "code",
   "execution_count": 37,
   "metadata": {},
   "outputs": [
    {
     "data": {
      "text/html": [
       "<div>\n",
       "<style scoped>\n",
       "    .dataframe tbody tr th:only-of-type {\n",
       "        vertical-align: middle;\n",
       "    }\n",
       "\n",
       "    .dataframe tbody tr th {\n",
       "        vertical-align: top;\n",
       "    }\n",
       "\n",
       "    .dataframe thead th {\n",
       "        text-align: right;\n",
       "    }\n",
       "</style>\n",
       "<table border=\"1\" class=\"dataframe\">\n",
       "  <thead>\n",
       "    <tr style=\"text-align: right;\">\n",
       "      <th></th>\n",
       "      <th>Unnamed: 0</th>\n",
       "      <th>date</th>\n",
       "      <th>tital</th>\n",
       "      <th>user</th>\n",
       "      <th>dislike</th>\n",
       "      <th>like</th>\n",
       "      <th>page_index</th>\n",
       "      <th>rating</th>\n",
       "    </tr>\n",
       "  </thead>\n",
       "  <tbody>\n",
       "    <tr>\n",
       "      <th>0</th>\n",
       "      <td>0</td>\n",
       "      <td>posted on 05 Sep 2018</td>\n",
       "      <td>System Engineer  in Kolkata</td>\n",
       "      <td>Anonymous · Finance Division</td>\n",
       "      <td>Dislikes 1. Growth: Not much scope of growth. ...</td>\n",
       "      <td>Likes Few things that are good: \\r\\n1. Job sec...</td>\n",
       "      <td>2</td>\n",
       "      <td>NaN</td>\n",
       "    </tr>\n",
       "    <tr>\n",
       "      <th>1</th>\n",
       "      <td>1</td>\n",
       "      <td>posted on 12 Aug 2020</td>\n",
       "      <td>It Analyst  in Kolkata</td>\n",
       "      <td>Anonymous · IoT Division</td>\n",
       "      <td>Dislikes Some of the managers are lagging with...</td>\n",
       "      <td>Likes I am carrying company provided laptop be...</td>\n",
       "      <td>2</td>\n",
       "      <td>NaN</td>\n",
       "    </tr>\n",
       "    <tr>\n",
       "      <th>2</th>\n",
       "      <td>2</td>\n",
       "      <td>posted on 26 Jul 2019</td>\n",
       "      <td>Associate Consultant  in Bangalore</td>\n",
       "      <td>Anonymous · EIS Division</td>\n",
       "      <td>Dislikes 1. First of all, everybody in TCS are...</td>\n",
       "      <td>Likes You can draw salary without doing any wo...</td>\n",
       "      <td>2</td>\n",
       "      <td>NaN</td>\n",
       "    </tr>\n",
       "    <tr>\n",
       "      <th>3</th>\n",
       "      <td>3</td>\n",
       "      <td>posted on 29 Aug 2020</td>\n",
       "      <td>Assistant Consultant (ITIS)  in Whitefield</td>\n",
       "      <td>Anonymous · ITIS Division</td>\n",
       "      <td>Dislikes Nothing to dislike about working at TCS</td>\n",
       "      <td>Likes Good and excellent job security provided...</td>\n",
       "      <td>2</td>\n",
       "      <td>NaN</td>\n",
       "    </tr>\n",
       "    <tr>\n",
       "      <th>4</th>\n",
       "      <td>4</td>\n",
       "      <td>posted on 21 Aug 2020</td>\n",
       "      <td>Assistant System Engineer  in Pune</td>\n",
       "      <td>Anonymous · It Services Division</td>\n",
       "      <td>Dislikes Salary appraisal is very low for begi...</td>\n",
       "      <td>Likes Apart from Job security the company prov...</td>\n",
       "      <td>2</td>\n",
       "      <td>NaN</td>\n",
       "    </tr>\n",
       "    <tr>\n",
       "      <th>...</th>\n",
       "      <td>...</td>\n",
       "      <td>...</td>\n",
       "      <td>...</td>\n",
       "      <td>...</td>\n",
       "      <td>...</td>\n",
       "      <td>...</td>\n",
       "      <td>...</td>\n",
       "      <td>...</td>\n",
       "    </tr>\n",
       "    <tr>\n",
       "      <th>514</th>\n",
       "      <td>65</td>\n",
       "      <td>posted on 29 Jan 2020</td>\n",
       "      <td>It Analyst  in Kolkata</td>\n",
       "      <td>Anonymous · bfs Division</td>\n",
       "      <td>Dislikes 1.Poor Work Life balance, specially i...</td>\n",
       "      <td>Likes Job Security.</td>\n",
       "      <td>37</td>\n",
       "      <td>2.0</td>\n",
       "    </tr>\n",
       "    <tr>\n",
       "      <th>515</th>\n",
       "      <td>66</td>\n",
       "      <td>posted on 07 Jun 2020</td>\n",
       "      <td>Associate  in Pune</td>\n",
       "      <td>Anonymous · Us Mortgage Division</td>\n",
       "      <td>Dislikes No opportunity to join again</td>\n",
       "      <td>Likes This is Ganesh currently I am not a empl...</td>\n",
       "      <td>37</td>\n",
       "      <td>5.0</td>\n",
       "    </tr>\n",
       "    <tr>\n",
       "      <th>516</th>\n",
       "      <td>67</td>\n",
       "      <td>posted on 04 Jun 2020</td>\n",
       "      <td>Office Boy for 4.9 years in Kolkata, Rajarhat</td>\n",
       "      <td>Anonymous · Former Employee · Office boy Divi...</td>\n",
       "      <td>Dislikes Admin pressures</td>\n",
       "      <td>Likes I am not working right now 😔</td>\n",
       "      <td>37</td>\n",
       "      <td>5.0</td>\n",
       "    </tr>\n",
       "    <tr>\n",
       "      <th>517</th>\n",
       "      <td>68</td>\n",
       "      <td>posted on 05 Jun 2020</td>\n",
       "      <td>Senior Associate  in Pune Bhosari</td>\n",
       "      <td>Anonymous · Banking &amp; Finance Division</td>\n",
       "      <td>Dislikes nothing</td>\n",
       "      <td>Likes traning language is very soft.no politic...</td>\n",
       "      <td>37</td>\n",
       "      <td>4.0</td>\n",
       "    </tr>\n",
       "    <tr>\n",
       "      <th>518</th>\n",
       "      <td>69</td>\n",
       "      <td>posted on 13 Mar 2020</td>\n",
       "      <td>Associate Technical Consultant  in Mumbai</td>\n",
       "      <td>Anonymous · BPO Division</td>\n",
       "      <td>Dislikes The company's alumni portal services ...</td>\n",
       "      <td>Likes The company is better with their monthly...</td>\n",
       "      <td>37</td>\n",
       "      <td>5.0</td>\n",
       "    </tr>\n",
       "  </tbody>\n",
       "</table>\n",
       "<p>519 rows × 8 columns</p>\n",
       "</div>"
      ],
      "text/plain": [
       "     Unnamed: 0                   date  \\\n",
       "0             0  posted on 05 Sep 2018   \n",
       "1             1  posted on 12 Aug 2020   \n",
       "2             2  posted on 26 Jul 2019   \n",
       "3             3  posted on 29 Aug 2020   \n",
       "4             4  posted on 21 Aug 2020   \n",
       "..          ...                    ...   \n",
       "514          65  posted on 29 Jan 2020   \n",
       "515          66  posted on 07 Jun 2020   \n",
       "516          67  posted on 04 Jun 2020   \n",
       "517          68  posted on 05 Jun 2020   \n",
       "518          69  posted on 13 Mar 2020   \n",
       "\n",
       "                                             tital  \\\n",
       "0                      System Engineer  in Kolkata   \n",
       "1                           It Analyst  in Kolkata   \n",
       "2               Associate Consultant  in Bangalore   \n",
       "3       Assistant Consultant (ITIS)  in Whitefield   \n",
       "4               Assistant System Engineer  in Pune   \n",
       "..                                             ...   \n",
       "514                         It Analyst  in Kolkata   \n",
       "515                             Associate  in Pune   \n",
       "516  Office Boy for 4.9 years in Kolkata, Rajarhat   \n",
       "517              Senior Associate  in Pune Bhosari   \n",
       "518      Associate Technical Consultant  in Mumbai   \n",
       "\n",
       "                                                  user  \\\n",
       "0                     Anonymous · Finance Division       \n",
       "1                         Anonymous · IoT Division       \n",
       "2                         Anonymous · EIS Division       \n",
       "3                        Anonymous · ITIS Division       \n",
       "4                 Anonymous · It Services Division       \n",
       "..                                                 ...   \n",
       "514                       Anonymous · bfs Division       \n",
       "515               Anonymous · Us Mortgage Division       \n",
       "516   Anonymous · Former Employee · Office boy Divi...   \n",
       "517         Anonymous · Banking & Finance Division       \n",
       "518                       Anonymous · BPO Division       \n",
       "\n",
       "                                               dislike  \\\n",
       "0    Dislikes 1. Growth: Not much scope of growth. ...   \n",
       "1    Dislikes Some of the managers are lagging with...   \n",
       "2    Dislikes 1. First of all, everybody in TCS are...   \n",
       "3     Dislikes Nothing to dislike about working at TCS   \n",
       "4    Dislikes Salary appraisal is very low for begi...   \n",
       "..                                                 ...   \n",
       "514  Dislikes 1.Poor Work Life balance, specially i...   \n",
       "515             Dislikes No opportunity to join again    \n",
       "516                           Dislikes Admin pressures   \n",
       "517                                   Dislikes nothing   \n",
       "518  Dislikes The company's alumni portal services ...   \n",
       "\n",
       "                                                  like  page_index  rating  \n",
       "0    Likes Few things that are good: \\r\\n1. Job sec...           2     NaN  \n",
       "1    Likes I am carrying company provided laptop be...           2     NaN  \n",
       "2    Likes You can draw salary without doing any wo...           2     NaN  \n",
       "3    Likes Good and excellent job security provided...           2     NaN  \n",
       "4    Likes Apart from Job security the company prov...           2     NaN  \n",
       "..                                                 ...         ...     ...  \n",
       "514                                Likes Job Security.          37     2.0  \n",
       "515  Likes This is Ganesh currently I am not a empl...          37     5.0  \n",
       "516                 Likes I am not working right now 😔          37     5.0  \n",
       "517  Likes traning language is very soft.no politic...          37     4.0  \n",
       "518  Likes The company is better with their monthly...          37     5.0  \n",
       "\n",
       "[519 rows x 8 columns]"
      ]
     },
     "execution_count": 37,
     "metadata": {},
     "output_type": "execute_result"
    }
   ],
   "source": [
    "result "
   ]
  },
  {
   "cell_type": "code",
   "execution_count": 38,
   "metadata": {},
   "outputs": [],
   "source": [
    "data1=result "
   ]
  },
  {
   "cell_type": "code",
   "execution_count": 39,
   "metadata": {},
   "outputs": [],
   "source": [
    "data1.insert(7, \"clean_round_1\",\"\")\n"
   ]
  },
  {
   "cell_type": "code",
   "execution_count": 40,
   "metadata": {},
   "outputs": [
    {
     "data": {
      "text/html": [
       "<div>\n",
       "<style scoped>\n",
       "    .dataframe tbody tr th:only-of-type {\n",
       "        vertical-align: middle;\n",
       "    }\n",
       "\n",
       "    .dataframe tbody tr th {\n",
       "        vertical-align: top;\n",
       "    }\n",
       "\n",
       "    .dataframe thead th {\n",
       "        text-align: right;\n",
       "    }\n",
       "</style>\n",
       "<table border=\"1\" class=\"dataframe\">\n",
       "  <thead>\n",
       "    <tr style=\"text-align: right;\">\n",
       "      <th></th>\n",
       "      <th>Unnamed: 0</th>\n",
       "      <th>date</th>\n",
       "      <th>tital</th>\n",
       "      <th>user</th>\n",
       "      <th>dislike</th>\n",
       "      <th>like</th>\n",
       "      <th>page_index</th>\n",
       "      <th>clean_round_1</th>\n",
       "      <th>rating</th>\n",
       "    </tr>\n",
       "  </thead>\n",
       "  <tbody>\n",
       "    <tr>\n",
       "      <th>0</th>\n",
       "      <td>0</td>\n",
       "      <td>posted on 05 Sep 2018</td>\n",
       "      <td>System Engineer  in Kolkata</td>\n",
       "      <td>Anonymous · Finance Division</td>\n",
       "      <td>Dislikes 1. Growth: Not much scope of growth. ...</td>\n",
       "      <td>Likes Few things that are good: \\r\\n1. Job sec...</td>\n",
       "      <td>2</td>\n",
       "      <td></td>\n",
       "      <td>NaN</td>\n",
       "    </tr>\n",
       "    <tr>\n",
       "      <th>1</th>\n",
       "      <td>1</td>\n",
       "      <td>posted on 12 Aug 2020</td>\n",
       "      <td>It Analyst  in Kolkata</td>\n",
       "      <td>Anonymous · IoT Division</td>\n",
       "      <td>Dislikes Some of the managers are lagging with...</td>\n",
       "      <td>Likes I am carrying company provided laptop be...</td>\n",
       "      <td>2</td>\n",
       "      <td></td>\n",
       "      <td>NaN</td>\n",
       "    </tr>\n",
       "    <tr>\n",
       "      <th>2</th>\n",
       "      <td>2</td>\n",
       "      <td>posted on 26 Jul 2019</td>\n",
       "      <td>Associate Consultant  in Bangalore</td>\n",
       "      <td>Anonymous · EIS Division</td>\n",
       "      <td>Dislikes 1. First of all, everybody in TCS are...</td>\n",
       "      <td>Likes You can draw salary without doing any wo...</td>\n",
       "      <td>2</td>\n",
       "      <td></td>\n",
       "      <td>NaN</td>\n",
       "    </tr>\n",
       "    <tr>\n",
       "      <th>3</th>\n",
       "      <td>3</td>\n",
       "      <td>posted on 29 Aug 2020</td>\n",
       "      <td>Assistant Consultant (ITIS)  in Whitefield</td>\n",
       "      <td>Anonymous · ITIS Division</td>\n",
       "      <td>Dislikes Nothing to dislike about working at TCS</td>\n",
       "      <td>Likes Good and excellent job security provided...</td>\n",
       "      <td>2</td>\n",
       "      <td></td>\n",
       "      <td>NaN</td>\n",
       "    </tr>\n",
       "    <tr>\n",
       "      <th>4</th>\n",
       "      <td>4</td>\n",
       "      <td>posted on 21 Aug 2020</td>\n",
       "      <td>Assistant System Engineer  in Pune</td>\n",
       "      <td>Anonymous · It Services Division</td>\n",
       "      <td>Dislikes Salary appraisal is very low for begi...</td>\n",
       "      <td>Likes Apart from Job security the company prov...</td>\n",
       "      <td>2</td>\n",
       "      <td></td>\n",
       "      <td>NaN</td>\n",
       "    </tr>\n",
       "    <tr>\n",
       "      <th>...</th>\n",
       "      <td>...</td>\n",
       "      <td>...</td>\n",
       "      <td>...</td>\n",
       "      <td>...</td>\n",
       "      <td>...</td>\n",
       "      <td>...</td>\n",
       "      <td>...</td>\n",
       "      <td>...</td>\n",
       "      <td>...</td>\n",
       "    </tr>\n",
       "    <tr>\n",
       "      <th>514</th>\n",
       "      <td>65</td>\n",
       "      <td>posted on 29 Jan 2020</td>\n",
       "      <td>It Analyst  in Kolkata</td>\n",
       "      <td>Anonymous · bfs Division</td>\n",
       "      <td>Dislikes 1.Poor Work Life balance, specially i...</td>\n",
       "      <td>Likes Job Security.</td>\n",
       "      <td>37</td>\n",
       "      <td></td>\n",
       "      <td>2.0</td>\n",
       "    </tr>\n",
       "    <tr>\n",
       "      <th>515</th>\n",
       "      <td>66</td>\n",
       "      <td>posted on 07 Jun 2020</td>\n",
       "      <td>Associate  in Pune</td>\n",
       "      <td>Anonymous · Us Mortgage Division</td>\n",
       "      <td>Dislikes No opportunity to join again</td>\n",
       "      <td>Likes This is Ganesh currently I am not a empl...</td>\n",
       "      <td>37</td>\n",
       "      <td></td>\n",
       "      <td>5.0</td>\n",
       "    </tr>\n",
       "    <tr>\n",
       "      <th>516</th>\n",
       "      <td>67</td>\n",
       "      <td>posted on 04 Jun 2020</td>\n",
       "      <td>Office Boy for 4.9 years in Kolkata, Rajarhat</td>\n",
       "      <td>Anonymous · Former Employee · Office boy Divi...</td>\n",
       "      <td>Dislikes Admin pressures</td>\n",
       "      <td>Likes I am not working right now 😔</td>\n",
       "      <td>37</td>\n",
       "      <td></td>\n",
       "      <td>5.0</td>\n",
       "    </tr>\n",
       "    <tr>\n",
       "      <th>517</th>\n",
       "      <td>68</td>\n",
       "      <td>posted on 05 Jun 2020</td>\n",
       "      <td>Senior Associate  in Pune Bhosari</td>\n",
       "      <td>Anonymous · Banking &amp; Finance Division</td>\n",
       "      <td>Dislikes nothing</td>\n",
       "      <td>Likes traning language is very soft.no politic...</td>\n",
       "      <td>37</td>\n",
       "      <td></td>\n",
       "      <td>4.0</td>\n",
       "    </tr>\n",
       "    <tr>\n",
       "      <th>518</th>\n",
       "      <td>69</td>\n",
       "      <td>posted on 13 Mar 2020</td>\n",
       "      <td>Associate Technical Consultant  in Mumbai</td>\n",
       "      <td>Anonymous · BPO Division</td>\n",
       "      <td>Dislikes The company's alumni portal services ...</td>\n",
       "      <td>Likes The company is better with their monthly...</td>\n",
       "      <td>37</td>\n",
       "      <td></td>\n",
       "      <td>5.0</td>\n",
       "    </tr>\n",
       "  </tbody>\n",
       "</table>\n",
       "<p>519 rows × 9 columns</p>\n",
       "</div>"
      ],
      "text/plain": [
       "     Unnamed: 0                   date  \\\n",
       "0             0  posted on 05 Sep 2018   \n",
       "1             1  posted on 12 Aug 2020   \n",
       "2             2  posted on 26 Jul 2019   \n",
       "3             3  posted on 29 Aug 2020   \n",
       "4             4  posted on 21 Aug 2020   \n",
       "..          ...                    ...   \n",
       "514          65  posted on 29 Jan 2020   \n",
       "515          66  posted on 07 Jun 2020   \n",
       "516          67  posted on 04 Jun 2020   \n",
       "517          68  posted on 05 Jun 2020   \n",
       "518          69  posted on 13 Mar 2020   \n",
       "\n",
       "                                             tital  \\\n",
       "0                      System Engineer  in Kolkata   \n",
       "1                           It Analyst  in Kolkata   \n",
       "2               Associate Consultant  in Bangalore   \n",
       "3       Assistant Consultant (ITIS)  in Whitefield   \n",
       "4               Assistant System Engineer  in Pune   \n",
       "..                                             ...   \n",
       "514                         It Analyst  in Kolkata   \n",
       "515                             Associate  in Pune   \n",
       "516  Office Boy for 4.9 years in Kolkata, Rajarhat   \n",
       "517              Senior Associate  in Pune Bhosari   \n",
       "518      Associate Technical Consultant  in Mumbai   \n",
       "\n",
       "                                                  user  \\\n",
       "0                     Anonymous · Finance Division       \n",
       "1                         Anonymous · IoT Division       \n",
       "2                         Anonymous · EIS Division       \n",
       "3                        Anonymous · ITIS Division       \n",
       "4                 Anonymous · It Services Division       \n",
       "..                                                 ...   \n",
       "514                       Anonymous · bfs Division       \n",
       "515               Anonymous · Us Mortgage Division       \n",
       "516   Anonymous · Former Employee · Office boy Divi...   \n",
       "517         Anonymous · Banking & Finance Division       \n",
       "518                       Anonymous · BPO Division       \n",
       "\n",
       "                                               dislike  \\\n",
       "0    Dislikes 1. Growth: Not much scope of growth. ...   \n",
       "1    Dislikes Some of the managers are lagging with...   \n",
       "2    Dislikes 1. First of all, everybody in TCS are...   \n",
       "3     Dislikes Nothing to dislike about working at TCS   \n",
       "4    Dislikes Salary appraisal is very low for begi...   \n",
       "..                                                 ...   \n",
       "514  Dislikes 1.Poor Work Life balance, specially i...   \n",
       "515             Dislikes No opportunity to join again    \n",
       "516                           Dislikes Admin pressures   \n",
       "517                                   Dislikes nothing   \n",
       "518  Dislikes The company's alumni portal services ...   \n",
       "\n",
       "                                                  like  page_index  \\\n",
       "0    Likes Few things that are good: \\r\\n1. Job sec...           2   \n",
       "1    Likes I am carrying company provided laptop be...           2   \n",
       "2    Likes You can draw salary without doing any wo...           2   \n",
       "3    Likes Good and excellent job security provided...           2   \n",
       "4    Likes Apart from Job security the company prov...           2   \n",
       "..                                                 ...         ...   \n",
       "514                                Likes Job Security.          37   \n",
       "515  Likes This is Ganesh currently I am not a empl...          37   \n",
       "516                 Likes I am not working right now 😔          37   \n",
       "517  Likes traning language is very soft.no politic...          37   \n",
       "518  Likes The company is better with their monthly...          37   \n",
       "\n",
       "    clean_round_1  rating  \n",
       "0                     NaN  \n",
       "1                     NaN  \n",
       "2                     NaN  \n",
       "3                     NaN  \n",
       "4                     NaN  \n",
       "..            ...     ...  \n",
       "514                   2.0  \n",
       "515                   5.0  \n",
       "516                   5.0  \n",
       "517                   4.0  \n",
       "518                   5.0  \n",
       "\n",
       "[519 rows x 9 columns]"
      ]
     },
     "execution_count": 40,
     "metadata": {},
     "output_type": "execute_result"
    }
   ],
   "source": [
    "data1"
   ]
  },
  {
   "cell_type": "code",
   "execution_count": 41,
   "metadata": {},
   "outputs": [],
   "source": [
    "import re\n",
    "import string\n",
    "\n",
    "def clean_text_round1(text):\n",
    "    #print (text)\n",
    "    '''Make text lowercase, remove punctuation and remove words containing numbers.'''\n",
    "    text = text.lower()\n",
    "   # print(text)\n",
    "    text = re.sub('[%s]' % re.escape(string.punctuation), '', text)\n",
    "   # print(text)\n",
    "    text = re.sub('\\w*\\d\\w*', '', text)\n",
    "    text = re.sub('\\n', '', text)\n",
    "    text=re.sub('\\r', '', text)\n",
    "    #removing like from the first\n",
    "    text = text.split(' ', 1)[1]\n",
    "    print(text)\n",
    "    return text"
   ]
  },
  {
   "cell_type": "code",
   "execution_count": 42,
   "metadata": {},
   "outputs": [
    {
     "name": "stdout",
     "output_type": "stream",
     "text": [
      "few things that are good  job security in my opinion  of the  people who are in tcs is because of job security tcs holds onto their employees even in tough situations in market although there was a large layoff in recent past still job security is a plus balance  it is good most of the time there are no pressure and also work is not much challenging so usually after the timid learning curve it is   easy workwise in support projects timing may be an issue because one may have to support weekend or at night but those are compensated in development projects timing at beginning is casual but at time of delivery it is haywire because always there are no time but lot of development left this should give an idea of poor management benefits nice health benefits for employee and family easy on leaves about maternity wedding etc read more\n",
      "i am carrying company provided laptop before this pandemic hits in as a devops engineer i already have vpn and admin privileges turned on long before i have not faced any lag during wfh period company is also providing internet connection charges i am quite happy what tcs is doing \n",
      "you can draw salary without doing any work and even without going to office a single day in a month\n",
      "good and excellent job security provided by tcs during this pandemic good company policies and excellent support for the employes by providing work from home option\n",
      "apart from job security the company provides various opportunities for skill development the flexible working environment and various benefits provided by the company are other plus points\n",
      "tcs had started the precautionary measures since the early stages of covid and most of the employees were stationed to work from home as new normal the company has been instrumental in keeping the psychological parameters balanced in this tough time with the help of different programs and expert views work life balance is equally taken care of \n",
      "job security is only better compared to other companies but lot of internal politicsemployees suffer a lot because of role change or project change\n",
      "tcs support is extraordinary during this pandemic by giving work from home option there is no risk of covid to the associates and also no impact in productivity but the thing is working hours has become more than  and still hikes are not there\n",
      "life at tcs is all dependant on the type of project one is allocated to but still one can find these things good job security is best a good worklife balance at few times things may become hectic but at other times its balanced too many people to interact with chance to work on the very latest technologies again its project specific onsite possibility which is decided as per the followingjust some unanimous conclusiona the project has onsite workb years of working at tcs by the employeec immeasurable knowledge with equally impressive articulation skill with good soft skills softskill is very importantd very good at fooling people and convincing them for ones good workenvironment depends on the type of  associates one works withmine was goodread more\n",
      "tcs the name says it all when its tata its always best best and most secure company one can imagine at this crisis and pandemic time  job security complete and comfortable work from home good work life balance a very employee friendly company \n",
      "security\n",
      "job security is the only thing i would like to appreciate during this covid  lockdown\n",
      "tata is the only company that comes up heartfully to help not only its associates and also their near family members i am very proud to say i am an employee of tata\n",
      "work life balance\n",
      "job security for people who are already earning good can switch to the company but freshers do not expect for good growth here\n",
      "you will see job security mentioned in all the posts tcs has a good brand name and you can flaunt it and it is a matter of pride the learning opportunities are immense as the learning and development has plethora of articles exams and training material to enhance your skills the compensation is the best among the mncs but depends on your managers perspective sycophancy is omnipresent needless to say having said that i will still mention salary part the positives  the medical and the digital claim system makes the life easy the facilities like gym and cafeteria varies from location to location if you are lucky enough to be deputed at a good place you will get good amenities place like malad is an old asylum the infrastructure is poor cons of getting stuck in an internal project read more\n",
      "is not for who looking for challenging and skill development roles but good for easy go minded people and job secure people not at all good for youngsters \n",
      "very less salaries in this company as compare to marketand they are not given any bonus for the covid  situation rather than increment of salarywe are doing our work from home toobut company not provided increment there is not decreased the work even covid  situations\n",
      "good environment due to covid  lockdown work from home is provided hence its very safe for employees\n",
      "onsite opportunities\n",
      "tcs is not supporting us during the lockdown they are asking employees to come back from home and stay near the office in spite of the dangerous ongoing conditionthey have neither provided laptops nor provided internet for working from home in spite of the fact that the company has thousands of crores of profit every quarteralso one should never join tcs in their career starting days as they will destroy your life completely no learning i am again repeating you will not learn anything in this companyread more\n",
      "overall experience is good but a lot of people keep wasting their and companys time here this indirectly impact the hard working bunch tcs has been supportive during this covid period its been a continuous wfh since april and company keep gathering information on associates well being there are covid corner dedicated helpline number and on call doctos assistance to help someone out\n",
      "tcs one of tha multinational com is very soft and nice place to working to everyone desire and evry person dreams come true and  tcs is tha most comfortable working environment compare to other compny\n",
      "the company support is very good special thanks to ratan tata sir for donating huge amount to need one’s\n",
      "really hands up to this organization because as in this situation many peoples are unable to working and company is not let them\n",
      "its best in terms of securitywork life balanceteam  other activities and skill development\n",
      "good work environment and culture there is a huge cafeteria and gaming arcade for chilling company policies are good appraisal are fair and they give salary hike and bonus nothing \n",
      "in this situation company supporting us very well there is issue with salary as there is no deduction \n",
      "its like govt jobwork culture excellent excellent company policies unbelievable about tcs policies\n",
      "i can consider it as one of the most reliable organisations during this global pandemicthought there are lots of internal projects are suffering still there allocating project to their associates i have friends in other mncs they are simply asking them to stay on the bench or indirectly forcing me to leave the jobbut as per my personal realisationend of the day what will save you is your productivityread more\n",
      "work life balance is there no frequent weekend workingsjob security is there no politics teammates are from different cultural background and work happily with each other salary n other compnsations are good mediclaim policies n insurance are excellent\n",
      "tcs has handled the pandemic situation in very great manner they implemented work from home culture immediately due to the wide spread of corona virus taking associates health as a primary concern the same has been communicated to the clients \n",
      "tcs is supporting work from home \n",
      "in this pandemic there is secure job which means a lot\n",
      "as i was a contractor employee from last  years they treated like me a contractor and removed me within  days during this  pandemicnow how can i trust and what will i like about this company who cannot support their contractor employees during this situation alsovery bad experience\n",
      "when you think about tcs yes they are given job securitybut then after their is not personal lifeit was like burden for usthere is no growth in financially\n",
      "learning opportunities\n",
      "work culture is good as colleagues used to support a lot together as team we used to work hard  enjoy as well work life balance used to be good overall experience is great\n",
      "in lockdown time tcs pay the salary to all employees and also provide the covid health centers this is very usefull for all tcs employees\n",
      "the working culture \n",
      "i dont like any thing in tcs manager always support local guys no support during covid time my manager didnt inform me about tcs system is required and after the they are calling us to base location\n",
      "tcs is awesome company to work in it industry you get all the support from the mgmt team and freedom to work\n",
      "i mostly like their health insurance policy you will get the treatment from best hospital in the country under the mediclaim no need to worry for the hospital bill \n",
      "good support from tcs honestly   but timesheet policy has become very strict     \n",
      "job security\n",
      "im no longer an employee i left the job in  for higher studies hr person and managers helped alot for higher study policies \n",
      "we can be  assured that our jobs are secured also we have a lot of exposure and opportunities to improve ourself i feel proud and lucky working in tcs\n",
      "enjoyed my time working there had good exposure on latest technologies if you are part of innovation labs and flexible work timings  \n",
      "the most important thing is tcs does not layoff anyone though hiring for seniors are not happening but those given offer tcs is committed and did not cancelled the offer due to covid it also helped in virtual joining in this pandemic situation it provided all employee to work from hometcs is more project oriented and certain variables payments are based on projects but that is what consultant is expected to work on certain projectread more\n",
      "webinars for guidance for better heath in covid time availability of heath experts counsellors daily tips yoga sessions ergonomic tips and sessions and a lot more\n",
      "prakash iyer tower lead for telstra should be terminated immediately \n",
      "job security \n",
      "no layoffs no deduction in salaries covid  cover quarantine facility oxygen cylinder facility for employee and dependent and lot more\n",
      "really supportive work from home is comparatively safe during this period they have not called us back to office which is like risking our lives hope tcs will let us work from home until corona is completely gone as there is life rosk everywhere we have a convenient work environment and we feel more productive for reasons like extended office hours \n",
      "tcs has never let you feel that there is a recession going on i have no insecurities about my job nor about salary everything have been maintained very smoothly and didnt even bother to let us know what is happening around the world\n",
      "we have full job security and on time salary payment but salary is too less and hike percentage is too low plus because of covid we got zero hikes zero promotions this year its too hard to grep financially in this company if you looking for making good money as yur ground rule then this is not the company for you \n",
      "no company culture full of micro management worst managers no promotion or hikes\n",
      "i havent come across any incident of lay off the employees continue to get their regular compensation tata has been kind  and compassionate i believe the projects have been a little over the edge by bumping up the pressure at this hour of pandemic\n",
      "i was one of the employees of tcs now i am not part of the company but when i worked with tcs it was all time i felt better and i felt i am at a safe place given a opportunity i want to continue my services with tcs \n",
      "in this pandemic it has never stopped the salary also have provided camp for the covid affected employees\n",
      "good health policies\n",
      "there has been no increment this year but in these uncertain circumstances tcs has promised no job cuts and it has also provided reimbursement facilities for some work from home paraphernalias hrs have called a number of associates enquiring about overall health of the associate and family it has also provided helpline numbersfor various issues that might arise if an associate or a family member is covid infected overall tcs has handled the situation fairly wellof course lack of any increments this year has demotivated a number of associates but as of now i choose to overlook that read more\n",
      "job securitywork life balance\n",
      "recognition of hard worker\n",
      "good work environment and cultures leave policies and hr team always supportive\n",
      "except compensation everything is good\n",
      "i want work in tcsi have  year experience in accounts departmentgood work environment in tcsif i will work in tcs so my dream will be completed\n",
      "good opportunities for learning new technologies and for travelling abroad\n",
      "was happy during the opening year of job become working like a machine in the later years lost job satisfaction later i left the job\n",
      "tcs taking care all majors  very caring organisation  good job\n",
      "job security is poor work culture and management is okay  company policies are poor\n",
      "love tcs really missing everything lot of new things every day is new learning in tcs been into different projects  get to seemeettalk with different people lot of learning ample amount of opportunities\n",
      "there is no support at all from the management in the project that i am working in instead there is extra pressure put on the team to not take leaves because this would make them earn more revenue there has been no calls with me till now when i have been asked about how i am holding up in this situation obviously the good thing is tcs perhaps wont fire us in these tough times but nothing other than that no hike and otherwise very bad company culture to work inread more\n",
      "tcs is covering covid  in health issurance and also providing self quarantine rooms who needs them while other companies are firing employees tcs is ensuring job security\n",
      "flowrish teammates sharp time training job security depends on facility faculty want to increase my lifestyle adding term growth appraisal travel we dont have  but some time  wheelers help to continue to review our lifestylelike to give suggesyion only for politics having good learning skill or we make our friendly environment i am going to find my own wife ininnovationmy working lifestyles is quite different from others here i want to make my own environment or can say balanced working life read more\n",
      "i worked in worlds safest organization at whatever condition will be my job is secure also every higher management people pay attention towards your health if u are effected with virus\n",
      "they are providing work from home offices are closed for  situation and they are also providing some facilities for  such as some healthcare facilities meeting communication expense facilities due to covid despite current situation of companies economic conditions although sometimes going got tough but still im in the company for  years now and they have not removed me yet\n",
      "i have a lot of respect for tcs in my heart though i wish to leave the organisation for future growth but i really respect tata group its the best thing india can have \n",
      "although no hike for the fy however job was secured\n",
      "i am glad i got the opportunity to work with tcs here they maintain a good work environment for all the employees and provide various opportunities to learn new skills\n",
      "if you want job security and work life balance and family culture then tcs is the best company to work with\n",
      "providing  employess wfh for rest of the employees the are adding extra allowance whi are requested to work from office \n",
      "i liked the job security overall tcs is good in supporting covid situation\n",
      "in every way and as always work life balance is ensuredexclusively team is made to work in closed loop with higher management\n",
      "i had a friendly team at tcs and work culture was so good \n",
      "the support i have received during  pandemic resulted in worldwide lockdown was encouraging but not sure how things would shape in coming months\n",
      "tcs was not cutting any payment to any employees also they  r give leave how much employee want it is a no one company  in all world  i fill proud to be a part of tcs\n",
      "tcs is very supportive in career development area but while paying the money to the employee is i will say worsti have left the company in january  but still waiting for my ffs\n",
      "great work culture in this pendamic  we all are giving our  thank u so much to the great mr ratan tata we need more people in our world  like ratan tata sir\n",
      "being proud to be a tcsr safety and comfortable zone to work with \n",
      "working with tcs is long lasting experience such a good company providing many opportunities take care of employees first known for ethics and values\n",
      "tcs is best among all the service based organizations in india in this pandemic scenario where every other company is laying off people i didnt hear a single person has to leave tcs they are even providing certain amount of medical expenses for covid treatment also they are not businessman they are industrialists and they prove it all the time tcs is a  star organization\n",
      "very good job security but from learning perspective there ar some gaps bt this happens in want domain and project you are working upon overall it was good and my  organisation i feel proud\n",
      "good work environment and culture teammates are supportive and the management is transplant they is a huge cafeteria gaming arcade for chilling company policies are good and they give salary hike \n",
      " job security more learning growth like other than your project that have conducted so many training sessions proper dress coding same has been checked by security regularly in this covid situation proper asset management team still they are planning different ways to finding the x to y employees should have assets in wfh location\n",
      "totally worst dont join the hyderabad office tcs \n",
      " months of training for freshers graduate is very good everyone will get good learning opportunity during that period and most important thing is you will be connected with people from different location with diverse culture which is very important for everyone to cope up with the corporate environment after completion of school and college life in projects you will have colleagues of different age groups so you will not feel bore very few employee stays in bench in current scenario different projects are available but mostly are support and maintenance project you will get opportunity to learn new things tcs is good for cab and bus service in kolkata location girls get cab from  pm and boys get from  pm not sure about other locations in kolkata we had bus service in free of cost for pick up and drop tcs is well known for csr activity as well tcs maitree club organizes different extra curricular activity stating from painting dancing trekking and adventure activity and in the end tcs is famous for mediclaim service i must say i am not sure about other companies but you dont need to bother about money when you or your family member is sick if they are insured under their schemeread more\n",
      "tcs was such a good place with full of opportunities in different fieldsbut currently im not working i left tcs  due to higher studies\n",
      "it has been handled very well  ie work from home i feel so proud that how it wfhhas been carried out for each employees \n",
      "good environment and supportive people\n",
      "no layoff no salary cut until some grades good opportunities inside organization but its pure luck\n",
      "safe job wfh good thing is medical facilities and secured job\n",
      "they have truly stood by each and everyone of its associates and treated us with utmost dignity in this difficult time i will always be grateful to them\n",
      "i like work culture work life balance and support during pandemic is excellent\n",
      "tcs hr department is in touch monthly and i got wfh facility for workoverall is good\n",
      "they are not supporting they have lack of resources and the management at every level is just worried about customer no matter what happen with employee everyone is struggling for laptop and they asking to get desktop from baselocatiin\n",
      "company cares our employees during this covid  period by giving work from home\n",
      "tata group is committed to values you will have secured job even in this pandemic situation \n",
      "i am not working in tcs right now to answer this question\n",
      "its an absolute pleasure working in this company they care for you like a family almost every alternate months they call you to make sure that you as well as your family is doing fine \n",
      "tcs company is also big brand of it and they are offering for work from home and during covid  they all are working its a good thik they have \n",
      "its an amazing organization with full of talents happiness the work culture is so awesome i am happy to work and my trainers and managers are very cooperative\n",
      "by micro management\n",
      "before tcs i worked in three companies but seriously never ever felt experience like tcs i didnt only got salary from tcs ive learnt a lot things in my office seniors treat like parents they give us much opportunity to learn more and more im just band  but ill never ever leave this company because it helped me and also supported me in my  bad days ill always serve in this company as my own company means ill never treat myself just like a employee in past i took part in social work from office side and ill always ready to do any type of social work given by my office i love the environment of my office and behavior of my senior colleaguesread more\n",
      "my childhood dream is to join a good company but do not understand which company to go to but oneday i had to talk about tcs companythem my dream is that i should work in tcs company so that i can take my dream and company to the top at this time  worried about the whole world peoples  us are worried about it at this tim tcs company who have thought about the people for job selection  appreciated i thanks tcs company read more\n",
      "one of the best company to adopt new normal\n",
      "supporting each employee with necessary support they are delivering computer to the home and also providing allowances for internet and happy to say that tcs providing medical support for the employees that helping us alot\n",
      "the policies for the employees will always change and those are good one\n",
      "friends circle is very good\n",
      "tcs company support us in every situation but some unexpected people make it worst for us and sometimes their behaviour stop us to reach our ambitions this is only the bad fact about organisation otherwise i love to stay with tcs  i like its rule and none security for its employees\n",
      "permanent job security but struggling to face hr when they call back to office during  cases increased drastically\n",
      "never worked in this company i dont know i can only speak so much i think by doing this work i will get to learn a lot and i will give my best duga company \n",
      "tcs is removed all the bas contract people from the organizationplease dont go for tcs the job security is very less for the bas people\n",
      "when i took a job in tcs ive decided not to quit from this organization and taking it as a one time career opportunity and worked really hard to find a better position or role in my first team and after achieving it i got moved to one another team where the circumstances arent really on my side due to process migration i was movedalong with all my team members but still got placed in a good team right now and im working with the good people surrounded by methis story could reveal that tcs is a place where you can get learning get to know new world of corporate businesses challenging environment to improve ourselves last resort for all the employees personal financial assistance a very good platform for all the deeds ans needs right place to explore and evolve around the globe and more likely a familyread more\n",
      "having  experience with tcs i am very proud to be an tcsertcs have good policies and work environment\n",
      "i have been working at tata consultancy services since  years and  month and it has been a great experience working here\n",
      "this company help me in realising that our personal life also matters apart from professional life got some great help from superiors in getting \n",
      "i like the culture and infrastructure at tata consultancy service i am not getting any support from tcs since i was a  employee\n",
      "worst the management force you to come to office they hide the covid positive cases in office in order to avoid panic and force you if you are in quarantine or not willing to come to office they force you to apply leaves hr is useless\n",
      "they gave antique computers for wfh\n",
      "comapny is very helpful and kind to employees during this pandemic situation job is well secured and i am happy to work as they have provided work from home strategy when this pandemic situation has started they have also provided me the working envt at home to support their business\n",
      "it has been pleasure to be part of this firm from past  year during this tough time when other companies  are firing their employees tcs has remain loyal to their staff proud to be a tcser\n",
      "feel good whenever they share awareness about present situation and taking care of us through texts by providing contact numbers\n",
      "exceptionally high support during covidjob is secure  salary is on time management assurance that everyone is safe reduces anxietyhigh level of communication and guidanceinvolvement in various activity bringing celebrities chef mountaineers athletesample support for psychological counselinggood platformsfor collaboration above all else in any and all decisions  employee safety is kept as priority even at the cost of businesstcs should be rated as the top organisation once it comes to support of employees during covid read more\n",
      "job security and taking care of their employees\n",
      "job security is the probability than  an individual will keep their job\n",
      "in tcs they is job secure month by month we can improve our knowledge using some still based training and also as per process training they will conduct i can say they have good  infrastructure they too help for needy people sharing they funds mainly for covid they have following government rules etc i can tcs good company \n",
      "job security \n",
      "i am very happy to being a part of tata consultancy services \n",
      "i left job in covid because my team mentally harrased me and forced me to leave my job\n",
      "as a tcser yes company has an ultimate support to me all the possible outcome to avoid spread of virus has been taken care of work from home safety precautions updates providing mediclaim facilities work life pressure smooth balance work everything has been properly taken care by tcs\n",
      "there are no lay off in tcs  job security they are paying internet cost also due to wfh in this panademic \n",
      "supporting in every aspect\n",
      "i worked one and half year as a payroll my manager keep telling that will convert but it didnt happened and they removed all contract employees stating covid  impact worst decision by tcs\n",
      "apart from job security nothing is good for those working in analytics at nkp mumbai location\n",
      "in lockdown we have work from homethey have provided pc to those who were not having to do their work even internet cost is given by the company during monthly salary\n",
      "good at providing job security but failed in concerning employees issues and benefits worst at hikes\n",
      "job is secured and no career growth here in tcs\n",
      "i was laid off though i was a contractor there so i am not sure if their motive is to keep their permanent employees happy this is just my view i was told there are making me permanent employee but that never happened\n",
      "totally fracturing i couldnt manage work life balance working day and night without any compensation or hike \n",
      "i am very happy to work with tcs  there  is a great opportunity to grown up my knowledge and my skills  there is a good team i got \n",
      "it has been good working in covid  bcz we are working from home and there was no cut off in salary as other companies did also the work system was delivered to us to ur home address with safety \n",
      "despite  pandemic still job is secureso tcs is the best mnc company in the worldi am proude to be working with tcs\n",
      "kindly help me with the proceduresto apply a transfer from mumbai location to my home town kerala location tcs either to trivandrum or kochin tcs due to covid pandemic\n",
      "work life balance\n",
      "i was so excited to work for tcs  but my process tl  managers had made it worst for me  they made us work like slaves  and even if we achieved target  the credits will be transferred to their favorite colleagues  there is so much of partiality   negative  atmosphere inside the company  higher authorities  doesnt have any manners or humanity  they just came to earn money  get their work done  they will try to put a good fake image before clients  they dont know that prior to clients  empoloyes come  they will hire candidates as much as possible but they dont know to manage them they are just mass recruiters its just a show off company destroying the career of people   only thing they know is to torture the employees  they just try to squeeze the energy of employees as much as possible  there is no ethics  no work culture  read more\n",
      "not supporting at all have been applying leaves as they could not provide device to wfh\n",
      "job security is good and work culture and there is opportunity for learning and development\n",
      "job security is the best part of tcs even company is taking care of the associates who are on bench during this critical time where people are loosing their jobs in other organisations\n",
      "best company to work withworking with tcs was a superb experiencejob security lenient policies\n",
      "work with tcs gives a great experience and knowledge  there i worked with a good team leader who can support each and every step of process  they learned me handling stress and pressure at odd situations salary hike makes me unhappy a little bit but the benefits is good  if work with tcs may gives me good career also  now i resigned due to personal problems  working environment is very and friendly  my project always have a updates and includes innovations when i am working with tcs i felt that i am working in an government org that much security i felt while working with tcs read more\n",
      "work environment job culture all are good womens safety and job security is good benefit\n",
      "good work environment and culture teammates are supportive and the management is transparent and company policies are good \n",
      "you can draw salary without doing any work and even without going to office a single day in a month\n",
      "i am carrying company provided laptop before this pandemic hits in as a devops engineer i already have vpn and admin privileges turned on long before i have not faced any lag during wfh period company is also providing internet connection charges i am quite happy what tcs is doing \n",
      "apart from job security the company provides various opportunities for skill development the flexible working environment and various benefits provided by the company are other plus points\n",
      "good and excellent job security provided by tcs during this pandemic good company policies and excellent support for the employes by providing work from home option\n",
      "job security is only better compared to other companies but lot of internal politicsemployees suffer a lot because of role change or project change\n",
      "its all about  knowledge  luck and  connections great in terms of job security gives good health benefits you can take leave for studies if you are willing too after  of working\n",
      "tcs had started the precautionary measures since the early stages of covid and most of the employees were stationed to work from home as new normal the company has been instrumental in keeping the psychological parameters balanced in this tough time with the help of different programs and expert views work life balance is equally taken care of \n",
      "life at tcs is all dependant on the type of project one is allocated to but still one can find these things good job security is best a good worklife balance at few times things may become hectic but at other times its balanced too many people to interact with chance to work on the very latest technologies again its project specific onsite possibility which is decided as per the followingjust some unanimous conclusiona the project has onsite workb years of working at tcs by the employeec immeasurable knowledge with equally impressive articulation skill with good soft skills softskill is very importantd very good at fooling people and convincing them for ones good workenvironment depends on the type of  associates one works withmine was goodread more\n",
      "tcs the name says it all when its tata its always best best and most secure company one can imagine at this crisis and pandemic time  job security complete and comfortable work from home good work life balance a very employee friendly company \n",
      "tcs support is extraordinary during this pandemic by giving work from home option there is no risk of covid to the associates and also no impact in productivity but the thing is working hours has become more than  and still hikes are not there\n",
      "you will see job security mentioned in all the posts tcs has a good brand name and you can flaunt it and it is a matter of pride the learning opportunities are immense as the learning and development has plethora of articles exams and training material to enhance your skills the compensation is the best among the mncs but depends on your managers perspective sycophancy is omnipresent needless to say having said that i will still mention salary part the positives  the medical and the digital claim system makes the life easy the facilities like gym and cafeteria varies from location to location if you are lucky enough to be deputed at a good place you will get good amenities place like malad is an old asylum the infrastructure is poor cons of getting stuck in an internal project read more\n",
      "great support\n",
      "job security is the only thing i would like to appreciate during this covid  lockdown\n",
      "security\n",
      "tcs is not supporting us during the lockdown they are asking employees to come back from home and stay near the office in spite of the dangerous ongoing conditionthey have neither provided laptops nor provided internet for working from home in spite of the fact that the company has thousands of crores of profit every quarteralso one should never join tcs in their career starting days as they will destroy your life completely no learning i am again repeating you will not learn anything in this companyread more\n",
      "tata is the only company that comes up heartfully to help not only its associates and also their near family members i am very proud to say i am an employee of tata\n",
      "job security for people who are already earning good can switch to the company but freshers do not expect for good growth here\n",
      "work life balance\n",
      "onsite opportunities\n",
      "very less salaries in this company as compare to marketand they are not given any bonus for the covid  situation rather than increment of salarywe are doing our work from home toobut company not provided increment there is not decreased the work even covid  situations\n",
      "good environment due to covid  lockdown work from home is provided hence its very safe for employees\n",
      "is not for who looking for challenging and skill development roles but good for easy go minded people and job secure people not at all good for youngsters \n",
      "overall experience is good but a lot of people keep wasting their and companys time here this indirectly impact the hard working bunch tcs has been supportive during this covid period its been a continuous wfh since april and company keep gathering information on associates well being there are covid corner dedicated helpline number and on call doctos assistance to help someone out\n",
      "tcs one of tha multinational com is very soft and nice place to working to everyone desire and evry person dreams come true and  tcs is tha most comfortable working environment compare to other compny\n",
      "work life balance is there no frequent weekend workingsjob security is there no politics teammates are from different cultural background and work happily with each other salary n other compnsations are good mediclaim policies n insurance are excellent\n",
      "the company support is very good special thanks to ratan tata sir for donating huge amount to need one’s\n",
      "good work environment and culture there is a huge cafeteria and gaming arcade for chilling company policies are good appraisal are fair and they give salary hike and bonus nothing \n",
      "really hands up to this organization because as in this situation many peoples are unable to working and company is not let them\n",
      "in this situation company supporting us very well there is issue with salary as there is no deduction \n",
      "i can consider it as one of the most reliable organisations during this global pandemicthought there are lots of internal projects are suffering still there allocating project to their associates i have friends in other mncs they are simply asking them to stay on the bench or indirectly forcing me to leave the jobbut as per my personal realisationend of the day what will save you is your productivityread more\n",
      "its best in terms of securitywork life balanceteam  other activities and skill development\n",
      "its like govt jobwork culture excellent excellent company policies unbelievable about tcs policies\n",
      "tcs has handled the pandemic situation in very great manner they implemented work from home culture immediately due to the wide spread of corona virus taking associates health as a primary concern the same has been communicated to the clients \n",
      "tcs is awesome company to work in it industry you get all the support from the mgmt team and freedom to work\n",
      "tcs is supporting work from home \n",
      "as i was a contractor employee from last  years they treated like me a contractor and removed me within  days during this  pandemicnow how can i trust and what will i like about this company who cannot support their contractor employees during this situation alsovery bad experience\n",
      "in this pandemic there is secure job which means a lot\n",
      "job security \n",
      "in lockdown time tcs pay the salary to all employees and also provide the covid health centers this is very usefull for all tcs employees\n",
      "work culture is good as colleagues used to support a lot together as team we used to work hard  enjoy as well work life balance used to be good overall experience is great\n",
      "when you think about tcs yes they are given job securitybut then after their is not personal lifeit was like burden for usthere is no growth in financially\n",
      "learning opportunities\n",
      "i mostly like their health insurance policy you will get the treatment from best hospital in the country under the mediclaim no need to worry for the hospital bill \n",
      "the working culture \n",
      "i dont like any thing in tcs manager always support local guys no support during covid time my manager didnt inform me about tcs system is required and after the they are calling us to base location\n",
      "the most important thing is tcs does not layoff anyone though hiring for seniors are not happening but those given offer tcs is committed and did not cancelled the offer due to covid it also helped in virtual joining in this pandemic situation it provided all employee to work from hometcs is more project oriented and certain variables payments are based on projects but that is what consultant is expected to work on certain projectread more\n",
      "good support from tcs honestly   but timesheet policy has become very strict     \n",
      "job security\n",
      "enjoyed my time working there had good exposure on latest technologies if you are part of innovation labs and flexible work timings  \n",
      "im no longer an employee i left the job in  for higher studies hr person and managers helped alot for higher study policies \n",
      "really supportive work from home is comparatively safe during this period they have not called us back to office which is like risking our lives hope tcs will let us work from home until corona is completely gone as there is life rosk everywhere we have a convenient work environment and we feel more productive for reasons like extended office hours \n",
      "no layoffs no deduction in salaries covid  cover quarantine facility oxygen cylinder facility for employee and dependent and lot more\n",
      "we can be  assured that our jobs are secured also we have a lot of exposure and opportunities to improve ourself i feel proud and lucky working in tcs\n",
      "webinars for guidance for better heath in covid time availability of heath experts counsellors daily tips yoga sessions ergonomic tips and sessions and a lot more\n",
      "we have full job security and on time salary payment but salary is too less and hike percentage is too low plus because of covid we got zero hikes zero promotions this year its too hard to grep financially in this company if you looking for making good money as yur ground rule then this is not the company for you \n",
      "prakash iyer tower lead for telstra should be terminated immediately \n",
      "tcs has never let you feel that there is a recession going on i have no insecurities about my job nor about salary everything have been maintained very smoothly and didnt even bother to let us know what is happening around the world\n",
      "no company culture full of micro management worst managers no promotion or hikes\n",
      "i havent come across any incident of lay off the employees continue to get their regular compensation tata has been kind  and compassionate i believe the projects have been a little over the edge by bumping up the pressure at this hour of pandemic\n",
      "i was one of the employees of tcs now i am not part of the company but when i worked with tcs it was all time i felt better and i felt i am at a safe place given a opportunity i want to continue my services with tcs \n",
      "there has been no increment this year but in these uncertain circumstances tcs has promised no job cuts and it has also provided reimbursement facilities for some work from home paraphernalias hrs have called a number of associates enquiring about overall health of the associate and family it has also provided helpline numbersfor various issues that might arise if an associate or a family member is covid infected overall tcs has handled the situation fairly wellof course lack of any increments this year has demotivated a number of associates but as of now i choose to overlook that read more\n",
      "in this pandemic it has never stopped the salary also have provided camp for the covid affected employees\n",
      "good health policies\n",
      "job securitywork life balance\n",
      "recognition of hard worker\n",
      "flowrish teammates sharp time training job security depends on facility faculty want to increase my lifestyle adding term growth appraisal travel we dont have  but some time  wheelers help to continue to review our lifestylelike to give suggesyion only for politics having good learning skill or we make our friendly environment i am going to find my own wife ininnovationmy working lifestyles is quite different from others here i want to make my own environment or can say balanced working life read more\n",
      "good work environment and cultures leave policies and hr team always supportive\n",
      "was happy during the opening year of job become working like a machine in the later years lost job satisfaction later i left the job\n",
      "except compensation everything is good\n",
      "i want work in tcsi have  year experience in accounts departmentgood work environment in tcsif i will work in tcs so my dream will be completed\n",
      "good opportunities for learning new technologies and for travelling abroad\n",
      "they are providing work from home offices are closed for  situation and they are also providing some facilities for  such as some healthcare facilities meeting communication expense facilities due to covid despite current situation of companies economic conditions although sometimes going got tough but still im in the company for  years now and they have not removed me yet\n",
      "job security is poor work culture and management is okay  company policies are poor\n",
      "love tcs really missing everything lot of new things every day is new learning in tcs been into different projects  get to seemeettalk with different people lot of learning ample amount of opportunities\n",
      "there is no support at all from the management in the project that i am working in instead there is extra pressure put on the team to not take leaves because this would make them earn more revenue there has been no calls with me till now when i have been asked about how i am holding up in this situation obviously the good thing is tcs perhaps wont fire us in these tough times but nothing other than that no hike and otherwise very bad company culture to work inread more\n",
      "tcs taking care all majors  very caring organisation  good job\n",
      "tcs is covering covid  in health issurance and also providing self quarantine rooms who needs them while other companies are firing employees tcs is ensuring job security\n",
      "i am glad i got the opportunity to work with tcs here they maintain a good work environment for all the employees and provide various opportunities to learn new skills\n",
      "i worked in worlds safest organization at whatever condition will be my job is secure also every higher management people pay attention towards your health if u are effected with virus\n",
      "i have a lot of respect for tcs in my heart though i wish to leave the organisation for future growth but i really respect tata group its the best thing india can have \n",
      "although no hike for the fy however job was secured\n",
      " months of training for freshers graduate is very good everyone will get good learning opportunity during that period and most important thing is you will be connected with people from different location with diverse culture which is very important for everyone to cope up with the corporate environment after completion of school and college life in projects you will have colleagues of different age groups so you will not feel bore very few employee stays in bench in current scenario different projects are available but mostly are support and maintenance project you will get opportunity to learn new things tcs is good for cab and bus service in kolkata location girls get cab from  pm and boys get from  pm not sure about other locations in kolkata we had bus service in free of cost for pick up and drop tcs is well known for csr activity as well tcs maitree club organizes different extra curricular activity stating from painting dancing trekking and adventure activity and in the end tcs is famous for mediclaim service i must say i am not sure about other companies but you dont need to bother about money when you or your family member is sick if they are insured under their schemeread more\n",
      "if you want job security and work life balance and family culture then tcs is the best company to work with\n",
      "providing  employess wfh for rest of the employees the are adding extra allowance whi are requested to work from office \n",
      "the support i have received during  pandemic resulted in worldwide lockdown was encouraging but not sure how things would shape in coming months\n",
      "i liked the job security overall tcs is good in supporting covid situation\n",
      "in every way and as always work life balance is ensuredexclusively team is made to work in closed loop with higher management\n",
      "i had a friendly team at tcs and work culture was so good \n",
      "tcs is very supportive in career development area but while paying the money to the employee is i will say worsti have left the company in january  but still waiting for my ffs\n",
      "tcs was not cutting any payment to any employees also they  r give leave how much employee want it is a no one company  in all world  i fill proud to be a part of tcs\n",
      "great work culture in this pendamic  we all are giving our  thank u so much to the great mr ratan tata we need more people in our world  like ratan tata sir\n",
      "tcs is best among all the service based organizations in india in this pandemic scenario where every other company is laying off people i didnt hear a single person has to leave tcs they are even providing certain amount of medical expenses for covid treatment also they are not businessman they are industrialists and they prove it all the time tcs is a  star organization\n",
      "working with tcs is long lasting experience such a good company providing many opportunities take care of employees first known for ethics and values\n",
      "being proud to be a tcsr safety and comfortable zone to work with \n",
      "good work environment and culture teammates are supportive and the management is transplant they is a huge cafeteria gaming arcade for chilling company policies are good and they give salary hike \n",
      "very good job security but from learning perspective there ar some gaps bt this happens in want domain and project you are working upon overall it was good and my  organisation i feel proud\n",
      " job security more learning growth like other than your project that have conducted so many training sessions proper dress coding same has been checked by security regularly in this covid situation proper asset management team still they are planning different ways to finding the x to y employees should have assets in wfh location\n",
      "tcs was such a good place with full of opportunities in different fieldsbut currently im not working i left tcs  due to higher studies\n",
      "totally worst dont join the hyderabad office tcs \n",
      "before tcs i worked in three companies but seriously never ever felt experience like tcs i didnt only got salary from tcs ive learnt a lot things in my office seniors treat like parents they give us much opportunity to learn more and more im just band  but ill never ever leave this company because it helped me and also supported me in my  bad days ill always serve in this company as my own company means ill never treat myself just like a employee in past i took part in social work from office side and ill always ready to do any type of social work given by my office i love the environment of my office and behavior of my senior colleaguesread more\n",
      "good environment and supportive people\n",
      "no layoff no salary cut until some grades good opportunities inside organization but its pure luck\n",
      "it has been handled very well  ie work from home i feel so proud that how it wfhhas been carried out for each employees \n",
      "they have truly stood by each and everyone of its associates and treated us with utmost dignity in this difficult time i will always be grateful to them\n",
      "safe job wfh good thing is medical facilities and secured job\n",
      "tcs hr department is in touch monthly and i got wfh facility for workoverall is good\n",
      "they are not supporting they have lack of resources and the management at every level is just worried about customer no matter what happen with employee everyone is struggling for laptop and they asking to get desktop from baselocatiin\n",
      "company cares our employees during this covid  period by giving work from home\n",
      "tata group is committed to values you will have secured job even in this pandemic situation \n",
      "i am not working in tcs right now to answer this question\n",
      "i like work culture work life balance and support during pandemic is excellent\n",
      "when i took a job in tcs ive decided not to quit from this organization and taking it as a one time career opportunity and worked really hard to find a better position or role in my first team and after achieving it i got moved to one another team where the circumstances arent really on my side due to process migration i was movedalong with all my team members but still got placed in a good team right now and im working with the good people surrounded by methis story could reveal that tcs is a place where you can get learning get to know new world of corporate businesses challenging environment to improve ourselves last resort for all the employees personal financial assistance a very good platform for all the deeds ans needs right place to explore and evolve around the globe and more likely a familyread more\n",
      "tcs company is also big brand of it and they are offering for work from home and during covid  they all are working its a good thik they have \n",
      "its an absolute pleasure working in this company they care for you like a family almost every alternate months they call you to make sure that you as well as your family is doing fine \n",
      "its an amazing organization with full of talents happiness the work culture is so awesome i am happy to work and my trainers and managers are very cooperative\n",
      "by micro management\n",
      "one of the best company to adopt new normal\n",
      "my childhood dream is to join a good company but do not understand which company to go to but oneday i had to talk about tcs companythem my dream is that i should work in tcs company so that i can take my dream and company to the top at this time  worried about the whole world peoples  us are worried about it at this tim tcs company who have thought about the people for job selection  appreciated i thanks tcs company read more\n",
      "the policies for the employees will always change and those are good one\n",
      "supporting each employee with necessary support they are delivering computer to the home and also providing allowances for internet and happy to say that tcs providing medical support for the employees that helping us alot\n",
      "friends circle is very good\n",
      "tcs company support us in every situation but some unexpected people make it worst for us and sometimes their behaviour stop us to reach our ambitions this is only the bad fact about organisation otherwise i love to stay with tcs  i like its rule and none security for its employees\n",
      "worst the management force you to come to office they hide the covid positive cases in office in order to avoid panic and force you if you are in quarantine or not willing to come to office they force you to apply leaves hr is useless\n",
      "i like the culture and infrastructure at tata consultancy service i am not getting any support from tcs since i was a  employee\n",
      "i have been working at tata consultancy services since  years and  month and it has been a great experience working here\n",
      "permanent job security but struggling to face hr when they call back to office during  cases increased drastically\n",
      "never worked in this company i dont know i can only speak so much i think by doing this work i will get to learn a lot and i will give my best duga company \n",
      "tcs is removed all the bas contract people from the organizationplease dont go for tcs the job security is very less for the bas people\n",
      "having  experience with tcs i am very proud to be an tcsertcs have good policies and work environment\n",
      "this company help me in realising that our personal life also matters apart from professional life got some great help from superiors in getting \n",
      "apart from job security nothing is good for those working in analytics at nkp mumbai location\n",
      "exceptionally high support during covidjob is secure  salary is on time management assurance that everyone is safe reduces anxietyhigh level of communication and guidanceinvolvement in various activity bringing celebrities chef mountaineers athletesample support for psychological counselinggood platformsfor collaboration above all else in any and all decisions  employee safety is kept as priority even at the cost of businesstcs should be rated as the top organisation once it comes to support of employees during covid read more\n",
      "comapny is very helpful and kind to employees during this pandemic situation job is well secured and i am happy to work as they have provided work from home strategy when this pandemic situation has started they have also provided me the working envt at home to support their business\n",
      "they gave antique computers for wfh\n",
      "job security is the probability than  an individual will keep their job\n",
      "in tcs they is job secure month by month we can improve our knowledge using some still based training and also as per process training they will conduct i can say they have good  infrastructure they too help for needy people sharing they funds mainly for covid they have following government rules etc i can tcs good company \n",
      "feel good whenever they share awareness about present situation and taking care of us through texts by providing contact numbers\n",
      "it has been pleasure to be part of this firm from past  year during this tough time when other companies  are firing their employees tcs has remain loyal to their staff proud to be a tcser\n",
      "i was so excited to work for tcs  but my process tl  managers had made it worst for me  they made us work like slaves  and even if we achieved target  the credits will be transferred to their favorite colleagues  there is so much of partiality   negative  atmosphere inside the company  higher authorities  doesnt have any manners or humanity  they just came to earn money  get their work done  they will try to put a good fake image before clients  they dont know that prior to clients  empoloyes come  they will hire candidates as much as possible but they dont know to manage them they are just mass recruiters its just a show off company destroying the career of people   only thing they know is to torture the employees  they just try to squeeze the energy of employees as much as possible  there is no ethics  no work culture  read more\n",
      "job security \n",
      "as a tcser yes company has an ultimate support to me all the possible outcome to avoid spread of virus has been taken care of work from home safety precautions updates providing mediclaim facilities work life pressure smooth balance work everything has been properly taken care by tcs\n",
      "job security and taking care of their employees\n",
      "i am very happy to being a part of tata consultancy services \n",
      "there are no lay off in tcs  job security they are paying internet cost also due to wfh in this panademic \n",
      "i left job in covid because my team mentally harrased me and forced me to leave my job\n",
      "it has been good working in covid  bcz we are working from home and there was no cut off in salary as other companies did also the work system was delivered to us to ur home address with safety \n",
      "in lockdown we have work from homethey have provided pc to those who were not having to do their work even internet cost is given by the company during monthly salary\n",
      "i worked one and half year as a payroll my manager keep telling that will convert but it didnt happened and they removed all contract employees stating covid  impact worst decision by tcs\n",
      "supporting in every aspect\n",
      "job is secured and no career growth here in tcs\n",
      "i was laid off though i was a contractor there so i am not sure if their motive is to keep their permanent employees happy this is just my view i was told there are making me permanent employee but that never happened\n",
      "i am very happy to work with tcs  there  is a great opportunity to grown up my knowledge and my skills  there is a good team i got \n",
      "totally fracturing i couldnt manage work life balance working day and night without any compensation or hike \n",
      "good at providing job security but failed in concerning employees issues and benefits worst at hikes\n",
      "it not more about the company i work for but its all about the segment or divisions that i work for which makes me to like the company directly or indirectly as we work with a japanese team we can imbibe more of perfections and methods to solve a particular problem problems are pretty much every where  everyone fails at one oranother but it all matters is how we reactrespond and recover it i have learned this more in standards of concept techniques both in product level and management level we have a fantastic working environment if some one really puts learning for perfection as a priority work life balance its very simple hard work for  out of  days in a week and enjoy in your weekends hardwork here means literally hardwork read more\n",
      "despite  pandemic still job is secureso tcs is the best mnc company in the worldi am proude to be working with tcs\n",
      "kindly help me with the proceduresto apply a transfer from mumbai location to my home town kerala location tcs either to trivandrum or kochin tcs due to covid pandemic\n",
      "working in india within tcs  might offer some benefits in terms of policies like sabbatical maternity leaves etc the work life balance really depends on the project in india your onsite location and your manageris good if you want to settle and job security is the highest prio\n",
      "work life balance\n",
      "not supporting at all have been applying leaves as they could not provide device to wfh\n",
      "most horrible place to work the hr is a hiring ppl from all the slum areas as most of them are having gutka inside the floor and working on each others work item exams of tl s are given by the bpo  employees which helps them in gaining an easy access to  appraisal is done on the basis of liking of the employees and not by any  s performance the goal sheet fill up is a very long process and a big waste of time which i feel should be changed with immediate affect as most of the tl s dont even check what is filled by their team members the only thing i liked about tv was salary is always on time though it is really and extremely less compared to the distance and time that each employees give to reach that placeread more\n",
      "job security is good and work culture and there is opportunity for learning and development\n",
      "best company to work withworking with tcs was a superb experiencejob security lenient policies\n",
      "nothing other than onsite opportunities that is again not based on performance or years of experience too much of favoritism and nepotism is there in that \n",
      "job security is the best part of tcs even company is taking care of the associates who are on bench during this critical time where people are loosing their jobs in other organisations\n",
      "job security  work life balance\n",
      "the company is open to innovation and readily adopts latest technology i love the fact that i am a part of a team that markets reliable highquality products and has a global client base job security is    work culture is so nice for all depend on location and project   management is also now so fast   atlast policies are good especially health policy \n",
      "tcs name itself is a brand working in a brand company is proud thing\n",
      "i likes the job security work life balance and company culture and learning opportunities in tcs tcs is providing the food facility if an associate stuck in a pg without food tcs has introduced secure boarderless workspace to work from home in this difficult times\n",
      "they didnt cut out salary \n",
      "even  pandemic they expect me to report office in my project i refused to come so past  i was in lop and finally they expect me to resign the job\n",
      "happy and proud to be a tcser but requesting you to please provide cab facilities to every locationam working in bangalore and location of my work place is sjm towers safety is very poor in the areahoping for bau with the help of cab facilities in my location\n",
      "best thing is that they are giving opportunities to work in many ways learning new things is initiated\n",
      "when i got the offer letter it was exciting to join tcs as a fresher i have learnt a lot here which i dont expect i could have ever learnt on my own or any other way during this lockdown situation they are very helpful providing us with all the possible facilities like taking our desktops home providing us with the internet charges \n",
      "feeling very happy being a part of tata group\n",
      "like worklife balancecovid  support provided with company desktop to be able to work from home weekly calls from the hr team asking about health both physical and mental\n",
      "nice tcs is helping a lot in social activity of worklife balance as well as good working culture\n",
      "it always support their employeesi get opportunity i would love to work again over here\n",
      "so far so good they are sending machines to the employees who do not have company desktop or laptops the hr calls once in a while to enquire about you and your family they have provided quarantine centers in ginger hotels for all tcs employees which is an amazing initiative this will help the families to stay safe they have also updated the insurance for employees i feel tata is taking care of employees way beyond expectationsread more\n",
      "job security with the company is comparatively good in the market they have tie up with few centers for quarantine but the quantity is very less though\n",
      "tcs is standing for us  it is giving belief in job security and understanding the situations very well during this pandemic  i’m happy to be part of tcs\n",
      "we are doing work from home from march its gng great so far\n",
      "tcs is definitely not for freshers if youre married or pregnant or old enough to soon retire then tcs is your perfect match \n",
      "it is honour to work with tcs its a great company were i can improve my ability and skills in case of  management are very careful about associate health and safety and always ready to provide help \n",
      "flexible working hours  freedom in work execution\n",
      "i would like to say that i worked but i say that   im still working in tcs so i would like to take these things step by stepfirst about teammates  my teammates are all cooperative  supportive and helping hands and i learnt a lot from them  second thing is training that i learnt lot of new things such as innovativeness creativity and hands on all the training modules such as payroll employee concerns billing modules and handling the esacalation calls and concerns third thing is job security i would like to say so in my  years in tcs i think tcs is only company which is  job security company fourth point i can highlight is career growth no doubt there is career growth but past couple of years tcs is not giving that much hike in terms of career growth its ok but on hiking its very weakrest all salaryappraisal travelpolitics learningwork environment innovationwork life balance etc on all these scanrios tcs very good and more its employee oriented companyi hope its enoughif you want anything else then please send me an email thanks and regardsnaser islam read more\n",
      "tcs is good and safetest environment to work they are support their associate in many ways during covid \n",
      "work from home nothing much abou\n",
      "awesome workplace nice atmosphere work life balance \n",
      "except salary and compensation benefits everything is excellent within the company\n",
      "work from home only\n",
      "tcs is not supportive at all for junior associates its just like if you have experience then only they ask about your healthmy personal experience with tcs is very bad they have created such a situation for me that i have resigned from my job in covid  pandemic \n",
      "the traning session was funlearnt a lot   thats it\n",
      "team mates are average job security is too high similar to government job you can see people more than  years of experience moving around you work life balance is too high you can even spend the entire day doing nothing and not even stay for  hours no one will tell you anything well still there are places where you can innovate and share your ideas tcs gives privileges to new ideas and innovation it is the best place to settle down after  years of experience as job security is highread more\n",
      "job security and work culture onsite opportunities\n",
      "it was really a nice intiative by hrs and management by calling each individuals personally and asking about their safety and any help required for them to work smoothly\n",
      "everything is good like job security skill deveoopment carrer growth\n",
      "experience may vary project to project my overall experience is good main good part in tcs is job security and its health insurance scheme\n",
      "what i personally like the most being at tcs is that there is no foul play within the organization and it provides a complete job security to its employees  and yeah no deduction of salary even in this pandemic got to learn much from the company overall changes the perspective of a candidate \n",
      "excellent support received full salary even when work from home was not started proud to b a tcser\n",
      "job security is high company policy also good but its only in note book not follow in reality  its project specific \n",
      "i have been working in tcs for past  yr  months and i am so lucky enough to start my career over heresee its a very good company and no one can take you out of your job unless you do some serious violation but the growth is so poor in the company i mean there are very old projects which doesnt have any scope if you are jus some one looking for job security then its the best but for career growth its poor because you wont get any salary hike and bonus so my advice is jus stay in the company for  years and then learn new technologies and move out of the company or else you will hear number of times from your manager if you ask him to move into some other development project that we have got one onsite chance its a very good project we will send u next month these are fake promises  dont stay here jus look for ur career and move outread more\n",
      "tcs strongly keep its brand value towards the satishfaction of their customers and clients in innovative way growth rate is always constant or bit higher if anyone have client and customer handling skills or it or language skill infact i am coming from a general back ground upskill myself to a trade and financial expirt in payments and collections though people from general back ground would possibly working hard to get upskill themselves still all have a equal opportunity in respect to career and growth and feeling proud to be a tcserread more\n",
      "nothing to sayy\n",
      "am glad to say am working in tcs\n",
      "work from home option\n",
      "it is not as they say it is  published stuff is very different from practice\n",
      "first of all tcs is a very deginified and cool company  job will be very safecomming to  pandemic situation tcs was supporting to employees in a very well structured approach it has provided desktops to most of the employees on march   and given some security alerts as wellso i really like tcs very much since it will show a good direction to all the employees\n",
      "very good job security and supports employees during covid providing free doctor consultation and provides preventive actions very supportive \n",
      "company has shown trust on employees and now they are planning to send official desktops to home address of employees those who were unable to collect machines before lockdown \n",
      "tcs is a multinational company its having good projectsaccountslots of onsite positions if you drop in some of them then your career is bright like anything it has different domains and company is also focusing on trending technologies  job security  career growth depends on which account you are landing in after joining salary as per the market standards in tcs most of the account wont track your in and out time you can finish your work and can leave the office  no wfh i can say work life balance is best organization has  of women employeesit is the best organization for women employeesread more\n",
      "job security is the only thing which is good here as they will never fire you even if you just come to the office and logout in the end without doing any work\n",
      "good work and good support from team mets  good salary ana every uesr incerement in salary and bonas\n",
      "i like skill development  and learning technology we can learn through via ultimatix its useful for us and it is easy to learn  we are supporting rotational shift based \n",
      "the atmosphere of the premises and relationship with the employees \n",
      "the key point during the  pandemic is job security in terms of job security tcs is doing great and a way ahead of all\n",
      "overall work experience is not very bad but the important thing is your job is secured but if u want to grow and learn new skills find a product based company where u can get overall development in covid situation they dint fire their their employees and provide an opportunity to work from home\n",
      "very good\n",
      "i liked working in tcs i got to learn new things from the projects i was offered i got great teammates who helped me in every scenario i got work life balance but as days went by my work became stagnant with no challenges in work one thing which is good in tcs is job security \n",
      "excellent support by the tcs\n",
      "job security\n",
      "medical benefit job security good polices brand name ect ect\n",
      "i am lucky to be a part of such organization i am getting all possible help from the company\n",
      "good career in tcs\n",
      "there is absolutely nothing which i liked the physical design of the goal sheets set by supervisors and human resource official was good but the implementation and following it were pretty bad \n",
      "i am working from home from last  months they have provided the computer systems at home\n",
      "it was good company good work life balance\n",
      "tcs is a decent firm to work with it is good for both freshers as well as experienced associates its a good platform to grow your knowledge and enhance your career there are many things to learn over there it also conducts internal learning programme where you will get to know about fire safetywomen safety etc apart from this the best part is company assures you job security it wont terminate you after the ram down of the project unless you have done any compliance issueread more\n",
      "in other companies they terminated the employees at covid  period but in our tata consultancy services they give salary at proper monthproud to be an tcs staff\n",
      "i am not working any more in tcs\n",
      "hello guys 😄i have been working here since last  years and overall it is a good experience so far  i had joined tcs in  and till now i am learning so many things from my senior teammates and colleagues if you talk about career growth then yes its it is there but slowly and you have to keep it up till your target otherwise you will not get the good opportunity from manager or account manager you have to show your visibility on how much you can contribute to the project may it be whatever its related to the project or internal work so that no one can stop you 💪🤝career growth 🚀🛰frankly speaking if you are coming for onsite or looking for onsite then please dont trust anymore because you must go from politics and as you know well very and well its everywhere🤔🙄career appraisal 🏆it depends on you how they know you and how they on believe you🤪job security ⏰yup it is there as much as i know it is like semi government 😃innovationideation💡 yes you have to submit at least one idea till your appraisal otherwise manager will definitely asksalary 🤣what is this yes without salary no one will work but awww if you are talking about hikeincrement 😪 then it is very less as you thinking more 🤣note tcs is the very good and secure company for the girls 👩 read more\n",
      "friendly work environment \n",
      "tcs is one indian corporate office unlike some companies like infosys you will enjoy here with flexible timings no entry and exit time considerations result orientedremaining things are common to any other it company in india as long as you are working on niche technologies your job is safe salaries and appraisals based onyour bargaining capabilities and your performances the other things are nothing great and similar to other it companies reg worklife balance that depends on your project shifts and dependency in the project one big plus point in tcs is the health insurance which covers your family including your parents many companies covers health insurance to your family but not to your parents read more\n",
      "i am not a current employee of tcs \n",
      "work from home job\n",
      "trainings are held on daily basis are helpful also the teammates are cooperative and helpful nature regarding salary not so satisfied as being after  there is no appraisal environment is basically professional and well mannered \n",
      "work life balance work from home and support on call for problems \n",
      "the teamwork and the ambiance at the ilp was one of the highlights of my entire experience tcs ahmadabad is a place to be for mental and career satisfaction and tcs hyderabad for project related learning\n",
      "team work quality\n",
      "the best thing about tcs is the job security it offers you can be pretty much secure about your job and work without the worry of loosing a job some very good seniors and peer also help you and support you throughout though they are less in number work life balance is good you can easily have a personal life while working for the organization rest depends on the project you are in but over all work is not too much people looking for onsite opportunities can come here and search for a suitable project and can meet their aspirationsread more\n",
      "not much support only selected high profile employees are privileged to work from home\n",
      "best company  in terms of career growth and job securityif you are a person who continously switch companies and wanted to settle with one workplacetcs is a very good option\n",
      "yes tcs is a good company we joined in tcs through cunsultency  at the time of  they removed us still we unemployee of this critical situation \n",
      "calling back there employee to base location if its a known mnc companythen atleast they can deliver desktop to employees at there location in this situation we have to travel we have to be in quarantine centres and collect desktop\n",
      "i am very happy to be party of tcs family my company giving full salary to all the employes who are working and non working during this  and my company has job security and many projects available to shift one process to another but it takes certain period of time finally i am fully happy to be part of tcs \n",
      "the working environment with tcs is not far better and in less time they have done with the training and thrown me in floor hurdle yes i believe job security in tcs is much better compared to other organisation and salary appraisals iam ok with the management so issues in travelling but managed about politics no such thing entertain in tcs i believe this is the better place for innovation for a new things and i believe that i managed to balance my work liferead more\n",
      "good part is they are holding employees and not laying off unless it is utmosttcs is better place to settle in your career but it is not recommended for freshers and career aspirants\n",
      "the brand tata\n",
      "its very worst experience in my career working with tcs they released from project without intimation and also till now we didnt allocated to any projects and no salaries since lockdown i never expected this from tcs \n",
      "here frankly speaking every different client is a different company once you released from any client no one cares about previous achievement and work and as everyone knows no hikes due to \n",
      "good company to start which stands first in the bpo companies  good start salary for any fresher  projects are very much business oriented and have all steam opportunities here finance to retail business  \n",
      "job security\n",
      "tata always care for there employees  and as we know  spread across the world at the time of this situation tcs have a call we employee and asked them about their health and family safety also thank you tcs \n",
      "i like work with tcs and management and safety is good\n",
      "only providing work from home facility\n",
      "i like many things here as compared to similar mncs based on exp of my friends working in other companies like first of all job security leave policy work timings n over all worklife balance but i would say going in long term it solely depends on projects you are working or clients you are working for i worked in many domainsand with plenty of clients and felt it was very different situation in handling things with all of them apart from work environment i also liked being here as tcs is a subsidiary of tata sons which is know for benevolence in indian society it feels an immense proud that around  of our earnings are going for charity thanks read more\n",
      "when it comes to job security tcs ranks first as always but salary hikes and career growth is a bit challenging stuff here politics are common in every company so dont waste your time thinking about it work environment and culture totally depends on people working around you so it varies from project to project ill just advise you to stay calm and do your work yes they are quite supportive in this paticular situation as wellread more\n",
      "that place is totally safe from  and provide the salary on a time career growth is low\n",
      "they are paying salaries and are not laying off people have provided work from home facility to its employees they have cut the appraisal for this year \n",
      "the company is open to innovation and readily adopts latest technology i am a part of it production support another point is that my colleagues come from various cultural backgrounds and we are working happily collaboration very good supportive team i got \n",
      "good work environment and culture teammates are supportive and the management is transparent there is a huge cafeteria and gaming arcade for chilling \n",
      "my first job i loved it to work in tcs\n",
      "work culture\n",
      "this is one of the biggest company among the world and doing different charity and also helping employees providing wfh optionbut people in managing level isndisppointing the employees in different waythe job security is at its peak level\n",
      "they are only supporting with job security but there is no salary increment and other benefits\n",
      "work from home or given company job security good management understand me work support and guide help  \n",
      "work environment is good you get all facilities like indooroutdoor games gym good canteen library good infrastructure various career optionsleaveonsite opportunities and the most important thing is job security\n",
      "we r at client location inspite of being at mumbai maharashtra we r going to office daily manager forced to come to office daily else pay lossthere is no work from home facility till now\n",
      "getting fully paid on time in this  situation is blessing and i am very much thankful to tcs\n",
      "tcs is a big mnc so the company ceo already said that there is no lay offs in tcs but to fight the this corona virus tcs cuts their employees increments and promotions\n",
      "as of now we are getting our full salary however my production is  zero\n",
      "nothing from last  years worked on  salary worked in it in different different fieldsjust working from last  years but no hike no growth even company did not thinking about employee only its big organization but for employee there is no growthi have wasted my  years in tcs i have to switch earlier but i thoughtafter at least  years tcs will be provide good salary or promotion or increments but this is very bad experience after working  years tcs should rehire the employee again if the employee not joined anywhere should change the policies at least tcs should see the employee who given the  year and worked hard but because of no growth and no increments so the reason  i have left the company i just want to talk with any big organization person they should take feedback from employee read more\n",
      "they paid salary for all months without deductionsand they caring employees \n",
      "its were bad support from tcs bpo\n",
      "well it all starts with the name itself  its of the brand tata groups of which everyone knows career growth  diversity and exposure for me after being in you are trained well with what operations you would deal with as well with the ethics part  going ahead got a great team  little bit of politics which is everywhere  canbe managed  with all your hard work and kaizan foremost thing is to be in happy eyes of your team leadmanager of course for appraisal  best part for me was appreciation from the clients as they only need work with quality n efficiency which was delivered by me n my team read more\n",
      "i am blessed with nice teammates training opportunities are abundant instructorled teach me tuesday initiative helps you learn on a new topic every tuesday online learning platform free subscription to lyndacom safari books online etc provide excellent learning resources moreover you can have professional certifications and company reimburses its fees for youcareer growth is there but kind of slow according to mesalary increment and appraisals are less its suffering more because of current scenario of it industries in indiatravel opportunities are not manypolitics is not something i have ever come across maybe im blessed in this part alsowork environment is good optimal pressure and good learning innovation and learning goes parallelly with work in internal it division of tcs cant say about client projectsread more\n",
      "i am very glad to became a part of this great organisation because there are job security and work culture  company policy is osm \n",
      "i left job from tcs but now i’m feeling why i left a beautiful job 🥺🥺\n",
      "they are not terminating anyone\n",
      "job security is good \n",
      "its absolutely fantastic\n",
      "good work environment and culture \n",
      "company is providing all the privilege that can be possible at this time and also till now they are keeping resources those are on benchfor this company needs an appreciation\n",
      "actually company is good but the managers of this company have no humanity not all the managers but most of the managers and also there is career growth nd skill development in this company  it totally depends upon your project manager my project manager is not a human  he is just like a giant who have no humanity \n",
      "good work life balance the opportunity if youre lucky  to work abroad you can pick up different kinds of roles internally if youre lucky and grow \n",
      "just for job security but the pay is mediocre senior management are money hungry and doesnt care if the employees suffer\n",
      "support during covid is good wfh is initiated however no internet connection is provided if there is any system issue then night shift allowance is deducted \n",
      "job security is high\n",
      "yes work from home is best\n",
      "good learning opportunity and support at every level and every aspect\n",
      "no free transport no childcareno work from home no free foodno team outings no job training no international relocation\n",
      "thank you for the concernwe have received calls from hr stating about health and conditionshappy to receive salary on time\n",
      "nagpur tcs location is not good internal transfer very difficult no training knowledge rmg team is not good\n",
      "overall atmosphere is ok but opportunity to move ahead for a individual is not so great and limited to the favourite individuals\n",
      "good they have made arrangements to work from home and stay safe at home\n",
      "tcs is a brand but with a weak leadership in apac there are some really talented folks but the speed of the org is slow also regional leadership is weak and not motivated enough \n",
      "they have given us work from home opportunity from march to september but salary hike is freezed \n",
      "since unable to resume serviceare updateds are taken online supportive hr\n",
      "working in tcs is an awesome experience the organisation handled the lockdown situation very effectively i couldnt reach office to collect my asset as i was stuck in my hometown but my assets were delivered to my residence by tcs coworkers tsc is my first company and its a very good organization for freshers\n",
      "well it depends majorly on the kind of project you work in my current project is better than the previous ones there is flexibility in work and management is able \n",
      "really in the worst scenario our esteemed tcs  organisation stood like a beacon facing what ever the tempest or hurricance and provided shelter food and clothes for the working staff which is extemporary\n",
      "everyone is very good and helpful and one of the hr have contacted me in order to find out whether i m fine or not which is unique \n",
      "it depends my last teammates was not good compare to new one trainer was very genttle and  familiar i would like to give her  mark out of  lots of new things i have learned over there which still helping me takling about job security as i know  job security untill you regin career as i have seen its very tough to growth thats very slow salary is law but its ok for local people i think  no travell allowances  politics out of imagination which make you cry work environment definitely depends on people  yes lots of innovenation come from such a big company work life balance is very difficult to maintain because shift timing is not stay same it changes read more\n",
      "we are working from home and tcs making sure to provide all the necessary documentsinformation \n",
      "employees are allowed to work from home which is a good idea with this our company is making sure the emp are not moving out unless its for a critical and very important reason \n",
      "company provides benefits to their employees but the higher management of projects are very bad they just care about business not for their employees i heard some project release their fte just bcoz the fte wont be able to collect system from office which is ridiculous in my location here may be  employee belongs from other states the company provide wfh to them also but the management waits for the last moment decision just bcoz of this so many fte stuck here they would not be able to go their home and no one from management ask about themread more\n",
      "satisfied with work life balance training work environment\n",
      "it was overall a good experience very little work pressure i personally was tagged to a support project so i faced some issues with adapting to the weekend oncall support system but overall it was a friendly environment to work in \n",
      "tcs has provided personal desktop at first week of march and hr continuously enquiring us if we are facing any issues\n",
      "it was overall goodmanagement was goodappreciated enough \n",
      "tcs is supporting lockdown in good way but they are cancelling the increment\n",
      "company is giving full support which i can expect from a good organisation really a good environment and culture in a compay i feel proud to have a part of tcs\n",
      "with enabling sbws tcs facilities its employees to do work from home to fight \n",
      "job is good but pay can be better and other compensation benefits\n",
      "depends on the project few are good few arent\n",
      "tcs fundamentals\n",
      "supporting a lot during this pandemic time\n",
      "tcs is helping me in every possible way i am happy to be a part of this organisation which helps employees like a family\n",
      "work environment and training job security \n",
      "not a good place to work if you are a true professional and want learninggrowth in your career then this company is a definitely no gone are those days when tcs used to pay a lot to its employees now all the old employees who hold high positions in this company take a lot of money  give poor salary to people at low ranksin the name of appraisals bootlickers get good reviews one thing for the same position if someone is switching into tcs shehe will get more salary as compared to other who are already working in tcs beforehand ya job security is there but workculture and peoplementality is filthy and downmarket particularly at noida  kolkata branch read more\n",
      "if u want to exploredo it without any hesitation and avoiding negative thoughtsfor covid  initially thy too stuck but they followed better ways before from government instructions\n",
      "the best thing is we all are united and continue giving support to the leading company from home so stay safe and stay home and continue giving support\n",
      "when i was in  std tcs was my dream company to work withi was very happy joining tcs my trainer was best cyrus n made mny friends\n",
      "it was goodthe only frustrating part is pressure from immediate manager to complete training which are more of theory than of learning and handson\n",
      "just a few benefits like medical and travel and job security as usual female employees are being provided with some facilities\n",
      "company giving salary everymonth not cutting anything at all really i am proud to be in tcs in this pendamic situation also company supporting employees and providing facilitiy of work from home\n",
      "the company has a very good policy and it has clearly mentioned all the scenarios the projects in the company are good but if you are a fresher then its your luck that decides your career tcs randomly allocates freshers to the projects so its not a good company to start your career with\n",
      "tcs is a very big organization and into each and every field with over  lakhs employees it takes care of their employees and due to this  situation tcs has decided not to layoff any employee not even cutting down the salaries \n",
      "the company will give full support in every situation  pandemic was a situation where tcs proves how much they care about each and every employee\n",
      "except salary every thing will be well and good in tcs  your takehome and your package will be totally different and no one will have a clear explanation about it some times your hike will be  per month \n",
      "the brand itself is wonderfulbeing a freshergetting an opportunity to work with tcs was real pleasure\n",
      "teammates are always be cooperative for the learning prospective this company gives a lot of chances to his employee so no doubtly there has a chance to get good knowledge on technology but the actual problem is when the time come for implementing that knowledge its very difficult to get a satisfying project my point of view how much salary tcs provide to their employees is fair enough corresponding the work available here in the case of work life balance it basically differs account to account but as an average i peronally feel work life balance in tcs is moderate if somebody thinks heshe wants to join tcs for their skills growth then i would like to say yes few of the projects and tcs innovative labs have that opportunity other than that you wont find any satisfied projects at the last i want to add those who are really wants to see himher as developer i dont think this is the right place for himher even i feel all the service based companies have the same scenario max of the projects are enhancement typeread more\n",
      "i feel good at tcs teammates are good and tranning is also good about job security is fantastic\n",
      "its very good experience i worked  in tata consultancy services \n",
      "horrible people it’s not the talent or smart working they need people who cslog for hours in office doing nothing\n",
      "job security is the best thing in tcs\n",
      "there is just a permanent job \n",
      "i have been working in tcs for more than  years and was able to work with good mentors and managers i have taken up responsibilities and given my best which have resulted in my overall growth the work environment is casual and it depends on project to project i have mostly been in production support and  you will have to be on your toes at times and sometimes it is cool salary appraisal is ok ok but better than few others companies learning there are good amount of learning portals and training sessions for learning within tcs  we have lnd team who timely follow up for skill upgrade and competencies work life balance is the best i have seen what i know from my friends from other companies   i can say you will have better work life balance in tcsread more\n",
      "employee friendly\n",
      "according to me here the working culture is good and i got best teammates they support me a lot and we work together mine is a malaysian client and they are very strict for the deliveries and all but with the team collabaration i am totally satisfied and am able to deliver dedicatedly i can add one more thing that is in tcs we get benefits for the health of ourself and our family too also i would like to say in tcs job security is  more\n",
      "tcs is known for its rich values and a sound organization culture which focusses on employee development through traininglearning and development opportunities the work environment may how ever vary from one project to another and is dependant on the effectiveness of the line managersupervisor in terms of compensation and benefits it either matches the market or tries its best to lead the market as far as job security is concerned tcs is one of the select few companies which thinks of people first before anything else and again career progression is a dependant variable relying on the effectiveness of the line managersupervisorhr it is imperative to focus on behavioural competencies as well apart from functionaltechnical competencies while selecting a line managerread more\n",
      "it was great opportunity to start my carrier in this big company you get lots of knowledge with help of free online courses which will be provided and good environment infrastructure good library and lots of projects will be working and best place to start a carrier\n",
      "the training is provided to new joinees in all the aspects of life there is an option to remain on bench while searching for a project the company provides good job security and stability there are lots of long term onsite opportunities for senior associatescompany promotes innovative ideas and appreciation for work is also therethe team members will give you a feel of a familyflexible working hours are thereread more\n",
      "since work from home is not applicable here they allowed paid leave\n",
      "i am no longer a part of tcs so not sure how they are coping up with lockdown\n",
      "nothing i like about tcs its all filled with filthy corporate politics\n",
      "hr policies are good they donot have hire and fire policy health insurance scemes are good\n",
      "job security \n",
      "i like nothing here now\n",
      "the work environment was great for me leave structure is also good there are enough platforms to hone your skills and new technologies worklife balance is also great as they have offices in many cities you can take transfer if need \n",
      "terrible\n",
      "job security\n",
      "this is ganesh currently i am not a employee of tcs but still love the experience what i had spent\n",
      "i am not working right now 😔\n",
      "traning language is very softno politics on workingjob also secure\n",
      "the company is better with their monthly payments other benefits etc better pantry and other facilities satisfactory transport services if issues like earlylate pick up is considered\n"
     ]
    }
   ],
   "source": [
    "for i in range(0,len(data1)):\n",
    "    data1.clean_round_1[i]=clean_text_round1(str(data1.like[i]))"
   ]
  },
  {
   "cell_type": "code",
   "execution_count": 43,
   "metadata": {},
   "outputs": [
    {
     "data": {
      "text/plain": [
       "'few things that are good  job security in my opinion  of the  people who are in tcs is because of job security tcs holds onto their employees even in tough situations in market although there was a large layoff in recent past still job security is a plus balance  it is good most of the time there are no pressure and also work is not much challenging so usually after the timid learning curve it is   easy workwise in support projects timing may be an issue because one may have to support weekend or at night but those are compensated in development projects timing at beginning is casual but at time of delivery it is haywire because always there are no time but lot of development left this should give an idea of poor management benefits nice health benefits for employee and family easy on leaves about maternity wedding etc read more'"
      ]
     },
     "execution_count": 43,
     "metadata": {},
     "output_type": "execute_result"
    }
   ],
   "source": [
    "data1.clean_round_1[0]"
   ]
  },
  {
   "cell_type": "code",
   "execution_count": 44,
   "metadata": {},
   "outputs": [],
   "source": [
    "from nltk.corpus import stopwords\n",
    "stop = stopwords.words('english')"
   ]
  },
  {
   "cell_type": "code",
   "execution_count": 45,
   "metadata": {},
   "outputs": [],
   "source": [
    "data1[\"clean_round_1\"]=data1[\"clean_round_1\"].apply(lambda words: ' '.join(word.lower() for word in words.split() if word not in stop))"
   ]
  },
  {
   "cell_type": "code",
   "execution_count": 46,
   "metadata": {},
   "outputs": [
    {
     "data": {
      "text/plain": [
       "0      things good job security opinion people tcs jo...\n",
       "1      carrying company provided laptop pandemic hits...\n",
       "2      draw salary without work even without going of...\n",
       "3      good excellent job security provided tcs pande...\n",
       "4      apart job security company provides various op...\n",
       "                             ...                        \n",
       "514                                         job security\n",
       "515    ganesh currently employee tcs still love exper...\n",
       "516                                      working right 😔\n",
       "517    traning language softno politics workingjob al...\n",
       "518    company better monthly payments benefits etc b...\n",
       "Name: clean_round_1, Length: 519, dtype: object"
      ]
     },
     "execution_count": 46,
     "metadata": {},
     "output_type": "execute_result"
    }
   ],
   "source": [
    "data1[\"clean_round_1\"]"
   ]
  },
  {
   "cell_type": "code",
   "execution_count": 58,
   "metadata": {},
   "outputs": [
    {
     "data": {
      "text/html": [
       "<div>\n",
       "<style scoped>\n",
       "    .dataframe tbody tr th:only-of-type {\n",
       "        vertical-align: middle;\n",
       "    }\n",
       "\n",
       "    .dataframe tbody tr th {\n",
       "        vertical-align: top;\n",
       "    }\n",
       "\n",
       "    .dataframe thead th {\n",
       "        text-align: right;\n",
       "    }\n",
       "</style>\n",
       "<table border=\"1\" class=\"dataframe\">\n",
       "  <thead>\n",
       "    <tr style=\"text-align: right;\">\n",
       "      <th></th>\n",
       "      <th>Unnamed: 0</th>\n",
       "      <th>date</th>\n",
       "      <th>tital</th>\n",
       "      <th>user</th>\n",
       "      <th>dislike</th>\n",
       "      <th>like</th>\n",
       "      <th>page_index</th>\n",
       "      <th>clean_round_1</th>\n",
       "      <th>without_sw_and_punctuation_numbers</th>\n",
       "      <th>rating</th>\n",
       "    </tr>\n",
       "  </thead>\n",
       "  <tbody>\n",
       "    <tr>\n",
       "      <th>0</th>\n",
       "      <td>0</td>\n",
       "      <td>posted on 05 Sep 2018</td>\n",
       "      <td>System Engineer  in Kolkata</td>\n",
       "      <td>Anonymous · Finance Division</td>\n",
       "      <td>Dislikes 1. Growth: Not much scope of growth. ...</td>\n",
       "      <td>Likes Few things that are good: \\r\\n1. Job sec...</td>\n",
       "      <td>2</td>\n",
       "      <td>things good job security opinion people tcs jo...</td>\n",
       "      <td>[things, good, job, security, opinion, people,...</td>\n",
       "      <td>NaN</td>\n",
       "    </tr>\n",
       "    <tr>\n",
       "      <th>1</th>\n",
       "      <td>1</td>\n",
       "      <td>posted on 12 Aug 2020</td>\n",
       "      <td>It Analyst  in Kolkata</td>\n",
       "      <td>Anonymous · IoT Division</td>\n",
       "      <td>Dislikes Some of the managers are lagging with...</td>\n",
       "      <td>Likes I am carrying company provided laptop be...</td>\n",
       "      <td>2</td>\n",
       "      <td>carrying company provided laptop pandemic hits...</td>\n",
       "      <td>[carrying, company, provided, laptop, pandemic...</td>\n",
       "      <td>NaN</td>\n",
       "    </tr>\n",
       "    <tr>\n",
       "      <th>2</th>\n",
       "      <td>2</td>\n",
       "      <td>posted on 26 Jul 2019</td>\n",
       "      <td>Associate Consultant  in Bangalore</td>\n",
       "      <td>Anonymous · EIS Division</td>\n",
       "      <td>Dislikes 1. First of all, everybody in TCS are...</td>\n",
       "      <td>Likes You can draw salary without doing any wo...</td>\n",
       "      <td>2</td>\n",
       "      <td>draw salary without work even without going of...</td>\n",
       "      <td>[draw, salary, without, work, even, without, g...</td>\n",
       "      <td>NaN</td>\n",
       "    </tr>\n",
       "    <tr>\n",
       "      <th>3</th>\n",
       "      <td>3</td>\n",
       "      <td>posted on 29 Aug 2020</td>\n",
       "      <td>Assistant Consultant (ITIS)  in Whitefield</td>\n",
       "      <td>Anonymous · ITIS Division</td>\n",
       "      <td>Dislikes Nothing to dislike about working at TCS</td>\n",
       "      <td>Likes Good and excellent job security provided...</td>\n",
       "      <td>2</td>\n",
       "      <td>good excellent job security provided tcs pande...</td>\n",
       "      <td>[good, excellent, job, security, provided, tcs...</td>\n",
       "      <td>NaN</td>\n",
       "    </tr>\n",
       "    <tr>\n",
       "      <th>4</th>\n",
       "      <td>4</td>\n",
       "      <td>posted on 21 Aug 2020</td>\n",
       "      <td>Assistant System Engineer  in Pune</td>\n",
       "      <td>Anonymous · It Services Division</td>\n",
       "      <td>Dislikes Salary appraisal is very low for begi...</td>\n",
       "      <td>Likes Apart from Job security the company prov...</td>\n",
       "      <td>2</td>\n",
       "      <td>apart job security company provides various op...</td>\n",
       "      <td>[apart, job, security, company, provides, vari...</td>\n",
       "      <td>NaN</td>\n",
       "    </tr>\n",
       "    <tr>\n",
       "      <th>...</th>\n",
       "      <td>...</td>\n",
       "      <td>...</td>\n",
       "      <td>...</td>\n",
       "      <td>...</td>\n",
       "      <td>...</td>\n",
       "      <td>...</td>\n",
       "      <td>...</td>\n",
       "      <td>...</td>\n",
       "      <td>...</td>\n",
       "      <td>...</td>\n",
       "    </tr>\n",
       "    <tr>\n",
       "      <th>514</th>\n",
       "      <td>65</td>\n",
       "      <td>posted on 29 Jan 2020</td>\n",
       "      <td>It Analyst  in Kolkata</td>\n",
       "      <td>Anonymous · bfs Division</td>\n",
       "      <td>Dislikes 1.Poor Work Life balance, specially i...</td>\n",
       "      <td>Likes Job Security.</td>\n",
       "      <td>37</td>\n",
       "      <td>job security</td>\n",
       "      <td>[job, security]</td>\n",
       "      <td>2.0</td>\n",
       "    </tr>\n",
       "    <tr>\n",
       "      <th>515</th>\n",
       "      <td>66</td>\n",
       "      <td>posted on 07 Jun 2020</td>\n",
       "      <td>Associate  in Pune</td>\n",
       "      <td>Anonymous · Us Mortgage Division</td>\n",
       "      <td>Dislikes No opportunity to join again</td>\n",
       "      <td>Likes This is Ganesh currently I am not a empl...</td>\n",
       "      <td>37</td>\n",
       "      <td>ganesh currently employee tcs still love exper...</td>\n",
       "      <td>[ganesh, currently, employee, tcs, still, love...</td>\n",
       "      <td>5.0</td>\n",
       "    </tr>\n",
       "    <tr>\n",
       "      <th>516</th>\n",
       "      <td>67</td>\n",
       "      <td>posted on 04 Jun 2020</td>\n",
       "      <td>Office Boy for 4.9 years in Kolkata, Rajarhat</td>\n",
       "      <td>Anonymous · Former Employee · Office boy Divi...</td>\n",
       "      <td>Dislikes Admin pressures</td>\n",
       "      <td>Likes I am not working right now 😔</td>\n",
       "      <td>37</td>\n",
       "      <td>working right</td>\n",
       "      <td>[working, right, 😔]</td>\n",
       "      <td>5.0</td>\n",
       "    </tr>\n",
       "    <tr>\n",
       "      <th>517</th>\n",
       "      <td>68</td>\n",
       "      <td>posted on 05 Jun 2020</td>\n",
       "      <td>Senior Associate  in Pune Bhosari</td>\n",
       "      <td>Anonymous · Banking &amp; Finance Division</td>\n",
       "      <td>Dislikes nothing</td>\n",
       "      <td>Likes traning language is very soft.no politic...</td>\n",
       "      <td>37</td>\n",
       "      <td>traning language softno politics workingjob al...</td>\n",
       "      <td>[traning, language, softno, politics, workingj...</td>\n",
       "      <td>4.0</td>\n",
       "    </tr>\n",
       "    <tr>\n",
       "      <th>518</th>\n",
       "      <td>69</td>\n",
       "      <td>posted on 13 Mar 2020</td>\n",
       "      <td>Associate Technical Consultant  in Mumbai</td>\n",
       "      <td>Anonymous · BPO Division</td>\n",
       "      <td>Dislikes The company's alumni portal services ...</td>\n",
       "      <td>Likes The company is better with their monthly...</td>\n",
       "      <td>37</td>\n",
       "      <td>company better monthly payments benefits etc b...</td>\n",
       "      <td>[company, better, monthly, payments, benefits,...</td>\n",
       "      <td>5.0</td>\n",
       "    </tr>\n",
       "  </tbody>\n",
       "</table>\n",
       "<p>519 rows × 10 columns</p>\n",
       "</div>"
      ],
      "text/plain": [
       "     Unnamed: 0                   date  \\\n",
       "0             0  posted on 05 Sep 2018   \n",
       "1             1  posted on 12 Aug 2020   \n",
       "2             2  posted on 26 Jul 2019   \n",
       "3             3  posted on 29 Aug 2020   \n",
       "4             4  posted on 21 Aug 2020   \n",
       "..          ...                    ...   \n",
       "514          65  posted on 29 Jan 2020   \n",
       "515          66  posted on 07 Jun 2020   \n",
       "516          67  posted on 04 Jun 2020   \n",
       "517          68  posted on 05 Jun 2020   \n",
       "518          69  posted on 13 Mar 2020   \n",
       "\n",
       "                                             tital  \\\n",
       "0                      System Engineer  in Kolkata   \n",
       "1                           It Analyst  in Kolkata   \n",
       "2               Associate Consultant  in Bangalore   \n",
       "3       Assistant Consultant (ITIS)  in Whitefield   \n",
       "4               Assistant System Engineer  in Pune   \n",
       "..                                             ...   \n",
       "514                         It Analyst  in Kolkata   \n",
       "515                             Associate  in Pune   \n",
       "516  Office Boy for 4.9 years in Kolkata, Rajarhat   \n",
       "517              Senior Associate  in Pune Bhosari   \n",
       "518      Associate Technical Consultant  in Mumbai   \n",
       "\n",
       "                                                  user  \\\n",
       "0                     Anonymous · Finance Division       \n",
       "1                         Anonymous · IoT Division       \n",
       "2                         Anonymous · EIS Division       \n",
       "3                        Anonymous · ITIS Division       \n",
       "4                 Anonymous · It Services Division       \n",
       "..                                                 ...   \n",
       "514                       Anonymous · bfs Division       \n",
       "515               Anonymous · Us Mortgage Division       \n",
       "516   Anonymous · Former Employee · Office boy Divi...   \n",
       "517         Anonymous · Banking & Finance Division       \n",
       "518                       Anonymous · BPO Division       \n",
       "\n",
       "                                               dislike  \\\n",
       "0    Dislikes 1. Growth: Not much scope of growth. ...   \n",
       "1    Dislikes Some of the managers are lagging with...   \n",
       "2    Dislikes 1. First of all, everybody in TCS are...   \n",
       "3     Dislikes Nothing to dislike about working at TCS   \n",
       "4    Dislikes Salary appraisal is very low for begi...   \n",
       "..                                                 ...   \n",
       "514  Dislikes 1.Poor Work Life balance, specially i...   \n",
       "515             Dislikes No opportunity to join again    \n",
       "516                           Dislikes Admin pressures   \n",
       "517                                   Dislikes nothing   \n",
       "518  Dislikes The company's alumni portal services ...   \n",
       "\n",
       "                                                  like  page_index  \\\n",
       "0    Likes Few things that are good: \\r\\n1. Job sec...           2   \n",
       "1    Likes I am carrying company provided laptop be...           2   \n",
       "2    Likes You can draw salary without doing any wo...           2   \n",
       "3    Likes Good and excellent job security provided...           2   \n",
       "4    Likes Apart from Job security the company prov...           2   \n",
       "..                                                 ...         ...   \n",
       "514                                Likes Job Security.          37   \n",
       "515  Likes This is Ganesh currently I am not a empl...          37   \n",
       "516                 Likes I am not working right now 😔          37   \n",
       "517  Likes traning language is very soft.no politic...          37   \n",
       "518  Likes The company is better with their monthly...          37   \n",
       "\n",
       "                                         clean_round_1  \\\n",
       "0    things good job security opinion people tcs jo...   \n",
       "1    carrying company provided laptop pandemic hits...   \n",
       "2    draw salary without work even without going of...   \n",
       "3    good excellent job security provided tcs pande...   \n",
       "4    apart job security company provides various op...   \n",
       "..                                                 ...   \n",
       "514                                       job security   \n",
       "515  ganesh currently employee tcs still love exper...   \n",
       "516                                     working right    \n",
       "517  traning language softno politics workingjob al...   \n",
       "518  company better monthly payments benefits etc b...   \n",
       "\n",
       "                    without_sw_and_punctuation_numbers  rating  \n",
       "0    [things, good, job, security, opinion, people,...     NaN  \n",
       "1    [carrying, company, provided, laptop, pandemic...     NaN  \n",
       "2    [draw, salary, without, work, even, without, g...     NaN  \n",
       "3    [good, excellent, job, security, provided, tcs...     NaN  \n",
       "4    [apart, job, security, company, provides, vari...     NaN  \n",
       "..                                                 ...     ...  \n",
       "514                                    [job, security]     2.0  \n",
       "515  [ganesh, currently, employee, tcs, still, love...     5.0  \n",
       "516                                [working, right, 😔]     5.0  \n",
       "517  [traning, language, softno, politics, workingj...     4.0  \n",
       "518  [company, better, monthly, payments, benefits,...     5.0  \n",
       "\n",
       "[519 rows x 10 columns]"
      ]
     },
     "execution_count": 58,
     "metadata": {},
     "output_type": "execute_result"
    }
   ],
   "source": [
    "data1"
   ]
  },
  {
   "cell_type": "code",
   "execution_count": 70,
   "metadata": {},
   "outputs": [
    {
     "data": {
      "text/html": [
       "<div>\n",
       "<style scoped>\n",
       "    .dataframe tbody tr th:only-of-type {\n",
       "        vertical-align: middle;\n",
       "    }\n",
       "\n",
       "    .dataframe tbody tr th {\n",
       "        vertical-align: top;\n",
       "    }\n",
       "\n",
       "    .dataframe thead th {\n",
       "        text-align: right;\n",
       "    }\n",
       "</style>\n",
       "<table border=\"1\" class=\"dataframe\">\n",
       "  <thead>\n",
       "    <tr style=\"text-align: right;\">\n",
       "      <th></th>\n",
       "      <th>Unnamed: 0</th>\n",
       "      <th>date</th>\n",
       "      <th>tital</th>\n",
       "      <th>user</th>\n",
       "      <th>dislike</th>\n",
       "      <th>like</th>\n",
       "      <th>page_index</th>\n",
       "      <th>clean_round_1</th>\n",
       "      <th>without_sw_and_punctuation_numbers</th>\n",
       "      <th>rating</th>\n",
       "    </tr>\n",
       "  </thead>\n",
       "  <tbody>\n",
       "    <tr>\n",
       "      <th>0</th>\n",
       "      <td>0</td>\n",
       "      <td>posted on 05 Sep 2018</td>\n",
       "      <td>System Engineer  in Kolkata</td>\n",
       "      <td>Anonymous · Finance Division</td>\n",
       "      <td>Dislikes 1. Growth: Not much scope of growth. ...</td>\n",
       "      <td>Likes Few things that are good: \\r\\n1. Job sec...</td>\n",
       "      <td>2</td>\n",
       "      <td>things good job security opinion people tcs jo...</td>\n",
       "      <td>[things, good, job, security, opinion, people,...</td>\n",
       "      <td>NaN</td>\n",
       "    </tr>\n",
       "    <tr>\n",
       "      <th>1</th>\n",
       "      <td>1</td>\n",
       "      <td>posted on 12 Aug 2020</td>\n",
       "      <td>It Analyst  in Kolkata</td>\n",
       "      <td>Anonymous · IoT Division</td>\n",
       "      <td>Dislikes Some of the managers are lagging with...</td>\n",
       "      <td>Likes I am carrying company provided laptop be...</td>\n",
       "      <td>2</td>\n",
       "      <td>carrying company provided laptop pandemic hits...</td>\n",
       "      <td>[carrying, company, provided, laptop, pandemic...</td>\n",
       "      <td>NaN</td>\n",
       "    </tr>\n",
       "    <tr>\n",
       "      <th>2</th>\n",
       "      <td>2</td>\n",
       "      <td>posted on 26 Jul 2019</td>\n",
       "      <td>Associate Consultant  in Bangalore</td>\n",
       "      <td>Anonymous · EIS Division</td>\n",
       "      <td>Dislikes 1. First of all, everybody in TCS are...</td>\n",
       "      <td>Likes You can draw salary without doing any wo...</td>\n",
       "      <td>2</td>\n",
       "      <td>draw salary without work even without going of...</td>\n",
       "      <td>[draw, salary, without, work, even, without, g...</td>\n",
       "      <td>NaN</td>\n",
       "    </tr>\n",
       "    <tr>\n",
       "      <th>3</th>\n",
       "      <td>3</td>\n",
       "      <td>posted on 29 Aug 2020</td>\n",
       "      <td>Assistant Consultant (ITIS)  in Whitefield</td>\n",
       "      <td>Anonymous · ITIS Division</td>\n",
       "      <td>Dislikes Nothing to dislike about working at TCS</td>\n",
       "      <td>Likes Good and excellent job security provided...</td>\n",
       "      <td>2</td>\n",
       "      <td>good excellent job security provided tcs pande...</td>\n",
       "      <td>[good, excellent, job, security, provided, tcs...</td>\n",
       "      <td>NaN</td>\n",
       "    </tr>\n",
       "    <tr>\n",
       "      <th>4</th>\n",
       "      <td>4</td>\n",
       "      <td>posted on 21 Aug 2020</td>\n",
       "      <td>Assistant System Engineer  in Pune</td>\n",
       "      <td>Anonymous · It Services Division</td>\n",
       "      <td>Dislikes Salary appraisal is very low for begi...</td>\n",
       "      <td>Likes Apart from Job security the company prov...</td>\n",
       "      <td>2</td>\n",
       "      <td>apart job security company provides various op...</td>\n",
       "      <td>[apart, job, security, company, provides, vari...</td>\n",
       "      <td>NaN</td>\n",
       "    </tr>\n",
       "    <tr>\n",
       "      <th>...</th>\n",
       "      <td>...</td>\n",
       "      <td>...</td>\n",
       "      <td>...</td>\n",
       "      <td>...</td>\n",
       "      <td>...</td>\n",
       "      <td>...</td>\n",
       "      <td>...</td>\n",
       "      <td>...</td>\n",
       "      <td>...</td>\n",
       "      <td>...</td>\n",
       "    </tr>\n",
       "    <tr>\n",
       "      <th>157</th>\n",
       "      <td>157</td>\n",
       "      <td>posted on 30 Jul 2020</td>\n",
       "      <td>Senior Process Associate  in Bengaluru</td>\n",
       "      <td>Anonymous · Investment banking Division</td>\n",
       "      <td>Dislikes Work pressure</td>\n",
       "      <td>Likes Job security is good and work culture an...</td>\n",
       "      <td>17</td>\n",
       "      <td>job security good work culture opportunity lea...</td>\n",
       "      <td>[job, security, good, work, culture, opportuni...</td>\n",
       "      <td>NaN</td>\n",
       "    </tr>\n",
       "    <tr>\n",
       "      <th>158</th>\n",
       "      <td>158</td>\n",
       "      <td>posted on 02 Aug 2020</td>\n",
       "      <td>Team Leader  in Pune</td>\n",
       "      <td>Anonymous · Finance Division</td>\n",
       "      <td>Dislikes Work pressure</td>\n",
       "      <td>Likes Job security is the best part of TCS, ev...</td>\n",
       "      <td>17</td>\n",
       "      <td>job security best part tcs even company taking...</td>\n",
       "      <td>[job, security, best, part, tcs, even, company...</td>\n",
       "      <td>NaN</td>\n",
       "    </tr>\n",
       "    <tr>\n",
       "      <th>159</th>\n",
       "      <td>159</td>\n",
       "      <td>posted on 25 Jul 2020</td>\n",
       "      <td>System Software Engineer  in Mumbai</td>\n",
       "      <td>Anonymous · Information Technology Division</td>\n",
       "      <td>Dislikes Only one thing is salary hike otherwi...</td>\n",
       "      <td>Likes Best company to work with.\\r\\nWorking wi...</td>\n",
       "      <td>17</td>\n",
       "      <td>best company work withworking tcs superb exper...</td>\n",
       "      <td>[best, company, work, withworking, tcs, superb...</td>\n",
       "      <td>NaN</td>\n",
       "    </tr>\n",
       "    <tr>\n",
       "      <th>300</th>\n",
       "      <td>50</td>\n",
       "      <td>posted on 05 Aug 2020</td>\n",
       "      <td>Assistant System Engineer  in Hyderabad</td>\n",
       "      <td>Anonymous · Testing Team Division</td>\n",
       "      <td>NaN</td>\n",
       "      <td>Likes It has been pleasure to be part of this ...</td>\n",
       "      <td>16</td>\n",
       "      <td>pleasure part firm past year tough time compan...</td>\n",
       "      <td>[pleasure, part, firm, past, year, tough, time...</td>\n",
       "      <td>4.0</td>\n",
       "    </tr>\n",
       "    <tr>\n",
       "      <th>329</th>\n",
       "      <td>79</td>\n",
       "      <td>posted on 15 Jul 2020</td>\n",
       "      <td>Ita  in Chennai</td>\n",
       "      <td>Anonymous · Retail Division</td>\n",
       "      <td>NaN</td>\n",
       "      <td>Likes The company is open to innovation and re...</td>\n",
       "      <td>19</td>\n",
       "      <td>company open innovation readily adopts latest ...</td>\n",
       "      <td>[company, open, innovation, readily, adopts, l...</td>\n",
       "      <td>5.0</td>\n",
       "    </tr>\n",
       "  </tbody>\n",
       "</table>\n",
       "<p>162 rows × 10 columns</p>\n",
       "</div>"
      ],
      "text/plain": [
       "     Unnamed: 0                   date  \\\n",
       "0             0  posted on 05 Sep 2018   \n",
       "1             1  posted on 12 Aug 2020   \n",
       "2             2  posted on 26 Jul 2019   \n",
       "3             3  posted on 29 Aug 2020   \n",
       "4             4  posted on 21 Aug 2020   \n",
       "..          ...                    ...   \n",
       "157         157  posted on 30 Jul 2020   \n",
       "158         158  posted on 02 Aug 2020   \n",
       "159         159  posted on 25 Jul 2020   \n",
       "300          50  posted on 05 Aug 2020   \n",
       "329          79  posted on 15 Jul 2020   \n",
       "\n",
       "                                          tital  \\\n",
       "0                   System Engineer  in Kolkata   \n",
       "1                        It Analyst  in Kolkata   \n",
       "2            Associate Consultant  in Bangalore   \n",
       "3    Assistant Consultant (ITIS)  in Whitefield   \n",
       "4            Assistant System Engineer  in Pune   \n",
       "..                                          ...   \n",
       "157      Senior Process Associate  in Bengaluru   \n",
       "158                        Team Leader  in Pune   \n",
       "159         System Software Engineer  in Mumbai   \n",
       "300     Assistant System Engineer  in Hyderabad   \n",
       "329                             Ita  in Chennai   \n",
       "\n",
       "                                                 user  \\\n",
       "0                    Anonymous · Finance Division       \n",
       "1                        Anonymous · IoT Division       \n",
       "2                        Anonymous · EIS Division       \n",
       "3                       Anonymous · ITIS Division       \n",
       "4                Anonymous · It Services Division       \n",
       "..                                                ...   \n",
       "157       Anonymous · Investment banking Division       \n",
       "158                  Anonymous · Finance Division       \n",
       "159   Anonymous · Information Technology Division       \n",
       "300             Anonymous · Testing Team Division       \n",
       "329                   Anonymous · Retail Division       \n",
       "\n",
       "                                               dislike  \\\n",
       "0    Dislikes 1. Growth: Not much scope of growth. ...   \n",
       "1    Dislikes Some of the managers are lagging with...   \n",
       "2    Dislikes 1. First of all, everybody in TCS are...   \n",
       "3     Dislikes Nothing to dislike about working at TCS   \n",
       "4    Dislikes Salary appraisal is very low for begi...   \n",
       "..                                                 ...   \n",
       "157                             Dislikes Work pressure   \n",
       "158                             Dislikes Work pressure   \n",
       "159  Dislikes Only one thing is salary hike otherwi...   \n",
       "300                                                NaN   \n",
       "329                                                NaN   \n",
       "\n",
       "                                                  like  page_index  \\\n",
       "0    Likes Few things that are good: \\r\\n1. Job sec...           2   \n",
       "1    Likes I am carrying company provided laptop be...           2   \n",
       "2    Likes You can draw salary without doing any wo...           2   \n",
       "3    Likes Good and excellent job security provided...           2   \n",
       "4    Likes Apart from Job security the company prov...           2   \n",
       "..                                                 ...         ...   \n",
       "157  Likes Job security is good and work culture an...          17   \n",
       "158  Likes Job security is the best part of TCS, ev...          17   \n",
       "159  Likes Best company to work with.\\r\\nWorking wi...          17   \n",
       "300  Likes It has been pleasure to be part of this ...          16   \n",
       "329  Likes The company is open to innovation and re...          19   \n",
       "\n",
       "                                         clean_round_1  \\\n",
       "0    things good job security opinion people tcs jo...   \n",
       "1    carrying company provided laptop pandemic hits...   \n",
       "2    draw salary without work even without going of...   \n",
       "3    good excellent job security provided tcs pande...   \n",
       "4    apart job security company provides various op...   \n",
       "..                                                 ...   \n",
       "157  job security good work culture opportunity lea...   \n",
       "158  job security best part tcs even company taking...   \n",
       "159  best company work withworking tcs superb exper...   \n",
       "300  pleasure part firm past year tough time compan...   \n",
       "329  company open innovation readily adopts latest ...   \n",
       "\n",
       "                    without_sw_and_punctuation_numbers  rating  \n",
       "0    [things, good, job, security, opinion, people,...     NaN  \n",
       "1    [carrying, company, provided, laptop, pandemic...     NaN  \n",
       "2    [draw, salary, without, work, even, without, g...     NaN  \n",
       "3    [good, excellent, job, security, provided, tcs...     NaN  \n",
       "4    [apart, job, security, company, provides, vari...     NaN  \n",
       "..                                                 ...     ...  \n",
       "157  [job, security, good, work, culture, opportuni...     NaN  \n",
       "158  [job, security, best, part, tcs, even, company...     NaN  \n",
       "159  [best, company, work, withworking, tcs, superb...     NaN  \n",
       "300  [pleasure, part, firm, past, year, tough, time...     4.0  \n",
       "329  [company, open, innovation, readily, adopts, l...     5.0  \n",
       "\n",
       "[162 rows x 10 columns]"
      ]
     },
     "execution_count": 70,
     "metadata": {},
     "output_type": "execute_result"
    }
   ],
   "source": [
    "#lots of NaN \n",
    "data1[data1.isna().any(axis=1)"
   ]
  },
  {
   "cell_type": "code",
   "execution_count": null,
   "metadata": {
    "scrolled": false
   },
   "outputs": [],
   "source": []
  },
  {
   "cell_type": "code",
   "execution_count": null,
   "metadata": {},
   "outputs": [],
   "source": []
  },
  {
   "cell_type": "code",
   "execution_count": 47,
   "metadata": {},
   "outputs": [],
   "source": [
    "data1.insert(8, \"without_sw_and_punctuation_numbers\", \"\")"
   ]
  },
  {
   "cell_type": "code",
   "execution_count": 48,
   "metadata": {},
   "outputs": [],
   "source": [
    "from nltk.corpus import stopwords\n",
    "from nltk.tokenize import word_tokenize\n",
    "df = pd.DataFrame()\n",
    "df.insert(0,\"without_sw_and_punctuation_numbers\", \"\") \n",
    "for i in range(0,len(data1.clean_round_1)):\n",
    "    text = data1.clean_round_1[i]\n",
    "    text_tokens = word_tokenize(text)\n",
    "    tokens_without_sw = [word for word in text_tokens if not word in stopwords.words()]\n",
    "    data1.without_sw_and_punctuation_numbers[i]=tokens_without_sw"
   ]
  },
  {
   "cell_type": "code",
   "execution_count": 49,
   "metadata": {},
   "outputs": [
    {
     "data": {
      "text/plain": [
       "['things',\n",
       " 'good',\n",
       " 'job',\n",
       " 'security',\n",
       " 'opinion',\n",
       " 'people',\n",
       " 'tcs',\n",
       " 'job',\n",
       " 'security',\n",
       " 'tcs',\n",
       " 'holds',\n",
       " 'onto',\n",
       " 'employees',\n",
       " 'even',\n",
       " 'tough',\n",
       " 'situations',\n",
       " 'market',\n",
       " 'although',\n",
       " 'large',\n",
       " 'layoff',\n",
       " 'recent',\n",
       " 'past',\n",
       " 'still',\n",
       " 'job',\n",
       " 'security',\n",
       " 'plus',\n",
       " 'balance',\n",
       " 'good',\n",
       " 'time',\n",
       " 'pressure',\n",
       " 'work',\n",
       " 'much',\n",
       " 'challenging',\n",
       " 'usually',\n",
       " 'timid',\n",
       " 'learning',\n",
       " 'curve',\n",
       " 'easy',\n",
       " 'workwise',\n",
       " 'support',\n",
       " 'projects',\n",
       " 'timing',\n",
       " 'may',\n",
       " 'issue',\n",
       " 'may',\n",
       " 'support',\n",
       " 'weekend',\n",
       " 'night',\n",
       " 'compensated',\n",
       " 'development',\n",
       " 'projects',\n",
       " 'timing',\n",
       " 'beginning',\n",
       " 'casual',\n",
       " 'time',\n",
       " 'delivery',\n",
       " 'haywire',\n",
       " 'always',\n",
       " 'time',\n",
       " 'lot',\n",
       " 'development',\n",
       " 'left',\n",
       " 'give',\n",
       " 'idea',\n",
       " 'poor',\n",
       " 'management',\n",
       " 'benefits',\n",
       " 'nice',\n",
       " 'health',\n",
       " 'benefits',\n",
       " 'employee',\n",
       " 'family',\n",
       " 'easy',\n",
       " 'leaves',\n",
       " 'maternity',\n",
       " 'wedding',\n",
       " 'etc',\n",
       " 'read']"
      ]
     },
     "execution_count": 49,
     "metadata": {},
     "output_type": "execute_result"
    }
   ],
   "source": [
    "data1.without_sw_and_punctuation_numbers[0]"
   ]
  },
  {
   "cell_type": "code",
   "execution_count": 50,
   "metadata": {},
   "outputs": [
    {
     "name": "stdout",
     "output_type": "stream",
     "text": [
      "[('job', 3), ('security', 3), ('time', 3), ('good', 2)]\n",
      "[('company', 2), ('carrying', 1), ('provided', 1), ('laptop', 1)]\n",
      "[('without', 2), ('draw', 1), ('salary', 1), ('work', 1)]\n",
      "[('good', 2), ('excellent', 2), ('job', 1), ('security', 1)]\n",
      "[('company', 2), ('various', 2), ('apart', 1), ('job', 1)]\n",
      "[('work', 2), ('tcs', 1), ('started', 1), ('precautionary', 1)]\n",
      "[('lot', 2), ('change', 2), ('job', 1), ('security', 1)]\n",
      "[('tcs', 1), ('support', 1), ('extraordinary', 1), ('pandemic', 1)]\n",
      "[('good', 5), ('project', 3), ('one', 3), ('tcs', 2)]\n",
      "[('best', 2), ('company', 2), ('work', 2), ('tcs', 1)]\n",
      "[('security', 1)]\n",
      "[('job', 1), ('security', 1), ('thing', 1), ('would', 1)]\n",
      "[('tata', 2), ('company', 1), ('comes', 1), ('heartfully', 1)]\n",
      "[('work', 1), ('life', 1), ('balance', 1)]\n",
      "[('good', 2), ('job', 1), ('security', 1), ('people', 1)]\n",
      "[('good', 3), ('learning', 2), ('like', 2), ('location', 2)]\n",
      "[('good', 2), ('people', 2), ('looking', 1), ('challenging', 1)]\n",
      "[('company', 2), ('covid', 2), ('increment', 2), ('work', 2)]\n",
      "[('good', 1), ('environment', 1), ('due', 1), ('covid', 1)]\n",
      "[('onsite', 1), ('opportunities', 1)]\n",
      "[('tcs', 2), ('home', 2), ('spite', 2), ('provided', 2)]\n",
      "[('keep', 2), ('covid', 2), ('overall', 1), ('experience', 1)]\n",
      "[('tcs', 2), ('tha', 2), ('working', 2), ('one', 1)]\n",
      "[('company', 1), ('support', 1), ('good', 1), ('special', 1)]\n",
      "[('really', 1), ('hands', 1), ('organization', 1), ('situation', 1)]\n",
      "[('best', 1), ('terms', 1), ('securitywork', 1), ('life', 1)]\n",
      "[('good', 2), ('work', 1), ('environment', 1), ('culture', 1)]\n",
      "[('situation', 1), ('company', 1), ('supporting', 1), ('us', 1)]\n",
      "[('excellent', 2), ('policies', 2), ('like', 1), ('govt', 1)]\n",
      "[('consider', 1), ('one', 1), ('reliable', 1), ('organisations', 1)]\n",
      "[('work', 2), ('n', 2), ('life', 1), ('balance', 1)]\n",
      "[('tcs', 1), ('handled', 1), ('pandemic', 1), ('situation', 1)]\n",
      "[('tcs', 1), ('supporting', 1), ('work', 1), ('home', 1)]\n",
      "[('pandemic', 1), ('secure', 1), ('job', 1), ('means', 1)]\n",
      "[('contractor', 3), ('like', 2), ('employee', 1), ('last', 1)]\n",
      "[('think', 1), ('tcs', 1), ('yes', 1), ('given', 1)]\n",
      "[('learning', 1), ('opportunities', 1)]\n",
      "[('work', 3), ('used', 3), ('good', 2), ('culture', 1)]\n",
      "[('tcs', 2), ('employees', 2), ('lockdown', 1), ('time', 1)]\n",
      "[('working', 1), ('culture', 1)]\n",
      "[('tcs', 2), ('manager', 2), ('support', 2), ('dont', 1)]\n",
      "[('work', 2), ('tcs', 1), ('awesome', 1), ('company', 1)]\n",
      "[('hospital', 2), ('mostly', 1), ('like', 1), ('health', 1)]\n",
      "[('good', 1), ('support', 1), ('tcs', 1), ('honestly', 1)]\n",
      "[('job', 1), ('security', 1)]\n",
      "[('higher', 2), ('im', 1), ('longer', 1), ('employee', 1)]\n",
      "[('assured', 1), ('jobs', 1), ('secured', 1), ('also', 1)]\n",
      "[('enjoyed', 1), ('time', 1), ('working', 1), ('good', 1)]\n",
      "[('tcs', 2), ('offer', 2), ('work', 2), ('certain', 2)]\n",
      "[('heath', 2), ('tips', 2), ('sessions', 2), ('webinars', 1)]\n",
      "[('prakash', 1), ('iyer', 1), ('tower', 1), ('lead', 1)]\n",
      "[('job', 1), ('security', 1)]\n",
      "[('facility', 2), ('layoffs', 1), ('deduction', 1), ('salaries', 1)]\n",
      "[('work', 3), ('home', 2), ('us', 2), ('office', 2)]\n",
      "[('let', 2), ('tcs', 1), ('never', 1), ('feel', 1)]\n",
      "[('salary', 2), ('zero', 2), ('company', 2), ('full', 1)]\n",
      "[('company', 1), ('culture', 1), ('full', 1), ('micro', 1)]\n",
      "[('havent', 1), ('come', 1), ('across', 1), ('incident', 1)]\n",
      "[('tcs', 3), ('felt', 2), ('one', 1), ('employees', 1)]\n",
      "[('pandemic', 1), ('never', 1), ('stopped', 1), ('salary', 1)]\n",
      "[('good', 1), ('health', 1), ('policies', 1)]\n",
      "[('year', 2), ('tcs', 2), ('also', 2), ('provided', 2)]\n",
      "[('job', 1), ('securitywork', 1), ('life', 1), ('balance', 1)]\n",
      "[('recognition', 1), ('hard', 1), ('worker', 1)]\n",
      "[('good', 1), ('work', 1), ('environment', 1), ('cultures', 1)]\n",
      "[('except', 1), ('compensation', 1), ('everything', 1), ('good', 1)]\n",
      "[('work', 3), ('want', 1), ('tcsi', 1), ('year', 1)]\n",
      "[('good', 1), ('opportunities', 1), ('learning', 1), ('new', 1)]\n",
      "[('job', 3), ('later', 2), ('happy', 1), ('opening', 1)]\n",
      "[('tcs', 1), ('taking', 1), ('care', 1), ('majors', 1)]\n",
      "[('poor', 2), ('job', 1), ('security', 1), ('work', 1)]\n",
      "[('tcs', 2), ('lot', 2), ('new', 2), ('learning', 2)]\n",
      "[('support', 1), ('management', 1), ('project', 1), ('working', 1)]\n",
      "[('tcs', 2), ('covering', 1), ('covid', 1), ('health', 1)]\n",
      "[('time', 2), ('want', 2), ('make', 2), ('environment', 2)]\n",
      "[('worked', 1), ('worlds', 1), ('safest', 1), ('organization', 1)]\n",
      "[('facilities', 3), ('providing', 2), ('situation', 2), ('work', 1)]\n",
      "[('respect', 2), ('lot', 1), ('tcs', 1), ('heart', 1)]\n",
      "[('although', 1), ('hike', 1), ('fy', 1), ('however', 1)]\n",
      "[('work', 2), ('glad', 1), ('got', 1), ('opportunity', 1)]\n",
      "[('work', 2), ('want', 1), ('job', 1), ('security', 1)]\n",
      "[('providing', 1), ('employess', 1), ('wfh', 1), ('rest', 1)]\n",
      "[('liked', 1), ('job', 1), ('security', 1), ('overall', 1)]\n",
      "[('work', 2), ('every', 1), ('way', 1), ('always', 1)]\n",
      "[('friendly', 1), ('team', 1), ('tcs', 1), ('work', 1)]\n",
      "[('support', 1), ('received', 1), ('pandemic', 1), ('resulted', 1)]\n",
      "[('tcs', 2), ('cutting', 1), ('payment', 1), ('employees', 1)]\n",
      "[('tcs', 1), ('supportive', 1), ('career', 1), ('development', 1)]\n",
      "[('great', 2), ('ratan', 2), ('tata', 2), ('work', 1)]\n",
      "[('proud', 1), ('tcsr', 1), ('safety', 1), ('comfortable', 1)]\n",
      "[('working', 1), ('tcs', 1), ('long', 1), ('lasting', 1)]\n",
      "[('tcs', 3), ('best', 1), ('among', 1), ('service', 1)]\n",
      "[('good', 2), ('job', 1), ('security', 1), ('learning', 1)]\n",
      "[('good', 2), ('work', 1), ('environment', 1), ('culture', 1)]\n",
      "[('security', 2), ('proper', 2), ('job', 1), ('learning', 1)]\n",
      "[('totally', 1), ('worst', 1), ('dont', 1), ('join', 1)]\n",
      "[('get', 4), ('different', 4), ('tcs', 4), ('good', 3)]\n",
      "[('tcs', 2), ('good', 1), ('place', 1), ('full', 1)]\n",
      "[('handled', 1), ('well', 1), ('ie', 1), ('work', 1)]\n",
      "[('good', 1), ('environment', 1), ('supportive', 1), ('people', 1)]\n",
      "[('layoff', 1), ('salary', 1), ('cut', 1), ('grades', 1)]\n",
      "[('job', 2), ('safe', 1), ('wfh', 1), ('good', 1)]\n",
      "[('truly', 1), ('stood', 1), ('everyone', 1), ('associates', 1)]\n",
      "[('work', 2), ('like', 1), ('culture', 1), ('life', 1)]\n",
      "[('tcs', 1), ('hr', 1), ('department', 1), ('touch', 1)]\n",
      "[('supporting', 1), ('lack', 1), ('resources', 1), ('management', 1)]\n",
      "[('company', 1), ('cares', 1), ('employees', 1), ('covid', 1)]\n",
      "[('tata', 1), ('group', 1), ('committed', 1), ('values', 1)]\n",
      "[('working', 1), ('tcs', 1), ('right', 1), ('answer', 1)]\n",
      "[('family', 2), ('absolute', 1), ('pleasure', 1), ('working', 1)]\n",
      "[('tcs', 1), ('company', 1), ('also', 1), ('big', 1)]\n",
      "[('work', 2), ('amazing', 1), ('organization', 1), ('full', 1)]\n",
      "[('micro', 1), ('management', 1)]\n",
      "[('office', 4), ('ill', 4), ('tcs', 3), ('never', 3)]\n",
      "[('company', 6), ('tcs', 4), ('dream', 3), ('worried', 2)]\n",
      "[('one', 1), ('best', 1), ('company', 1), ('adopt', 1)]\n",
      "[('support', 2), ('providing', 2), ('supporting', 1), ('employee', 1)]\n",
      "[('policies', 1), ('employees', 1), ('always', 1), ('change', 1)]\n",
      "[('friends', 1), ('circle', 1), ('good', 1)]\n",
      "[('us', 3), ('tcs', 2), ('company', 1), ('support', 1)]\n",
      "[('permanent', 1), ('job', 1), ('security', 1), ('struggling', 1)]\n",
      "[('company', 2), ('never', 1), ('worked', 1), ('dont', 1)]\n",
      "[('tcs', 2), ('bas', 2), ('people', 2), ('removed', 1)]\n",
      "[('team', 4), ('good', 3), ('tcs', 2), ('one', 2)]\n",
      "[('experience', 1), ('tcs', 1), ('proud', 1), ('tcsertcs', 1)]\n",
      "[('working', 2), ('tata', 1), ('consultancy', 1), ('services', 1)]\n",
      "[('help', 2), ('life', 2), ('company', 1), ('realising', 1)]\n",
      "[('like', 1), ('culture', 1), ('infrastructure', 1), ('tata', 1)]\n",
      "[('force', 3), ('office', 3), ('come', 2), ('worst', 1)]\n",
      "[('gave', 1), ('antique', 1), ('computers', 1), ('wfh', 1)]\n",
      "[('pandemic', 2), ('situation', 2), ('work', 2), ('provided', 2)]\n",
      "[('pleasure', 1), ('part', 1), ('firm', 1), ('past', 1)]\n",
      "[('feel', 1), ('good', 1), ('whenever', 1), ('share', 1)]\n",
      "[('support', 3), ('exceptionally', 1), ('high', 1), ('covidjob', 1)]\n",
      "[('job', 1), ('security', 1), ('taking', 1), ('care', 1)]\n",
      "[('job', 2), ('security', 1), ('probability', 1), ('individual', 1)]\n",
      "[('tcs', 2), ('month', 2), ('training', 2), ('good', 2)]\n",
      "[('job', 1), ('security', 1)]\n",
      "[('happy', 1), ('part', 1), ('tata', 1), ('consultancy', 1)]\n",
      "[('job', 2), ('left', 1), ('covid', 1), ('team', 1)]\n",
      "[('work', 3), ('taken', 2), ('care', 2), ('tcser', 1)]\n",
      "[('lay', 1), ('tcs', 1), ('job', 1), ('security', 1)]\n",
      "[('supporting', 1), ('every', 1), ('aspect', 1)]\n",
      "[('worked', 1), ('one', 1), ('half', 1), ('year', 1)]\n",
      "[('apart', 1), ('job', 1), ('security', 1), ('nothing', 1)]\n",
      "[('work', 2), ('lockdown', 1), ('homethey', 1), ('provided', 1)]\n",
      "[('good', 1), ('providing', 1), ('job', 1), ('security', 1)]\n",
      "[('job', 1), ('secured', 1), ('career', 1), ('growth', 1)]\n",
      "[('permanent', 2), ('laid', 1), ('though', 1), ('contractor', 1)]\n",
      "[('totally', 1), ('fracturing', 1), ('couldnt', 1), ('manage', 1)]\n",
      "[('happy', 1), ('work', 1), ('tcs', 1), ('great', 1)]\n",
      "[('working', 2), ('home', 2), ('good', 1), ('covid', 1)]\n",
      "[('tcs', 2), ('despite', 1), ('pandemic', 1), ('still', 1)]\n",
      "[('location', 2), ('tcs', 2), ('kindly', 1), ('help', 1)]\n",
      "[('work', 1), ('life', 1), ('balance', 1)]\n",
      "[('work', 4), ('much', 3), ('know', 3), ('made', 2)]\n",
      "[('supporting', 1), ('applying', 1), ('leaves', 1), ('could', 1)]\n",
      "[('job', 1), ('security', 1), ('good', 1), ('work', 1)]\n",
      "[('job', 1), ('security', 1), ('best', 1), ('part', 1)]\n",
      "[('best', 1), ('company', 1), ('work', 1), ('withworking', 1)]\n",
      "[('tcs', 4), ('working', 4), ('good', 3), ('work', 2)]\n",
      "[('job', 2), ('good', 2), ('work', 1), ('environment', 1)]\n",
      "[('good', 2), ('work', 1), ('environment', 1), ('culture', 1)]\n",
      "[('without', 2), ('draw', 1), ('salary', 1), ('work', 1)]\n",
      "[('company', 2), ('carrying', 1), ('provided', 1), ('laptop', 1)]\n",
      "[('company', 2), ('various', 2), ('apart', 1), ('job', 1)]\n",
      "[('good', 2), ('excellent', 2), ('job', 1), ('security', 1)]\n",
      "[('lot', 2), ('change', 2), ('job', 1), ('security', 1)]\n",
      "[('knowledge', 1), ('luck', 1), ('connections', 1), ('great', 1)]\n",
      "[('work', 2), ('tcs', 1), ('started', 1), ('precautionary', 1)]\n",
      "[('good', 5), ('project', 3), ('one', 3), ('tcs', 2)]\n",
      "[('best', 2), ('company', 2), ('work', 2), ('tcs', 1)]\n",
      "[('tcs', 1), ('support', 1), ('extraordinary', 1), ('pandemic', 1)]\n",
      "[('good', 3), ('learning', 2), ('like', 2), ('location', 2)]\n",
      "[('great', 1), ('support', 1)]\n",
      "[('job', 1), ('security', 1), ('thing', 1), ('would', 1)]\n",
      "[('security', 1)]\n",
      "[('tcs', 2), ('home', 2), ('spite', 2), ('provided', 2)]\n",
      "[('tata', 2), ('company', 1), ('comes', 1), ('heartfully', 1)]\n",
      "[('good', 2), ('job', 1), ('security', 1), ('people', 1)]\n",
      "[('work', 1), ('life', 1), ('balance', 1)]\n",
      "[('onsite', 1), ('opportunities', 1)]\n",
      "[('company', 2), ('covid', 2), ('increment', 2), ('work', 2)]\n",
      "[('good', 1), ('environment', 1), ('due', 1), ('covid', 1)]\n",
      "[('good', 2), ('people', 2), ('looking', 1), ('challenging', 1)]\n",
      "[('keep', 2), ('covid', 2), ('overall', 1), ('experience', 1)]\n",
      "[('tcs', 2), ('tha', 2), ('working', 2), ('one', 1)]\n",
      "[('work', 2), ('n', 2), ('life', 1), ('balance', 1)]\n",
      "[('company', 1), ('support', 1), ('good', 1), ('special', 1)]\n",
      "[('good', 2), ('work', 1), ('environment', 1), ('culture', 1)]\n",
      "[('really', 1), ('hands', 1), ('organization', 1), ('situation', 1)]\n",
      "[('situation', 1), ('company', 1), ('supporting', 1), ('us', 1)]\n",
      "[('consider', 1), ('one', 1), ('reliable', 1), ('organisations', 1)]\n",
      "[('best', 1), ('terms', 1), ('securitywork', 1), ('life', 1)]\n",
      "[('excellent', 2), ('policies', 2), ('like', 1), ('govt', 1)]\n",
      "[('tcs', 1), ('handled', 1), ('pandemic', 1), ('situation', 1)]\n",
      "[('work', 2), ('tcs', 1), ('awesome', 1), ('company', 1)]\n",
      "[('tcs', 1), ('supporting', 1), ('work', 1), ('home', 1)]\n",
      "[('contractor', 3), ('like', 2), ('employee', 1), ('last', 1)]\n",
      "[('pandemic', 1), ('secure', 1), ('job', 1), ('means', 1)]\n",
      "[('job', 1), ('security', 1)]\n",
      "[('tcs', 2), ('employees', 2), ('lockdown', 1), ('time', 1)]\n",
      "[('work', 3), ('used', 3), ('good', 2), ('culture', 1)]\n",
      "[('think', 1), ('tcs', 1), ('yes', 1), ('given', 1)]\n",
      "[('learning', 1), ('opportunities', 1)]\n",
      "[('hospital', 2), ('mostly', 1), ('like', 1), ('health', 1)]\n",
      "[('working', 1), ('culture', 1)]\n",
      "[('tcs', 2), ('manager', 2), ('support', 2), ('dont', 1)]\n",
      "[('tcs', 2), ('offer', 2), ('work', 2), ('certain', 2)]\n",
      "[('good', 1), ('support', 1), ('tcs', 1), ('honestly', 1)]\n",
      "[('job', 1), ('security', 1)]\n",
      "[('enjoyed', 1), ('time', 1), ('working', 1), ('good', 1)]\n",
      "[('higher', 2), ('im', 1), ('longer', 1), ('employee', 1)]\n",
      "[('work', 3), ('home', 2), ('us', 2), ('office', 2)]\n",
      "[('facility', 2), ('layoffs', 1), ('deduction', 1), ('salaries', 1)]\n",
      "[('assured', 1), ('jobs', 1), ('secured', 1), ('also', 1)]\n",
      "[('heath', 2), ('tips', 2), ('sessions', 2), ('webinars', 1)]\n",
      "[('salary', 2), ('zero', 2), ('company', 2), ('full', 1)]\n",
      "[('prakash', 1), ('iyer', 1), ('tower', 1), ('lead', 1)]\n",
      "[('let', 2), ('tcs', 1), ('never', 1), ('feel', 1)]\n",
      "[('company', 1), ('culture', 1), ('full', 1), ('micro', 1)]\n",
      "[('havent', 1), ('come', 1), ('across', 1), ('incident', 1)]\n",
      "[('tcs', 3), ('felt', 2), ('one', 1), ('employees', 1)]\n",
      "[('year', 2), ('tcs', 2), ('also', 2), ('provided', 2)]\n",
      "[('pandemic', 1), ('never', 1), ('stopped', 1), ('salary', 1)]\n",
      "[('good', 1), ('health', 1), ('policies', 1)]\n",
      "[('job', 1), ('securitywork', 1), ('life', 1), ('balance', 1)]\n",
      "[('recognition', 1), ('hard', 1), ('worker', 1)]\n",
      "[('time', 2), ('want', 2), ('make', 2), ('environment', 2)]\n",
      "[('good', 1), ('work', 1), ('environment', 1), ('cultures', 1)]\n",
      "[('job', 3), ('later', 2), ('happy', 1), ('opening', 1)]\n",
      "[('except', 1), ('compensation', 1), ('everything', 1), ('good', 1)]\n",
      "[('work', 3), ('want', 1), ('tcsi', 1), ('year', 1)]\n",
      "[('good', 1), ('opportunities', 1), ('learning', 1), ('new', 1)]\n",
      "[('facilities', 3), ('providing', 2), ('situation', 2), ('work', 1)]\n",
      "[('poor', 2), ('job', 1), ('security', 1), ('work', 1)]\n",
      "[('tcs', 2), ('lot', 2), ('new', 2), ('learning', 2)]\n",
      "[('support', 1), ('management', 1), ('project', 1), ('working', 1)]\n",
      "[('tcs', 1), ('taking', 1), ('care', 1), ('majors', 1)]\n",
      "[('tcs', 2), ('covering', 1), ('covid', 1), ('health', 1)]\n",
      "[('work', 2), ('glad', 1), ('got', 1), ('opportunity', 1)]\n",
      "[('worked', 1), ('worlds', 1), ('safest', 1), ('organization', 1)]\n",
      "[('respect', 2), ('lot', 1), ('tcs', 1), ('heart', 1)]\n",
      "[('although', 1), ('hike', 1), ('fy', 1), ('however', 1)]\n",
      "[('get', 4), ('different', 4), ('tcs', 4), ('good', 3)]\n",
      "[('work', 2), ('want', 1), ('job', 1), ('security', 1)]\n",
      "[('providing', 1), ('employess', 1), ('wfh', 1), ('rest', 1)]\n",
      "[('support', 1), ('received', 1), ('pandemic', 1), ('resulted', 1)]\n",
      "[('liked', 1), ('job', 1), ('security', 1), ('overall', 1)]\n",
      "[('work', 2), ('every', 1), ('way', 1), ('always', 1)]\n",
      "[('friendly', 1), ('team', 1), ('tcs', 1), ('work', 1)]\n",
      "[('tcs', 1), ('supportive', 1), ('career', 1), ('development', 1)]\n",
      "[('tcs', 2), ('cutting', 1), ('payment', 1), ('employees', 1)]\n",
      "[('great', 2), ('ratan', 2), ('tata', 2), ('work', 1)]\n",
      "[('tcs', 3), ('best', 1), ('among', 1), ('service', 1)]\n",
      "[('working', 1), ('tcs', 1), ('long', 1), ('lasting', 1)]\n",
      "[('proud', 1), ('tcsr', 1), ('safety', 1), ('comfortable', 1)]\n",
      "[('good', 2), ('work', 1), ('environment', 1), ('culture', 1)]\n",
      "[('good', 2), ('job', 1), ('security', 1), ('learning', 1)]\n",
      "[('security', 2), ('proper', 2), ('job', 1), ('learning', 1)]\n",
      "[('tcs', 2), ('good', 1), ('place', 1), ('full', 1)]\n",
      "[('totally', 1), ('worst', 1), ('dont', 1), ('join', 1)]\n",
      "[('office', 4), ('ill', 4), ('tcs', 3), ('never', 3)]\n",
      "[('good', 1), ('environment', 1), ('supportive', 1), ('people', 1)]\n",
      "[('layoff', 1), ('salary', 1), ('cut', 1), ('grades', 1)]\n",
      "[('handled', 1), ('well', 1), ('ie', 1), ('work', 1)]\n",
      "[('truly', 1), ('stood', 1), ('everyone', 1), ('associates', 1)]\n",
      "[('job', 2), ('safe', 1), ('wfh', 1), ('good', 1)]\n",
      "[('tcs', 1), ('hr', 1), ('department', 1), ('touch', 1)]\n",
      "[('supporting', 1), ('lack', 1), ('resources', 1), ('management', 1)]\n",
      "[('company', 1), ('cares', 1), ('employees', 1), ('covid', 1)]\n",
      "[('tata', 1), ('group', 1), ('committed', 1), ('values', 1)]\n",
      "[('working', 1), ('tcs', 1), ('right', 1), ('answer', 1)]\n",
      "[('work', 2), ('like', 1), ('culture', 1), ('life', 1)]\n",
      "[('team', 4), ('good', 3), ('tcs', 2), ('one', 2)]\n",
      "[('tcs', 1), ('company', 1), ('also', 1), ('big', 1)]\n",
      "[('family', 2), ('absolute', 1), ('pleasure', 1), ('working', 1)]\n",
      "[('work', 2), ('amazing', 1), ('organization', 1), ('full', 1)]\n",
      "[('micro', 1), ('management', 1)]\n",
      "[('one', 1), ('best', 1), ('company', 1), ('adopt', 1)]\n",
      "[('company', 6), ('tcs', 4), ('dream', 3), ('worried', 2)]\n",
      "[('policies', 1), ('employees', 1), ('always', 1), ('change', 1)]\n",
      "[('support', 2), ('providing', 2), ('supporting', 1), ('employee', 1)]\n",
      "[('friends', 1), ('circle', 1), ('good', 1)]\n",
      "[('us', 3), ('tcs', 2), ('company', 1), ('support', 1)]\n",
      "[('force', 3), ('office', 3), ('come', 2), ('worst', 1)]\n",
      "[('like', 1), ('culture', 1), ('infrastructure', 1), ('tata', 1)]\n",
      "[('working', 2), ('tata', 1), ('consultancy', 1), ('services', 1)]\n",
      "[('permanent', 1), ('job', 1), ('security', 1), ('struggling', 1)]\n",
      "[('company', 2), ('never', 1), ('worked', 1), ('dont', 1)]\n",
      "[('tcs', 2), ('bas', 2), ('people', 2), ('removed', 1)]\n",
      "[('experience', 1), ('tcs', 1), ('proud', 1), ('tcsertcs', 1)]\n",
      "[('help', 2), ('life', 2), ('company', 1), ('realising', 1)]\n",
      "[('apart', 1), ('job', 1), ('security', 1), ('nothing', 1)]\n",
      "[('support', 3), ('exceptionally', 1), ('high', 1), ('covidjob', 1)]\n",
      "[('pandemic', 2), ('situation', 2), ('work', 2), ('provided', 2)]\n",
      "[('gave', 1), ('antique', 1), ('computers', 1), ('wfh', 1)]\n",
      "[('job', 2), ('security', 1), ('probability', 1), ('individual', 1)]\n",
      "[('tcs', 2), ('month', 2), ('training', 2), ('good', 2)]\n",
      "[('feel', 1), ('good', 1), ('whenever', 1), ('share', 1)]\n",
      "[('pleasure', 1), ('part', 1), ('firm', 1), ('past', 1)]\n",
      "[('work', 4), ('much', 3), ('know', 3), ('made', 2)]\n",
      "[('job', 1), ('security', 1)]\n",
      "[('work', 3), ('taken', 2), ('care', 2), ('tcser', 1)]\n",
      "[('job', 1), ('security', 1), ('taking', 1), ('care', 1)]\n",
      "[('happy', 1), ('part', 1), ('tata', 1), ('consultancy', 1)]\n",
      "[('lay', 1), ('tcs', 1), ('job', 1), ('security', 1)]\n",
      "[('job', 2), ('left', 1), ('covid', 1), ('team', 1)]\n",
      "[('working', 2), ('home', 2), ('good', 1), ('covid', 1)]\n",
      "[('work', 2), ('lockdown', 1), ('homethey', 1), ('provided', 1)]\n",
      "[('worked', 1), ('one', 1), ('half', 1), ('year', 1)]\n",
      "[('supporting', 1), ('every', 1), ('aspect', 1)]\n",
      "[('job', 1), ('secured', 1), ('career', 1), ('growth', 1)]\n",
      "[('permanent', 2), ('laid', 1), ('though', 1), ('contractor', 1)]\n",
      "[('happy', 1), ('work', 1), ('tcs', 1), ('great', 1)]\n",
      "[('totally', 1), ('fracturing', 1), ('couldnt', 1), ('manage', 1)]\n",
      "[('good', 1), ('providing', 1), ('job', 1), ('security', 1)]\n",
      "[('work', 5), ('company', 2), ('one', 2), ('level', 2)]\n",
      "[('tcs', 2), ('despite', 1), ('pandemic', 1), ('still', 1)]\n",
      "[('location', 2), ('tcs', 2), ('kindly', 1), ('help', 1)]\n",
      "[('india', 2), ('working', 1), ('within', 1), ('tcs', 1)]\n",
      "[('work', 1), ('life', 1), ('balance', 1)]\n",
      "[('supporting', 1), ('applying', 1), ('leaves', 1), ('could', 1)]\n",
      "[('employees', 3), ('time', 3), ('work', 2), ('tl', 2)]\n",
      "[('job', 1), ('security', 1), ('good', 1), ('work', 1)]\n",
      "[('best', 1), ('company', 1), ('work', 1), ('withworking', 1)]\n",
      "[('nothing', 1), ('onsite', 1), ('opportunities', 1), ('based', 1)]\n",
      "[('job', 1), ('security', 1), ('best', 1), ('part', 1)]\n",
      "[('job', 1), ('security', 1), ('work', 1), ('life', 1)]\n",
      "[('company', 1), ('open', 1), ('innovation', 1), ('readily', 1)]\n",
      "[('brand', 2), ('tcs', 1), ('name', 1), ('working', 1)]\n",
      "[('tcs', 3), ('work', 2), ('food', 2), ('likes', 1)]\n",
      "[('didnt', 1), ('cut', 1), ('salary', 1)]\n",
      "[('expect', 2), ('even', 1), ('pandemic', 1), ('report', 1)]\n",
      "[('cab', 2), ('facilities', 2), ('location', 2), ('happy', 1)]\n",
      "[('best', 1), ('thing', 1), ('giving', 1), ('opportunities', 1)]\n",
      "[('learnt', 2), ('providing', 2), ('us', 2), ('got', 1)]\n",
      "[('feeling', 1), ('happy', 1), ('part', 1), ('tata', 1)]\n",
      "[('like', 1), ('worklife', 1), ('balancecovid', 1), ('support', 1)]\n",
      "[('nice', 1), ('tcs', 1), ('helping', 1), ('lot', 1)]\n",
      "[('always', 1), ('support', 1), ('employeesi', 1), ('get', 1)]\n",
      "[('employees', 4), ('far', 1), ('good', 1), ('sending', 1)]\n",
      "[('job', 1), ('security', 1), ('company', 1), ('comparatively', 1)]\n",
      "[('tcs', 2), ('standing', 1), ('us', 1), ('giving', 1)]\n",
      "[('work', 1), ('home', 1), ('march', 1), ('gng', 1)]\n",
      "[('tcs', 2), ('definitely', 1), ('freshers', 1), ('youre', 1)]\n",
      "[('honour', 1), ('work', 1), ('tcs', 1), ('great', 1)]\n",
      "[('flexible', 1), ('working', 1), ('hours', 1), ('freedom', 1)]\n",
      "[('tcs', 5), ('would', 3), ('like', 3), ('say', 3)]\n",
      "[('tcs', 1), ('good', 1), ('safetest', 1), ('environment', 1)]\n",
      "[('work', 1), ('home', 1), ('nothing', 1), ('much', 1)]\n",
      "[('awesome', 1), ('workplace', 1), ('nice', 1), ('atmosphere', 1)]\n",
      "[('except', 1), ('salary', 1), ('compensation', 1), ('benefits', 1)]\n",
      "[('work', 1), ('home', 1)]\n",
      "[('tcs', 2), ('experience', 2), ('supportive', 1), ('junior', 1)]\n",
      "[('traning', 1), ('session', 1), ('funlearnt', 1), ('lot', 1)]\n",
      "[('job', 3), ('security', 2), ('high', 2), ('years', 2)]\n",
      "[('job', 1), ('security', 1), ('work', 1), ('culture', 1)]\n",
      "[('really', 1), ('nice', 1), ('intiative', 1), ('hrs', 1)]\n",
      "[('everything', 1), ('good', 1), ('like', 1), ('job', 1)]\n",
      "[('experience', 2), ('project', 2), ('good', 2), ('may', 1)]\n",
      "[('personally', 1), ('like', 1), ('tcs', 1), ('foul', 1)]\n",
      "[('excellent', 1), ('support', 1), ('received', 1), ('full', 1)]\n",
      "[('job', 1), ('security', 1), ('high', 1), ('company', 1)]\n",
      "[('company', 4), ('career', 3), ('one', 3), ('jus', 3)]\n",
      "[('growth', 2), ('general', 2), ('back', 2), ('ground', 2)]\n",
      "[('nothing', 1), ('sayy', 1)]\n",
      "[('glad', 1), ('say', 1), ('working', 1), ('tcs', 1)]\n",
      "[('work', 1), ('home', 1), ('option', 1)]\n",
      "[('say', 1), ('published', 1), ('stuff', 1), ('different', 1)]\n",
      "[('tcs', 3), ('employees', 3), ('first', 1), ('deginified', 1)]\n",
      "[('good', 1), ('job', 1), ('security', 1), ('supports', 1)]\n",
      "[('employees', 2), ('company', 1), ('shown', 1), ('trust', 1)]\n",
      "[('tcs', 2), ('company', 2), ('career', 2), ('account', 2)]\n",
      "[('job', 1), ('security', 1), ('thing', 1), ('good', 1)]\n",
      "[('good', 3), ('salary', 2), ('work', 1), ('support', 1)]\n",
      "[('learn', 2), ('like', 1), ('skill', 1), ('development', 1)]\n",
      "[('atmosphere', 1), ('premises', 1), ('relationship', 1), ('employees', 1)]\n",
      "[('job', 2), ('security', 2), ('key', 1), ('point', 1)]\n",
      "[('overall', 2), ('work', 2), ('u', 2), ('experience', 1)]\n",
      "[('good', 1)]\n",
      "[('got', 3), ('work', 3), ('tcs', 2), ('liked', 1)]\n",
      "[('excellent', 1), ('support', 1), ('tcs', 1)]\n",
      "[('job', 1), ('security', 1)]\n",
      "[('ect', 2), ('medical', 1), ('benefit', 1), ('job', 1)]\n",
      "[('lucky', 1), ('part', 1), ('organization', 1), ('getting', 1)]\n",
      "[('good', 1), ('career', 1), ('tcs', 1)]\n",
      "[('absolutely', 1), ('nothing', 1), ('liked', 1), ('physical', 1)]\n",
      "[('home', 2), ('working', 1), ('last', 1), ('months', 1)]\n",
      "[('good', 2), ('company', 1), ('work', 1), ('life', 1)]\n",
      "[('good', 2), ('tcs', 1), ('decent', 1), ('firm', 1)]\n",
      "[('companies', 1), ('terminated', 1), ('employees', 1), ('covid', 1)]\n",
      "[('working', 1), ('tcs', 1)]\n",
      "[('good', 3), ('till', 3), ('yes', 3), ('manager', 3)]\n",
      "[('friendly', 1), ('work', 1), ('environment', 1)]\n",
      "[('companies', 3), ('tcs', 2), ('one', 2), ('things', 2)]\n",
      "[('current', 1), ('employee', 1), ('tcs', 1)]\n",
      "[('work', 1), ('home', 1), ('job', 1)]\n",
      "[('helpful', 2), ('trainings', 1), ('held', 1), ('daily', 1)]\n",
      "[('work', 2), ('life', 1), ('balance', 1), ('home', 1)]\n",
      "[('tcs', 2), ('teamwork', 1), ('ambiance', 1), ('ilp', 1)]\n",
      "[('team', 1), ('work', 1), ('quality', 1)]\n",
      "[('job', 3), ('work', 3), ('much', 2), ('good', 2)]\n",
      "[('much', 1), ('support', 1), ('selected', 1), ('high', 1)]\n",
      "[('best', 1), ('company', 1), ('terms', 1), ('career', 1)]\n",
      "[('tcs', 2), ('yes', 1), ('good', 1), ('company', 1)]\n",
      "[('location', 2), ('desktop', 2), ('calling', 1), ('back', 1)]\n",
      "[('happy', 2), ('tcs', 2), ('company', 2), ('working', 2)]\n",
      "[('tcs', 3), ('better', 3), ('believe', 3), ('managed', 2)]\n",
      "[('career', 2), ('good', 1), ('part', 1), ('holding', 1)]\n",
      "[('brand', 1), ('tata', 1)]\n",
      "[('tcs', 2), ('worst', 1), ('experience', 1), ('career', 1)]\n",
      "[('different', 2), ('client', 2), ('frankly', 1), ('speaking', 1)]\n",
      "[('good', 2), ('start', 2), ('business', 2), ('company', 1)]\n",
      "[('job', 1), ('security', 1)]\n",
      "[('tcs', 2), ('tata', 1), ('always', 1), ('care', 1)]\n",
      "[('like', 1), ('work', 1), ('tcs', 1), ('management', 1)]\n",
      "[('providing', 1), ('work', 1), ('home', 1), ('facility', 1)]\n",
      "[('working', 3), ('like', 2), ('many', 2), ('things', 2)]\n",
      "[('work', 2), ('project', 2), ('comes', 1), ('job', 1)]\n",
      "[('place', 1), ('totally', 1), ('safe', 1), ('provide', 1)]\n",
      "[('paying', 1), ('salaries', 1), ('laying', 1), ('people', 1)]\n",
      "[('company', 1), ('open', 1), ('innovation', 1), ('readily', 1)]\n",
      "[('good', 1), ('work', 1), ('environment', 1), ('culture', 1)]\n",
      "[('first', 1), ('job', 1), ('loved', 1), ('work', 1)]\n",
      "[('work', 1), ('culture', 1)]\n",
      "[('different', 2), ('employees', 2), ('level', 2), ('one', 1)]\n",
      "[('supporting', 1), ('job', 1), ('security', 1), ('salary', 1)]\n",
      "[('work', 2), ('home', 1), ('given', 1), ('company', 1)]\n",
      "[('good', 3), ('work', 1), ('environment', 1), ('get', 1)]\n",
      "[('r', 2), ('office', 2), ('daily', 2), ('client', 1)]\n",
      "[('getting', 1), ('fully', 1), ('paid', 1), ('time', 1)]\n",
      "[('tcs', 3), ('big', 1), ('mnc', 1), ('company', 1)]\n",
      "[('getting', 1), ('full', 1), ('salary', 1), ('however', 1)]\n",
      "[('employee', 6), ('years', 5), ('tcs', 4), ('worked', 3)]\n",
      "[('paid', 1), ('salary', 1), ('months', 1), ('without', 1)]\n",
      "[('bad', 1), ('support', 1), ('tcs', 1), ('bpo', 1)]\n",
      "[('well', 3), ('team', 3), ('part', 2), ('work', 2)]\n",
      "[('learning', 4), ('blessed', 2), ('opportunities', 2), ('tuesday', 2)]\n",
      "[('glad', 1), ('became', 1), ('part', 1), ('great', 1)]\n",
      "[('left', 2), ('job', 2), ('tcs', 1), ('i’m', 1)]\n",
      "[('terminating', 1), ('anyone', 1)]\n",
      "[('job', 1), ('security', 1), ('good', 1)]\n",
      "[('absolutely', 1), ('fantastic', 1)]\n",
      "[('good', 1), ('work', 1), ('environment', 1), ('culture', 1)]\n",
      "[('company', 2), ('providing', 1), ('privilege', 1), ('possible', 1)]\n",
      "[('company', 3), ('managers', 3), ('humanity', 2), ('project', 2)]\n",
      "[('work', 2), ('youre', 2), ('lucky', 2), ('good', 1)]\n",
      "[('job', 1), ('security', 1), ('pay', 1), ('mediocre', 1)]\n",
      "[('support', 1), ('covid', 1), ('good', 1), ('wfh', 1)]\n",
      "[('job', 1), ('security', 1), ('high', 1)]\n",
      "[('yes', 1), ('work', 1), ('home', 1), ('best', 1)]\n",
      "[('every', 2), ('good', 1), ('learning', 1), ('opportunity', 1)]\n",
      "[('free', 2), ('transport', 1), ('childcareno', 1), ('work', 1)]\n",
      "[('thank', 1), ('concernwe', 1), ('received', 1), ('calls', 1)]\n",
      "[('good', 2), ('nagpur', 1), ('tcs', 1), ('location', 1)]\n",
      "[('overall', 1), ('atmosphere', 1), ('ok', 1), ('opportunity', 1)]\n",
      "[('home', 2), ('good', 1), ('made', 1), ('arrangements', 1)]\n",
      "[('weak', 2), ('leadership', 2), ('tcs', 1), ('brand', 1)]\n",
      "[('given', 1), ('us', 1), ('work', 1), ('home', 1)]\n",
      "[('since', 1), ('unable', 1), ('resume', 1), ('serviceare', 1)]\n",
      "[('tcs', 2), ('working', 1), ('awesome', 1), ('experience', 1)]\n",
      "[('project', 2), ('work', 2), ('well', 1), ('depends', 1)]\n",
      "[('really', 1), ('worst', 1), ('scenario', 1), ('esteemed', 1)]\n",
      "[('everyone', 1), ('good', 1), ('helpful', 1), ('one', 1)]\n",
      "[('depends', 2), ('new', 2), ('lots', 2), ('job', 2)]\n",
      "[('working', 1), ('home', 1), ('tcs', 1), ('making', 1)]\n",
      "[('employees', 1), ('allowed', 1), ('work', 1), ('home', 1)]\n",
      "[('management', 3), ('fte', 3), ('company', 2), ('employees', 2)]\n",
      "[('work', 2), ('satisfied', 1), ('life', 1), ('balance', 1)]\n",
      "[('overall', 2), ('work', 2), ('support', 2), ('good', 1)]\n",
      "[('tcs', 1), ('provided', 1), ('personal', 1), ('desktop', 1)]\n",
      "[('overall', 1), ('goodmanagement', 1), ('goodappreciated', 1), ('enough', 1)]\n",
      "[('tcs', 1), ('supporting', 1), ('lockdown', 1), ('good', 1)]\n",
      "[('good', 2), ('company', 1), ('giving', 1), ('full', 1)]\n",
      "[('enabling', 1), ('sbws', 1), ('tcs', 1), ('facilities', 1)]\n",
      "[('job', 1), ('good', 1), ('pay', 1), ('better', 1)]\n",
      "[('depends', 1), ('project', 1), ('good', 1), ('arent', 1)]\n",
      "[('tcs', 1), ('fundamentals', 1)]\n",
      "[('supporting', 1), ('lot', 1), ('pandemic', 1), ('time', 1)]\n",
      "[('tcs', 1), ('helping', 1), ('every', 1), ('possible', 1)]\n",
      "[('work', 1), ('environment', 1), ('training', 1), ('job', 1)]\n",
      "[('tcs', 3), ('good', 2), ('company', 2), ('lot', 2)]\n",
      "[('u', 1), ('want', 1), ('exploredo', 1), ('without', 1)]\n",
      "[('continue', 2), ('giving', 2), ('support', 2), ('home', 2)]\n",
      "[('tcs', 2), ('std', 1), ('dream', 1), ('company', 1)]\n",
      "[('goodthe', 1), ('frustrating', 1), ('part', 1), ('pressure', 1)]\n",
      "[('benefits', 1), ('like', 1), ('medical', 1), ('travel', 1)]\n",
      "[('company', 2), ('giving', 1), ('salary', 1), ('everymonth', 1)]\n",
      "[('company', 3), ('good', 3), ('projects', 2), ('career', 2)]\n",
      "[('tcs', 2), ('employees', 2), ('big', 1), ('organization', 1)]\n",
      "[('every', 2), ('situation', 2), ('company', 1), ('give', 1)]\n",
      "[('except', 1), ('salary', 1), ('every', 1), ('thing', 1)]\n",
      "[('brand', 1), ('wonderfulbeing', 1), ('freshergetting', 1), ('opportunity', 1)]\n",
      "[('tcs', 4), ('work', 3), ('projects', 3), ('get', 2)]\n",
      "[('good', 3), ('feel', 1), ('tcs', 1), ('teammates', 1)]\n",
      "[('good', 1), ('experience', 1), ('worked', 1), ('tata', 1)]\n",
      "[('people', 2), ('horrible', 1), ('it’s', 1), ('talent', 1)]\n",
      "[('job', 1), ('security', 1), ('best', 1), ('thing', 1)]\n",
      "[('permanent', 1), ('job', 1)]\n",
      "[('work', 4), ('learning', 3), ('tcs', 2), ('good', 2)]\n",
      "[('employee', 1), ('friendly', 1)]\n",
      "[('tcs', 2), ('according', 1), ('working', 1), ('culture', 1)]\n",
      "[('line', 3), ('tcs', 2), ('development', 2), ('one', 2)]\n",
      "[('start', 2), ('carrier', 2), ('lots', 2), ('good', 2)]\n",
      "[('training', 1), ('provided', 1), ('new', 1), ('joinees', 1)]\n",
      "[('since', 1), ('work', 1), ('home', 1), ('applicable', 1)]\n",
      "[('longer', 1), ('part', 1), ('tcs', 1), ('sure', 1)]\n",
      "[('nothing', 1), ('like', 1), ('tcs', 1), ('filled', 1)]\n",
      "[('good', 2), ('hr', 1), ('policies', 1), ('donot', 1)]\n",
      "[('job', 1), ('security', 1)]\n",
      "[('like', 1), ('nothing', 1)]\n",
      "[('great', 2), ('also', 2), ('work', 1), ('environment', 1)]\n",
      "[('terrible', 1)]\n",
      "[('job', 1), ('security', 1)]\n",
      "[('ganesh', 1), ('currently', 1), ('employee', 1), ('tcs', 1)]\n",
      "[('working', 1), ('right', 1), ('😔', 1)]\n",
      "[('traning', 1), ('language', 1), ('softno', 1), ('politics', 1)]\n",
      "[('better', 2), ('company', 1), ('monthly', 1), ('payments', 1)]\n"
     ]
    }
   ],
   "source": [
    "from collections import Counter \n",
    "#Counter = ''\n",
    "for i in data1.clean_round_1:\n",
    "    #print(i)\n",
    "    # split() returns list of all the words in the string \n",
    "    split_it = i.split() \n",
    "    # Pass the split_it list to instance of Counter class. \n",
    "    #print(Counter)\n",
    "    Counter_1 = Counter(split_it) \n",
    "    #print(Counter)\n",
    "    # most_common() produces k frequently encountered \n",
    "    # input values and their respective counts. \n",
    "    most_occur = Counter_1.most_common(4) \n",
    "    print(most_occur) "
   ]
  },
  {
   "cell_type": "code",
   "execution_count": 51,
   "metadata": {},
   "outputs": [],
   "source": [
    "#bag of words\n",
    "# Python3 code for preprocessing text \n",
    "import nltk \n",
    "import re \n",
    "import numpy as np \n",
    "  \n",
    "# execute the text here as : \n",
    "# text = \"\"\" # place text here  \"\"\" \n",
    "dataset =  data1.clean_round_1\n",
    "for i in range(len(dataset)): \n",
    "    dataset[i] = dataset[i].lower() \n",
    "    dataset[i] = re.sub(r'\\W', ' ', dataset[i]) \n",
    "    dataset[i] = re.sub(r'\\s+', ' ', dataset[i]) \n"
   ]
  },
  {
   "cell_type": "code",
   "execution_count": 52,
   "metadata": {},
   "outputs": [],
   "source": [
    "\n",
    "# Creating the Bag of Words model \n",
    "word2count = {} \n",
    "for data in dataset: \n",
    "    words = nltk.word_tokenize(data) \n",
    "    for word in words: \n",
    "        if word not in word2count.keys(): \n",
    "            word2count[word] = 1\n",
    "        else: \n",
    "            word2count[word] += 1\n"
   ]
  },
  {
   "cell_type": "code",
   "execution_count": 53,
   "metadata": {},
   "outputs": [
    {
     "name": "stdout",
     "output_type": "stream",
     "text": [
      "['tcs', 'work', 'good', 'company', 'job', 'security', 'working', 'employees', 'home', 'like', 'support', 'also', 'covid', 'salary', 'life', 'one', 'environment', 'time', 'project', 'people', 'balance', 'culture', 'employee', 'situation', 'best', 'learning', 'team', 'pandemic', 'get', 'us', 'career', 'provided', 'lot', 'management', 'office', 'thing', 'providing', 'growth', 'opportunities', 'different', 'part', 'every', 'experience', 'much', 'tata', 'policies', 'well', 'even', 'new', 'great', 'still', 'projects', 'location', 'got', 'opportunity', 'health', 'things', 'always', 'companies', 'say', 'happy', 'help', 'care', 'place', 'read', 'years', 'proud', 'training', 'family', 'wfh', 'associates', 'supporting', 'overall', 'really', 'organization', 'dont', 'facilities', 'feel', 'want', 'development', 'come', 'supportive', 'know', 'give', 'better', 'depends', 'due', 'leave', 'worked', 'many', 'lockdown', 'given', 'never', 'learn', 'hike', 'teammates', 'hr', 'benefits', 'would', 'excellent']\n"
     ]
    }
   ],
   "source": [
    "\n",
    "import heapq \n",
    "freq_words = heapq.nlargest(100, word2count, key=word2count.get)\n",
    "print(freq_words)"
   ]
  },
  {
   "cell_type": "code",
   "execution_count": 54,
   "metadata": {},
   "outputs": [],
   "source": [
    "\n",
    "X = [] \n",
    "for data in dataset: \n",
    "    vector = [] \n",
    "    for word in freq_words: \n",
    "        if word in nltk.word_tokenize(data): \n",
    "            vector.append(1) \n",
    "        else: \n",
    "            vector.append(0) \n",
    "    X.append(vector) \n",
    "X = np.asarray(X) \n"
   ]
  },
  {
   "cell_type": "code",
   "execution_count": 55,
   "metadata": {},
   "outputs": [
    {
     "data": {
      "text/plain": [
       "array([[1, 1, 1, ..., 1, 0, 0],\n",
       "       [1, 0, 0, ..., 0, 0, 0],\n",
       "       [0, 1, 0, ..., 0, 0, 0],\n",
       "       ...,\n",
       "       [0, 0, 0, ..., 0, 0, 0],\n",
       "       [0, 0, 0, ..., 0, 0, 0],\n",
       "       [0, 0, 0, ..., 1, 0, 0]])"
      ]
     },
     "execution_count": 55,
     "metadata": {},
     "output_type": "execute_result"
    }
   ],
   "source": [
    "X"
   ]
  },
  {
   "cell_type": "code",
   "execution_count": 56,
   "metadata": {},
   "outputs": [
    {
     "name": "stdout",
     "output_type": "stream",
     "text": [
      "1859\n"
     ]
    },
    {
     "data": {
      "text/plain": [
       "['tcs',\n",
       " 'work',\n",
       " 'good',\n",
       " 'company',\n",
       " 'job',\n",
       " 'security',\n",
       " 'working',\n",
       " 'employees',\n",
       " 'home',\n",
       " 'like',\n",
       " 'support',\n",
       " 'also',\n",
       " 'covid',\n",
       " 'salary',\n",
       " 'life',\n",
       " 'one',\n",
       " 'environment',\n",
       " 'time',\n",
       " 'project',\n",
       " 'people',\n",
       " 'balance',\n",
       " 'culture',\n",
       " 'employee',\n",
       " 'situation',\n",
       " 'best',\n",
       " 'learning',\n",
       " 'team',\n",
       " 'pandemic',\n",
       " 'get',\n",
       " 'us',\n",
       " 'career',\n",
       " 'provided',\n",
       " 'lot',\n",
       " 'management',\n",
       " 'office',\n",
       " 'thing',\n",
       " 'providing',\n",
       " 'growth',\n",
       " 'opportunities',\n",
       " 'different',\n",
       " 'part',\n",
       " 'every',\n",
       " 'experience',\n",
       " 'much',\n",
       " 'tata',\n",
       " 'policies',\n",
       " 'well',\n",
       " 'even',\n",
       " 'new',\n",
       " 'great']"
      ]
     },
     "execution_count": 56,
     "metadata": {},
     "output_type": "execute_result"
    }
   ],
   "source": [
    "import nltk\n",
    "\n",
    "from nltk.tokenize import word_tokenize\n",
    "reviews = data1.clean_round_1.str.cat(sep=' ')#function to split text into word\n",
    "tokens = word_tokenize(reviews)\n",
    "vocabulary = set(tokens)\n",
    "print(len(vocabulary))\n",
    "frequency_dist = nltk.FreqDist(tokens)\n",
    "sorted(frequency_dist,key=frequency_dist.__getitem__, reverse=True)[0:50]"
   ]
  },
  {
   "cell_type": "code",
   "execution_count": 57,
   "metadata": {},
   "outputs": [],
   "source": [
    "from nltk.corpus import stopwords\n",
    "stop_words = set(stopwords.words('english'))\n",
    "tokens = [w for w in tokens if not w in stop_words]"
   ]
  },
  {
   "cell_type": "code",
   "execution_count": 25,
   "metadata": {},
   "outputs": [
    {
     "data": {
      "image/png": "[encoded data removed]",
      "text/plain": [
       "<Figure size 432x288 with 1 Axes>"
      ]
     },
     "metadata": {
      "needs_background": "light"
     },
     "output_type": "display_data"
    }
   ],
   "source": [
    "from wordcloud import WordCloud\n",
    "import matplotlib.pyplot as plt\n",
    "wordcloud = WordCloud().generate_from_frequencies(frequency_dist)\n",
    "plt.imshow(wordcloud)\n",
    "plt.axis(\"off\")\n",
    "plt.show()"
   ]
  },
  {
   "cell_type": "code",
   "execution_count": 26,
   "metadata": {},
   "outputs": [
    {
     "name": "stdout",
     "output_type": "stream",
     "text": [
      "Requirement already up-to-date: cufflinks in /home/siddharth/anaconda3/lib/python3.7/site-packages (0.17.3)\n",
      "Requirement already satisfied, skipping upgrade: colorlover>=0.2.1 in /home/siddharth/anaconda3/lib/python3.7/site-packages (from cufflinks) (0.3.0)\n",
      "Requirement already satisfied, skipping upgrade: pandas>=0.19.2 in /home/siddharth/anaconda3/lib/python3.7/site-packages (from cufflinks) (1.0.1)\n",
      "Requirement already satisfied, skipping upgrade: six>=1.9.0 in /home/siddharth/anaconda3/lib/python3.7/site-packages (from cufflinks) (1.14.0)\n",
      "Requirement already satisfied, skipping upgrade: ipywidgets>=7.0.0 in /home/siddharth/anaconda3/lib/python3.7/site-packages (from cufflinks) (7.5.1)\n",
      "Requirement already satisfied, skipping upgrade: setuptools>=34.4.1 in /home/siddharth/anaconda3/lib/python3.7/site-packages (from cufflinks) (45.2.0.post20200210)\n",
      "Requirement already satisfied, skipping upgrade: plotly>=4.1.1 in /home/siddharth/anaconda3/lib/python3.7/site-packages (from cufflinks) (4.9.0)\n",
      "Requirement already satisfied, skipping upgrade: ipython>=5.3.0 in /home/siddharth/anaconda3/lib/python3.7/site-packages (from cufflinks) (7.12.0)\n",
      "Requirement already satisfied, skipping upgrade: numpy>=1.9.2 in /home/siddharth/anaconda3/lib/python3.7/site-packages (from cufflinks) (1.18.1)\n",
      "Requirement already satisfied, skipping upgrade: pytz>=2017.2 in /home/siddharth/anaconda3/lib/python3.7/site-packages (from pandas>=0.19.2->cufflinks) (2019.3)\n",
      "Requirement already satisfied, skipping upgrade: python-dateutil>=2.6.1 in /home/siddharth/anaconda3/lib/python3.7/site-packages (from pandas>=0.19.2->cufflinks) (2.8.1)\n",
      "Requirement already satisfied, skipping upgrade: ipykernel>=4.5.1 in /home/siddharth/anaconda3/lib/python3.7/site-packages (from ipywidgets>=7.0.0->cufflinks) (5.1.4)\n",
      "Requirement already satisfied, skipping upgrade: traitlets>=4.3.1 in /home/siddharth/anaconda3/lib/python3.7/site-packages (from ipywidgets>=7.0.0->cufflinks) (4.3.3)\n",
      "Requirement already satisfied, skipping upgrade: nbformat>=4.2.0 in /home/siddharth/anaconda3/lib/python3.7/site-packages (from ipywidgets>=7.0.0->cufflinks) (5.0.4)\n",
      "Requirement already satisfied, skipping upgrade: widgetsnbextension~=3.5.0 in /home/siddharth/anaconda3/lib/python3.7/site-packages (from ipywidgets>=7.0.0->cufflinks) (3.5.1)\n",
      "Requirement already satisfied, skipping upgrade: retrying>=1.3.3 in /home/siddharth/anaconda3/lib/python3.7/site-packages (from plotly>=4.1.1->cufflinks) (1.3.3)\n",
      "Requirement already satisfied, skipping upgrade: pexpect; sys_platform != \"win32\" in /home/siddharth/anaconda3/lib/python3.7/site-packages (from ipython>=5.3.0->cufflinks) (4.8.0)\n",
      "Requirement already satisfied, skipping upgrade: decorator in /home/siddharth/anaconda3/lib/python3.7/site-packages (from ipython>=5.3.0->cufflinks) (4.4.1)\n",
      "Requirement already satisfied, skipping upgrade: jedi>=0.10 in /home/siddharth/anaconda3/lib/python3.7/site-packages (from ipython>=5.3.0->cufflinks) (0.14.1)\n",
      "Requirement already satisfied, skipping upgrade: backcall in /home/siddharth/anaconda3/lib/python3.7/site-packages (from ipython>=5.3.0->cufflinks) (0.1.0)\n",
      "Requirement already satisfied, skipping upgrade: pickleshare in /home/siddharth/anaconda3/lib/python3.7/site-packages (from ipython>=5.3.0->cufflinks) (0.7.5)\n",
      "Requirement already satisfied, skipping upgrade: pygments in /home/siddharth/anaconda3/lib/python3.7/site-packages (from ipython>=5.3.0->cufflinks) (2.5.2)\n",
      "Requirement already satisfied, skipping upgrade: prompt-toolkit!=3.0.0,!=3.0.1,<3.1.0,>=2.0.0 in /home/siddharth/anaconda3/lib/python3.7/site-packages (from ipython>=5.3.0->cufflinks) (3.0.3)\n",
      "Requirement already satisfied, skipping upgrade: jupyter-client in /home/siddharth/anaconda3/lib/python3.7/site-packages (from ipykernel>=4.5.1->ipywidgets>=7.0.0->cufflinks) (5.3.4)\n",
      "Requirement already satisfied, skipping upgrade: tornado>=4.2 in /home/siddharth/anaconda3/lib/python3.7/site-packages (from ipykernel>=4.5.1->ipywidgets>=7.0.0->cufflinks) (6.0.3)\n",
      "Requirement already satisfied, skipping upgrade: ipython-genutils in /home/siddharth/anaconda3/lib/python3.7/site-packages (from traitlets>=4.3.1->ipywidgets>=7.0.0->cufflinks) (0.2.0)\n",
      "Requirement already satisfied, skipping upgrade: jsonschema!=2.5.0,>=2.4 in /home/siddharth/anaconda3/lib/python3.7/site-packages (from nbformat>=4.2.0->ipywidgets>=7.0.0->cufflinks) (3.2.0)\n",
      "Requirement already satisfied, skipping upgrade: jupyter-core in /home/siddharth/anaconda3/lib/python3.7/site-packages (from nbformat>=4.2.0->ipywidgets>=7.0.0->cufflinks) (4.6.1)\n",
      "Requirement already satisfied, skipping upgrade: notebook>=4.4.1 in /home/siddharth/anaconda3/lib/python3.7/site-packages (from widgetsnbextension~=3.5.0->ipywidgets>=7.0.0->cufflinks) (6.0.3)\n",
      "Requirement already satisfied, skipping upgrade: ptyprocess>=0.5 in /home/siddharth/anaconda3/lib/python3.7/site-packages (from pexpect; sys_platform != \"win32\"->ipython>=5.3.0->cufflinks) (0.6.0)\n",
      "Requirement already satisfied, skipping upgrade: parso>=0.5.0 in /home/siddharth/anaconda3/lib/python3.7/site-packages (from jedi>=0.10->ipython>=5.3.0->cufflinks) (0.5.2)\n",
      "Requirement already satisfied, skipping upgrade: wcwidth in /home/siddharth/anaconda3/lib/python3.7/site-packages (from prompt-toolkit!=3.0.0,!=3.0.1,<3.1.0,>=2.0.0->ipython>=5.3.0->cufflinks) (0.1.8)\n",
      "Requirement already satisfied, skipping upgrade: pyzmq>=13 in /home/siddharth/anaconda3/lib/python3.7/site-packages (from jupyter-client->ipykernel>=4.5.1->ipywidgets>=7.0.0->cufflinks) (18.1.1)\n",
      "Requirement already satisfied, skipping upgrade: importlib-metadata; python_version < \"3.8\" in /home/siddharth/anaconda3/lib/python3.7/site-packages (from jsonschema!=2.5.0,>=2.4->nbformat>=4.2.0->ipywidgets>=7.0.0->cufflinks) (1.5.0)\n",
      "Requirement already satisfied, skipping upgrade: pyrsistent>=0.14.0 in /home/siddharth/anaconda3/lib/python3.7/site-packages (from jsonschema!=2.5.0,>=2.4->nbformat>=4.2.0->ipywidgets>=7.0.0->cufflinks) (0.15.7)\n",
      "Requirement already satisfied, skipping upgrade: attrs>=17.4.0 in /home/siddharth/anaconda3/lib/python3.7/site-packages (from jsonschema!=2.5.0,>=2.4->nbformat>=4.2.0->ipywidgets>=7.0.0->cufflinks) (19.3.0)\n",
      "Requirement already satisfied, skipping upgrade: prometheus-client in /home/siddharth/anaconda3/lib/python3.7/site-packages (from notebook>=4.4.1->widgetsnbextension~=3.5.0->ipywidgets>=7.0.0->cufflinks) (0.7.1)\n",
      "Requirement already satisfied, skipping upgrade: Send2Trash in /home/siddharth/anaconda3/lib/python3.7/site-packages (from notebook>=4.4.1->widgetsnbextension~=3.5.0->ipywidgets>=7.0.0->cufflinks) (1.5.0)\n",
      "Requirement already satisfied, skipping upgrade: terminado>=0.8.1 in /home/siddharth/anaconda3/lib/python3.7/site-packages (from notebook>=4.4.1->widgetsnbextension~=3.5.0->ipywidgets>=7.0.0->cufflinks) (0.8.3)\n",
      "Requirement already satisfied, skipping upgrade: jinja2 in /home/siddharth/anaconda3/lib/python3.7/site-packages (from notebook>=4.4.1->widgetsnbextension~=3.5.0->ipywidgets>=7.0.0->cufflinks) (2.11.1)\n",
      "Requirement already satisfied, skipping upgrade: nbconvert in /home/siddharth/anaconda3/lib/python3.7/site-packages (from notebook>=4.4.1->widgetsnbextension~=3.5.0->ipywidgets>=7.0.0->cufflinks) (5.6.1)\n",
      "Requirement already satisfied, skipping upgrade: zipp>=0.5 in /home/siddharth/anaconda3/lib/python3.7/site-packages (from importlib-metadata; python_version < \"3.8\"->jsonschema!=2.5.0,>=2.4->nbformat>=4.2.0->ipywidgets>=7.0.0->cufflinks) (2.2.0)\n",
      "Requirement already satisfied, skipping upgrade: MarkupSafe>=0.23 in /home/siddharth/anaconda3/lib/python3.7/site-packages (from jinja2->notebook>=4.4.1->widgetsnbextension~=3.5.0->ipywidgets>=7.0.0->cufflinks) (1.1.1)\n",
      "Requirement already satisfied, skipping upgrade: mistune<2,>=0.8.1 in /home/siddharth/anaconda3/lib/python3.7/site-packages (from nbconvert->notebook>=4.4.1->widgetsnbextension~=3.5.0->ipywidgets>=7.0.0->cufflinks) (0.8.4)\n",
      "Requirement already satisfied, skipping upgrade: bleach in /home/siddharth/anaconda3/lib/python3.7/site-packages (from nbconvert->notebook>=4.4.1->widgetsnbextension~=3.5.0->ipywidgets>=7.0.0->cufflinks) (3.1.0)\n",
      "Requirement already satisfied, skipping upgrade: defusedxml in /home/siddharth/anaconda3/lib/python3.7/site-packages (from nbconvert->notebook>=4.4.1->widgetsnbextension~=3.5.0->ipywidgets>=7.0.0->cufflinks) (0.6.0)\n",
      "Requirement already satisfied, skipping upgrade: testpath in /home/siddharth/anaconda3/lib/python3.7/site-packages (from nbconvert->notebook>=4.4.1->widgetsnbextension~=3.5.0->ipywidgets>=7.0.0->cufflinks) (0.4.4)\n",
      "Requirement already satisfied, skipping upgrade: entrypoints>=0.2.2 in /home/siddharth/anaconda3/lib/python3.7/site-packages (from nbconvert->notebook>=4.4.1->widgetsnbextension~=3.5.0->ipywidgets>=7.0.0->cufflinks) (0.3)\n"
     ]
    },
    {
     "name": "stdout",
     "output_type": "stream",
     "text": [
      "Requirement already satisfied, skipping upgrade: pandocfilters>=1.4.1 in /home/siddharth/anaconda3/lib/python3.7/site-packages (from nbconvert->notebook>=4.4.1->widgetsnbextension~=3.5.0->ipywidgets>=7.0.0->cufflinks) (1.4.2)\r\n",
      "Requirement already satisfied, skipping upgrade: webencodings in /home/siddharth/anaconda3/lib/python3.7/site-packages (from bleach->nbconvert->notebook>=4.4.1->widgetsnbextension~=3.5.0->ipywidgets>=7.0.0->cufflinks) (0.5.1)\r\n"
     ]
    }
   ],
   "source": [
    "!pip install cufflinks --upgrade"
   ]
  },
  {
   "cell_type": "code",
   "execution_count": 27,
   "metadata": {},
   "outputs": [
    {
     "data": {
      "text/html": [
       "        <script type=\"text/javascript\">\n",
       "        window.PlotlyConfig = {MathJaxConfig: 'local'};\n",
       "        if (window.MathJax) {MathJax.Hub.Config({SVG: {font: \"STIX-Web\"}});}\n",
       "        if (typeof require !== 'undefined') {\n",
       "        require.undef(\"plotly\");\n",
       "        requirejs.config({\n",
       "            paths: {\n",
       "                'plotly': ['https://cdn.plot.ly/plotly-latest.min']\n",
       "            }\n",
       "        });\n",
       "        require(['plotly'], function(Plotly) {\n",
       "            window._Plotly = Plotly;\n",
       "        });\n",
       "        }\n",
       "        </script>\n",
       "        "
      ]
     },
     "metadata": {},
     "output_type": "display_data"
    }
   ],
   "source": [
    "#https://medium.com/plotly/nlp-visualisations-for-clear-immediate-insights-into-text-data-and-outputs-9ebfab168d5b\n",
    "#https://towardsdatascience.com/a-complete-exploratory-data-analysis-and-visualization-for-text-data-29fb1b96fb6a\n",
    "import cufflinks as cf\n",
    "cf.go_offline()\n",
    "cf.set_config_file(offline=False, world_readable=True)"
   ]
  },
  {
   "cell_type": "code",
   "execution_count": 28,
   "metadata": {},
   "outputs": [
    {
     "data": {
      "application/vnd.plotly.v1+json": {
       "config": {
        "linkText": "Export to plot.ly",
        "plotlyServerURL": "https://plot.ly",
        "showLink": true
       },
       "data": [
        {
         "histfunc": "count",
         "histnorm": "",
         "marker": {
          "color": "rgba(255, 153, 51, 1.0)",
          "line": {
           "color": "#000000",
           "width": 1.3
          }
         },
         "name": "clean_round_1",
         "nbinsx": 50,
         "opacity": 0.8,
         "orientation": "v",
         "type": "histogram",
         "x": [
          "things good job security opinion people tcs job security tcs holds onto employees even tough situations market although large layoff recent past still job security plus balance good time pressure also work much challenging usually timid learning curve easy workwise support projects timing may issue one may support weekend night compensated development projects timing beginning casual time delivery haywire always time lot development left give idea poor management benefits nice health benefits employee family easy leaves maternity wedding etc read",
          "carrying company provided laptop pandemic hits devops engineer already vpn admin privileges turned long faced lag wfh period company also providing internet connection charges quite happy tcs",
          "draw salary without work even without going office single day month",
          "good excellent job security provided tcs pandemic good company policies excellent support employes providing work home option",
          "apart job security company provides various opportunities skill development flexible working environment various benefits provided company plus points",
          "tcs started precautionary measures since early stages covid employees stationed work home new normal company instrumental keeping psychological parameters balanced tough time help different programs expert views work life balance equally taken care",
          "job security better compared companies lot internal politicsemployees suffer lot role change project change",
          "tcs support extraordinary pandemic giving work home option risk covid associates also impact productivity thing working hours become still hikes",
          "life tcs dependant type project one allocated still one find things good job security best good worklife balance times things may become hectic times balanced many people interact chance work latest technologies project specific onsite possibility decided per followingjust unanimous conclusiona project onsite workb years working tcs employeec immeasurable knowledge equally impressive articulation skill good soft skills softskill importantd good fooling people convincing ones good workenvironment depends type associates one works withmine goodread",
          "tcs name says tata always best best secure company one imagine crisis pandemic time job security complete comfortable work home good work life balance employee friendly company",
          "security",
          "job security thing would like appreciate covid lockdown",
          "tata company comes heartfully help associates also near family members proud say employee tata",
          "work life balance",
          "job security people already earning good switch company freshers expect good growth",
          "see job security mentioned posts tcs good brand name flaunt matter pride learning opportunities immense learning development plethora articles exams training material enhance skills compensation best among mncs depends managers perspective sycophancy omnipresent needless say said still mention salary part positives medical digital claim system makes life easy facilities like gym cafeteria varies location location lucky enough deputed good place get good amenities place like malad old asylum infrastructure poor cons getting stuck internal project read",
          "looking challenging skill development roles good easy go minded people job secure people good youngsters",
          "less salaries company compare marketand given bonus covid situation rather increment salarywe work home toobut company provided increment decreased work even covid situations",
          "good environment due covid lockdown work home provided hence safe employees",
          "onsite opportunities",
          "tcs supporting us lockdown asking employees come back home stay near office spite dangerous ongoing conditionthey neither provided laptops provided internet working home spite fact company thousands crores profit every quarteralso one never join tcs career starting days destroy life completely learning repeating learn anything companyread",
          "overall experience good lot people keep wasting companys time indirectly impact hard working bunch tcs supportive covid period continuous wfh since april company keep gathering information associates well covid corner dedicated helpline number call doctos assistance help someone",
          "tcs one tha multinational com soft nice place working everyone desire evry person dreams come true tcs tha comfortable working environment compare compny",
          "company support good special thanks ratan tata sir donating huge amount need one s",
          "really hands organization situation many peoples unable working company let",
          "best terms securitywork life balanceteam activities skill development",
          "good work environment culture huge cafeteria gaming arcade chilling company policies good appraisal fair give salary hike bonus nothing",
          "situation company supporting us well issue salary deduction",
          "like govt jobwork culture excellent excellent company policies unbelievable tcs policies",
          "consider one reliable organisations global pandemicthought lots internal projects suffering still allocating project associates friends mncs simply asking stay bench indirectly forcing leave jobbut per personal realisationend day save productivityread",
          "work life balance frequent weekend workingsjob security politics teammates different cultural background work happily salary n compnsations good mediclaim policies n insurance excellent",
          "tcs handled pandemic situation great manner implemented work home culture immediately due wide spread corona virus taking associates health primary concern communicated clients",
          "tcs supporting work home",
          "pandemic secure job means lot",
          "contractor employee last years treated like contractor removed within days pandemicnow trust like company cannot support contractor employees situation alsovery bad experience",
          "think tcs yes given job securitybut personal lifeit like burden usthere growth financially",
          "learning opportunities",
          "work culture good colleagues used support lot together team used work hard enjoy well work life balance used good overall experience great",
          "lockdown time tcs pay salary employees also provide covid health centers usefull tcs employees",
          "working culture",
          "dont like thing tcs manager always support local guys support covid time manager didnt inform tcs system required calling us base location",
          "tcs awesome company work industry get support mgmt team freedom work",
          "mostly like health insurance policy get treatment best hospital country mediclaim need worry hospital bill",
          "good support tcs honestly timesheet policy become strict",
          "job security",
          "im longer employee left job higher studies hr person managers helped alot higher study policies",
          "assured jobs secured also lot exposure opportunities improve ourself feel proud lucky working tcs",
          "enjoyed time working good exposure latest technologies part innovation labs flexible work timings",
          "important thing tcs layoff anyone though hiring seniors happening given offer tcs committed cancelled offer due covid also helped virtual joining pandemic situation provided employee work hometcs project oriented certain variables payments based projects consultant expected work certain projectread",
          "webinars guidance better heath covid time availability heath experts counsellors daily tips yoga sessions ergonomic tips sessions lot",
          "prakash iyer tower lead telstra terminated immediately",
          "job security",
          "layoffs deduction salaries covid cover quarantine facility oxygen cylinder facility employee dependent lot",
          "really supportive work home comparatively safe period called us back office like risking lives hope tcs let us work home corona completely gone life rosk everywhere convenient work environment feel productive reasons like extended office hours",
          "tcs never let feel recession going insecurities job salary everything maintained smoothly didnt even bother let us know happening around world",
          "full job security time salary payment salary less hike percentage low plus covid got zero hikes zero promotions year hard grep financially company looking making good money yur ground rule company",
          "company culture full micro management worst managers promotion hikes",
          "havent come across incident lay employees continue get regular compensation tata kind compassionate believe projects little edge bumping pressure hour pandemic",
          "one employees tcs part company worked tcs time felt better felt safe place given opportunity want continue services tcs",
          "pandemic never stopped salary also provided camp covid affected employees",
          "good health policies",
          "increment year uncertain circumstances tcs promised job cuts also provided reimbursement facilities work home paraphernalias hrs called number associates enquiring overall health associate family also provided helpline numbersfor various issues might arise associate family member covid infected overall tcs handled situation fairly wellof course lack increments year demotivated number associates choose overlook read",
          "job securitywork life balance",
          "recognition hard worker",
          "good work environment cultures leave policies hr team always supportive",
          "except compensation everything good",
          "want work tcsi year experience accounts departmentgood work environment tcsif work tcs dream completed",
          "good opportunities learning new technologies travelling abroad",
          "happy opening year job become working like machine later years lost job satisfaction later left job",
          "tcs taking care majors caring organisation good job",
          "job security poor work culture management okay company policies poor",
          "love tcs really missing everything lot new things every day new learning tcs different projects get seemeettalk different people lot learning ample amount opportunities",
          "support management project working instead extra pressure put team take leaves would make earn revenue calls till asked holding situation obviously good thing tcs perhaps wont fire us tough times nothing hike otherwise bad company culture work inread",
          "tcs covering covid health issurance also providing self quarantine rooms needs companies firing employees tcs ensuring job security",
          "flowrish teammates sharp time training job security depends facility faculty want increase lifestyle adding term growth appraisal travel dont time wheelers help continue review lifestylelike give suggesyion politics good learning skill make friendly environment going find wife ininnovationmy working lifestyles quite different others want make environment say balanced working life read",
          "worked worlds safest organization whatever condition job secure also every higher management people pay attention towards health u effected virus",
          "providing work home offices closed situation also providing facilities healthcare facilities meeting communication expense facilities due covid despite current situation companies economic conditions although sometimes going got tough still im company years removed yet",
          "lot respect tcs heart though wish leave organisation future growth really respect tata group best thing india",
          "although hike fy however job secured",
          "glad got opportunity work tcs maintain good work environment employees provide various opportunities learn new skills",
          "want job security work life balance family culture tcs best company work",
          "providing employess wfh rest employees adding extra allowance whi requested work office",
          "liked job security overall tcs good supporting covid situation",
          "every way always work life balance ensuredexclusively team made work closed loop higher management",
          "friendly team tcs work culture good",
          "support received pandemic resulted worldwide lockdown encouraging sure things would shape coming months",
          "tcs cutting payment employees also r give leave much employee want one company world fill proud part tcs",
          "tcs supportive career development area paying money employee say worsti left company january still waiting ffs",
          "great work culture pendamic giving thank u much great mr ratan tata need people world like ratan tata sir",
          "proud tcsr safety comfortable zone work",
          "working tcs long lasting experience good company providing many opportunities take care employees first known ethics values",
          "tcs best among service based organizations india pandemic scenario every company laying people didnt hear single person leave tcs even providing certain amount medical expenses covid treatment also businessman industrialists prove time tcs star organization",
          "good job security learning perspective ar gaps bt happens want domain project working upon overall good organisation feel proud",
          "good work environment culture teammates supportive management transplant huge cafeteria gaming arcade chilling company policies good give salary hike",
          "job security learning growth like project conducted many training sessions proper dress coding checked security regularly covid situation proper asset management team still planning different ways finding x employees assets wfh location",
          "totally worst dont join hyderabad office tcs",
          "months training freshers graduate good everyone get good learning opportunity period important thing connected people different location diverse culture important everyone cope corporate environment completion school college life projects colleagues different age groups feel bore employee stays bench current scenario different projects available mostly support maintenance project get opportunity learn new things tcs good cab bus service kolkata location girls get cab pm boys get pm sure locations kolkata bus service free cost pick drop tcs well known csr activity well tcs maitree club organizes different extra curricular activity stating painting dancing trekking adventure activity end tcs famous mediclaim service must say sure companies dont need bother money family member sick insured schemeread",
          "tcs good place full opportunities different fieldsbut currently im working left tcs due higher studies",
          "handled well ie work home feel proud wfhhas carried employees",
          "good environment supportive people",
          "layoff salary cut grades good opportunities inside organization pure luck",
          "safe job wfh good thing medical facilities secured job",
          "truly stood everyone associates treated us utmost dignity difficult time always grateful",
          "like work culture work life balance support pandemic excellent",
          "tcs hr department touch monthly got wfh facility workoverall good",
          "supporting lack resources management every level worried customer matter happen employee everyone struggling laptop asking get desktop baselocatiin",
          "company cares employees covid period giving work home",
          "tata group committed values secured job even pandemic situation",
          "working tcs right answer question",
          "absolute pleasure working company care like family almost every alternate months call make sure well family fine",
          "tcs company also big brand offering work home covid working good thik",
          "amazing organization full talents happiness work culture awesome happy work trainers managers cooperative",
          "micro management",
          "tcs worked three companies seriously never ever felt experience like tcs didnt got salary tcs ive learnt lot things office seniors treat like parents give us much opportunity learn im band ill never ever leave company helped also supported bad days ill always serve company company means ill never treat like employee past took part social work office side ill always ready type social work given office love environment office behavior senior colleaguesread",
          "childhood dream join good company understand company go oneday talk tcs companythem dream work tcs company take dream company top time worried whole world peoples us worried tim tcs company thought people job selection appreciated thanks tcs company read",
          "one best company adopt new normal",
          "supporting employee necessary support delivering computer home also providing allowances internet happy say tcs providing medical support employees helping us alot",
          "policies employees always change good one",
          "friends circle good",
          "tcs company support us every situation unexpected people make worst us sometimes behaviour stop us reach ambitions bad fact organisation otherwise love stay tcs like rule none security employees",
          "permanent job security struggling face hr call back office cases increased drastically",
          "never worked company dont know speak much think work get learn lot give best duga company",
          "tcs removed bas contract people organizationplease dont go tcs job security less bas people",
          "took job tcs ive decided quit organization taking one time career opportunity worked really hard find better position role first team achieving got moved one another team circumstances arent really side due process migration movedalong team members still got placed good team right im working good people surrounded methis story could reveal tcs place get learning get know new world corporate businesses challenging environment improve last resort employees personal financial assistance good platform deeds ans needs right place explore evolve around globe likely familyread",
          "experience tcs proud tcsertcs good policies work environment",
          "working tata consultancy services since years month great experience working",
          "company help realising personal life also matters apart professional life got great help superiors getting",
          "like culture infrastructure tata consultancy service getting support tcs since employee",
          "worst management force come office hide covid positive cases office order avoid panic force quarantine willing come office force apply leaves hr useless",
          "gave antique computers wfh",
          "comapny helpful kind employees pandemic situation job well secured happy work provided work home strategy pandemic situation started also provided working envt home support business",
          "pleasure part firm past year tough time companies firing employees tcs remain loyal staff proud tcser",
          "feel good whenever share awareness present situation taking care us texts providing contact numbers",
          "exceptionally high support covidjob secure salary time management assurance everyone safe reduces anxietyhigh level communication guidanceinvolvement various activity bringing celebrities chef mountaineers athletesample support psychological counselinggood platformsfor collaboration else decisions employee safety kept priority even cost businesstcs rated top organisation comes support employees covid read",
          "job security taking care employees",
          "job security probability individual keep job",
          "tcs job secure month month improve knowledge using still based training also per process training conduct say good infrastructure help needy people sharing funds mainly covid following government rules etc tcs good company",
          "job security",
          "happy part tata consultancy services",
          "left job covid team mentally harrased forced leave job",
          "tcser yes company ultimate support possible outcome avoid spread virus taken care work home safety precautions updates providing mediclaim facilities work life pressure smooth balance work everything properly taken care tcs",
          "lay tcs job security paying internet cost also due wfh panademic",
          "supporting every aspect",
          "worked one half year payroll manager keep telling convert didnt happened removed contract employees stating covid impact worst decision tcs",
          "apart job security nothing good working analytics nkp mumbai location",
          "lockdown work homethey provided pc work even internet cost given company monthly salary",
          "good providing job security failed concerning employees issues benefits worst hikes",
          "job secured career growth tcs",
          "laid though contractor sure motive keep permanent employees happy view told making permanent employee never happened",
          "totally fracturing couldnt manage work life balance working day night without compensation hike",
          "happy work tcs great opportunity grown knowledge skills good team got",
          "good working covid bcz working home cut salary companies also work system delivered us ur home address safety",
          "despite pandemic still job secureso tcs best mnc company worldi proude working tcs",
          "kindly help proceduresto apply transfer mumbai location home town kerala location tcs either trivandrum kochin tcs due covid pandemic",
          "work life balance",
          "excited work tcs process tl managers made worst made us work like slaves even achieved target credits transferred favorite colleagues much partiality negative atmosphere inside company higher authorities doesnt manners humanity came earn money get work done try put good fake image clients dont know prior clients empoloyes come hire candidates much possible dont know manage mass recruiters show company destroying career people thing know torture employees try squeeze energy employees much possible ethics work culture read",
          "supporting applying leaves could provide device wfh",
          "job security good work culture opportunity learning development",
          "job security best part tcs even company taking care associates bench critical time people loosing jobs organisations",
          "best company work withworking tcs superb experiencejob security lenient policies"
         ]
        }
       ],
       "layout": {
        "barmode": "overlay",
        "legend": {
         "bgcolor": "#F5F6F9",
         "font": {
          "color": "#4D5663"
         }
        },
        "paper_bgcolor": "#F5F6F9",
        "plot_bgcolor": "#F5F6F9",
        "template": {
         "data": {
          "bar": [
           {
            "error_x": {
             "color": "#2a3f5f"
            },
            "error_y": {
             "color": "#2a3f5f"
            },
            "marker": {
             "line": {
              "color": "#E5ECF6",
              "width": 0.5
             }
            },
            "type": "bar"
           }
          ],
          "barpolar": [
           {
            "marker": {
             "line": {
              "color": "#E5ECF6",
              "width": 0.5
             }
            },
            "type": "barpolar"
           }
          ],
          "carpet": [
           {
            "aaxis": {
             "endlinecolor": "#2a3f5f",
             "gridcolor": "white",
             "linecolor": "white",
             "minorgridcolor": "white",
             "startlinecolor": "#2a3f5f"
            },
            "baxis": {
             "endlinecolor": "#2a3f5f",
             "gridcolor": "white",
             "linecolor": "white",
             "minorgridcolor": "white",
             "startlinecolor": "#2a3f5f"
            },
            "type": "carpet"
           }
          ],
          "choropleth": [
           {
            "colorbar": {
             "outlinewidth": 0,
             "ticks": ""
            },
            "type": "choropleth"
           }
          ],
          "contour": [
           {
            "colorbar": {
             "outlinewidth": 0,
             "ticks": ""
            },
            "colorscale": [
             [
              0,
              "#0d0887"
             ],
             [
              0.1111111111111111,
              "#46039f"
             ],
             [
              0.2222222222222222,
              "#7201a8"
             ],
             [
              0.3333333333333333,
              "#9c179e"
             ],
             [
              0.4444444444444444,
              "#bd3786"
             ],
             [
              0.5555555555555556,
              "#d8576b"
             ],
             [
              0.6666666666666666,
              "#ed7953"
             ],
             [
              0.7777777777777778,
              "#fb9f3a"
             ],
             [
              0.8888888888888888,
              "#fdca26"
             ],
             [
              1,
              "#f0f921"
             ]
            ],
            "type": "contour"
           }
          ],
          "contourcarpet": [
           {
            "colorbar": {
             "outlinewidth": 0,
             "ticks": ""
            },
            "type": "contourcarpet"
           }
          ],
          "heatmap": [
           {
            "colorbar": {
             "outlinewidth": 0,
             "ticks": ""
            },
            "colorscale": [
             [
              0,
              "#0d0887"
             ],
             [
              0.1111111111111111,
              "#46039f"
             ],
             [
              0.2222222222222222,
              "#7201a8"
             ],
             [
              0.3333333333333333,
              "#9c179e"
             ],
             [
              0.4444444444444444,
              "#bd3786"
             ],
             [
              0.5555555555555556,
              "#d8576b"
             ],
             [
              0.6666666666666666,
              "#ed7953"
             ],
             [
              0.7777777777777778,
              "#fb9f3a"
             ],
             [
              0.8888888888888888,
              "#fdca26"
             ],
             [
              1,
              "#f0f921"
             ]
            ],
            "type": "heatmap"
           }
          ],
          "heatmapgl": [
           {
            "colorbar": {
             "outlinewidth": 0,
             "ticks": ""
            },
            "colorscale": [
             [
              0,
              "#0d0887"
             ],
             [
              0.1111111111111111,
              "#46039f"
             ],
             [
              0.2222222222222222,
              "#7201a8"
             ],
             [
              0.3333333333333333,
              "#9c179e"
             ],
             [
              0.4444444444444444,
              "#bd3786"
             ],
             [
              0.5555555555555556,
              "#d8576b"
             ],
             [
              0.6666666666666666,
              "#ed7953"
             ],
             [
              0.7777777777777778,
              "#fb9f3a"
             ],
             [
              0.8888888888888888,
              "#fdca26"
             ],
             [
              1,
              "#f0f921"
             ]
            ],
            "type": "heatmapgl"
           }
          ],
          "histogram": [
           {
            "marker": {
             "colorbar": {
              "outlinewidth": 0,
              "ticks": ""
             }
            },
            "type": "histogram"
           }
          ],
          "histogram2d": [
           {
            "colorbar": {
             "outlinewidth": 0,
             "ticks": ""
            },
            "colorscale": [
             [
              0,
              "#0d0887"
             ],
             [
              0.1111111111111111,
              "#46039f"
             ],
             [
              0.2222222222222222,
              "#7201a8"
             ],
             [
              0.3333333333333333,
              "#9c179e"
             ],
             [
              0.4444444444444444,
              "#bd3786"
             ],
             [
              0.5555555555555556,
              "#d8576b"
             ],
             [
              0.6666666666666666,
              "#ed7953"
             ],
             [
              0.7777777777777778,
              "#fb9f3a"
             ],
             [
              0.8888888888888888,
              "#fdca26"
             ],
             [
              1,
              "#f0f921"
             ]
            ],
            "type": "histogram2d"
           }
          ],
          "histogram2dcontour": [
           {
            "colorbar": {
             "outlinewidth": 0,
             "ticks": ""
            },
            "colorscale": [
             [
              0,
              "#0d0887"
             ],
             [
              0.1111111111111111,
              "#46039f"
             ],
             [
              0.2222222222222222,
              "#7201a8"
             ],
             [
              0.3333333333333333,
              "#9c179e"
             ],
             [
              0.4444444444444444,
              "#bd3786"
             ],
             [
              0.5555555555555556,
              "#d8576b"
             ],
             [
              0.6666666666666666,
              "#ed7953"
             ],
             [
              0.7777777777777778,
              "#fb9f3a"
             ],
             [
              0.8888888888888888,
              "#fdca26"
             ],
             [
              1,
              "#f0f921"
             ]
            ],
            "type": "histogram2dcontour"
           }
          ],
          "mesh3d": [
           {
            "colorbar": {
             "outlinewidth": 0,
             "ticks": ""
            },
            "type": "mesh3d"
           }
          ],
          "parcoords": [
           {
            "line": {
             "colorbar": {
              "outlinewidth": 0,
              "ticks": ""
             }
            },
            "type": "parcoords"
           }
          ],
          "pie": [
           {
            "automargin": true,
            "type": "pie"
           }
          ],
          "scatter": [
           {
            "marker": {
             "colorbar": {
              "outlinewidth": 0,
              "ticks": ""
             }
            },
            "type": "scatter"
           }
          ],
          "scatter3d": [
           {
            "line": {
             "colorbar": {
              "outlinewidth": 0,
              "ticks": ""
             }
            },
            "marker": {
             "colorbar": {
              "outlinewidth": 0,
              "ticks": ""
             }
            },
            "type": "scatter3d"
           }
          ],
          "scattercarpet": [
           {
            "marker": {
             "colorbar": {
              "outlinewidth": 0,
              "ticks": ""
             }
            },
            "type": "scattercarpet"
           }
          ],
          "scattergeo": [
           {
            "marker": {
             "colorbar": {
              "outlinewidth": 0,
              "ticks": ""
             }
            },
            "type": "scattergeo"
           }
          ],
          "scattergl": [
           {
            "marker": {
             "colorbar": {
              "outlinewidth": 0,
              "ticks": ""
             }
            },
            "type": "scattergl"
           }
          ],
          "scattermapbox": [
           {
            "marker": {
             "colorbar": {
              "outlinewidth": 0,
              "ticks": ""
             }
            },
            "type": "scattermapbox"
           }
          ],
          "scatterpolar": [
           {
            "marker": {
             "colorbar": {
              "outlinewidth": 0,
              "ticks": ""
             }
            },
            "type": "scatterpolar"
           }
          ],
          "scatterpolargl": [
           {
            "marker": {
             "colorbar": {
              "outlinewidth": 0,
              "ticks": ""
             }
            },
            "type": "scatterpolargl"
           }
          ],
          "scatterternary": [
           {
            "marker": {
             "colorbar": {
              "outlinewidth": 0,
              "ticks": ""
             }
            },
            "type": "scatterternary"
           }
          ],
          "surface": [
           {
            "colorbar": {
             "outlinewidth": 0,
             "ticks": ""
            },
            "colorscale": [
             [
              0,
              "#0d0887"
             ],
             [
              0.1111111111111111,
              "#46039f"
             ],
             [
              0.2222222222222222,
              "#7201a8"
             ],
             [
              0.3333333333333333,
              "#9c179e"
             ],
             [
              0.4444444444444444,
              "#bd3786"
             ],
             [
              0.5555555555555556,
              "#d8576b"
             ],
             [
              0.6666666666666666,
              "#ed7953"
             ],
             [
              0.7777777777777778,
              "#fb9f3a"
             ],
             [
              0.8888888888888888,
              "#fdca26"
             ],
             [
              1,
              "#f0f921"
             ]
            ],
            "type": "surface"
           }
          ],
          "table": [
           {
            "cells": {
             "fill": {
              "color": "#EBF0F8"
             },
             "line": {
              "color": "white"
             }
            },
            "header": {
             "fill": {
              "color": "#C8D4E3"
             },
             "line": {
              "color": "white"
             }
            },
            "type": "table"
           }
          ]
         },
         "layout": {
          "annotationdefaults": {
           "arrowcolor": "#2a3f5f",
           "arrowhead": 0,
           "arrowwidth": 1
          },
          "coloraxis": {
           "colorbar": {
            "outlinewidth": 0,
            "ticks": ""
           }
          },
          "colorscale": {
           "diverging": [
            [
             0,
             "#8e0152"
            ],
            [
             0.1,
             "#c51b7d"
            ],
            [
             0.2,
             "#de77ae"
            ],
            [
             0.3,
             "#f1b6da"
            ],
            [
             0.4,
             "#fde0ef"
            ],
            [
             0.5,
             "#f7f7f7"
            ],
            [
             0.6,
             "#e6f5d0"
            ],
            [
             0.7,
             "#b8e186"
            ],
            [
             0.8,
             "#7fbc41"
            ],
            [
             0.9,
             "#4d9221"
            ],
            [
             1,
             "#276419"
            ]
           ],
           "sequential": [
            [
             0,
             "#0d0887"
            ],
            [
             0.1111111111111111,
             "#46039f"
            ],
            [
             0.2222222222222222,
             "#7201a8"
            ],
            [
             0.3333333333333333,
             "#9c179e"
            ],
            [
             0.4444444444444444,
             "#bd3786"
            ],
            [
             0.5555555555555556,
             "#d8576b"
            ],
            [
             0.6666666666666666,
             "#ed7953"
            ],
            [
             0.7777777777777778,
             "#fb9f3a"
            ],
            [
             0.8888888888888888,
             "#fdca26"
            ],
            [
             1,
             "#f0f921"
            ]
           ],
           "sequentialminus": [
            [
             0,
             "#0d0887"
            ],
            [
             0.1111111111111111,
             "#46039f"
            ],
            [
             0.2222222222222222,
             "#7201a8"
            ],
            [
             0.3333333333333333,
             "#9c179e"
            ],
            [
             0.4444444444444444,
             "#bd3786"
            ],
            [
             0.5555555555555556,
             "#d8576b"
            ],
            [
             0.6666666666666666,
             "#ed7953"
            ],
            [
             0.7777777777777778,
             "#fb9f3a"
            ],
            [
             0.8888888888888888,
             "#fdca26"
            ],
            [
             1,
             "#f0f921"
            ]
           ]
          },
          "colorway": [
           "#636efa",
           "#EF553B",
           "#00cc96",
           "#ab63fa",
           "#FFA15A",
           "#19d3f3",
           "#FF6692",
           "#B6E880",
           "#FF97FF",
           "#FECB52"
          ],
          "font": {
           "color": "#2a3f5f"
          },
          "geo": {
           "bgcolor": "white",
           "lakecolor": "white",
           "landcolor": "#E5ECF6",
           "showlakes": true,
           "showland": true,
           "subunitcolor": "white"
          },
          "hoverlabel": {
           "align": "left"
          },
          "hovermode": "closest",
          "mapbox": {
           "style": "light"
          },
          "paper_bgcolor": "white",
          "plot_bgcolor": "#E5ECF6",
          "polar": {
           "angularaxis": {
            "gridcolor": "white",
            "linecolor": "white",
            "ticks": ""
           },
           "bgcolor": "#E5ECF6",
           "radialaxis": {
            "gridcolor": "white",
            "linecolor": "white",
            "ticks": ""
           }
          },
          "scene": {
           "xaxis": {
            "backgroundcolor": "#E5ECF6",
            "gridcolor": "white",
            "gridwidth": 2,
            "linecolor": "white",
            "showbackground": true,
            "ticks": "",
            "zerolinecolor": "white"
           },
           "yaxis": {
            "backgroundcolor": "#E5ECF6",
            "gridcolor": "white",
            "gridwidth": 2,
            "linecolor": "white",
            "showbackground": true,
            "ticks": "",
            "zerolinecolor": "white"
           },
           "zaxis": {
            "backgroundcolor": "#E5ECF6",
            "gridcolor": "white",
            "gridwidth": 2,
            "linecolor": "white",
            "showbackground": true,
            "ticks": "",
            "zerolinecolor": "white"
           }
          },
          "shapedefaults": {
           "line": {
            "color": "#2a3f5f"
           }
          },
          "ternary": {
           "aaxis": {
            "gridcolor": "white",
            "linecolor": "white",
            "ticks": ""
           },
           "baxis": {
            "gridcolor": "white",
            "linecolor": "white",
            "ticks": ""
           },
           "bgcolor": "#E5ECF6",
           "caxis": {
            "gridcolor": "white",
            "linecolor": "white",
            "ticks": ""
           }
          },
          "title": {
           "x": 0.05
          },
          "xaxis": {
           "automargin": true,
           "gridcolor": "white",
           "linecolor": "white",
           "ticks": "",
           "title": {
            "standoff": 15
           },
           "zerolinecolor": "white",
           "zerolinewidth": 2
          },
          "yaxis": {
           "automargin": true,
           "gridcolor": "white",
           "linecolor": "white",
           "ticks": "",
           "title": {
            "standoff": 15
           },
           "zerolinecolor": "white",
           "zerolinewidth": 2
          }
         }
        },
        "title": {
         "font": {
          "color": "#4D5663"
         },
         "text": "Sentiment Polarity Distribution"
        },
        "xaxis": {
         "gridcolor": "#E1E5ED",
         "linecolor": "black",
         "showgrid": true,
         "tickfont": {
          "color": "#4D5663"
         },
         "title": {
          "font": {
           "color": "#4D5663"
          },
          "text": "clean_round_1"
         },
         "zerolinecolor": "#E1E5ED"
        },
        "yaxis": {
         "gridcolor": "#E1E5ED",
         "linecolor": "black",
         "showgrid": true,
         "tickfont": {
          "color": "#4D5663"
         },
         "title": {
          "font": {
           "color": "#4D5663"
          },
          "text": "page_index"
         },
         "zerolinecolor": "#E1E5ED"
        }
       }
      },
      "text/html": [
       "<div>\n",
       "        \n",
       "        \n",
       "            <div id=\"c9aa1ffc-56dd-47f8-bff8-c10b297c2430\" class=\"plotly-graph-div\" style=\"height:525px; width:100%;\"></div>\n",
       "            <script type=\"text/javascript\">\n",
       "                require([\"plotly\"], function(Plotly) {\n",
       "                    window.PLOTLYENV=window.PLOTLYENV || {};\n",
       "                    window.PLOTLYENV.BASE_URL='https://plot.ly';\n",
       "                    \n",
       "                if (document.getElementById(\"c9aa1ffc-56dd-47f8-bff8-c10b297c2430\")) {\n",
       "                    Plotly.newPlot(\n",
       "                        'c9aa1ffc-56dd-47f8-bff8-c10b297c2430',\n",
       "                        [{\"histfunc\": \"count\", \"histnorm\": \"\", \"marker\": {\"color\": \"rgba(255, 153, 51, 1.0)\", \"line\": {\"color\": \"#000000\", \"width\": 1.3}}, \"name\": \"clean_round_1\", \"nbinsx\": 50, \"opacity\": 0.8, \"orientation\": \"v\", \"type\": \"histogram\", \"x\": [\"things good job security opinion people tcs job security tcs holds onto employees even tough situations market although large layoff recent past still job security plus balance good time pressure also work much challenging usually timid learning curve easy workwise support projects timing may issue one may support weekend night compensated development projects timing beginning casual time delivery haywire always time lot development left give idea poor management benefits nice health benefits employee family easy leaves maternity wedding etc read\", \"carrying company provided laptop pandemic hits devops engineer already vpn admin privileges turned long faced lag wfh period company also providing internet connection charges quite happy tcs\", \"draw salary without work even without going office single day month\", \"good excellent job security provided tcs pandemic good company policies excellent support employes providing work home option\", \"apart job security company provides various opportunities skill development flexible working environment various benefits provided company plus points\", \"tcs started precautionary measures since early stages covid employees stationed work home new normal company instrumental keeping psychological parameters balanced tough time help different programs expert views work life balance equally taken care\", \"job security better compared companies lot internal politicsemployees suffer lot role change project change\", \"tcs support extraordinary pandemic giving work home option risk covid associates also impact productivity thing working hours become still hikes\", \"life tcs dependant type project one allocated still one find things good job security best good worklife balance times things may become hectic times balanced many people interact chance work latest technologies project specific onsite possibility decided per followingjust unanimous conclusiona project onsite workb years working tcs employeec immeasurable knowledge equally impressive articulation skill good soft skills softskill importantd good fooling people convincing ones good workenvironment depends type associates one works withmine goodread\", \"tcs name says tata always best best secure company one imagine crisis pandemic time job security complete comfortable work home good work life balance employee friendly company\", \"security\", \"job security thing would like appreciate covid lockdown\", \"tata company comes heartfully help associates also near family members proud say employee tata\", \"work life balance\", \"job security people already earning good switch company freshers expect good growth\", \"see job security mentioned posts tcs good brand name flaunt matter pride learning opportunities immense learning development plethora articles exams training material enhance skills compensation best among mncs depends managers perspective sycophancy omnipresent needless say said still mention salary part positives medical digital claim system makes life easy facilities like gym cafeteria varies location location lucky enough deputed good place get good amenities place like malad old asylum infrastructure poor cons getting stuck internal project read\", \"looking challenging skill development roles good easy go minded people job secure people good youngsters\", \"less salaries company compare marketand given bonus covid situation rather increment salarywe work home toobut company provided increment decreased work even covid situations\", \"good environment due covid lockdown work home provided hence safe employees\", \"onsite opportunities\", \"tcs supporting us lockdown asking employees come back home stay near office spite dangerous ongoing conditionthey neither provided laptops provided internet working home spite fact company thousands crores profit every quarteralso one never join tcs career starting days destroy life completely learning repeating learn anything companyread\", \"overall experience good lot people keep wasting companys time indirectly impact hard working bunch tcs supportive covid period continuous wfh since april company keep gathering information associates well covid corner dedicated helpline number call doctos assistance help someone\", \"tcs one tha multinational com soft nice place working everyone desire evry person dreams come true tcs tha comfortable working environment compare compny\", \"company support good special thanks ratan tata sir donating huge amount need one s\", \"really hands organization situation many peoples unable working company let\", \"best terms securitywork life balanceteam activities skill development\", \"good work environment culture huge cafeteria gaming arcade chilling company policies good appraisal fair give salary hike bonus nothing\", \"situation company supporting us well issue salary deduction\", \"like govt jobwork culture excellent excellent company policies unbelievable tcs policies\", \"consider one reliable organisations global pandemicthought lots internal projects suffering still allocating project associates friends mncs simply asking stay bench indirectly forcing leave jobbut per personal realisationend day save productivityread\", \"work life balance frequent weekend workingsjob security politics teammates different cultural background work happily salary n compnsations good mediclaim policies n insurance excellent\", \"tcs handled pandemic situation great manner implemented work home culture immediately due wide spread corona virus taking associates health primary concern communicated clients\", \"tcs supporting work home\", \"pandemic secure job means lot\", \"contractor employee last years treated like contractor removed within days pandemicnow trust like company cannot support contractor employees situation alsovery bad experience\", \"think tcs yes given job securitybut personal lifeit like burden usthere growth financially\", \"learning opportunities\", \"work culture good colleagues used support lot together team used work hard enjoy well work life balance used good overall experience great\", \"lockdown time tcs pay salary employees also provide covid health centers usefull tcs employees\", \"working culture\", \"dont like thing tcs manager always support local guys support covid time manager didnt inform tcs system required calling us base location\", \"tcs awesome company work industry get support mgmt team freedom work\", \"mostly like health insurance policy get treatment best hospital country mediclaim need worry hospital bill\", \"good support tcs honestly timesheet policy become strict\", \"job security\", \"im longer employee left job higher studies hr person managers helped alot higher study policies\", \"assured jobs secured also lot exposure opportunities improve ourself feel proud lucky working tcs\", \"enjoyed time working good exposure latest technologies part innovation labs flexible work timings\", \"important thing tcs layoff anyone though hiring seniors happening given offer tcs committed cancelled offer due covid also helped virtual joining pandemic situation provided employee work hometcs project oriented certain variables payments based projects consultant expected work certain projectread\", \"webinars guidance better heath covid time availability heath experts counsellors daily tips yoga sessions ergonomic tips sessions lot\", \"prakash iyer tower lead telstra terminated immediately\", \"job security\", \"layoffs deduction salaries covid cover quarantine facility oxygen cylinder facility employee dependent lot\", \"really supportive work home comparatively safe period called us back office like risking lives hope tcs let us work home corona completely gone life rosk everywhere convenient work environment feel productive reasons like extended office hours\", \"tcs never let feel recession going insecurities job salary everything maintained smoothly didnt even bother let us know happening around world\", \"full job security time salary payment salary less hike percentage low plus covid got zero hikes zero promotions year hard grep financially company looking making good money yur ground rule company\", \"company culture full micro management worst managers promotion hikes\", \"havent come across incident lay employees continue get regular compensation tata kind compassionate believe projects little edge bumping pressure hour pandemic\", \"one employees tcs part company worked tcs time felt better felt safe place given opportunity want continue services tcs\", \"pandemic never stopped salary also provided camp covid affected employees\", \"good health policies\", \"increment year uncertain circumstances tcs promised job cuts also provided reimbursement facilities work home paraphernalias hrs called number associates enquiring overall health associate family also provided helpline numbersfor various issues might arise associate family member covid infected overall tcs handled situation fairly wellof course lack increments year demotivated number associates choose overlook read\", \"job securitywork life balance\", \"recognition hard worker\", \"good work environment cultures leave policies hr team always supportive\", \"except compensation everything good\", \"want work tcsi year experience accounts departmentgood work environment tcsif work tcs dream completed\", \"good opportunities learning new technologies travelling abroad\", \"happy opening year job become working like machine later years lost job satisfaction later left job\", \"tcs taking care majors caring organisation good job\", \"job security poor work culture management okay company policies poor\", \"love tcs really missing everything lot new things every day new learning tcs different projects get seemeettalk different people lot learning ample amount opportunities\", \"support management project working instead extra pressure put team take leaves would make earn revenue calls till asked holding situation obviously good thing tcs perhaps wont fire us tough times nothing hike otherwise bad company culture work inread\", \"tcs covering covid health issurance also providing self quarantine rooms needs companies firing employees tcs ensuring job security\", \"flowrish teammates sharp time training job security depends facility faculty want increase lifestyle adding term growth appraisal travel dont time wheelers help continue review lifestylelike give suggesyion politics good learning skill make friendly environment going find wife ininnovationmy working lifestyles quite different others want make environment say balanced working life read\", \"worked worlds safest organization whatever condition job secure also every higher management people pay attention towards health u effected virus\", \"providing work home offices closed situation also providing facilities healthcare facilities meeting communication expense facilities due covid despite current situation companies economic conditions although sometimes going got tough still im company years removed yet\", \"lot respect tcs heart though wish leave organisation future growth really respect tata group best thing india\", \"although hike fy however job secured\", \"glad got opportunity work tcs maintain good work environment employees provide various opportunities learn new skills\", \"want job security work life balance family culture tcs best company work\", \"providing employess wfh rest employees adding extra allowance whi requested work office\", \"liked job security overall tcs good supporting covid situation\", \"every way always work life balance ensuredexclusively team made work closed loop higher management\", \"friendly team tcs work culture good\", \"support received pandemic resulted worldwide lockdown encouraging sure things would shape coming months\", \"tcs cutting payment employees also r give leave much employee want one company world fill proud part tcs\", \"tcs supportive career development area paying money employee say worsti left company january still waiting ffs\", \"great work culture pendamic giving thank u much great mr ratan tata need people world like ratan tata sir\", \"proud tcsr safety comfortable zone work\", \"working tcs long lasting experience good company providing many opportunities take care employees first known ethics values\", \"tcs best among service based organizations india pandemic scenario every company laying people didnt hear single person leave tcs even providing certain amount medical expenses covid treatment also businessman industrialists prove time tcs star organization\", \"good job security learning perspective ar gaps bt happens want domain project working upon overall good organisation feel proud\", \"good work environment culture teammates supportive management transplant huge cafeteria gaming arcade chilling company policies good give salary hike\", \"job security learning growth like project conducted many training sessions proper dress coding checked security regularly covid situation proper asset management team still planning different ways finding x employees assets wfh location\", \"totally worst dont join hyderabad office tcs\", \"months training freshers graduate good everyone get good learning opportunity period important thing connected people different location diverse culture important everyone cope corporate environment completion school college life projects colleagues different age groups feel bore employee stays bench current scenario different projects available mostly support maintenance project get opportunity learn new things tcs good cab bus service kolkata location girls get cab pm boys get pm sure locations kolkata bus service free cost pick drop tcs well known csr activity well tcs maitree club organizes different extra curricular activity stating painting dancing trekking adventure activity end tcs famous mediclaim service must say sure companies dont need bother money family member sick insured schemeread\", \"tcs good place full opportunities different fieldsbut currently im working left tcs due higher studies\", \"handled well ie work home feel proud wfhhas carried employees\", \"good environment supportive people\", \"layoff salary cut grades good opportunities inside organization pure luck\", \"safe job wfh good thing medical facilities secured job\", \"truly stood everyone associates treated us utmost dignity difficult time always grateful\", \"like work culture work life balance support pandemic excellent\", \"tcs hr department touch monthly got wfh facility workoverall good\", \"supporting lack resources management every level worried customer matter happen employee everyone struggling laptop asking get desktop baselocatiin\", \"company cares employees covid period giving work home\", \"tata group committed values secured job even pandemic situation\", \"working tcs right answer question\", \"absolute pleasure working company care like family almost every alternate months call make sure well family fine\", \"tcs company also big brand offering work home covid working good thik\", \"amazing organization full talents happiness work culture awesome happy work trainers managers cooperative\", \"micro management\", \"tcs worked three companies seriously never ever felt experience like tcs didnt got salary tcs ive learnt lot things office seniors treat like parents give us much opportunity learn im band ill never ever leave company helped also supported bad days ill always serve company company means ill never treat like employee past took part social work office side ill always ready type social work given office love environment office behavior senior colleaguesread\", \"childhood dream join good company understand company go oneday talk tcs companythem dream work tcs company take dream company top time worried whole world peoples us worried tim tcs company thought people job selection appreciated thanks tcs company read\", \"one best company adopt new normal\", \"supporting employee necessary support delivering computer home also providing allowances internet happy say tcs providing medical support employees helping us alot\", \"policies employees always change good one\", \"friends circle good\", \"tcs company support us every situation unexpected people make worst us sometimes behaviour stop us reach ambitions bad fact organisation otherwise love stay tcs like rule none security employees\", \"permanent job security struggling face hr call back office cases increased drastically\", \"never worked company dont know speak much think work get learn lot give best duga company\", \"tcs removed bas contract people organizationplease dont go tcs job security less bas people\", \"took job tcs ive decided quit organization taking one time career opportunity worked really hard find better position role first team achieving got moved one another team circumstances arent really side due process migration movedalong team members still got placed good team right im working good people surrounded methis story could reveal tcs place get learning get know new world corporate businesses challenging environment improve last resort employees personal financial assistance good platform deeds ans needs right place explore evolve around globe likely familyread\", \"experience tcs proud tcsertcs good policies work environment\", \"working tata consultancy services since years month great experience working\", \"company help realising personal life also matters apart professional life got great help superiors getting\", \"like culture infrastructure tata consultancy service getting support tcs since employee\", \"worst management force come office hide covid positive cases office order avoid panic force quarantine willing come office force apply leaves hr useless\", \"gave antique computers wfh\", \"comapny helpful kind employees pandemic situation job well secured happy work provided work home strategy pandemic situation started also provided working envt home support business\", \"pleasure part firm past year tough time companies firing employees tcs remain loyal staff proud tcser\", \"feel good whenever share awareness present situation taking care us texts providing contact numbers\", \"exceptionally high support covidjob secure salary time management assurance everyone safe reduces anxietyhigh level communication guidanceinvolvement various activity bringing celebrities chef mountaineers athletesample support psychological counselinggood platformsfor collaboration else decisions employee safety kept priority even cost businesstcs rated top organisation comes support employees covid read\", \"job security taking care employees\", \"job security probability individual keep job\", \"tcs job secure month month improve knowledge using still based training also per process training conduct say good infrastructure help needy people sharing funds mainly covid following government rules etc tcs good company\", \"job security\", \"happy part tata consultancy services\", \"left job covid team mentally harrased forced leave job\", \"tcser yes company ultimate support possible outcome avoid spread virus taken care work home safety precautions updates providing mediclaim facilities work life pressure smooth balance work everything properly taken care tcs\", \"lay tcs job security paying internet cost also due wfh panademic\", \"supporting every aspect\", \"worked one half year payroll manager keep telling convert didnt happened removed contract employees stating covid impact worst decision tcs\", \"apart job security nothing good working analytics nkp mumbai location\", \"lockdown work homethey provided pc work even internet cost given company monthly salary\", \"good providing job security failed concerning employees issues benefits worst hikes\", \"job secured career growth tcs\", \"laid though contractor sure motive keep permanent employees happy view told making permanent employee never happened\", \"totally fracturing couldnt manage work life balance working day night without compensation hike\", \"happy work tcs great opportunity grown knowledge skills good team got\", \"good working covid bcz working home cut salary companies also work system delivered us ur home address safety\", \"despite pandemic still job secureso tcs best mnc company worldi proude working tcs\", \"kindly help proceduresto apply transfer mumbai location home town kerala location tcs either trivandrum kochin tcs due covid pandemic\", \"work life balance\", \"excited work tcs process tl managers made worst made us work like slaves even achieved target credits transferred favorite colleagues much partiality negative atmosphere inside company higher authorities doesnt manners humanity came earn money get work done try put good fake image clients dont know prior clients empoloyes come hire candidates much possible dont know manage mass recruiters show company destroying career people thing know torture employees try squeeze energy employees much possible ethics work culture read\", \"supporting applying leaves could provide device wfh\", \"job security good work culture opportunity learning development\", \"job security best part tcs even company taking care associates bench critical time people loosing jobs organisations\", \"best company work withworking tcs superb experiencejob security lenient policies\"]}],\n",
       "                        {\"barmode\": \"overlay\", \"legend\": {\"bgcolor\": \"#F5F6F9\", \"font\": {\"color\": \"#4D5663\"}}, \"paper_bgcolor\": \"#F5F6F9\", \"plot_bgcolor\": \"#F5F6F9\", \"template\": {\"data\": {\"bar\": [{\"error_x\": {\"color\": \"#2a3f5f\"}, \"error_y\": {\"color\": \"#2a3f5f\"}, \"marker\": {\"line\": {\"color\": \"#E5ECF6\", \"width\": 0.5}}, \"type\": \"bar\"}], \"barpolar\": [{\"marker\": {\"line\": {\"color\": \"#E5ECF6\", \"width\": 0.5}}, \"type\": \"barpolar\"}], \"carpet\": [{\"aaxis\": {\"endlinecolor\": \"#2a3f5f\", \"gridcolor\": \"white\", \"linecolor\": \"white\", \"minorgridcolor\": \"white\", \"startlinecolor\": \"#2a3f5f\"}, \"baxis\": {\"endlinecolor\": \"#2a3f5f\", \"gridcolor\": \"white\", \"linecolor\": \"white\", \"minorgridcolor\": \"white\", \"startlinecolor\": \"#2a3f5f\"}, \"type\": \"carpet\"}], \"choropleth\": [{\"colorbar\": {\"outlinewidth\": 0, \"ticks\": \"\"}, \"type\": \"choropleth\"}], \"contour\": [{\"colorbar\": {\"outlinewidth\": 0, \"ticks\": \"\"}, \"colorscale\": [[0.0, \"#0d0887\"], [0.1111111111111111, \"#46039f\"], [0.2222222222222222, \"#7201a8\"], [0.3333333333333333, \"#9c179e\"], [0.4444444444444444, \"#bd3786\"], [0.5555555555555556, \"#d8576b\"], [0.6666666666666666, \"#ed7953\"], [0.7777777777777778, \"#fb9f3a\"], [0.8888888888888888, \"#fdca26\"], [1.0, \"#f0f921\"]], \"type\": \"contour\"}], \"contourcarpet\": [{\"colorbar\": {\"outlinewidth\": 0, \"ticks\": \"\"}, \"type\": \"contourcarpet\"}], \"heatmap\": [{\"colorbar\": {\"outlinewidth\": 0, \"ticks\": \"\"}, \"colorscale\": [[0.0, \"#0d0887\"], [0.1111111111111111, \"#46039f\"], [0.2222222222222222, \"#7201a8\"], [0.3333333333333333, \"#9c179e\"], [0.4444444444444444, \"#bd3786\"], [0.5555555555555556, \"#d8576b\"], [0.6666666666666666, \"#ed7953\"], [0.7777777777777778, \"#fb9f3a\"], [0.8888888888888888, \"#fdca26\"], [1.0, \"#f0f921\"]], \"type\": \"heatmap\"}], \"heatmapgl\": [{\"colorbar\": {\"outlinewidth\": 0, \"ticks\": \"\"}, \"colorscale\": [[0.0, \"#0d0887\"], [0.1111111111111111, \"#46039f\"], [0.2222222222222222, \"#7201a8\"], [0.3333333333333333, \"#9c179e\"], [0.4444444444444444, \"#bd3786\"], [0.5555555555555556, \"#d8576b\"], [0.6666666666666666, \"#ed7953\"], [0.7777777777777778, \"#fb9f3a\"], [0.8888888888888888, \"#fdca26\"], [1.0, \"#f0f921\"]], \"type\": \"heatmapgl\"}], \"histogram\": [{\"marker\": {\"colorbar\": {\"outlinewidth\": 0, \"ticks\": \"\"}}, \"type\": \"histogram\"}], \"histogram2d\": [{\"colorbar\": {\"outlinewidth\": 0, \"ticks\": \"\"}, \"colorscale\": [[0.0, \"#0d0887\"], [0.1111111111111111, \"#46039f\"], [0.2222222222222222, \"#7201a8\"], [0.3333333333333333, \"#9c179e\"], [0.4444444444444444, \"#bd3786\"], [0.5555555555555556, \"#d8576b\"], [0.6666666666666666, \"#ed7953\"], [0.7777777777777778, \"#fb9f3a\"], [0.8888888888888888, \"#fdca26\"], [1.0, \"#f0f921\"]], \"type\": \"histogram2d\"}], \"histogram2dcontour\": [{\"colorbar\": {\"outlinewidth\": 0, \"ticks\": \"\"}, \"colorscale\": [[0.0, \"#0d0887\"], [0.1111111111111111, \"#46039f\"], [0.2222222222222222, \"#7201a8\"], [0.3333333333333333, \"#9c179e\"], [0.4444444444444444, \"#bd3786\"], [0.5555555555555556, \"#d8576b\"], [0.6666666666666666, \"#ed7953\"], [0.7777777777777778, \"#fb9f3a\"], [0.8888888888888888, \"#fdca26\"], [1.0, \"#f0f921\"]], \"type\": \"histogram2dcontour\"}], \"mesh3d\": [{\"colorbar\": {\"outlinewidth\": 0, \"ticks\": \"\"}, \"type\": \"mesh3d\"}], \"parcoords\": [{\"line\": {\"colorbar\": {\"outlinewidth\": 0, \"ticks\": \"\"}}, \"type\": \"parcoords\"}], \"pie\": [{\"automargin\": true, \"type\": \"pie\"}], \"scatter\": [{\"marker\": {\"colorbar\": {\"outlinewidth\": 0, \"ticks\": \"\"}}, \"type\": \"scatter\"}], \"scatter3d\": [{\"line\": {\"colorbar\": {\"outlinewidth\": 0, \"ticks\": \"\"}}, \"marker\": {\"colorbar\": {\"outlinewidth\": 0, \"ticks\": \"\"}}, \"type\": \"scatter3d\"}], \"scattercarpet\": [{\"marker\": {\"colorbar\": {\"outlinewidth\": 0, \"ticks\": \"\"}}, \"type\": \"scattercarpet\"}], \"scattergeo\": [{\"marker\": {\"colorbar\": {\"outlinewidth\": 0, \"ticks\": \"\"}}, \"type\": \"scattergeo\"}], \"scattergl\": [{\"marker\": {\"colorbar\": {\"outlinewidth\": 0, \"ticks\": \"\"}}, \"type\": \"scattergl\"}], \"scattermapbox\": [{\"marker\": {\"colorbar\": {\"outlinewidth\": 0, \"ticks\": \"\"}}, \"type\": \"scattermapbox\"}], \"scatterpolar\": [{\"marker\": {\"colorbar\": {\"outlinewidth\": 0, \"ticks\": \"\"}}, \"type\": \"scatterpolar\"}], \"scatterpolargl\": [{\"marker\": {\"colorbar\": {\"outlinewidth\": 0, \"ticks\": \"\"}}, \"type\": \"scatterpolargl\"}], \"scatterternary\": [{\"marker\": {\"colorbar\": {\"outlinewidth\": 0, \"ticks\": \"\"}}, \"type\": \"scatterternary\"}], \"surface\": [{\"colorbar\": {\"outlinewidth\": 0, \"ticks\": \"\"}, \"colorscale\": [[0.0, \"#0d0887\"], [0.1111111111111111, \"#46039f\"], [0.2222222222222222, \"#7201a8\"], [0.3333333333333333, \"#9c179e\"], [0.4444444444444444, \"#bd3786\"], [0.5555555555555556, \"#d8576b\"], [0.6666666666666666, \"#ed7953\"], [0.7777777777777778, \"#fb9f3a\"], [0.8888888888888888, \"#fdca26\"], [1.0, \"#f0f921\"]], \"type\": \"surface\"}], \"table\": [{\"cells\": {\"fill\": {\"color\": \"#EBF0F8\"}, \"line\": {\"color\": \"white\"}}, \"header\": {\"fill\": {\"color\": \"#C8D4E3\"}, \"line\": {\"color\": \"white\"}}, \"type\": \"table\"}]}, \"layout\": {\"annotationdefaults\": {\"arrowcolor\": \"#2a3f5f\", \"arrowhead\": 0, \"arrowwidth\": 1}, \"coloraxis\": {\"colorbar\": {\"outlinewidth\": 0, \"ticks\": \"\"}}, \"colorscale\": {\"diverging\": [[0, \"#8e0152\"], [0.1, \"#c51b7d\"], [0.2, \"#de77ae\"], [0.3, \"#f1b6da\"], [0.4, \"#fde0ef\"], [0.5, \"#f7f7f7\"], [0.6, \"#e6f5d0\"], [0.7, \"#b8e186\"], [0.8, \"#7fbc41\"], [0.9, \"#4d9221\"], [1, \"#276419\"]], \"sequential\": [[0.0, \"#0d0887\"], [0.1111111111111111, \"#46039f\"], [0.2222222222222222, \"#7201a8\"], [0.3333333333333333, \"#9c179e\"], [0.4444444444444444, \"#bd3786\"], [0.5555555555555556, \"#d8576b\"], [0.6666666666666666, \"#ed7953\"], [0.7777777777777778, \"#fb9f3a\"], [0.8888888888888888, \"#fdca26\"], [1.0, \"#f0f921\"]], \"sequentialminus\": [[0.0, \"#0d0887\"], [0.1111111111111111, \"#46039f\"], [0.2222222222222222, \"#7201a8\"], [0.3333333333333333, \"#9c179e\"], [0.4444444444444444, \"#bd3786\"], [0.5555555555555556, \"#d8576b\"], [0.6666666666666666, \"#ed7953\"], [0.7777777777777778, \"#fb9f3a\"], [0.8888888888888888, \"#fdca26\"], [1.0, \"#f0f921\"]]}, \"colorway\": [\"#636efa\", \"#EF553B\", \"#00cc96\", \"#ab63fa\", \"#FFA15A\", \"#19d3f3\", \"#FF6692\", \"#B6E880\", \"#FF97FF\", \"#FECB52\"], \"font\": {\"color\": \"#2a3f5f\"}, \"geo\": {\"bgcolor\": \"white\", \"lakecolor\": \"white\", \"landcolor\": \"#E5ECF6\", \"showlakes\": true, \"showland\": true, \"subunitcolor\": \"white\"}, \"hoverlabel\": {\"align\": \"left\"}, \"hovermode\": \"closest\", \"mapbox\": {\"style\": \"light\"}, \"paper_bgcolor\": \"white\", \"plot_bgcolor\": \"#E5ECF6\", \"polar\": {\"angularaxis\": {\"gridcolor\": \"white\", \"linecolor\": \"white\", \"ticks\": \"\"}, \"bgcolor\": \"#E5ECF6\", \"radialaxis\": {\"gridcolor\": \"white\", \"linecolor\": \"white\", \"ticks\": \"\"}}, \"scene\": {\"xaxis\": {\"backgroundcolor\": \"#E5ECF6\", \"gridcolor\": \"white\", \"gridwidth\": 2, \"linecolor\": \"white\", \"showbackground\": true, \"ticks\": \"\", \"zerolinecolor\": \"white\"}, \"yaxis\": {\"backgroundcolor\": \"#E5ECF6\", \"gridcolor\": \"white\", \"gridwidth\": 2, \"linecolor\": \"white\", \"showbackground\": true, \"ticks\": \"\", \"zerolinecolor\": \"white\"}, \"zaxis\": {\"backgroundcolor\": \"#E5ECF6\", \"gridcolor\": \"white\", \"gridwidth\": 2, \"linecolor\": \"white\", \"showbackground\": true, \"ticks\": \"\", \"zerolinecolor\": \"white\"}}, \"shapedefaults\": {\"line\": {\"color\": \"#2a3f5f\"}}, \"ternary\": {\"aaxis\": {\"gridcolor\": \"white\", \"linecolor\": \"white\", \"ticks\": \"\"}, \"baxis\": {\"gridcolor\": \"white\", \"linecolor\": \"white\", \"ticks\": \"\"}, \"bgcolor\": \"#E5ECF6\", \"caxis\": {\"gridcolor\": \"white\", \"linecolor\": \"white\", \"ticks\": \"\"}}, \"title\": {\"x\": 0.05}, \"xaxis\": {\"automargin\": true, \"gridcolor\": \"white\", \"linecolor\": \"white\", \"ticks\": \"\", \"title\": {\"standoff\": 15}, \"zerolinecolor\": \"white\", \"zerolinewidth\": 2}, \"yaxis\": {\"automargin\": true, \"gridcolor\": \"white\", \"linecolor\": \"white\", \"ticks\": \"\", \"title\": {\"standoff\": 15}, \"zerolinecolor\": \"white\", \"zerolinewidth\": 2}}}, \"title\": {\"font\": {\"color\": \"#4D5663\"}, \"text\": \"Sentiment Polarity Distribution\"}, \"xaxis\": {\"gridcolor\": \"#E1E5ED\", \"linecolor\": \"black\", \"showgrid\": true, \"tickfont\": {\"color\": \"#4D5663\"}, \"title\": {\"font\": {\"color\": \"#4D5663\"}, \"text\": \"clean_round_1\"}, \"zerolinecolor\": \"#E1E5ED\"}, \"yaxis\": {\"gridcolor\": \"#E1E5ED\", \"linecolor\": \"black\", \"showgrid\": true, \"tickfont\": {\"color\": \"#4D5663\"}, \"title\": {\"font\": {\"color\": \"#4D5663\"}, \"text\": \"page_index\"}, \"zerolinecolor\": \"#E1E5ED\"}},\n",
       "                        {\"showLink\": true, \"linkText\": \"Export to plot.ly\", \"plotlyServerURL\": \"https://plot.ly\", \"responsive\": true}\n",
       "                    ).then(function(){\n",
       "                            \n",
       "var gd = document.getElementById('c9aa1ffc-56dd-47f8-bff8-c10b297c2430');\n",
       "var x = new MutationObserver(function (mutations, observer) {{\n",
       "        var display = window.getComputedStyle(gd).display;\n",
       "        if (!display || display === 'none') {{\n",
       "            console.log([gd, 'removed!']);\n",
       "            Plotly.purge(gd);\n",
       "            observer.disconnect();\n",
       "        }}\n",
       "}});\n",
       "\n",
       "// Listen for the removal of the full notebook cells\n",
       "var notebookContainer = gd.closest('#notebook-container');\n",
       "if (notebookContainer) {{\n",
       "    x.observe(notebookContainer, {childList: true});\n",
       "}}\n",
       "\n",
       "// Listen for the clearing of the current output cell\n",
       "var outputEl = gd.closest('.output');\n",
       "if (outputEl) {{\n",
       "    x.observe(outputEl, {childList: true});\n",
       "}}\n",
       "\n",
       "                        })\n",
       "                };\n",
       "                });\n",
       "            </script>\n",
       "        </div>"
      ]
     },
     "metadata": {},
     "output_type": "display_data"
    }
   ],
   "source": [
    "data1['clean_round_1'].iplot(\n",
    "    kind='hist',\n",
    "    bins=50,\n",
    "    xTitle='clean_round_1',\n",
    "    linecolor='black',\n",
    "    yTitle='page_index',\n",
    "    title='Sentiment Polarity Distribution')"
   ]
  },
  {
   "cell_type": "code",
   "execution_count": 72,
   "metadata": {
    "scrolled": true
   },
   "outputs": [
    {
     "data": {
      "application/vnd.plotly.v1+json": {
       "config": {
        "linkText": "Export to plot.ly",
        "plotlyServerURL": "https://plot.ly",
        "showLink": true
       },
       "data": [
        {
         "histfunc": "count",
         "histnorm": "",
         "marker": {
          "color": "rgba(255, 153, 51, 1.0)",
          "line": {
           "color": "#000000",
           "width": 1.3
          }
         },
         "name": "clean_round_1",
         "opacity": 0.8,
         "orientation": "v",
         "type": "histogram",
         "x": [
          "things good job security opinion people tcs job security tcs holds onto employees even tough situations market although large layoff recent past still job security plus balance good time pressure also work much challenging usually timid learning curve easy workwise support projects timing may issue one may support weekend night compensated development projects timing beginning casual time delivery haywire always time lot development left give idea poor management benefits nice health benefits employee family easy leaves maternity wedding etc read",
          "carrying company provided laptop pandemic hits devops engineer already vpn admin privileges turned long faced lag wfh period company also providing internet connection charges quite happy tcs",
          "draw salary without work even without going office single day month",
          "good excellent job security provided tcs pandemic good company policies excellent support employes providing work home option",
          "apart job security company provides various opportunities skill development flexible working environment various benefits provided company plus points",
          "tcs started precautionary measures since early stages covid employees stationed work home new normal company instrumental keeping psychological parameters balanced tough time help different programs expert views work life balance equally taken care",
          "job security better compared companies lot internal politicsemployees suffer lot role change project change",
          "tcs support extraordinary pandemic giving work home option risk covid associates also impact productivity thing working hours become still hikes",
          "life tcs dependant type project one allocated still one find things good job security best good worklife balance times things may become hectic times balanced many people interact chance work latest technologies project specific onsite possibility decided per followingjust unanimous conclusiona project onsite workb years working tcs employeec immeasurable knowledge equally impressive articulation skill good soft skills softskill importantd good fooling people convincing ones good workenvironment depends type associates one works withmine goodread",
          "tcs name says tata always best best secure company one imagine crisis pandemic time job security complete comfortable work home good work life balance employee friendly company",
          "security",
          "job security thing would like appreciate covid lockdown",
          "tata company comes heartfully help associates also near family members proud say employee tata",
          "work life balance",
          "job security people already earning good switch company freshers expect good growth",
          "see job security mentioned posts tcs good brand name flaunt matter pride learning opportunities immense learning development plethora articles exams training material enhance skills compensation best among mncs depends managers perspective sycophancy omnipresent needless say said still mention salary part positives medical digital claim system makes life easy facilities like gym cafeteria varies location location lucky enough deputed good place get good amenities place like malad old asylum infrastructure poor cons getting stuck internal project read",
          "looking challenging skill development roles good easy go minded people job secure people good youngsters",
          "less salaries company compare marketand given bonus covid situation rather increment salarywe work home toobut company provided increment decreased work even covid situations",
          "good environment due covid lockdown work home provided hence safe employees",
          "onsite opportunities",
          "tcs supporting us lockdown asking employees come back home stay near office spite dangerous ongoing conditionthey neither provided laptops provided internet working home spite fact company thousands crores profit every quarteralso one never join tcs career starting days destroy life completely learning repeating learn anything companyread",
          "overall experience good lot people keep wasting companys time indirectly impact hard working bunch tcs supportive covid period continuous wfh since april company keep gathering information associates well covid corner dedicated helpline number call doctos assistance help someone",
          "tcs one tha multinational com soft nice place working everyone desire evry person dreams come true tcs tha comfortable working environment compare compny",
          "company support good special thanks ratan tata sir donating huge amount need one s",
          "really hands organization situation many peoples unable working company let",
          "best terms securitywork life balanceteam activities skill development",
          "good work environment culture huge cafeteria gaming arcade chilling company policies good appraisal fair give salary hike bonus nothing",
          "situation company supporting us well issue salary deduction",
          "like govt jobwork culture excellent excellent company policies unbelievable tcs policies",
          "consider one reliable organisations global pandemicthought lots internal projects suffering still allocating project associates friends mncs simply asking stay bench indirectly forcing leave jobbut per personal realisationend day save productivityread",
          "work life balance frequent weekend workingsjob security politics teammates different cultural background work happily salary n compnsations good mediclaim policies n insurance excellent",
          "tcs handled pandemic situation great manner implemented work home culture immediately due wide spread corona virus taking associates health primary concern communicated clients",
          "tcs supporting work home",
          "pandemic secure job means lot",
          "contractor employee last years treated like contractor removed within days pandemicnow trust like company cannot support contractor employees situation alsovery bad experience",
          "think tcs yes given job securitybut personal lifeit like burden usthere growth financially",
          "learning opportunities",
          "work culture good colleagues used support lot together team used work hard enjoy well work life balance used good overall experience great",
          "lockdown time tcs pay salary employees also provide covid health centers usefull tcs employees",
          "working culture",
          "dont like thing tcs manager always support local guys support covid time manager didnt inform tcs system required calling us base location",
          "tcs awesome company work industry get support mgmt team freedom work",
          "mostly like health insurance policy get treatment best hospital country mediclaim need worry hospital bill",
          "good support tcs honestly timesheet policy become strict",
          "job security",
          "im longer employee left job higher studies hr person managers helped alot higher study policies",
          "assured jobs secured also lot exposure opportunities improve ourself feel proud lucky working tcs",
          "enjoyed time working good exposure latest technologies part innovation labs flexible work timings",
          "important thing tcs layoff anyone though hiring seniors happening given offer tcs committed cancelled offer due covid also helped virtual joining pandemic situation provided employee work hometcs project oriented certain variables payments based projects consultant expected work certain projectread",
          "webinars guidance better heath covid time availability heath experts counsellors daily tips yoga sessions ergonomic tips sessions lot",
          "prakash iyer tower lead telstra terminated immediately",
          "job security",
          "layoffs deduction salaries covid cover quarantine facility oxygen cylinder facility employee dependent lot",
          "really supportive work home comparatively safe period called us back office like risking lives hope tcs let us work home corona completely gone life rosk everywhere convenient work environment feel productive reasons like extended office hours",
          "tcs never let feel recession going insecurities job salary everything maintained smoothly didnt even bother let us know happening around world",
          "full job security time salary payment salary less hike percentage low plus covid got zero hikes zero promotions year hard grep financially company looking making good money yur ground rule company",
          "company culture full micro management worst managers promotion hikes",
          "havent come across incident lay employees continue get regular compensation tata kind compassionate believe projects little edge bumping pressure hour pandemic",
          "one employees tcs part company worked tcs time felt better felt safe place given opportunity want continue services tcs",
          "pandemic never stopped salary also provided camp covid affected employees",
          "good health policies",
          "increment year uncertain circumstances tcs promised job cuts also provided reimbursement facilities work home paraphernalias hrs called number associates enquiring overall health associate family also provided helpline numbersfor various issues might arise associate family member covid infected overall tcs handled situation fairly wellof course lack increments year demotivated number associates choose overlook read",
          "job securitywork life balance",
          "recognition hard worker",
          "good work environment cultures leave policies hr team always supportive",
          "except compensation everything good",
          "want work tcsi year experience accounts departmentgood work environment tcsif work tcs dream completed",
          "good opportunities learning new technologies travelling abroad",
          "happy opening year job become working like machine later years lost job satisfaction later left job",
          "tcs taking care majors caring organisation good job",
          "job security poor work culture management okay company policies poor",
          "love tcs really missing everything lot new things every day new learning tcs different projects get seemeettalk different people lot learning ample amount opportunities",
          "support management project working instead extra pressure put team take leaves would make earn revenue calls till asked holding situation obviously good thing tcs perhaps wont fire us tough times nothing hike otherwise bad company culture work inread",
          "tcs covering covid health issurance also providing self quarantine rooms needs companies firing employees tcs ensuring job security",
          "flowrish teammates sharp time training job security depends facility faculty want increase lifestyle adding term growth appraisal travel dont time wheelers help continue review lifestylelike give suggesyion politics good learning skill make friendly environment going find wife ininnovationmy working lifestyles quite different others want make environment say balanced working life read",
          "worked worlds safest organization whatever condition job secure also every higher management people pay attention towards health u effected virus",
          "providing work home offices closed situation also providing facilities healthcare facilities meeting communication expense facilities due covid despite current situation companies economic conditions although sometimes going got tough still im company years removed yet",
          "lot respect tcs heart though wish leave organisation future growth really respect tata group best thing india",
          "although hike fy however job secured",
          "glad got opportunity work tcs maintain good work environment employees provide various opportunities learn new skills",
          "want job security work life balance family culture tcs best company work",
          "providing employess wfh rest employees adding extra allowance whi requested work office",
          "liked job security overall tcs good supporting covid situation",
          "every way always work life balance ensuredexclusively team made work closed loop higher management",
          "friendly team tcs work culture good",
          "support received pandemic resulted worldwide lockdown encouraging sure things would shape coming months",
          "tcs cutting payment employees also r give leave much employee want one company world fill proud part tcs",
          "tcs supportive career development area paying money employee say worsti left company january still waiting ffs",
          "great work culture pendamic giving thank u much great mr ratan tata need people world like ratan tata sir",
          "proud tcsr safety comfortable zone work",
          "working tcs long lasting experience good company providing many opportunities take care employees first known ethics values",
          "tcs best among service based organizations india pandemic scenario every company laying people didnt hear single person leave tcs even providing certain amount medical expenses covid treatment also businessman industrialists prove time tcs star organization",
          "good job security learning perspective ar gaps bt happens want domain project working upon overall good organisation feel proud",
          "good work environment culture teammates supportive management transplant huge cafeteria gaming arcade chilling company policies good give salary hike",
          "job security learning growth like project conducted many training sessions proper dress coding checked security regularly covid situation proper asset management team still planning different ways finding x employees assets wfh location",
          "totally worst dont join hyderabad office tcs",
          "months training freshers graduate good everyone get good learning opportunity period important thing connected people different location diverse culture important everyone cope corporate environment completion school college life projects colleagues different age groups feel bore employee stays bench current scenario different projects available mostly support maintenance project get opportunity learn new things tcs good cab bus service kolkata location girls get cab pm boys get pm sure locations kolkata bus service free cost pick drop tcs well known csr activity well tcs maitree club organizes different extra curricular activity stating painting dancing trekking adventure activity end tcs famous mediclaim service must say sure companies dont need bother money family member sick insured schemeread",
          "tcs good place full opportunities different fieldsbut currently im working left tcs due higher studies",
          "handled well ie work home feel proud wfhhas carried employees",
          "good environment supportive people",
          "layoff salary cut grades good opportunities inside organization pure luck",
          "safe job wfh good thing medical facilities secured job",
          "truly stood everyone associates treated us utmost dignity difficult time always grateful",
          "like work culture work life balance support pandemic excellent",
          "tcs hr department touch monthly got wfh facility workoverall good",
          "supporting lack resources management every level worried customer matter happen employee everyone struggling laptop asking get desktop baselocatiin",
          "company cares employees covid period giving work home",
          "tata group committed values secured job even pandemic situation",
          "working tcs right answer question",
          "absolute pleasure working company care like family almost every alternate months call make sure well family fine",
          "tcs company also big brand offering work home covid working good thik",
          "amazing organization full talents happiness work culture awesome happy work trainers managers cooperative",
          "micro management",
          "tcs worked three companies seriously never ever felt experience like tcs didnt got salary tcs ive learnt lot things office seniors treat like parents give us much opportunity learn im band ill never ever leave company helped also supported bad days ill always serve company company means ill never treat like employee past took part social work office side ill always ready type social work given office love environment office behavior senior colleaguesread",
          "childhood dream join good company understand company go oneday talk tcs companythem dream work tcs company take dream company top time worried whole world peoples us worried tim tcs company thought people job selection appreciated thanks tcs company read",
          "one best company adopt new normal",
          "supporting employee necessary support delivering computer home also providing allowances internet happy say tcs providing medical support employees helping us alot",
          "policies employees always change good one",
          "friends circle good",
          "tcs company support us every situation unexpected people make worst us sometimes behaviour stop us reach ambitions bad fact organisation otherwise love stay tcs like rule none security employees",
          "permanent job security struggling face hr call back office cases increased drastically",
          "never worked company dont know speak much think work get learn lot give best duga company",
          "tcs removed bas contract people organizationplease dont go tcs job security less bas people",
          "took job tcs ive decided quit organization taking one time career opportunity worked really hard find better position role first team achieving got moved one another team circumstances arent really side due process migration movedalong team members still got placed good team right im working good people surrounded methis story could reveal tcs place get learning get know new world corporate businesses challenging environment improve last resort employees personal financial assistance good platform deeds ans needs right place explore evolve around globe likely familyread",
          "experience tcs proud tcsertcs good policies work environment",
          "working tata consultancy services since years month great experience working",
          "company help realising personal life also matters apart professional life got great help superiors getting",
          "like culture infrastructure tata consultancy service getting support tcs since employee",
          "worst management force come office hide covid positive cases office order avoid panic force quarantine willing come office force apply leaves hr useless",
          "gave antique computers wfh",
          "comapny helpful kind employees pandemic situation job well secured happy work provided work home strategy pandemic situation started also provided working envt home support business",
          "pleasure part firm past year tough time companies firing employees tcs remain loyal staff proud tcser",
          "feel good whenever share awareness present situation taking care us texts providing contact numbers",
          "exceptionally high support covidjob secure salary time management assurance everyone safe reduces anxietyhigh level communication guidanceinvolvement various activity bringing celebrities chef mountaineers athletesample support psychological counselinggood platformsfor collaboration else decisions employee safety kept priority even cost businesstcs rated top organisation comes support employees covid read",
          "job security taking care employees",
          "job security probability individual keep job",
          "tcs job secure month month improve knowledge using still based training also per process training conduct say good infrastructure help needy people sharing funds mainly covid following government rules etc tcs good company",
          "job security",
          "happy part tata consultancy services",
          "left job covid team mentally harrased forced leave job",
          "tcser yes company ultimate support possible outcome avoid spread virus taken care work home safety precautions updates providing mediclaim facilities work life pressure smooth balance work everything properly taken care tcs",
          "lay tcs job security paying internet cost also due wfh panademic",
          "supporting every aspect",
          "worked one half year payroll manager keep telling convert didnt happened removed contract employees stating covid impact worst decision tcs",
          "apart job security nothing good working analytics nkp mumbai location",
          "lockdown work homethey provided pc work even internet cost given company monthly salary",
          "good providing job security failed concerning employees issues benefits worst hikes",
          "job secured career growth tcs",
          "laid though contractor sure motive keep permanent employees happy view told making permanent employee never happened",
          "totally fracturing couldnt manage work life balance working day night without compensation hike",
          "happy work tcs great opportunity grown knowledge skills good team got",
          "good working covid bcz working home cut salary companies also work system delivered us ur home address safety",
          "despite pandemic still job secureso tcs best mnc company worldi proude working tcs",
          "kindly help proceduresto apply transfer mumbai location home town kerala location tcs either trivandrum kochin tcs due covid pandemic",
          "work life balance",
          "excited work tcs process tl managers made worst made us work like slaves even achieved target credits transferred favorite colleagues much partiality negative atmosphere inside company higher authorities doesnt manners humanity came earn money get work done try put good fake image clients dont know prior clients empoloyes come hire candidates much possible dont know manage mass recruiters show company destroying career people thing know torture employees try squeeze energy employees much possible ethics work culture read",
          "supporting applying leaves could provide device wfh",
          "job security good work culture opportunity learning development",
          "job security best part tcs even company taking care associates bench critical time people loosing jobs organisations",
          "best company work withworking tcs superb experiencejob security lenient policies",
          "work tcs gives great experience knowledge worked good team leader support every step process learned handling stress pressure odd situations salary hike makes unhappy little bit benefits good work tcs may gives good career also resigned due personal problems working environment friendly project always updates includes innovations working tcs felt working government org much security felt working tcs read",
          "work environment job culture good womens safety job security good benefit",
          "good work environment culture teammates supportive management transparent company policies good",
          "draw salary without work even without going office single day month",
          "carrying company provided laptop pandemic hits devops engineer already vpn admin privileges turned long faced lag wfh period company also providing internet connection charges quite happy tcs",
          "apart job security company provides various opportunities skill development flexible working environment various benefits provided company plus points",
          "good excellent job security provided tcs pandemic good company policies excellent support employes providing work home option",
          "job security better compared companies lot internal politicsemployees suffer lot role change project change",
          "knowledge luck connections great terms job security gives good health benefits take leave studies willing working",
          "tcs started precautionary measures since early stages covid employees stationed work home new normal company instrumental keeping psychological parameters balanced tough time help different programs expert views work life balance equally taken care",
          "life tcs dependant type project one allocated still one find things good job security best good worklife balance times things may become hectic times balanced many people interact chance work latest technologies project specific onsite possibility decided per followingjust unanimous conclusiona project onsite workb years working tcs employeec immeasurable knowledge equally impressive articulation skill good soft skills softskill importantd good fooling people convincing ones good workenvironment depends type associates one works withmine goodread",
          "tcs name says tata always best best secure company one imagine crisis pandemic time job security complete comfortable work home good work life balance employee friendly company",
          "tcs support extraordinary pandemic giving work home option risk covid associates also impact productivity thing working hours become still hikes",
          "see job security mentioned posts tcs good brand name flaunt matter pride learning opportunities immense learning development plethora articles exams training material enhance skills compensation best among mncs depends managers perspective sycophancy omnipresent needless say said still mention salary part positives medical digital claim system makes life easy facilities like gym cafeteria varies location location lucky enough deputed good place get good amenities place like malad old asylum infrastructure poor cons getting stuck internal project read",
          "great support",
          "job security thing would like appreciate covid lockdown",
          "security",
          "tcs supporting us lockdown asking employees come back home stay near office spite dangerous ongoing conditionthey neither provided laptops provided internet working home spite fact company thousands crores profit every quarteralso one never join tcs career starting days destroy life completely learning repeating learn anything companyread",
          "tata company comes heartfully help associates also near family members proud say employee tata",
          "job security people already earning good switch company freshers expect good growth",
          "work life balance",
          "onsite opportunities",
          "less salaries company compare marketand given bonus covid situation rather increment salarywe work home toobut company provided increment decreased work even covid situations",
          "good environment due covid lockdown work home provided hence safe employees",
          "looking challenging skill development roles good easy go minded people job secure people good youngsters",
          "overall experience good lot people keep wasting companys time indirectly impact hard working bunch tcs supportive covid period continuous wfh since april company keep gathering information associates well covid corner dedicated helpline number call doctos assistance help someone",
          "tcs one tha multinational com soft nice place working everyone desire evry person dreams come true tcs tha comfortable working environment compare compny",
          "work life balance frequent weekend workingsjob security politics teammates different cultural background work happily salary n compnsations good mediclaim policies n insurance excellent",
          "company support good special thanks ratan tata sir donating huge amount need one s",
          "good work environment culture huge cafeteria gaming arcade chilling company policies good appraisal fair give salary hike bonus nothing",
          "really hands organization situation many peoples unable working company let",
          "situation company supporting us well issue salary deduction",
          "consider one reliable organisations global pandemicthought lots internal projects suffering still allocating project associates friends mncs simply asking stay bench indirectly forcing leave jobbut per personal realisationend day save productivityread",
          "best terms securitywork life balanceteam activities skill development",
          "like govt jobwork culture excellent excellent company policies unbelievable tcs policies",
          "tcs handled pandemic situation great manner implemented work home culture immediately due wide spread corona virus taking associates health primary concern communicated clients",
          "tcs awesome company work industry get support mgmt team freedom work",
          "tcs supporting work home",
          "contractor employee last years treated like contractor removed within days pandemicnow trust like company cannot support contractor employees situation alsovery bad experience",
          "pandemic secure job means lot",
          "job security",
          "lockdown time tcs pay salary employees also provide covid health centers usefull tcs employees",
          "work culture good colleagues used support lot together team used work hard enjoy well work life balance used good overall experience great",
          "think tcs yes given job securitybut personal lifeit like burden usthere growth financially",
          "learning opportunities",
          "mostly like health insurance policy get treatment best hospital country mediclaim need worry hospital bill",
          "working culture",
          "dont like thing tcs manager always support local guys support covid time manager didnt inform tcs system required calling us base location",
          "important thing tcs layoff anyone though hiring seniors happening given offer tcs committed cancelled offer due covid also helped virtual joining pandemic situation provided employee work hometcs project oriented certain variables payments based projects consultant expected work certain projectread",
          "good support tcs honestly timesheet policy become strict",
          "job security",
          "enjoyed time working good exposure latest technologies part innovation labs flexible work timings",
          "im longer employee left job higher studies hr person managers helped alot higher study policies",
          "really supportive work home comparatively safe period called us back office like risking lives hope tcs let us work home corona completely gone life rosk everywhere convenient work environment feel productive reasons like extended office hours",
          "layoffs deduction salaries covid cover quarantine facility oxygen cylinder facility employee dependent lot",
          "assured jobs secured also lot exposure opportunities improve ourself feel proud lucky working tcs",
          "webinars guidance better heath covid time availability heath experts counsellors daily tips yoga sessions ergonomic tips sessions lot",
          "full job security time salary payment salary less hike percentage low plus covid got zero hikes zero promotions year hard grep financially company looking making good money yur ground rule company",
          "prakash iyer tower lead telstra terminated immediately",
          "tcs never let feel recession going insecurities job salary everything maintained smoothly didnt even bother let us know happening around world",
          "company culture full micro management worst managers promotion hikes",
          "havent come across incident lay employees continue get regular compensation tata kind compassionate believe projects little edge bumping pressure hour pandemic",
          "one employees tcs part company worked tcs time felt better felt safe place given opportunity want continue services tcs",
          "increment year uncertain circumstances tcs promised job cuts also provided reimbursement facilities work home paraphernalias hrs called number associates enquiring overall health associate family also provided helpline numbersfor various issues might arise associate family member covid infected overall tcs handled situation fairly wellof course lack increments year demotivated number associates choose overlook read",
          "pandemic never stopped salary also provided camp covid affected employees",
          "good health policies",
          "job securitywork life balance",
          "recognition hard worker",
          "flowrish teammates sharp time training job security depends facility faculty want increase lifestyle adding term growth appraisal travel dont time wheelers help continue review lifestylelike give suggesyion politics good learning skill make friendly environment going find wife ininnovationmy working lifestyles quite different others want make environment say balanced working life read",
          "good work environment cultures leave policies hr team always supportive",
          "happy opening year job become working like machine later years lost job satisfaction later left job",
          "except compensation everything good",
          "want work tcsi year experience accounts departmentgood work environment tcsif work tcs dream completed",
          "good opportunities learning new technologies travelling abroad",
          "providing work home offices closed situation also providing facilities healthcare facilities meeting communication expense facilities due covid despite current situation companies economic conditions although sometimes going got tough still im company years removed yet",
          "job security poor work culture management okay company policies poor",
          "love tcs really missing everything lot new things every day new learning tcs different projects get seemeettalk different people lot learning ample amount opportunities",
          "support management project working instead extra pressure put team take leaves would make earn revenue calls till asked holding situation obviously good thing tcs perhaps wont fire us tough times nothing hike otherwise bad company culture work inread",
          "tcs taking care majors caring organisation good job",
          "tcs covering covid health issurance also providing self quarantine rooms needs companies firing employees tcs ensuring job security",
          "glad got opportunity work tcs maintain good work environment employees provide various opportunities learn new skills",
          "worked worlds safest organization whatever condition job secure also every higher management people pay attention towards health u effected virus",
          "lot respect tcs heart though wish leave organisation future growth really respect tata group best thing india",
          "although hike fy however job secured",
          "months training freshers graduate good everyone get good learning opportunity period important thing connected people different location diverse culture important everyone cope corporate environment completion school college life projects colleagues different age groups feel bore employee stays bench current scenario different projects available mostly support maintenance project get opportunity learn new things tcs good cab bus service kolkata location girls get cab pm boys get pm sure locations kolkata bus service free cost pick drop tcs well known csr activity well tcs maitree club organizes different extra curricular activity stating painting dancing trekking adventure activity end tcs famous mediclaim service must say sure companies dont need bother money family member sick insured schemeread",
          "want job security work life balance family culture tcs best company work",
          "providing employess wfh rest employees adding extra allowance whi requested work office",
          "support received pandemic resulted worldwide lockdown encouraging sure things would shape coming months",
          "liked job security overall tcs good supporting covid situation",
          "every way always work life balance ensuredexclusively team made work closed loop higher management",
          "friendly team tcs work culture good",
          "tcs supportive career development area paying money employee say worsti left company january still waiting ffs",
          "tcs cutting payment employees also r give leave much employee want one company world fill proud part tcs",
          "great work culture pendamic giving thank u much great mr ratan tata need people world like ratan tata sir",
          "tcs best among service based organizations india pandemic scenario every company laying people didnt hear single person leave tcs even providing certain amount medical expenses covid treatment also businessman industrialists prove time tcs star organization",
          "working tcs long lasting experience good company providing many opportunities take care employees first known ethics values",
          "proud tcsr safety comfortable zone work",
          "good work environment culture teammates supportive management transplant huge cafeteria gaming arcade chilling company policies good give salary hike",
          "good job security learning perspective ar gaps bt happens want domain project working upon overall good organisation feel proud",
          "job security learning growth like project conducted many training sessions proper dress coding checked security regularly covid situation proper asset management team still planning different ways finding x employees assets wfh location",
          "tcs good place full opportunities different fieldsbut currently im working left tcs due higher studies",
          "totally worst dont join hyderabad office tcs",
          "tcs worked three companies seriously never ever felt experience like tcs didnt got salary tcs ive learnt lot things office seniors treat like parents give us much opportunity learn im band ill never ever leave company helped also supported bad days ill always serve company company means ill never treat like employee past took part social work office side ill always ready type social work given office love environment office behavior senior colleaguesread",
          "good environment supportive people",
          "layoff salary cut grades good opportunities inside organization pure luck",
          "handled well ie work home feel proud wfhhas carried employees",
          "truly stood everyone associates treated us utmost dignity difficult time always grateful",
          "safe job wfh good thing medical facilities secured job",
          "tcs hr department touch monthly got wfh facility workoverall good",
          "supporting lack resources management every level worried customer matter happen employee everyone struggling laptop asking get desktop baselocatiin",
          "company cares employees covid period giving work home",
          "tata group committed values secured job even pandemic situation",
          "working tcs right answer question",
          "like work culture work life balance support pandemic excellent",
          "took job tcs ive decided quit organization taking one time career opportunity worked really hard find better position role first team achieving got moved one another team circumstances arent really side due process migration movedalong team members still got placed good team right im working good people surrounded methis story could reveal tcs place get learning get know new world corporate businesses challenging environment improve last resort employees personal financial assistance good platform deeds ans needs right place explore evolve around globe likely familyread",
          "tcs company also big brand offering work home covid working good thik",
          "absolute pleasure working company care like family almost every alternate months call make sure well family fine",
          "amazing organization full talents happiness work culture awesome happy work trainers managers cooperative",
          "micro management",
          "one best company adopt new normal",
          "childhood dream join good company understand company go oneday talk tcs companythem dream work tcs company take dream company top time worried whole world peoples us worried tim tcs company thought people job selection appreciated thanks tcs company read",
          "policies employees always change good one",
          "supporting employee necessary support delivering computer home also providing allowances internet happy say tcs providing medical support employees helping us alot",
          "friends circle good",
          "tcs company support us every situation unexpected people make worst us sometimes behaviour stop us reach ambitions bad fact organisation otherwise love stay tcs like rule none security employees",
          "worst management force come office hide covid positive cases office order avoid panic force quarantine willing come office force apply leaves hr useless",
          "like culture infrastructure tata consultancy service getting support tcs since employee",
          "working tata consultancy services since years month great experience working",
          "permanent job security struggling face hr call back office cases increased drastically",
          "never worked company dont know speak much think work get learn lot give best duga company",
          "tcs removed bas contract people organizationplease dont go tcs job security less bas people",
          "experience tcs proud tcsertcs good policies work environment",
          "company help realising personal life also matters apart professional life got great help superiors getting",
          "apart job security nothing good working analytics nkp mumbai location",
          "exceptionally high support covidjob secure salary time management assurance everyone safe reduces anxietyhigh level communication guidanceinvolvement various activity bringing celebrities chef mountaineers athletesample support psychological counselinggood platformsfor collaboration else decisions employee safety kept priority even cost businesstcs rated top organisation comes support employees covid read",
          "comapny helpful kind employees pandemic situation job well secured happy work provided work home strategy pandemic situation started also provided working envt home support business",
          "gave antique computers wfh",
          "job security probability individual keep job",
          "tcs job secure month month improve knowledge using still based training also per process training conduct say good infrastructure help needy people sharing funds mainly covid following government rules etc tcs good company",
          "feel good whenever share awareness present situation taking care us texts providing contact numbers",
          "pleasure part firm past year tough time companies firing employees tcs remain loyal staff proud tcser",
          "excited work tcs process tl managers made worst made us work like slaves even achieved target credits transferred favorite colleagues much partiality negative atmosphere inside company higher authorities doesnt manners humanity came earn money get work done try put good fake image clients dont know prior clients empoloyes come hire candidates much possible dont know manage mass recruiters show company destroying career people thing know torture employees try squeeze energy employees much possible ethics work culture read",
          "job security",
          "tcser yes company ultimate support possible outcome avoid spread virus taken care work home safety precautions updates providing mediclaim facilities work life pressure smooth balance work everything properly taken care tcs",
          "job security taking care employees",
          "happy part tata consultancy services",
          "lay tcs job security paying internet cost also due wfh panademic",
          "left job covid team mentally harrased forced leave job",
          "good working covid bcz working home cut salary companies also work system delivered us ur home address safety",
          "lockdown work homethey provided pc work even internet cost given company monthly salary",
          "worked one half year payroll manager keep telling convert didnt happened removed contract employees stating covid impact worst decision tcs",
          "supporting every aspect",
          "job secured career growth tcs",
          "laid though contractor sure motive keep permanent employees happy view told making permanent employee never happened",
          "happy work tcs great opportunity grown knowledge skills good team got",
          "totally fracturing couldnt manage work life balance working day night without compensation hike",
          "good providing job security failed concerning employees issues benefits worst hikes",
          "company work segment divisions work makes like company directly indirectly work japanese team imbibe perfections methods solve particular problem problems pretty much every everyone fails one oranother matters reactrespond recover learned standards concept techniques product level management level fantastic working environment one really puts learning perfection priority work life balance simple hard work days week enjoy weekends hardwork means literally hardwork read",
          "despite pandemic still job secureso tcs best mnc company worldi proude working tcs",
          "kindly help proceduresto apply transfer mumbai location home town kerala location tcs either trivandrum kochin tcs due covid pandemic",
          "working india within tcs might offer benefits terms policies like sabbatical maternity leaves etc work life balance really depends project india onsite location manageris good want settle job security highest prio",
          "work life balance",
          "supporting applying leaves could provide device wfh",
          "horrible place work hr hiring ppl slum areas gutka inside floor working others work item exams tl given bpo employees helps gaining easy access appraisal done basis liking employees performance goal sheet fill long process big waste time feel changed immediate affect tl dont even check filled team members thing liked tv salary always time though really extremely less compared distance time employees give reach placeread",
          "job security good work culture opportunity learning development",
          "best company work withworking tcs superb experiencejob security lenient policies",
          "nothing onsite opportunities based performance years experience much favoritism nepotism",
          "job security best part tcs even company taking care associates bench critical time people loosing jobs organisations",
          "job security work life balance",
          "company open innovation readily adopts latest technology love fact part team markets reliable highquality products global client base job security work culture nice depend location project management also fast atlast policies good especially health policy",
          "tcs name brand working brand company proud thing",
          "likes job security work life balance company culture learning opportunities tcs tcs providing food facility associate stuck pg without food tcs introduced secure boarderless workspace work home difficult times",
          "didnt cut salary",
          "even pandemic expect report office project refused come past lop finally expect resign job",
          "happy proud tcser requesting please provide cab facilities every locationam working bangalore location work place sjm towers safety poor areahoping bau help cab facilities location",
          "best thing giving opportunities work many ways learning new things initiated",
          "got offer letter exciting join tcs fresher learnt lot dont expect could ever learnt way lockdown situation helpful providing us possible facilities like taking desktops home providing us internet charges",
          "feeling happy part tata group",
          "like worklife balancecovid support provided company desktop able work home weekly calls hr team asking health physical mental",
          "nice tcs helping lot social activity worklife balance well good working culture",
          "always support employeesi get opportunity would love work",
          "far good sending machines employees company desktop laptops hr calls enquire family provided quarantine centers ginger hotels tcs employees amazing initiative help families stay safe also updated insurance employees feel tata taking care employees way beyond expectationsread",
          "job security company comparatively good market tie centers quarantine quantity less though",
          "tcs standing us giving belief job security understanding situations well pandemic i m happy part tcs",
          "work home march gng great far",
          "tcs definitely freshers youre married pregnant old enough soon retire tcs perfect match",
          "honour work tcs great company improve ability skills case management careful associate health safety always ready provide help",
          "flexible working hours freedom work execution",
          "would like say worked say im still working tcs would like take things step stepfirst teammates teammates cooperative supportive helping hands learnt lot second thing training learnt lot new things innovativeness creativity hands training modules payroll employee concerns billing modules handling esacalation calls concerns third thing job security would like say years tcs think tcs company job security company fourth point highlight career growth doubt career growth past couple years tcs giving much hike terms career growth ok hiking weakrest salaryappraisal travelpolitics learningwork environment innovationwork life balance etc scanrios tcs good employee oriented companyi hope enoughif want anything else please send email thanks regardsnaser islam read",
          "tcs good safetest environment work support associate many ways covid",
          "work home nothing much abou",
          "awesome workplace nice atmosphere work life balance",
          "except salary compensation benefits everything excellent within company",
          "work home",
          "tcs supportive junior associates like experience ask healthmy personal experience tcs bad created situation resigned job covid pandemic",
          "traning session funlearnt lot thats",
          "team mates average job security high similar government job see people years experience moving around work life balance high even spend entire day nothing even stay hours one tell anything well still places innovate share ideas tcs gives privileges new ideas innovation best place settle years experience job security highread",
          "job security work culture onsite opportunities",
          "really nice intiative hrs management calling individuals personally asking safety help required work smoothly",
          "everything good like job security skill deveoopment carrer growth",
          "experience may vary project project overall experience good main good part tcs job security health insurance scheme",
          "personally like tcs foul play within organization provides complete job security employees yeah deduction salary even pandemic got learn much company overall changes perspective candidate",
          "excellent support received full salary even work home started proud b tcser",
          "job security high company policy also good note book follow reality project specific",
          "working tcs past yr months lucky enough start career heresee good company one take job unless serious violation growth poor company mean old projects doesnt scope jus one looking job security best career growth poor wont get salary hike bonus advice jus stay company years learn new technologies move company else hear number times manager ask move development project got one onsite chance good project send u next month fake promises dont stay jus look ur career move outread",
          "tcs strongly keep brand value towards satishfaction customers clients innovative way growth rate always constant bit higher anyone client customer handling skills language skill infact coming general back ground upskill trade financial expirt payments collections though people general back ground would possibly working hard get upskill still equal opportunity respect career growth feeling proud tcserread",
          "nothing sayy",
          "glad say working tcs",
          "work home option",
          "say published stuff different practice",
          "first tcs deginified cool company job safecomming pandemic situation tcs supporting employees well structured approach provided desktops employees march given security alerts wellso really like tcs much since show good direction employees",
          "good job security supports employees covid providing free doctor consultation provides preventive actions supportive",
          "company shown trust employees planning send official desktops home address employees unable collect machines lockdown",
          "tcs multinational company good projectsaccountslots onsite positions drop career bright like anything different domains company also focusing trending technologies job security career growth depends account landing joining salary per market standards tcs account wont track time finish work leave office wfh say work life balance best organization women employeesit best organization women employeesread",
          "job security thing good never fire even come office logout end without work",
          "good work good support team mets good salary ana every uesr incerement salary bonas",
          "like skill development learning technology learn via ultimatix useful us easy learn supporting rotational shift based",
          "atmosphere premises relationship employees",
          "key point pandemic job security terms job security tcs great way ahead",
          "overall work experience bad important thing job secured u want grow learn new skills find product based company u get overall development covid situation dint fire employees provide opportunity work home",
          "good",
          "liked working tcs got learn new things projects offered got great teammates helped every scenario got work life balance days went work became stagnant challenges work one thing good tcs job security",
          "excellent support tcs",
          "job security",
          "medical benefit job security good polices brand name ect ect",
          "lucky part organization getting possible help company",
          "good career tcs",
          "absolutely nothing liked physical design goal sheets set supervisors human resource official good implementation following pretty bad",
          "working home last months provided computer systems home",
          "good company good work life balance",
          "tcs decent firm work good freshers well experienced associates good platform grow knowledge enhance career many things learn also conducts internal learning programme get know fire safetywomen safety etc apart best part company assures job security wont terminate ram project unless done compliance issueread",
          "companies terminated employees covid period tata consultancy services give salary proper monthproud tcs staff",
          "working tcs",
          "hello guys i working since last years overall good experience far joined tcs till learning many things senior teammates colleagues talk career growth yes slowly keep till target otherwise get good opportunity manager account manager show visibility much contribute project may whatever related project internal work one stop career growth frankly speaking coming onsite looking onsite please dont trust anymore must go politics know well well everywhere career appraisal it depends know believe you job security yup much know like semi government innovationideation yes submit least one idea till appraisal otherwise manager definitely asksalary what yes without salary one work awww talking hikeincrement less thinking note tcs good secure company girls read",
          "friendly work environment",
          "tcs one indian corporate office unlike companies like infosys enjoy flexible timings entry exit time considerations result orientedremaining things common company india long working niche technologies job safe salaries appraisals based onyour bargaining capabilities performances things nothing great similar companies reg worklife balance depends project shifts dependency project one big plus point tcs health insurance covers family including parents many companies covers health insurance family parents read",
          "current employee tcs",
          "work home job",
          "trainings held daily basis helpful also teammates cooperative helpful nature regarding salary satisfied appraisal environment basically professional well mannered",
          "work life balance work home support call problems",
          "teamwork ambiance ilp one highlights entire experience tcs ahmadabad place mental career satisfaction tcs hyderabad project related learning",
          "team work quality",
          "best thing tcs job security offers pretty much secure job work without worry loosing job good seniors peer also help support throughout though less number work life balance good easily personal life working organization rest depends project work much people looking onsite opportunities come search suitable project meet aspirationsread",
          "much support selected high profile employees privileged work home",
          "best company terms career growth job securityif person continously switch companies wanted settle one workplacetcs good option",
          "yes tcs good company joined tcs cunsultency time removed us still unemployee critical situation",
          "calling back employee base location known mnc companythen atleast deliver desktop employees location situation travel quarantine centres collect desktop",
          "happy party tcs family company giving full salary employes working non working company job security many projects available shift one process another takes certain period time finally fully happy part tcs",
          "working environment tcs far better less time done training thrown floor hurdle yes believe job security tcs much better compared organisation salary appraisals iam ok management issues travelling managed politics thing entertain tcs believe better place innovation new things believe managed balance work liferead",
          "good part holding employees laying unless utmosttcs better place settle career recommended freshers career aspirants",
          "brand tata",
          "worst experience career working tcs released project without intimation also till didnt allocated projects salaries since lockdown never expected tcs",
          "frankly speaking every different client different company released client one cares previous achievement work everyone knows hikes due",
          "good company start stands first bpo companies good start salary fresher projects much business oriented steam opportunities finance retail business",
          "job security",
          "tata always care employees know spread across world time situation tcs call employee asked health family safety also thank tcs",
          "like work tcs management safety good",
          "providing work home facility",
          "like many things compared similar mncs based exp friends working companies like first job security leave policy work timings n worklife balance would say going long term solely depends projects working clients working worked many domainsand plenty clients felt different situation handling things apart work environment also liked tcs subsidiary tata sons know benevolence indian society feels immense proud around earnings going charity thanks read",
          "comes job security tcs ranks first always salary hikes career growth bit challenging stuff politics common every company dont waste time thinking work environment culture totally depends people working around varies project project ill advise stay calm work yes quite supportive paticular situation wellread",
          "place totally safe provide salary time career growth low",
          "paying salaries laying people provided work home facility employees cut appraisal year",
          "company open innovation readily adopts latest technology part production support another point colleagues come various cultural backgrounds working happily collaboration good supportive team got",
          "good work environment culture teammates supportive management transparent huge cafeteria gaming arcade chilling",
          "first job loved work tcs",
          "work culture",
          "one biggest company among world different charity also helping employees providing wfh optionbut people managing level isndisppointing employees different waythe job security peak level",
          "supporting job security salary increment benefits",
          "work home given company job security good management understand work support guide help",
          "work environment good get facilities like indooroutdoor games gym good canteen library good infrastructure various career optionsleaveonsite opportunities important thing job security",
          "r client location inspite mumbai maharashtra r going office daily manager forced come office daily else pay lossthere work home facility till",
          "getting fully paid time situation blessing much thankful tcs",
          "tcs big mnc company ceo already said lay offs tcs fight corona virus tcs cuts employees increments promotions",
          "getting full salary however production zero",
          "nothing last years worked salary worked different different fieldsjust working last years hike growth even company thinking employee big organization employee growthi wasted years tcs switch earlier thoughtafter least years tcs provide good salary promotion increments bad experience working years tcs rehire employee employee joined anywhere change policies least tcs see employee given year worked hard growth increments reason left company want talk big organization person take feedback employee read",
          "paid salary months without deductionsand caring employees",
          "bad support tcs bpo",
          "well starts name brand tata groups everyone knows career growth diversity exposure trained well operations would deal well ethics part going ahead got great team little bit politics everywhere canbe managed hard work kaizan foremost thing happy eyes team leadmanager course appraisal best part appreciation clients need work quality n efficiency delivered n team read",
          "blessed nice teammates training opportunities abundant instructorled teach tuesday initiative helps learn new topic every tuesday online learning platform free subscription lyndacom safari books online etc provide excellent learning resources moreover professional certifications company reimburses fees youcareer growth kind slow according mesalary increment appraisals less suffering current scenario industries indiatravel opportunities manypolitics something ever come across maybe im blessed part alsowork environment good optimal pressure good learning innovation learning goes parallelly work internal division tcs cant say client projectsread",
          "glad became part great organisation job security work culture company policy osm",
          "left job tcs i m feeling left beautiful job ",
          "terminating anyone",
          "job security good",
          "absolutely fantastic",
          "good work environment culture",
          "company providing privilege possible time also till keeping resources benchfor company needs appreciation",
          "actually company good managers company humanity managers managers also career growth nd skill development company totally depends upon project manager project manager human like giant humanity",
          "good work life balance opportunity youre lucky work abroad pick different kinds roles internally youre lucky grow",
          "job security pay mediocre senior management money hungry doesnt care employees suffer",
          "support covid good wfh initiated however internet connection provided system issue night shift allowance deducted",
          "job security high",
          "yes work home best",
          "good learning opportunity support every level every aspect",
          "free transport childcareno work home free foodno team outings job training international relocation",
          "thank concernwe received calls hr stating health conditionshappy receive salary time",
          "nagpur tcs location good internal transfer difficult training knowledge rmg team good",
          "overall atmosphere ok opportunity move ahead individual great limited favourite individuals",
          "good made arrangements work home stay safe home",
          "tcs brand weak leadership apac really talented folks speed org slow also regional leadership weak motivated enough",
          "given us work home opportunity march september salary hike freezed",
          "since unable resume serviceare updateds taken online supportive hr",
          "working tcs awesome experience organisation handled lockdown situation effectively couldnt reach office collect asset stuck hometown assets delivered residence tcs coworkers tsc first company good organization freshers",
          "well depends majorly kind project work current project better previous ones flexibility work management able",
          "really worst scenario esteemed tcs organisation stood like beacon facing ever tempest hurricance provided shelter food clothes working staff extemporary",
          "everyone good helpful one hr contacted order find whether fine unique",
          "depends last teammates good compare new one trainer genttle familiar would like give mark lots new things learned still helping takling job security know job security untill regin career seen tough growth thats slow salary law ok local people think travell allowances politics imagination make cry work environment definitely depends people yes lots innovenation come big company work life balance difficult maintain shift timing stay changes read",
          "working home tcs making sure provide necessary documentsinformation",
          "employees allowed work home good idea company making sure emp moving unless critical important reason",
          "company provides benefits employees higher management projects bad care business employees heard project release fte bcoz fte wont able collect system office ridiculous location may employee belongs states company provide wfh also management waits last moment decision bcoz many fte stuck would able go home one management ask themread",
          "satisfied work life balance training work environment",
          "overall good experience little work pressure personally tagged support project faced issues adapting weekend oncall support system overall friendly environment work",
          "tcs provided personal desktop first week march hr continuously enquiring us facing issues",
          "overall goodmanagement goodappreciated enough",
          "tcs supporting lockdown good way cancelling increment",
          "company giving full support expect good organisation really good environment culture compay feel proud part tcs",
          "enabling sbws tcs facilities employees work home fight",
          "job good pay better compensation benefits",
          "depends project good arent",
          "tcs fundamentals",
          "supporting lot pandemic time",
          "tcs helping every possible way happy part organisation helps employees like family",
          "work environment training job security",
          "good place work true professional want learninggrowth career company definitely gone days tcs used pay lot employees old employees hold high positions company take lot money give poor salary people low ranksin name appraisals bootlickers get good reviews one thing position someone switching tcs shehe get salary compared already working tcs beforehand ya job security workculture peoplementality filthy downmarket particularly noida kolkata branch read",
          "u want exploredo without hesitation avoiding negative thoughtsfor covid initially thy stuck followed better ways government instructions",
          "best thing united continue giving support leading company home stay safe stay home continue giving support",
          "std tcs dream company work withi happy joining tcs trainer best cyrus n made mny friends",
          "goodthe frustrating part pressure immediate manager complete training theory learning handson",
          "benefits like medical travel job security usual female employees provided facilities",
          "company giving salary everymonth cutting anything really proud tcs pendamic situation also company supporting employees providing facilitiy work home",
          "company good policy clearly mentioned scenarios projects company good fresher luck decides career tcs randomly allocates freshers projects good company start career",
          "tcs big organization every field lakhs employees takes care employees due situation tcs decided layoff employee even cutting salaries",
          "company give full support every situation pandemic situation tcs proves much care every employee",
          "except salary every thing well good tcs takehome package totally different one clear explanation times hike per month",
          "brand wonderfulbeing freshergetting opportunity work tcs real pleasure",
          "teammates always cooperative learning prospective company gives lot chances employee doubtly chance get good knowledge technology actual problem time come implementing knowledge difficult get satisfying project point view much salary tcs provide employees fair enough corresponding work available case work life balance basically differs account account average peronally feel work life balance tcs moderate somebody thinks heshe wants join tcs skills growth would like say yes projects tcs innovative labs opportunity wont find satisfied projects last want add really wants see himher developer dont think right place himher even feel service based companies scenario max projects enhancement typeread",
          "feel good tcs teammates good tranning also good job security fantastic",
          "good experience worked tata consultancy services",
          "horrible people it s talent smart working need people cslog hours office nothing",
          "job security best thing tcs",
          "permanent job",
          "working tcs years able work good mentors managers taken responsibilities given best resulted overall growth work environment casual depends project project mostly production support toes times sometimes cool salary appraisal ok ok better others companies learning good amount learning portals training sessions learning within tcs lnd team timely follow skill upgrade competencies work life balance best seen know friends companies say better work life balance tcsread",
          "employee friendly",
          "according working culture good got best teammates support lot work together mine malaysian client strict deliveries team collabaration totally satisfied able deliver dedicatedly add one thing tcs get benefits health ourself family also would like say tcs job security",
          "tcs known rich values sound organization culture focusses employee development traininglearning development opportunities work environment may ever vary one project another dependant effectiveness line managersupervisor terms compensation benefits either matches market tries best lead market far job security concerned tcs one select companies thinks people first anything else career progression dependant variable relying effectiveness line managersupervisorhr imperative focus behavioural competencies well apart functionaltechnical competencies selecting line managerread",
          "great opportunity start carrier big company get lots knowledge help free online courses provided good environment infrastructure good library lots projects working best place start carrier",
          "training provided new joinees aspects life option remain bench searching project company provides good job security stability lots long term onsite opportunities senior associatescompany promotes innovative ideas appreciation work also therethe team members give feel familyflexible working hours thereread",
          "since work home applicable allowed paid leave",
          "longer part tcs sure coping lockdown",
          "nothing like tcs filled filthy corporate politics",
          "hr policies good donot hire fire policy health insurance scemes good",
          "job security",
          "like nothing",
          "work environment great leave structure also good enough platforms hone skills new technologies worklife balance also great offices many cities take transfer need",
          "terrible",
          "job security",
          "ganesh currently employee tcs still love experience spent",
          "working right ",
          "traning language softno politics workingjob also secure",
          "company better monthly payments benefits etc better pantry facilities satisfactory transport services issues like earlylate pick considered"
         ]
        }
       ],
       "layout": {
        "barmode": "overlay",
        "legend": {
         "bgcolor": "#F5F6F9",
         "font": {
          "color": "#4D5663"
         }
        },
        "paper_bgcolor": "#F5F6F9",
        "plot_bgcolor": "#F5F6F9",
        "template": {
         "data": {
          "bar": [
           {
            "error_x": {
             "color": "#2a3f5f"
            },
            "error_y": {
             "color": "#2a3f5f"
            },
            "marker": {
             "line": {
              "color": "#E5ECF6",
              "width": 0.5
             }
            },
            "type": "bar"
           }
          ],
          "barpolar": [
           {
            "marker": {
             "line": {
              "color": "#E5ECF6",
              "width": 0.5
             }
            },
            "type": "barpolar"
           }
          ],
          "carpet": [
           {
            "aaxis": {
             "endlinecolor": "#2a3f5f",
             "gridcolor": "white",
             "linecolor": "white",
             "minorgridcolor": "white",
             "startlinecolor": "#2a3f5f"
            },
            "baxis": {
             "endlinecolor": "#2a3f5f",
             "gridcolor": "white",
             "linecolor": "white",
             "minorgridcolor": "white",
             "startlinecolor": "#2a3f5f"
            },
            "type": "carpet"
           }
          ],
          "choropleth": [
           {
            "colorbar": {
             "outlinewidth": 0,
             "ticks": ""
            },
            "type": "choropleth"
           }
          ],
          "contour": [
           {
            "colorbar": {
             "outlinewidth": 0,
             "ticks": ""
            },
            "colorscale": [
             [
              0,
              "#0d0887"
             ],
             [
              0.1111111111111111,
              "#46039f"
             ],
             [
              0.2222222222222222,
              "#7201a8"
             ],
             [
              0.3333333333333333,
              "#9c179e"
             ],
             [
              0.4444444444444444,
              "#bd3786"
             ],
             [
              0.5555555555555556,
              "#d8576b"
             ],
             [
              0.6666666666666666,
              "#ed7953"
             ],
             [
              0.7777777777777778,
              "#fb9f3a"
             ],
             [
              0.8888888888888888,
              "#fdca26"
             ],
             [
              1,
              "#f0f921"
             ]
            ],
            "type": "contour"
           }
          ],
          "contourcarpet": [
           {
            "colorbar": {
             "outlinewidth": 0,
             "ticks": ""
            },
            "type": "contourcarpet"
           }
          ],
          "heatmap": [
           {
            "colorbar": {
             "outlinewidth": 0,
             "ticks": ""
            },
            "colorscale": [
             [
              0,
              "#0d0887"
             ],
             [
              0.1111111111111111,
              "#46039f"
             ],
             [
              0.2222222222222222,
              "#7201a8"
             ],
             [
              0.3333333333333333,
              "#9c179e"
             ],
             [
              0.4444444444444444,
              "#bd3786"
             ],
             [
              0.5555555555555556,
              "#d8576b"
             ],
             [
              0.6666666666666666,
              "#ed7953"
             ],
             [
              0.7777777777777778,
              "#fb9f3a"
             ],
             [
              0.8888888888888888,
              "#fdca26"
             ],
             [
              1,
              "#f0f921"
             ]
            ],
            "type": "heatmap"
           }
          ],
          "heatmapgl": [
           {
            "colorbar": {
             "outlinewidth": 0,
             "ticks": ""
            },
            "colorscale": [
             [
              0,
              "#0d0887"
             ],
             [
              0.1111111111111111,
              "#46039f"
             ],
             [
              0.2222222222222222,
              "#7201a8"
             ],
             [
              0.3333333333333333,
              "#9c179e"
             ],
             [
              0.4444444444444444,
              "#bd3786"
             ],
             [
              0.5555555555555556,
              "#d8576b"
             ],
             [
              0.6666666666666666,
              "#ed7953"
             ],
             [
              0.7777777777777778,
              "#fb9f3a"
             ],
             [
              0.8888888888888888,
              "#fdca26"
             ],
             [
              1,
              "#f0f921"
             ]
            ],
            "type": "heatmapgl"
           }
          ],
          "histogram": [
           {
            "marker": {
             "colorbar": {
              "outlinewidth": 0,
              "ticks": ""
             }
            },
            "type": "histogram"
           }
          ],
          "histogram2d": [
           {
            "colorbar": {
             "outlinewidth": 0,
             "ticks": ""
            },
            "colorscale": [
             [
              0,
              "#0d0887"
             ],
             [
              0.1111111111111111,
              "#46039f"
             ],
             [
              0.2222222222222222,
              "#7201a8"
             ],
             [
              0.3333333333333333,
              "#9c179e"
             ],
             [
              0.4444444444444444,
              "#bd3786"
             ],
             [
              0.5555555555555556,
              "#d8576b"
             ],
             [
              0.6666666666666666,
              "#ed7953"
             ],
             [
              0.7777777777777778,
              "#fb9f3a"
             ],
             [
              0.8888888888888888,
              "#fdca26"
             ],
             [
              1,
              "#f0f921"
             ]
            ],
            "type": "histogram2d"
           }
          ],
          "histogram2dcontour": [
           {
            "colorbar": {
             "outlinewidth": 0,
             "ticks": ""
            },
            "colorscale": [
             [
              0,
              "#0d0887"
             ],
             [
              0.1111111111111111,
              "#46039f"
             ],
             [
              0.2222222222222222,
              "#7201a8"
             ],
             [
              0.3333333333333333,
              "#9c179e"
             ],
             [
              0.4444444444444444,
              "#bd3786"
             ],
             [
              0.5555555555555556,
              "#d8576b"
             ],
             [
              0.6666666666666666,
              "#ed7953"
             ],
             [
              0.7777777777777778,
              "#fb9f3a"
             ],
             [
              0.8888888888888888,
              "#fdca26"
             ],
             [
              1,
              "#f0f921"
             ]
            ],
            "type": "histogram2dcontour"
           }
          ],
          "mesh3d": [
           {
            "colorbar": {
             "outlinewidth": 0,
             "ticks": ""
            },
            "type": "mesh3d"
           }
          ],
          "parcoords": [
           {
            "line": {
             "colorbar": {
              "outlinewidth": 0,
              "ticks": ""
             }
            },
            "type": "parcoords"
           }
          ],
          "pie": [
           {
            "automargin": true,
            "type": "pie"
           }
          ],
          "scatter": [
           {
            "marker": {
             "colorbar": {
              "outlinewidth": 0,
              "ticks": ""
             }
            },
            "type": "scatter"
           }
          ],
          "scatter3d": [
           {
            "line": {
             "colorbar": {
              "outlinewidth": 0,
              "ticks": ""
             }
            },
            "marker": {
             "colorbar": {
              "outlinewidth": 0,
              "ticks": ""
             }
            },
            "type": "scatter3d"
           }
          ],
          "scattercarpet": [
           {
            "marker": {
             "colorbar": {
              "outlinewidth": 0,
              "ticks": ""
             }
            },
            "type": "scattercarpet"
           }
          ],
          "scattergeo": [
           {
            "marker": {
             "colorbar": {
              "outlinewidth": 0,
              "ticks": ""
             }
            },
            "type": "scattergeo"
           }
          ],
          "scattergl": [
           {
            "marker": {
             "colorbar": {
              "outlinewidth": 0,
              "ticks": ""
             }
            },
            "type": "scattergl"
           }
          ],
          "scattermapbox": [
           {
            "marker": {
             "colorbar": {
              "outlinewidth": 0,
              "ticks": ""
             }
            },
            "type": "scattermapbox"
           }
          ],
          "scatterpolar": [
           {
            "marker": {
             "colorbar": {
              "outlinewidth": 0,
              "ticks": ""
             }
            },
            "type": "scatterpolar"
           }
          ],
          "scatterpolargl": [
           {
            "marker": {
             "colorbar": {
              "outlinewidth": 0,
              "ticks": ""
             }
            },
            "type": "scatterpolargl"
           }
          ],
          "scatterternary": [
           {
            "marker": {
             "colorbar": {
              "outlinewidth": 0,
              "ticks": ""
             }
            },
            "type": "scatterternary"
           }
          ],
          "surface": [
           {
            "colorbar": {
             "outlinewidth": 0,
             "ticks": ""
            },
            "colorscale": [
             [
              0,
              "#0d0887"
             ],
             [
              0.1111111111111111,
              "#46039f"
             ],
             [
              0.2222222222222222,
              "#7201a8"
             ],
             [
              0.3333333333333333,
              "#9c179e"
             ],
             [
              0.4444444444444444,
              "#bd3786"
             ],
             [
              0.5555555555555556,
              "#d8576b"
             ],
             [
              0.6666666666666666,
              "#ed7953"
             ],
             [
              0.7777777777777778,
              "#fb9f3a"
             ],
             [
              0.8888888888888888,
              "#fdca26"
             ],
             [
              1,
              "#f0f921"
             ]
            ],
            "type": "surface"
           }
          ],
          "table": [
           {
            "cells": {
             "fill": {
              "color": "#EBF0F8"
             },
             "line": {
              "color": "white"
             }
            },
            "header": {
             "fill": {
              "color": "#C8D4E3"
             },
             "line": {
              "color": "white"
             }
            },
            "type": "table"
           }
          ]
         },
         "layout": {
          "annotationdefaults": {
           "arrowcolor": "#2a3f5f",
           "arrowhead": 0,
           "arrowwidth": 1
          },
          "coloraxis": {
           "colorbar": {
            "outlinewidth": 0,
            "ticks": ""
           }
          },
          "colorscale": {
           "diverging": [
            [
             0,
             "#8e0152"
            ],
            [
             0.1,
             "#c51b7d"
            ],
            [
             0.2,
             "#de77ae"
            ],
            [
             0.3,
             "#f1b6da"
            ],
            [
             0.4,
             "#fde0ef"
            ],
            [
             0.5,
             "#f7f7f7"
            ],
            [
             0.6,
             "#e6f5d0"
            ],
            [
             0.7,
             "#b8e186"
            ],
            [
             0.8,
             "#7fbc41"
            ],
            [
             0.9,
             "#4d9221"
            ],
            [
             1,
             "#276419"
            ]
           ],
           "sequential": [
            [
             0,
             "#0d0887"
            ],
            [
             0.1111111111111111,
             "#46039f"
            ],
            [
             0.2222222222222222,
             "#7201a8"
            ],
            [
             0.3333333333333333,
             "#9c179e"
            ],
            [
             0.4444444444444444,
             "#bd3786"
            ],
            [
             0.5555555555555556,
             "#d8576b"
            ],
            [
             0.6666666666666666,
             "#ed7953"
            ],
            [
             0.7777777777777778,
             "#fb9f3a"
            ],
            [
             0.8888888888888888,
             "#fdca26"
            ],
            [
             1,
             "#f0f921"
            ]
           ],
           "sequentialminus": [
            [
             0,
             "#0d0887"
            ],
            [
             0.1111111111111111,
             "#46039f"
            ],
            [
             0.2222222222222222,
             "#7201a8"
            ],
            [
             0.3333333333333333,
             "#9c179e"
            ],
            [
             0.4444444444444444,
             "#bd3786"
            ],
            [
             0.5555555555555556,
             "#d8576b"
            ],
            [
             0.6666666666666666,
             "#ed7953"
            ],
            [
             0.7777777777777778,
             "#fb9f3a"
            ],
            [
             0.8888888888888888,
             "#fdca26"
            ],
            [
             1,
             "#f0f921"
            ]
           ]
          },
          "colorway": [
           "#636efa",
           "#EF553B",
           "#00cc96",
           "#ab63fa",
           "#FFA15A",
           "#19d3f3",
           "#FF6692",
           "#B6E880",
           "#FF97FF",
           "#FECB52"
          ],
          "font": {
           "color": "#2a3f5f"
          },
          "geo": {
           "bgcolor": "white",
           "lakecolor": "white",
           "landcolor": "#E5ECF6",
           "showlakes": true,
           "showland": true,
           "subunitcolor": "white"
          },
          "hoverlabel": {
           "align": "left"
          },
          "hovermode": "closest",
          "mapbox": {
           "style": "light"
          },
          "paper_bgcolor": "white",
          "plot_bgcolor": "#E5ECF6",
          "polar": {
           "angularaxis": {
            "gridcolor": "white",
            "linecolor": "white",
            "ticks": ""
           },
           "bgcolor": "#E5ECF6",
           "radialaxis": {
            "gridcolor": "white",
            "linecolor": "white",
            "ticks": ""
           }
          },
          "scene": {
           "xaxis": {
            "backgroundcolor": "#E5ECF6",
            "gridcolor": "white",
            "gridwidth": 2,
            "linecolor": "white",
            "showbackground": true,
            "ticks": "",
            "zerolinecolor": "white"
           },
           "yaxis": {
            "backgroundcolor": "#E5ECF6",
            "gridcolor": "white",
            "gridwidth": 2,
            "linecolor": "white",
            "showbackground": true,
            "ticks": "",
            "zerolinecolor": "white"
           },
           "zaxis": {
            "backgroundcolor": "#E5ECF6",
            "gridcolor": "white",
            "gridwidth": 2,
            "linecolor": "white",
            "showbackground": true,
            "ticks": "",
            "zerolinecolor": "white"
           }
          },
          "shapedefaults": {
           "line": {
            "color": "#2a3f5f"
           }
          },
          "ternary": {
           "aaxis": {
            "gridcolor": "white",
            "linecolor": "white",
            "ticks": ""
           },
           "baxis": {
            "gridcolor": "white",
            "linecolor": "white",
            "ticks": ""
           },
           "bgcolor": "#E5ECF6",
           "caxis": {
            "gridcolor": "white",
            "linecolor": "white",
            "ticks": ""
           }
          },
          "title": {
           "x": 0.05
          },
          "xaxis": {
           "automargin": true,
           "gridcolor": "white",
           "linecolor": "white",
           "ticks": "",
           "title": {
            "standoff": 15
           },
           "zerolinecolor": "white",
           "zerolinewidth": 2
          },
          "yaxis": {
           "automargin": true,
           "gridcolor": "white",
           "linecolor": "white",
           "ticks": "",
           "title": {
            "standoff": 15
           },
           "zerolinecolor": "white",
           "zerolinewidth": 2
          }
         }
        },
        "title": {
         "font": {
          "color": "#4D5663"
         },
         "text": "Review Rating Distribution"
        },
        "xaxis": {
         "gridcolor": "#E1E5ED",
         "linecolor": "black",
         "showgrid": true,
         "tickfont": {
          "color": "#4D5663"
         },
         "title": {
          "font": {
           "color": "#4D5663"
          },
          "text": "rating"
         },
         "zerolinecolor": "#E1E5ED"
        },
        "yaxis": {
         "gridcolor": "#E1E5ED",
         "linecolor": "black",
         "showgrid": true,
         "tickfont": {
          "color": "#4D5663"
         },
         "title": {
          "font": {
           "color": "#4D5663"
          },
          "text": "count"
         },
         "zerolinecolor": "#E1E5ED"
        }
       }
      },
      "text/html": [
       "<div>\n",
       "        \n",
       "        \n",
       "            <div id=\"922932ef-ef27-4e2a-bd6e-d2e214ab29c0\" class=\"plotly-graph-div\" style=\"height:525px; width:100%;\"></div>\n",
       "            <script type=\"text/javascript\">\n",
       "                require([\"plotly\"], function(Plotly) {\n",
       "                    window.PLOTLYENV=window.PLOTLYENV || {};\n",
       "                    window.PLOTLYENV.BASE_URL='https://plot.ly';\n",
       "                    \n",
       "                if (document.getElementById(\"922932ef-ef27-4e2a-bd6e-d2e214ab29c0\")) {\n",
       "                    Plotly.newPlot(\n",
       "                        '922932ef-ef27-4e2a-bd6e-d2e214ab29c0',\n",
       "                        [{\"histfunc\": \"count\", \"histnorm\": \"\", \"marker\": {\"color\": \"rgba(255, 153, 51, 1.0)\", \"line\": {\"color\": \"#000000\", \"width\": 1.3}}, \"name\": \"clean_round_1\", \"opacity\": 0.8, \"orientation\": \"v\", \"type\": \"histogram\", \"x\": [\"things good job security opinion people tcs job security tcs holds onto employees even tough situations market although large layoff recent past still job security plus balance good time pressure also work much challenging usually timid learning curve easy workwise support projects timing may issue one may support weekend night compensated development projects timing beginning casual time delivery haywire always time lot development left give idea poor management benefits nice health benefits employee family easy leaves maternity wedding etc read\", \"carrying company provided laptop pandemic hits devops engineer already vpn admin privileges turned long faced lag wfh period company also providing internet connection charges quite happy tcs\", \"draw salary without work even without going office single day month\", \"good excellent job security provided tcs pandemic good company policies excellent support employes providing work home option\", \"apart job security company provides various opportunities skill development flexible working environment various benefits provided company plus points\", \"tcs started precautionary measures since early stages covid employees stationed work home new normal company instrumental keeping psychological parameters balanced tough time help different programs expert views work life balance equally taken care\", \"job security better compared companies lot internal politicsemployees suffer lot role change project change\", \"tcs support extraordinary pandemic giving work home option risk covid associates also impact productivity thing working hours become still hikes\", \"life tcs dependant type project one allocated still one find things good job security best good worklife balance times things may become hectic times balanced many people interact chance work latest technologies project specific onsite possibility decided per followingjust unanimous conclusiona project onsite workb years working tcs employeec immeasurable knowledge equally impressive articulation skill good soft skills softskill importantd good fooling people convincing ones good workenvironment depends type associates one works withmine goodread\", \"tcs name says tata always best best secure company one imagine crisis pandemic time job security complete comfortable work home good work life balance employee friendly company\", \"security\", \"job security thing would like appreciate covid lockdown\", \"tata company comes heartfully help associates also near family members proud say employee tata\", \"work life balance\", \"job security people already earning good switch company freshers expect good growth\", \"see job security mentioned posts tcs good brand name flaunt matter pride learning opportunities immense learning development plethora articles exams training material enhance skills compensation best among mncs depends managers perspective sycophancy omnipresent needless say said still mention salary part positives medical digital claim system makes life easy facilities like gym cafeteria varies location location lucky enough deputed good place get good amenities place like malad old asylum infrastructure poor cons getting stuck internal project read\", \"looking challenging skill development roles good easy go minded people job secure people good youngsters\", \"less salaries company compare marketand given bonus covid situation rather increment salarywe work home toobut company provided increment decreased work even covid situations\", \"good environment due covid lockdown work home provided hence safe employees\", \"onsite opportunities\", \"tcs supporting us lockdown asking employees come back home stay near office spite dangerous ongoing conditionthey neither provided laptops provided internet working home spite fact company thousands crores profit every quarteralso one never join tcs career starting days destroy life completely learning repeating learn anything companyread\", \"overall experience good lot people keep wasting companys time indirectly impact hard working bunch tcs supportive covid period continuous wfh since april company keep gathering information associates well covid corner dedicated helpline number call doctos assistance help someone\", \"tcs one tha multinational com soft nice place working everyone desire evry person dreams come true tcs tha comfortable working environment compare compny\", \"company support good special thanks ratan tata sir donating huge amount need one s\", \"really hands organization situation many peoples unable working company let\", \"best terms securitywork life balanceteam activities skill development\", \"good work environment culture huge cafeteria gaming arcade chilling company policies good appraisal fair give salary hike bonus nothing\", \"situation company supporting us well issue salary deduction\", \"like govt jobwork culture excellent excellent company policies unbelievable tcs policies\", \"consider one reliable organisations global pandemicthought lots internal projects suffering still allocating project associates friends mncs simply asking stay bench indirectly forcing leave jobbut per personal realisationend day save productivityread\", \"work life balance frequent weekend workingsjob security politics teammates different cultural background work happily salary n compnsations good mediclaim policies n insurance excellent\", \"tcs handled pandemic situation great manner implemented work home culture immediately due wide spread corona virus taking associates health primary concern communicated clients\", \"tcs supporting work home\", \"pandemic secure job means lot\", \"contractor employee last years treated like contractor removed within days pandemicnow trust like company cannot support contractor employees situation alsovery bad experience\", \"think tcs yes given job securitybut personal lifeit like burden usthere growth financially\", \"learning opportunities\", \"work culture good colleagues used support lot together team used work hard enjoy well work life balance used good overall experience great\", \"lockdown time tcs pay salary employees also provide covid health centers usefull tcs employees\", \"working culture\", \"dont like thing tcs manager always support local guys support covid time manager didnt inform tcs system required calling us base location\", \"tcs awesome company work industry get support mgmt team freedom work\", \"mostly like health insurance policy get treatment best hospital country mediclaim need worry hospital bill\", \"good support tcs honestly timesheet policy become strict\", \"job security\", \"im longer employee left job higher studies hr person managers helped alot higher study policies\", \"assured jobs secured also lot exposure opportunities improve ourself feel proud lucky working tcs\", \"enjoyed time working good exposure latest technologies part innovation labs flexible work timings\", \"important thing tcs layoff anyone though hiring seniors happening given offer tcs committed cancelled offer due covid also helped virtual joining pandemic situation provided employee work hometcs project oriented certain variables payments based projects consultant expected work certain projectread\", \"webinars guidance better heath covid time availability heath experts counsellors daily tips yoga sessions ergonomic tips sessions lot\", \"prakash iyer tower lead telstra terminated immediately\", \"job security\", \"layoffs deduction salaries covid cover quarantine facility oxygen cylinder facility employee dependent lot\", \"really supportive work home comparatively safe period called us back office like risking lives hope tcs let us work home corona completely gone life rosk everywhere convenient work environment feel productive reasons like extended office hours\", \"tcs never let feel recession going insecurities job salary everything maintained smoothly didnt even bother let us know happening around world\", \"full job security time salary payment salary less hike percentage low plus covid got zero hikes zero promotions year hard grep financially company looking making good money yur ground rule company\", \"company culture full micro management worst managers promotion hikes\", \"havent come across incident lay employees continue get regular compensation tata kind compassionate believe projects little edge bumping pressure hour pandemic\", \"one employees tcs part company worked tcs time felt better felt safe place given opportunity want continue services tcs\", \"pandemic never stopped salary also provided camp covid affected employees\", \"good health policies\", \"increment year uncertain circumstances tcs promised job cuts also provided reimbursement facilities work home paraphernalias hrs called number associates enquiring overall health associate family also provided helpline numbersfor various issues might arise associate family member covid infected overall tcs handled situation fairly wellof course lack increments year demotivated number associates choose overlook read\", \"job securitywork life balance\", \"recognition hard worker\", \"good work environment cultures leave policies hr team always supportive\", \"except compensation everything good\", \"want work tcsi year experience accounts departmentgood work environment tcsif work tcs dream completed\", \"good opportunities learning new technologies travelling abroad\", \"happy opening year job become working like machine later years lost job satisfaction later left job\", \"tcs taking care majors caring organisation good job\", \"job security poor work culture management okay company policies poor\", \"love tcs really missing everything lot new things every day new learning tcs different projects get seemeettalk different people lot learning ample amount opportunities\", \"support management project working instead extra pressure put team take leaves would make earn revenue calls till asked holding situation obviously good thing tcs perhaps wont fire us tough times nothing hike otherwise bad company culture work inread\", \"tcs covering covid health issurance also providing self quarantine rooms needs companies firing employees tcs ensuring job security\", \"flowrish teammates sharp time training job security depends facility faculty want increase lifestyle adding term growth appraisal travel dont time wheelers help continue review lifestylelike give suggesyion politics good learning skill make friendly environment going find wife ininnovationmy working lifestyles quite different others want make environment say balanced working life read\", \"worked worlds safest organization whatever condition job secure also every higher management people pay attention towards health u effected virus\", \"providing work home offices closed situation also providing facilities healthcare facilities meeting communication expense facilities due covid despite current situation companies economic conditions although sometimes going got tough still im company years removed yet\", \"lot respect tcs heart though wish leave organisation future growth really respect tata group best thing india\", \"although hike fy however job secured\", \"glad got opportunity work tcs maintain good work environment employees provide various opportunities learn new skills\", \"want job security work life balance family culture tcs best company work\", \"providing employess wfh rest employees adding extra allowance whi requested work office\", \"liked job security overall tcs good supporting covid situation\", \"every way always work life balance ensuredexclusively team made work closed loop higher management\", \"friendly team tcs work culture good\", \"support received pandemic resulted worldwide lockdown encouraging sure things would shape coming months\", \"tcs cutting payment employees also r give leave much employee want one company world fill proud part tcs\", \"tcs supportive career development area paying money employee say worsti left company january still waiting ffs\", \"great work culture pendamic giving thank u much great mr ratan tata need people world like ratan tata sir\", \"proud tcsr safety comfortable zone work\", \"working tcs long lasting experience good company providing many opportunities take care employees first known ethics values\", \"tcs best among service based organizations india pandemic scenario every company laying people didnt hear single person leave tcs even providing certain amount medical expenses covid treatment also businessman industrialists prove time tcs star organization\", \"good job security learning perspective ar gaps bt happens want domain project working upon overall good organisation feel proud\", \"good work environment culture teammates supportive management transplant huge cafeteria gaming arcade chilling company policies good give salary hike\", \"job security learning growth like project conducted many training sessions proper dress coding checked security regularly covid situation proper asset management team still planning different ways finding x employees assets wfh location\", \"totally worst dont join hyderabad office tcs\", \"months training freshers graduate good everyone get good learning opportunity period important thing connected people different location diverse culture important everyone cope corporate environment completion school college life projects colleagues different age groups feel bore employee stays bench current scenario different projects available mostly support maintenance project get opportunity learn new things tcs good cab bus service kolkata location girls get cab pm boys get pm sure locations kolkata bus service free cost pick drop tcs well known csr activity well tcs maitree club organizes different extra curricular activity stating painting dancing trekking adventure activity end tcs famous mediclaim service must say sure companies dont need bother money family member sick insured schemeread\", \"tcs good place full opportunities different fieldsbut currently im working left tcs due higher studies\", \"handled well ie work home feel proud wfhhas carried employees\", \"good environment supportive people\", \"layoff salary cut grades good opportunities inside organization pure luck\", \"safe job wfh good thing medical facilities secured job\", \"truly stood everyone associates treated us utmost dignity difficult time always grateful\", \"like work culture work life balance support pandemic excellent\", \"tcs hr department touch monthly got wfh facility workoverall good\", \"supporting lack resources management every level worried customer matter happen employee everyone struggling laptop asking get desktop baselocatiin\", \"company cares employees covid period giving work home\", \"tata group committed values secured job even pandemic situation\", \"working tcs right answer question\", \"absolute pleasure working company care like family almost every alternate months call make sure well family fine\", \"tcs company also big brand offering work home covid working good thik\", \"amazing organization full talents happiness work culture awesome happy work trainers managers cooperative\", \"micro management\", \"tcs worked three companies seriously never ever felt experience like tcs didnt got salary tcs ive learnt lot things office seniors treat like parents give us much opportunity learn im band ill never ever leave company helped also supported bad days ill always serve company company means ill never treat like employee past took part social work office side ill always ready type social work given office love environment office behavior senior colleaguesread\", \"childhood dream join good company understand company go oneday talk tcs companythem dream work tcs company take dream company top time worried whole world peoples us worried tim tcs company thought people job selection appreciated thanks tcs company read\", \"one best company adopt new normal\", \"supporting employee necessary support delivering computer home also providing allowances internet happy say tcs providing medical support employees helping us alot\", \"policies employees always change good one\", \"friends circle good\", \"tcs company support us every situation unexpected people make worst us sometimes behaviour stop us reach ambitions bad fact organisation otherwise love stay tcs like rule none security employees\", \"permanent job security struggling face hr call back office cases increased drastically\", \"never worked company dont know speak much think work get learn lot give best duga company\", \"tcs removed bas contract people organizationplease dont go tcs job security less bas people\", \"took job tcs ive decided quit organization taking one time career opportunity worked really hard find better position role first team achieving got moved one another team circumstances arent really side due process migration movedalong team members still got placed good team right im working good people surrounded methis story could reveal tcs place get learning get know new world corporate businesses challenging environment improve last resort employees personal financial assistance good platform deeds ans needs right place explore evolve around globe likely familyread\", \"experience tcs proud tcsertcs good policies work environment\", \"working tata consultancy services since years month great experience working\", \"company help realising personal life also matters apart professional life got great help superiors getting\", \"like culture infrastructure tata consultancy service getting support tcs since employee\", \"worst management force come office hide covid positive cases office order avoid panic force quarantine willing come office force apply leaves hr useless\", \"gave antique computers wfh\", \"comapny helpful kind employees pandemic situation job well secured happy work provided work home strategy pandemic situation started also provided working envt home support business\", \"pleasure part firm past year tough time companies firing employees tcs remain loyal staff proud tcser\", \"feel good whenever share awareness present situation taking care us texts providing contact numbers\", \"exceptionally high support covidjob secure salary time management assurance everyone safe reduces anxietyhigh level communication guidanceinvolvement various activity bringing celebrities chef mountaineers athletesample support psychological counselinggood platformsfor collaboration else decisions employee safety kept priority even cost businesstcs rated top organisation comes support employees covid read\", \"job security taking care employees\", \"job security probability individual keep job\", \"tcs job secure month month improve knowledge using still based training also per process training conduct say good infrastructure help needy people sharing funds mainly covid following government rules etc tcs good company\", \"job security\", \"happy part tata consultancy services\", \"left job covid team mentally harrased forced leave job\", \"tcser yes company ultimate support possible outcome avoid spread virus taken care work home safety precautions updates providing mediclaim facilities work life pressure smooth balance work everything properly taken care tcs\", \"lay tcs job security paying internet cost also due wfh panademic\", \"supporting every aspect\", \"worked one half year payroll manager keep telling convert didnt happened removed contract employees stating covid impact worst decision tcs\", \"apart job security nothing good working analytics nkp mumbai location\", \"lockdown work homethey provided pc work even internet cost given company monthly salary\", \"good providing job security failed concerning employees issues benefits worst hikes\", \"job secured career growth tcs\", \"laid though contractor sure motive keep permanent employees happy view told making permanent employee never happened\", \"totally fracturing couldnt manage work life balance working day night without compensation hike\", \"happy work tcs great opportunity grown knowledge skills good team got\", \"good working covid bcz working home cut salary companies also work system delivered us ur home address safety\", \"despite pandemic still job secureso tcs best mnc company worldi proude working tcs\", \"kindly help proceduresto apply transfer mumbai location home town kerala location tcs either trivandrum kochin tcs due covid pandemic\", \"work life balance\", \"excited work tcs process tl managers made worst made us work like slaves even achieved target credits transferred favorite colleagues much partiality negative atmosphere inside company higher authorities doesnt manners humanity came earn money get work done try put good fake image clients dont know prior clients empoloyes come hire candidates much possible dont know manage mass recruiters show company destroying career people thing know torture employees try squeeze energy employees much possible ethics work culture read\", \"supporting applying leaves could provide device wfh\", \"job security good work culture opportunity learning development\", \"job security best part tcs even company taking care associates bench critical time people loosing jobs organisations\", \"best company work withworking tcs superb experiencejob security lenient policies\", \"work tcs gives great experience knowledge worked good team leader support every step process learned handling stress pressure odd situations salary hike makes unhappy little bit benefits good work tcs may gives good career also resigned due personal problems working environment friendly project always updates includes innovations working tcs felt working government org much security felt working tcs read\", \"work environment job culture good womens safety job security good benefit\", \"good work environment culture teammates supportive management transparent company policies good\", \"draw salary without work even without going office single day month\", \"carrying company provided laptop pandemic hits devops engineer already vpn admin privileges turned long faced lag wfh period company also providing internet connection charges quite happy tcs\", \"apart job security company provides various opportunities skill development flexible working environment various benefits provided company plus points\", \"good excellent job security provided tcs pandemic good company policies excellent support employes providing work home option\", \"job security better compared companies lot internal politicsemployees suffer lot role change project change\", \"knowledge luck connections great terms job security gives good health benefits take leave studies willing working\", \"tcs started precautionary measures since early stages covid employees stationed work home new normal company instrumental keeping psychological parameters balanced tough time help different programs expert views work life balance equally taken care\", \"life tcs dependant type project one allocated still one find things good job security best good worklife balance times things may become hectic times balanced many people interact chance work latest technologies project specific onsite possibility decided per followingjust unanimous conclusiona project onsite workb years working tcs employeec immeasurable knowledge equally impressive articulation skill good soft skills softskill importantd good fooling people convincing ones good workenvironment depends type associates one works withmine goodread\", \"tcs name says tata always best best secure company one imagine crisis pandemic time job security complete comfortable work home good work life balance employee friendly company\", \"tcs support extraordinary pandemic giving work home option risk covid associates also impact productivity thing working hours become still hikes\", \"see job security mentioned posts tcs good brand name flaunt matter pride learning opportunities immense learning development plethora articles exams training material enhance skills compensation best among mncs depends managers perspective sycophancy omnipresent needless say said still mention salary part positives medical digital claim system makes life easy facilities like gym cafeteria varies location location lucky enough deputed good place get good amenities place like malad old asylum infrastructure poor cons getting stuck internal project read\", \"great support\", \"job security thing would like appreciate covid lockdown\", \"security\", \"tcs supporting us lockdown asking employees come back home stay near office spite dangerous ongoing conditionthey neither provided laptops provided internet working home spite fact company thousands crores profit every quarteralso one never join tcs career starting days destroy life completely learning repeating learn anything companyread\", \"tata company comes heartfully help associates also near family members proud say employee tata\", \"job security people already earning good switch company freshers expect good growth\", \"work life balance\", \"onsite opportunities\", \"less salaries company compare marketand given bonus covid situation rather increment salarywe work home toobut company provided increment decreased work even covid situations\", \"good environment due covid lockdown work home provided hence safe employees\", \"looking challenging skill development roles good easy go minded people job secure people good youngsters\", \"overall experience good lot people keep wasting companys time indirectly impact hard working bunch tcs supportive covid period continuous wfh since april company keep gathering information associates well covid corner dedicated helpline number call doctos assistance help someone\", \"tcs one tha multinational com soft nice place working everyone desire evry person dreams come true tcs tha comfortable working environment compare compny\", \"work life balance frequent weekend workingsjob security politics teammates different cultural background work happily salary n compnsations good mediclaim policies n insurance excellent\", \"company support good special thanks ratan tata sir donating huge amount need one s\", \"good work environment culture huge cafeteria gaming arcade chilling company policies good appraisal fair give salary hike bonus nothing\", \"really hands organization situation many peoples unable working company let\", \"situation company supporting us well issue salary deduction\", \"consider one reliable organisations global pandemicthought lots internal projects suffering still allocating project associates friends mncs simply asking stay bench indirectly forcing leave jobbut per personal realisationend day save productivityread\", \"best terms securitywork life balanceteam activities skill development\", \"like govt jobwork culture excellent excellent company policies unbelievable tcs policies\", \"tcs handled pandemic situation great manner implemented work home culture immediately due wide spread corona virus taking associates health primary concern communicated clients\", \"tcs awesome company work industry get support mgmt team freedom work\", \"tcs supporting work home\", \"contractor employee last years treated like contractor removed within days pandemicnow trust like company cannot support contractor employees situation alsovery bad experience\", \"pandemic secure job means lot\", \"job security\", \"lockdown time tcs pay salary employees also provide covid health centers usefull tcs employees\", \"work culture good colleagues used support lot together team used work hard enjoy well work life balance used good overall experience great\", \"think tcs yes given job securitybut personal lifeit like burden usthere growth financially\", \"learning opportunities\", \"mostly like health insurance policy get treatment best hospital country mediclaim need worry hospital bill\", \"working culture\", \"dont like thing tcs manager always support local guys support covid time manager didnt inform tcs system required calling us base location\", \"important thing tcs layoff anyone though hiring seniors happening given offer tcs committed cancelled offer due covid also helped virtual joining pandemic situation provided employee work hometcs project oriented certain variables payments based projects consultant expected work certain projectread\", \"good support tcs honestly timesheet policy become strict\", \"job security\", \"enjoyed time working good exposure latest technologies part innovation labs flexible work timings\", \"im longer employee left job higher studies hr person managers helped alot higher study policies\", \"really supportive work home comparatively safe period called us back office like risking lives hope tcs let us work home corona completely gone life rosk everywhere convenient work environment feel productive reasons like extended office hours\", \"layoffs deduction salaries covid cover quarantine facility oxygen cylinder facility employee dependent lot\", \"assured jobs secured also lot exposure opportunities improve ourself feel proud lucky working tcs\", \"webinars guidance better heath covid time availability heath experts counsellors daily tips yoga sessions ergonomic tips sessions lot\", \"full job security time salary payment salary less hike percentage low plus covid got zero hikes zero promotions year hard grep financially company looking making good money yur ground rule company\", \"prakash iyer tower lead telstra terminated immediately\", \"tcs never let feel recession going insecurities job salary everything maintained smoothly didnt even bother let us know happening around world\", \"company culture full micro management worst managers promotion hikes\", \"havent come across incident lay employees continue get regular compensation tata kind compassionate believe projects little edge bumping pressure hour pandemic\", \"one employees tcs part company worked tcs time felt better felt safe place given opportunity want continue services tcs\", \"increment year uncertain circumstances tcs promised job cuts also provided reimbursement facilities work home paraphernalias hrs called number associates enquiring overall health associate family also provided helpline numbersfor various issues might arise associate family member covid infected overall tcs handled situation fairly wellof course lack increments year demotivated number associates choose overlook read\", \"pandemic never stopped salary also provided camp covid affected employees\", \"good health policies\", \"job securitywork life balance\", \"recognition hard worker\", \"flowrish teammates sharp time training job security depends facility faculty want increase lifestyle adding term growth appraisal travel dont time wheelers help continue review lifestylelike give suggesyion politics good learning skill make friendly environment going find wife ininnovationmy working lifestyles quite different others want make environment say balanced working life read\", \"good work environment cultures leave policies hr team always supportive\", \"happy opening year job become working like machine later years lost job satisfaction later left job\", \"except compensation everything good\", \"want work tcsi year experience accounts departmentgood work environment tcsif work tcs dream completed\", \"good opportunities learning new technologies travelling abroad\", \"providing work home offices closed situation also providing facilities healthcare facilities meeting communication expense facilities due covid despite current situation companies economic conditions although sometimes going got tough still im company years removed yet\", \"job security poor work culture management okay company policies poor\", \"love tcs really missing everything lot new things every day new learning tcs different projects get seemeettalk different people lot learning ample amount opportunities\", \"support management project working instead extra pressure put team take leaves would make earn revenue calls till asked holding situation obviously good thing tcs perhaps wont fire us tough times nothing hike otherwise bad company culture work inread\", \"tcs taking care majors caring organisation good job\", \"tcs covering covid health issurance also providing self quarantine rooms needs companies firing employees tcs ensuring job security\", \"glad got opportunity work tcs maintain good work environment employees provide various opportunities learn new skills\", \"worked worlds safest organization whatever condition job secure also every higher management people pay attention towards health u effected virus\", \"lot respect tcs heart though wish leave organisation future growth really respect tata group best thing india\", \"although hike fy however job secured\", \"months training freshers graduate good everyone get good learning opportunity period important thing connected people different location diverse culture important everyone cope corporate environment completion school college life projects colleagues different age groups feel bore employee stays bench current scenario different projects available mostly support maintenance project get opportunity learn new things tcs good cab bus service kolkata location girls get cab pm boys get pm sure locations kolkata bus service free cost pick drop tcs well known csr activity well tcs maitree club organizes different extra curricular activity stating painting dancing trekking adventure activity end tcs famous mediclaim service must say sure companies dont need bother money family member sick insured schemeread\", \"want job security work life balance family culture tcs best company work\", \"providing employess wfh rest employees adding extra allowance whi requested work office\", \"support received pandemic resulted worldwide lockdown encouraging sure things would shape coming months\", \"liked job security overall tcs good supporting covid situation\", \"every way always work life balance ensuredexclusively team made work closed loop higher management\", \"friendly team tcs work culture good\", \"tcs supportive career development area paying money employee say worsti left company january still waiting ffs\", \"tcs cutting payment employees also r give leave much employee want one company world fill proud part tcs\", \"great work culture pendamic giving thank u much great mr ratan tata need people world like ratan tata sir\", \"tcs best among service based organizations india pandemic scenario every company laying people didnt hear single person leave tcs even providing certain amount medical expenses covid treatment also businessman industrialists prove time tcs star organization\", \"working tcs long lasting experience good company providing many opportunities take care employees first known ethics values\", \"proud tcsr safety comfortable zone work\", \"good work environment culture teammates supportive management transplant huge cafeteria gaming arcade chilling company policies good give salary hike\", \"good job security learning perspective ar gaps bt happens want domain project working upon overall good organisation feel proud\", \"job security learning growth like project conducted many training sessions proper dress coding checked security regularly covid situation proper asset management team still planning different ways finding x employees assets wfh location\", \"tcs good place full opportunities different fieldsbut currently im working left tcs due higher studies\", \"totally worst dont join hyderabad office tcs\", \"tcs worked three companies seriously never ever felt experience like tcs didnt got salary tcs ive learnt lot things office seniors treat like parents give us much opportunity learn im band ill never ever leave company helped also supported bad days ill always serve company company means ill never treat like employee past took part social work office side ill always ready type social work given office love environment office behavior senior colleaguesread\", \"good environment supportive people\", \"layoff salary cut grades good opportunities inside organization pure luck\", \"handled well ie work home feel proud wfhhas carried employees\", \"truly stood everyone associates treated us utmost dignity difficult time always grateful\", \"safe job wfh good thing medical facilities secured job\", \"tcs hr department touch monthly got wfh facility workoverall good\", \"supporting lack resources management every level worried customer matter happen employee everyone struggling laptop asking get desktop baselocatiin\", \"company cares employees covid period giving work home\", \"tata group committed values secured job even pandemic situation\", \"working tcs right answer question\", \"like work culture work life balance support pandemic excellent\", \"took job tcs ive decided quit organization taking one time career opportunity worked really hard find better position role first team achieving got moved one another team circumstances arent really side due process migration movedalong team members still got placed good team right im working good people surrounded methis story could reveal tcs place get learning get know new world corporate businesses challenging environment improve last resort employees personal financial assistance good platform deeds ans needs right place explore evolve around globe likely familyread\", \"tcs company also big brand offering work home covid working good thik\", \"absolute pleasure working company care like family almost every alternate months call make sure well family fine\", \"amazing organization full talents happiness work culture awesome happy work trainers managers cooperative\", \"micro management\", \"one best company adopt new normal\", \"childhood dream join good company understand company go oneday talk tcs companythem dream work tcs company take dream company top time worried whole world peoples us worried tim tcs company thought people job selection appreciated thanks tcs company read\", \"policies employees always change good one\", \"supporting employee necessary support delivering computer home also providing allowances internet happy say tcs providing medical support employees helping us alot\", \"friends circle good\", \"tcs company support us every situation unexpected people make worst us sometimes behaviour stop us reach ambitions bad fact organisation otherwise love stay tcs like rule none security employees\", \"worst management force come office hide covid positive cases office order avoid panic force quarantine willing come office force apply leaves hr useless\", \"like culture infrastructure tata consultancy service getting support tcs since employee\", \"working tata consultancy services since years month great experience working\", \"permanent job security struggling face hr call back office cases increased drastically\", \"never worked company dont know speak much think work get learn lot give best duga company\", \"tcs removed bas contract people organizationplease dont go tcs job security less bas people\", \"experience tcs proud tcsertcs good policies work environment\", \"company help realising personal life also matters apart professional life got great help superiors getting\", \"apart job security nothing good working analytics nkp mumbai location\", \"exceptionally high support covidjob secure salary time management assurance everyone safe reduces anxietyhigh level communication guidanceinvolvement various activity bringing celebrities chef mountaineers athletesample support psychological counselinggood platformsfor collaboration else decisions employee safety kept priority even cost businesstcs rated top organisation comes support employees covid read\", \"comapny helpful kind employees pandemic situation job well secured happy work provided work home strategy pandemic situation started also provided working envt home support business\", \"gave antique computers wfh\", \"job security probability individual keep job\", \"tcs job secure month month improve knowledge using still based training also per process training conduct say good infrastructure help needy people sharing funds mainly covid following government rules etc tcs good company\", \"feel good whenever share awareness present situation taking care us texts providing contact numbers\", \"pleasure part firm past year tough time companies firing employees tcs remain loyal staff proud tcser\", \"excited work tcs process tl managers made worst made us work like slaves even achieved target credits transferred favorite colleagues much partiality negative atmosphere inside company higher authorities doesnt manners humanity came earn money get work done try put good fake image clients dont know prior clients empoloyes come hire candidates much possible dont know manage mass recruiters show company destroying career people thing know torture employees try squeeze energy employees much possible ethics work culture read\", \"job security\", \"tcser yes company ultimate support possible outcome avoid spread virus taken care work home safety precautions updates providing mediclaim facilities work life pressure smooth balance work everything properly taken care tcs\", \"job security taking care employees\", \"happy part tata consultancy services\", \"lay tcs job security paying internet cost also due wfh panademic\", \"left job covid team mentally harrased forced leave job\", \"good working covid bcz working home cut salary companies also work system delivered us ur home address safety\", \"lockdown work homethey provided pc work even internet cost given company monthly salary\", \"worked one half year payroll manager keep telling convert didnt happened removed contract employees stating covid impact worst decision tcs\", \"supporting every aspect\", \"job secured career growth tcs\", \"laid though contractor sure motive keep permanent employees happy view told making permanent employee never happened\", \"happy work tcs great opportunity grown knowledge skills good team got\", \"totally fracturing couldnt manage work life balance working day night without compensation hike\", \"good providing job security failed concerning employees issues benefits worst hikes\", \"company work segment divisions work makes like company directly indirectly work japanese team imbibe perfections methods solve particular problem problems pretty much every everyone fails one oranother matters reactrespond recover learned standards concept techniques product level management level fantastic working environment one really puts learning perfection priority work life balance simple hard work days week enjoy weekends hardwork means literally hardwork read\", \"despite pandemic still job secureso tcs best mnc company worldi proude working tcs\", \"kindly help proceduresto apply transfer mumbai location home town kerala location tcs either trivandrum kochin tcs due covid pandemic\", \"working india within tcs might offer benefits terms policies like sabbatical maternity leaves etc work life balance really depends project india onsite location manageris good want settle job security highest prio\", \"work life balance\", \"supporting applying leaves could provide device wfh\", \"horrible place work hr hiring ppl slum areas gutka inside floor working others work item exams tl given bpo employees helps gaining easy access appraisal done basis liking employees performance goal sheet fill long process big waste time feel changed immediate affect tl dont even check filled team members thing liked tv salary always time though really extremely less compared distance time employees give reach placeread\", \"job security good work culture opportunity learning development\", \"best company work withworking tcs superb experiencejob security lenient policies\", \"nothing onsite opportunities based performance years experience much favoritism nepotism\", \"job security best part tcs even company taking care associates bench critical time people loosing jobs organisations\", \"job security work life balance\", \"company open innovation readily adopts latest technology love fact part team markets reliable highquality products global client base job security work culture nice depend location project management also fast atlast policies good especially health policy\", \"tcs name brand working brand company proud thing\", \"likes job security work life balance company culture learning opportunities tcs tcs providing food facility associate stuck pg without food tcs introduced secure boarderless workspace work home difficult times\", \"didnt cut salary\", \"even pandemic expect report office project refused come past lop finally expect resign job\", \"happy proud tcser requesting please provide cab facilities every locationam working bangalore location work place sjm towers safety poor areahoping bau help cab facilities location\", \"best thing giving opportunities work many ways learning new things initiated\", \"got offer letter exciting join tcs fresher learnt lot dont expect could ever learnt way lockdown situation helpful providing us possible facilities like taking desktops home providing us internet charges\", \"feeling happy part tata group\", \"like worklife balancecovid support provided company desktop able work home weekly calls hr team asking health physical mental\", \"nice tcs helping lot social activity worklife balance well good working culture\", \"always support employeesi get opportunity would love work\", \"far good sending machines employees company desktop laptops hr calls enquire family provided quarantine centers ginger hotels tcs employees amazing initiative help families stay safe also updated insurance employees feel tata taking care employees way beyond expectationsread\", \"job security company comparatively good market tie centers quarantine quantity less though\", \"tcs standing us giving belief job security understanding situations well pandemic i m happy part tcs\", \"work home march gng great far\", \"tcs definitely freshers youre married pregnant old enough soon retire tcs perfect match\", \"honour work tcs great company improve ability skills case management careful associate health safety always ready provide help\", \"flexible working hours freedom work execution\", \"would like say worked say im still working tcs would like take things step stepfirst teammates teammates cooperative supportive helping hands learnt lot second thing training learnt lot new things innovativeness creativity hands training modules payroll employee concerns billing modules handling esacalation calls concerns third thing job security would like say years tcs think tcs company job security company fourth point highlight career growth doubt career growth past couple years tcs giving much hike terms career growth ok hiking weakrest salaryappraisal travelpolitics learningwork environment innovationwork life balance etc scanrios tcs good employee oriented companyi hope enoughif want anything else please send email thanks regardsnaser islam read\", \"tcs good safetest environment work support associate many ways covid\", \"work home nothing much abou\", \"awesome workplace nice atmosphere work life balance\", \"except salary compensation benefits everything excellent within company\", \"work home\", \"tcs supportive junior associates like experience ask healthmy personal experience tcs bad created situation resigned job covid pandemic\", \"traning session funlearnt lot thats\", \"team mates average job security high similar government job see people years experience moving around work life balance high even spend entire day nothing even stay hours one tell anything well still places innovate share ideas tcs gives privileges new ideas innovation best place settle years experience job security highread\", \"job security work culture onsite opportunities\", \"really nice intiative hrs management calling individuals personally asking safety help required work smoothly\", \"everything good like job security skill deveoopment carrer growth\", \"experience may vary project project overall experience good main good part tcs job security health insurance scheme\", \"personally like tcs foul play within organization provides complete job security employees yeah deduction salary even pandemic got learn much company overall changes perspective candidate\", \"excellent support received full salary even work home started proud b tcser\", \"job security high company policy also good note book follow reality project specific\", \"working tcs past yr months lucky enough start career heresee good company one take job unless serious violation growth poor company mean old projects doesnt scope jus one looking job security best career growth poor wont get salary hike bonus advice jus stay company years learn new technologies move company else hear number times manager ask move development project got one onsite chance good project send u next month fake promises dont stay jus look ur career move outread\", \"tcs strongly keep brand value towards satishfaction customers clients innovative way growth rate always constant bit higher anyone client customer handling skills language skill infact coming general back ground upskill trade financial expirt payments collections though people general back ground would possibly working hard get upskill still equal opportunity respect career growth feeling proud tcserread\", \"nothing sayy\", \"glad say working tcs\", \"work home option\", \"say published stuff different practice\", \"first tcs deginified cool company job safecomming pandemic situation tcs supporting employees well structured approach provided desktops employees march given security alerts wellso really like tcs much since show good direction employees\", \"good job security supports employees covid providing free doctor consultation provides preventive actions supportive\", \"company shown trust employees planning send official desktops home address employees unable collect machines lockdown\", \"tcs multinational company good projectsaccountslots onsite positions drop career bright like anything different domains company also focusing trending technologies job security career growth depends account landing joining salary per market standards tcs account wont track time finish work leave office wfh say work life balance best organization women employeesit best organization women employeesread\", \"job security thing good never fire even come office logout end without work\", \"good work good support team mets good salary ana every uesr incerement salary bonas\", \"like skill development learning technology learn via ultimatix useful us easy learn supporting rotational shift based\", \"atmosphere premises relationship employees\", \"key point pandemic job security terms job security tcs great way ahead\", \"overall work experience bad important thing job secured u want grow learn new skills find product based company u get overall development covid situation dint fire employees provide opportunity work home\", \"good\", \"liked working tcs got learn new things projects offered got great teammates helped every scenario got work life balance days went work became stagnant challenges work one thing good tcs job security\", \"excellent support tcs\", \"job security\", \"medical benefit job security good polices brand name ect ect\", \"lucky part organization getting possible help company\", \"good career tcs\", \"absolutely nothing liked physical design goal sheets set supervisors human resource official good implementation following pretty bad\", \"working home last months provided computer systems home\", \"good company good work life balance\", \"tcs decent firm work good freshers well experienced associates good platform grow knowledge enhance career many things learn also conducts internal learning programme get know fire safetywomen safety etc apart best part company assures job security wont terminate ram project unless done compliance issueread\", \"companies terminated employees covid period tata consultancy services give salary proper monthproud tcs staff\", \"working tcs\", \"hello guys i working since last years overall good experience far joined tcs till learning many things senior teammates colleagues talk career growth yes slowly keep till target otherwise get good opportunity manager account manager show visibility much contribute project may whatever related project internal work one stop career growth frankly speaking coming onsite looking onsite please dont trust anymore must go politics know well well everywhere career appraisal it depends know believe you job security yup much know like semi government innovationideation yes submit least one idea till appraisal otherwise manager definitely asksalary what yes without salary one work awww talking hikeincrement less thinking note tcs good secure company girls read\", \"friendly work environment\", \"tcs one indian corporate office unlike companies like infosys enjoy flexible timings entry exit time considerations result orientedremaining things common company india long working niche technologies job safe salaries appraisals based onyour bargaining capabilities performances things nothing great similar companies reg worklife balance depends project shifts dependency project one big plus point tcs health insurance covers family including parents many companies covers health insurance family parents read\", \"current employee tcs\", \"work home job\", \"trainings held daily basis helpful also teammates cooperative helpful nature regarding salary satisfied appraisal environment basically professional well mannered\", \"work life balance work home support call problems\", \"teamwork ambiance ilp one highlights entire experience tcs ahmadabad place mental career satisfaction tcs hyderabad project related learning\", \"team work quality\", \"best thing tcs job security offers pretty much secure job work without worry loosing job good seniors peer also help support throughout though less number work life balance good easily personal life working organization rest depends project work much people looking onsite opportunities come search suitable project meet aspirationsread\", \"much support selected high profile employees privileged work home\", \"best company terms career growth job securityif person continously switch companies wanted settle one workplacetcs good option\", \"yes tcs good company joined tcs cunsultency time removed us still unemployee critical situation\", \"calling back employee base location known mnc companythen atleast deliver desktop employees location situation travel quarantine centres collect desktop\", \"happy party tcs family company giving full salary employes working non working company job security many projects available shift one process another takes certain period time finally fully happy part tcs\", \"working environment tcs far better less time done training thrown floor hurdle yes believe job security tcs much better compared organisation salary appraisals iam ok management issues travelling managed politics thing entertain tcs believe better place innovation new things believe managed balance work liferead\", \"good part holding employees laying unless utmosttcs better place settle career recommended freshers career aspirants\", \"brand tata\", \"worst experience career working tcs released project without intimation also till didnt allocated projects salaries since lockdown never expected tcs\", \"frankly speaking every different client different company released client one cares previous achievement work everyone knows hikes due\", \"good company start stands first bpo companies good start salary fresher projects much business oriented steam opportunities finance retail business\", \"job security\", \"tata always care employees know spread across world time situation tcs call employee asked health family safety also thank tcs\", \"like work tcs management safety good\", \"providing work home facility\", \"like many things compared similar mncs based exp friends working companies like first job security leave policy work timings n worklife balance would say going long term solely depends projects working clients working worked many domainsand plenty clients felt different situation handling things apart work environment also liked tcs subsidiary tata sons know benevolence indian society feels immense proud around earnings going charity thanks read\", \"comes job security tcs ranks first always salary hikes career growth bit challenging stuff politics common every company dont waste time thinking work environment culture totally depends people working around varies project project ill advise stay calm work yes quite supportive paticular situation wellread\", \"place totally safe provide salary time career growth low\", \"paying salaries laying people provided work home facility employees cut appraisal year\", \"company open innovation readily adopts latest technology part production support another point colleagues come various cultural backgrounds working happily collaboration good supportive team got\", \"good work environment culture teammates supportive management transparent huge cafeteria gaming arcade chilling\", \"first job loved work tcs\", \"work culture\", \"one biggest company among world different charity also helping employees providing wfh optionbut people managing level isndisppointing employees different waythe job security peak level\", \"supporting job security salary increment benefits\", \"work home given company job security good management understand work support guide help\", \"work environment good get facilities like indooroutdoor games gym good canteen library good infrastructure various career optionsleaveonsite opportunities important thing job security\", \"r client location inspite mumbai maharashtra r going office daily manager forced come office daily else pay lossthere work home facility till\", \"getting fully paid time situation blessing much thankful tcs\", \"tcs big mnc company ceo already said lay offs tcs fight corona virus tcs cuts employees increments promotions\", \"getting full salary however production zero\", \"nothing last years worked salary worked different different fieldsjust working last years hike growth even company thinking employee big organization employee growthi wasted years tcs switch earlier thoughtafter least years tcs provide good salary promotion increments bad experience working years tcs rehire employee employee joined anywhere change policies least tcs see employee given year worked hard growth increments reason left company want talk big organization person take feedback employee read\", \"paid salary months without deductionsand caring employees\", \"bad support tcs bpo\", \"well starts name brand tata groups everyone knows career growth diversity exposure trained well operations would deal well ethics part going ahead got great team little bit politics everywhere canbe managed hard work kaizan foremost thing happy eyes team leadmanager course appraisal best part appreciation clients need work quality n efficiency delivered n team read\", \"blessed nice teammates training opportunities abundant instructorled teach tuesday initiative helps learn new topic every tuesday online learning platform free subscription lyndacom safari books online etc provide excellent learning resources moreover professional certifications company reimburses fees youcareer growth kind slow according mesalary increment appraisals less suffering current scenario industries indiatravel opportunities manypolitics something ever come across maybe im blessed part alsowork environment good optimal pressure good learning innovation learning goes parallelly work internal division tcs cant say client projectsread\", \"glad became part great organisation job security work culture company policy osm\", \"left job tcs i m feeling left beautiful job \", \"terminating anyone\", \"job security good\", \"absolutely fantastic\", \"good work environment culture\", \"company providing privilege possible time also till keeping resources benchfor company needs appreciation\", \"actually company good managers company humanity managers managers also career growth nd skill development company totally depends upon project manager project manager human like giant humanity\", \"good work life balance opportunity youre lucky work abroad pick different kinds roles internally youre lucky grow\", \"job security pay mediocre senior management money hungry doesnt care employees suffer\", \"support covid good wfh initiated however internet connection provided system issue night shift allowance deducted\", \"job security high\", \"yes work home best\", \"good learning opportunity support every level every aspect\", \"free transport childcareno work home free foodno team outings job training international relocation\", \"thank concernwe received calls hr stating health conditionshappy receive salary time\", \"nagpur tcs location good internal transfer difficult training knowledge rmg team good\", \"overall atmosphere ok opportunity move ahead individual great limited favourite individuals\", \"good made arrangements work home stay safe home\", \"tcs brand weak leadership apac really talented folks speed org slow also regional leadership weak motivated enough\", \"given us work home opportunity march september salary hike freezed\", \"since unable resume serviceare updateds taken online supportive hr\", \"working tcs awesome experience organisation handled lockdown situation effectively couldnt reach office collect asset stuck hometown assets delivered residence tcs coworkers tsc first company good organization freshers\", \"well depends majorly kind project work current project better previous ones flexibility work management able\", \"really worst scenario esteemed tcs organisation stood like beacon facing ever tempest hurricance provided shelter food clothes working staff extemporary\", \"everyone good helpful one hr contacted order find whether fine unique\", \"depends last teammates good compare new one trainer genttle familiar would like give mark lots new things learned still helping takling job security know job security untill regin career seen tough growth thats slow salary law ok local people think travell allowances politics imagination make cry work environment definitely depends people yes lots innovenation come big company work life balance difficult maintain shift timing stay changes read\", \"working home tcs making sure provide necessary documentsinformation\", \"employees allowed work home good idea company making sure emp moving unless critical important reason\", \"company provides benefits employees higher management projects bad care business employees heard project release fte bcoz fte wont able collect system office ridiculous location may employee belongs states company provide wfh also management waits last moment decision bcoz many fte stuck would able go home one management ask themread\", \"satisfied work life balance training work environment\", \"overall good experience little work pressure personally tagged support project faced issues adapting weekend oncall support system overall friendly environment work\", \"tcs provided personal desktop first week march hr continuously enquiring us facing issues\", \"overall goodmanagement goodappreciated enough\", \"tcs supporting lockdown good way cancelling increment\", \"company giving full support expect good organisation really good environment culture compay feel proud part tcs\", \"enabling sbws tcs facilities employees work home fight\", \"job good pay better compensation benefits\", \"depends project good arent\", \"tcs fundamentals\", \"supporting lot pandemic time\", \"tcs helping every possible way happy part organisation helps employees like family\", \"work environment training job security\", \"good place work true professional want learninggrowth career company definitely gone days tcs used pay lot employees old employees hold high positions company take lot money give poor salary people low ranksin name appraisals bootlickers get good reviews one thing position someone switching tcs shehe get salary compared already working tcs beforehand ya job security workculture peoplementality filthy downmarket particularly noida kolkata branch read\", \"u want exploredo without hesitation avoiding negative thoughtsfor covid initially thy stuck followed better ways government instructions\", \"best thing united continue giving support leading company home stay safe stay home continue giving support\", \"std tcs dream company work withi happy joining tcs trainer best cyrus n made mny friends\", \"goodthe frustrating part pressure immediate manager complete training theory learning handson\", \"benefits like medical travel job security usual female employees provided facilities\", \"company giving salary everymonth cutting anything really proud tcs pendamic situation also company supporting employees providing facilitiy work home\", \"company good policy clearly mentioned scenarios projects company good fresher luck decides career tcs randomly allocates freshers projects good company start career\", \"tcs big organization every field lakhs employees takes care employees due situation tcs decided layoff employee even cutting salaries\", \"company give full support every situation pandemic situation tcs proves much care every employee\", \"except salary every thing well good tcs takehome package totally different one clear explanation times hike per month\", \"brand wonderfulbeing freshergetting opportunity work tcs real pleasure\", \"teammates always cooperative learning prospective company gives lot chances employee doubtly chance get good knowledge technology actual problem time come implementing knowledge difficult get satisfying project point view much salary tcs provide employees fair enough corresponding work available case work life balance basically differs account account average peronally feel work life balance tcs moderate somebody thinks heshe wants join tcs skills growth would like say yes projects tcs innovative labs opportunity wont find satisfied projects last want add really wants see himher developer dont think right place himher even feel service based companies scenario max projects enhancement typeread\", \"feel good tcs teammates good tranning also good job security fantastic\", \"good experience worked tata consultancy services\", \"horrible people it s talent smart working need people cslog hours office nothing\", \"job security best thing tcs\", \"permanent job\", \"working tcs years able work good mentors managers taken responsibilities given best resulted overall growth work environment casual depends project project mostly production support toes times sometimes cool salary appraisal ok ok better others companies learning good amount learning portals training sessions learning within tcs lnd team timely follow skill upgrade competencies work life balance best seen know friends companies say better work life balance tcsread\", \"employee friendly\", \"according working culture good got best teammates support lot work together mine malaysian client strict deliveries team collabaration totally satisfied able deliver dedicatedly add one thing tcs get benefits health ourself family also would like say tcs job security\", \"tcs known rich values sound organization culture focusses employee development traininglearning development opportunities work environment may ever vary one project another dependant effectiveness line managersupervisor terms compensation benefits either matches market tries best lead market far job security concerned tcs one select companies thinks people first anything else career progression dependant variable relying effectiveness line managersupervisorhr imperative focus behavioural competencies well apart functionaltechnical competencies selecting line managerread\", \"great opportunity start carrier big company get lots knowledge help free online courses provided good environment infrastructure good library lots projects working best place start carrier\", \"training provided new joinees aspects life option remain bench searching project company provides good job security stability lots long term onsite opportunities senior associatescompany promotes innovative ideas appreciation work also therethe team members give feel familyflexible working hours thereread\", \"since work home applicable allowed paid leave\", \"longer part tcs sure coping lockdown\", \"nothing like tcs filled filthy corporate politics\", \"hr policies good donot hire fire policy health insurance scemes good\", \"job security\", \"like nothing\", \"work environment great leave structure also good enough platforms hone skills new technologies worklife balance also great offices many cities take transfer need\", \"terrible\", \"job security\", \"ganesh currently employee tcs still love experience spent\", \"working right \", \"traning language softno politics workingjob also secure\", \"company better monthly payments benefits etc better pantry facilities satisfactory transport services issues like earlylate pick considered\"]}],\n",
       "                        {\"barmode\": \"overlay\", \"legend\": {\"bgcolor\": \"#F5F6F9\", \"font\": {\"color\": \"#4D5663\"}}, \"paper_bgcolor\": \"#F5F6F9\", \"plot_bgcolor\": \"#F5F6F9\", \"template\": {\"data\": {\"bar\": [{\"error_x\": {\"color\": \"#2a3f5f\"}, \"error_y\": {\"color\": \"#2a3f5f\"}, \"marker\": {\"line\": {\"color\": \"#E5ECF6\", \"width\": 0.5}}, \"type\": \"bar\"}], \"barpolar\": [{\"marker\": {\"line\": {\"color\": \"#E5ECF6\", \"width\": 0.5}}, \"type\": \"barpolar\"}], \"carpet\": [{\"aaxis\": {\"endlinecolor\": \"#2a3f5f\", \"gridcolor\": \"white\", \"linecolor\": \"white\", \"minorgridcolor\": \"white\", \"startlinecolor\": \"#2a3f5f\"}, \"baxis\": {\"endlinecolor\": \"#2a3f5f\", \"gridcolor\": \"white\", \"linecolor\": \"white\", \"minorgridcolor\": \"white\", \"startlinecolor\": \"#2a3f5f\"}, \"type\": \"carpet\"}], \"choropleth\": [{\"colorbar\": {\"outlinewidth\": 0, \"ticks\": \"\"}, \"type\": \"choropleth\"}], \"contour\": [{\"colorbar\": {\"outlinewidth\": 0, \"ticks\": \"\"}, \"colorscale\": [[0.0, \"#0d0887\"], [0.1111111111111111, \"#46039f\"], [0.2222222222222222, \"#7201a8\"], [0.3333333333333333, \"#9c179e\"], [0.4444444444444444, \"#bd3786\"], [0.5555555555555556, \"#d8576b\"], [0.6666666666666666, \"#ed7953\"], [0.7777777777777778, \"#fb9f3a\"], [0.8888888888888888, \"#fdca26\"], [1.0, \"#f0f921\"]], \"type\": \"contour\"}], \"contourcarpet\": [{\"colorbar\": {\"outlinewidth\": 0, \"ticks\": \"\"}, \"type\": \"contourcarpet\"}], \"heatmap\": [{\"colorbar\": {\"outlinewidth\": 0, \"ticks\": \"\"}, \"colorscale\": [[0.0, \"#0d0887\"], [0.1111111111111111, \"#46039f\"], [0.2222222222222222, \"#7201a8\"], [0.3333333333333333, \"#9c179e\"], [0.4444444444444444, \"#bd3786\"], [0.5555555555555556, \"#d8576b\"], [0.6666666666666666, \"#ed7953\"], [0.7777777777777778, \"#fb9f3a\"], [0.8888888888888888, \"#fdca26\"], [1.0, \"#f0f921\"]], \"type\": \"heatmap\"}], \"heatmapgl\": [{\"colorbar\": {\"outlinewidth\": 0, \"ticks\": \"\"}, \"colorscale\": [[0.0, \"#0d0887\"], [0.1111111111111111, \"#46039f\"], [0.2222222222222222, \"#7201a8\"], [0.3333333333333333, \"#9c179e\"], [0.4444444444444444, \"#bd3786\"], [0.5555555555555556, \"#d8576b\"], [0.6666666666666666, \"#ed7953\"], [0.7777777777777778, \"#fb9f3a\"], [0.8888888888888888, \"#fdca26\"], [1.0, \"#f0f921\"]], \"type\": \"heatmapgl\"}], \"histogram\": [{\"marker\": {\"colorbar\": {\"outlinewidth\": 0, \"ticks\": \"\"}}, \"type\": \"histogram\"}], \"histogram2d\": [{\"colorbar\": {\"outlinewidth\": 0, \"ticks\": \"\"}, \"colorscale\": [[0.0, \"#0d0887\"], [0.1111111111111111, \"#46039f\"], [0.2222222222222222, \"#7201a8\"], [0.3333333333333333, \"#9c179e\"], [0.4444444444444444, \"#bd3786\"], [0.5555555555555556, \"#d8576b\"], [0.6666666666666666, \"#ed7953\"], [0.7777777777777778, \"#fb9f3a\"], [0.8888888888888888, \"#fdca26\"], [1.0, \"#f0f921\"]], \"type\": \"histogram2d\"}], \"histogram2dcontour\": [{\"colorbar\": {\"outlinewidth\": 0, \"ticks\": \"\"}, \"colorscale\": [[0.0, \"#0d0887\"], [0.1111111111111111, \"#46039f\"], [0.2222222222222222, \"#7201a8\"], [0.3333333333333333, \"#9c179e\"], [0.4444444444444444, \"#bd3786\"], [0.5555555555555556, \"#d8576b\"], [0.6666666666666666, \"#ed7953\"], [0.7777777777777778, \"#fb9f3a\"], [0.8888888888888888, \"#fdca26\"], [1.0, \"#f0f921\"]], \"type\": \"histogram2dcontour\"}], \"mesh3d\": [{\"colorbar\": {\"outlinewidth\": 0, \"ticks\": \"\"}, \"type\": \"mesh3d\"}], \"parcoords\": [{\"line\": {\"colorbar\": {\"outlinewidth\": 0, \"ticks\": \"\"}}, \"type\": \"parcoords\"}], \"pie\": [{\"automargin\": true, \"type\": \"pie\"}], \"scatter\": [{\"marker\": {\"colorbar\": {\"outlinewidth\": 0, \"ticks\": \"\"}}, \"type\": \"scatter\"}], \"scatter3d\": [{\"line\": {\"colorbar\": {\"outlinewidth\": 0, \"ticks\": \"\"}}, \"marker\": {\"colorbar\": {\"outlinewidth\": 0, \"ticks\": \"\"}}, \"type\": \"scatter3d\"}], \"scattercarpet\": [{\"marker\": {\"colorbar\": {\"outlinewidth\": 0, \"ticks\": \"\"}}, \"type\": \"scattercarpet\"}], \"scattergeo\": [{\"marker\": {\"colorbar\": {\"outlinewidth\": 0, \"ticks\": \"\"}}, \"type\": \"scattergeo\"}], \"scattergl\": [{\"marker\": {\"colorbar\": {\"outlinewidth\": 0, \"ticks\": \"\"}}, \"type\": \"scattergl\"}], \"scattermapbox\": [{\"marker\": {\"colorbar\": {\"outlinewidth\": 0, \"ticks\": \"\"}}, \"type\": \"scattermapbox\"}], \"scatterpolar\": [{\"marker\": {\"colorbar\": {\"outlinewidth\": 0, \"ticks\": \"\"}}, \"type\": \"scatterpolar\"}], \"scatterpolargl\": [{\"marker\": {\"colorbar\": {\"outlinewidth\": 0, \"ticks\": \"\"}}, \"type\": \"scatterpolargl\"}], \"scatterternary\": [{\"marker\": {\"colorbar\": {\"outlinewidth\": 0, \"ticks\": \"\"}}, \"type\": \"scatterternary\"}], \"surface\": [{\"colorbar\": {\"outlinewidth\": 0, \"ticks\": \"\"}, \"colorscale\": [[0.0, \"#0d0887\"], [0.1111111111111111, \"#46039f\"], [0.2222222222222222, \"#7201a8\"], [0.3333333333333333, \"#9c179e\"], [0.4444444444444444, \"#bd3786\"], [0.5555555555555556, \"#d8576b\"], [0.6666666666666666, \"#ed7953\"], [0.7777777777777778, \"#fb9f3a\"], [0.8888888888888888, \"#fdca26\"], [1.0, \"#f0f921\"]], \"type\": \"surface\"}], \"table\": [{\"cells\": {\"fill\": {\"color\": \"#EBF0F8\"}, \"line\": {\"color\": \"white\"}}, \"header\": {\"fill\": {\"color\": \"#C8D4E3\"}, \"line\": {\"color\": \"white\"}}, \"type\": \"table\"}]}, \"layout\": {\"annotationdefaults\": {\"arrowcolor\": \"#2a3f5f\", \"arrowhead\": 0, \"arrowwidth\": 1}, \"coloraxis\": {\"colorbar\": {\"outlinewidth\": 0, \"ticks\": \"\"}}, \"colorscale\": {\"diverging\": [[0, \"#8e0152\"], [0.1, \"#c51b7d\"], [0.2, \"#de77ae\"], [0.3, \"#f1b6da\"], [0.4, \"#fde0ef\"], [0.5, \"#f7f7f7\"], [0.6, \"#e6f5d0\"], [0.7, \"#b8e186\"], [0.8, \"#7fbc41\"], [0.9, \"#4d9221\"], [1, \"#276419\"]], \"sequential\": [[0.0, \"#0d0887\"], [0.1111111111111111, \"#46039f\"], [0.2222222222222222, \"#7201a8\"], [0.3333333333333333, \"#9c179e\"], [0.4444444444444444, \"#bd3786\"], [0.5555555555555556, \"#d8576b\"], [0.6666666666666666, \"#ed7953\"], [0.7777777777777778, \"#fb9f3a\"], [0.8888888888888888, \"#fdca26\"], [1.0, \"#f0f921\"]], \"sequentialminus\": [[0.0, \"#0d0887\"], [0.1111111111111111, \"#46039f\"], [0.2222222222222222, \"#7201a8\"], [0.3333333333333333, \"#9c179e\"], [0.4444444444444444, \"#bd3786\"], [0.5555555555555556, \"#d8576b\"], [0.6666666666666666, \"#ed7953\"], [0.7777777777777778, \"#fb9f3a\"], [0.8888888888888888, \"#fdca26\"], [1.0, \"#f0f921\"]]}, \"colorway\": [\"#636efa\", \"#EF553B\", \"#00cc96\", \"#ab63fa\", \"#FFA15A\", \"#19d3f3\", \"#FF6692\", \"#B6E880\", \"#FF97FF\", \"#FECB52\"], \"font\": {\"color\": \"#2a3f5f\"}, \"geo\": {\"bgcolor\": \"white\", \"lakecolor\": \"white\", \"landcolor\": \"#E5ECF6\", \"showlakes\": true, \"showland\": true, \"subunitcolor\": \"white\"}, \"hoverlabel\": {\"align\": \"left\"}, \"hovermode\": \"closest\", \"mapbox\": {\"style\": \"light\"}, \"paper_bgcolor\": \"white\", \"plot_bgcolor\": \"#E5ECF6\", \"polar\": {\"angularaxis\": {\"gridcolor\": \"white\", \"linecolor\": \"white\", \"ticks\": \"\"}, \"bgcolor\": \"#E5ECF6\", \"radialaxis\": {\"gridcolor\": \"white\", \"linecolor\": \"white\", \"ticks\": \"\"}}, \"scene\": {\"xaxis\": {\"backgroundcolor\": \"#E5ECF6\", \"gridcolor\": \"white\", \"gridwidth\": 2, \"linecolor\": \"white\", \"showbackground\": true, \"ticks\": \"\", \"zerolinecolor\": \"white\"}, \"yaxis\": {\"backgroundcolor\": \"#E5ECF6\", \"gridcolor\": \"white\", \"gridwidth\": 2, \"linecolor\": \"white\", \"showbackground\": true, \"ticks\": \"\", \"zerolinecolor\": \"white\"}, \"zaxis\": {\"backgroundcolor\": \"#E5ECF6\", \"gridcolor\": \"white\", \"gridwidth\": 2, \"linecolor\": \"white\", \"showbackground\": true, \"ticks\": \"\", \"zerolinecolor\": \"white\"}}, \"shapedefaults\": {\"line\": {\"color\": \"#2a3f5f\"}}, \"ternary\": {\"aaxis\": {\"gridcolor\": \"white\", \"linecolor\": \"white\", \"ticks\": \"\"}, \"baxis\": {\"gridcolor\": \"white\", \"linecolor\": \"white\", \"ticks\": \"\"}, \"bgcolor\": \"#E5ECF6\", \"caxis\": {\"gridcolor\": \"white\", \"linecolor\": \"white\", \"ticks\": \"\"}}, \"title\": {\"x\": 0.05}, \"xaxis\": {\"automargin\": true, \"gridcolor\": \"white\", \"linecolor\": \"white\", \"ticks\": \"\", \"title\": {\"standoff\": 15}, \"zerolinecolor\": \"white\", \"zerolinewidth\": 2}, \"yaxis\": {\"automargin\": true, \"gridcolor\": \"white\", \"linecolor\": \"white\", \"ticks\": \"\", \"title\": {\"standoff\": 15}, \"zerolinecolor\": \"white\", \"zerolinewidth\": 2}}}, \"title\": {\"font\": {\"color\": \"#4D5663\"}, \"text\": \"Review Rating Distribution\"}, \"xaxis\": {\"gridcolor\": \"#E1E5ED\", \"linecolor\": \"black\", \"showgrid\": true, \"tickfont\": {\"color\": \"#4D5663\"}, \"title\": {\"font\": {\"color\": \"#4D5663\"}, \"text\": \"rating\"}, \"zerolinecolor\": \"#E1E5ED\"}, \"yaxis\": {\"gridcolor\": \"#E1E5ED\", \"linecolor\": \"black\", \"showgrid\": true, \"tickfont\": {\"color\": \"#4D5663\"}, \"title\": {\"font\": {\"color\": \"#4D5663\"}, \"text\": \"count\"}, \"zerolinecolor\": \"#E1E5ED\"}},\n",
       "                        {\"showLink\": true, \"linkText\": \"Export to plot.ly\", \"plotlyServerURL\": \"https://plot.ly\", \"responsive\": true}\n",
       "                    ).then(function(){\n",
       "                            \n",
       "var gd = document.getElementById('922932ef-ef27-4e2a-bd6e-d2e214ab29c0');\n",
       "var x = new MutationObserver(function (mutations, observer) {{\n",
       "        var display = window.getComputedStyle(gd).display;\n",
       "        if (!display || display === 'none') {{\n",
       "            console.log([gd, 'removed!']);\n",
       "            Plotly.purge(gd);\n",
       "            observer.disconnect();\n",
       "        }}\n",
       "}});\n",
       "\n",
       "// Listen for the removal of the full notebook cells\n",
       "var notebookContainer = gd.closest('#notebook-container');\n",
       "if (notebookContainer) {{\n",
       "    x.observe(notebookContainer, {childList: true});\n",
       "}}\n",
       "\n",
       "// Listen for the clearing of the current output cell\n",
       "var outputEl = gd.closest('.output');\n",
       "if (outputEl) {{\n",
       "    x.observe(outputEl, {childList: true});\n",
       "}}\n",
       "\n",
       "                        })\n",
       "                };\n",
       "                });\n",
       "            </script>\n",
       "        </div>"
      ]
     },
     "metadata": {},
     "output_type": "display_data"
    }
   ],
   "source": [
    "data1['clean_round_1'].iplot(\n",
    "    kind='hist',\n",
    "    xTitle='rating',\n",
    "    linecolor='black',\n",
    "    yTitle='count',\n",
    "    title='Review Rating Distribution')"
   ]
  },
  {
   "cell_type": "code",
   "execution_count": 74,
   "metadata": {},
   "outputs": [],
   "source": [
    "data1.insert(10, \"rev_len_positive\", \"\")"
   ]
  },
  {
   "cell_type": "code",
   "execution_count": 86,
   "metadata": {},
   "outputs": [
    {
     "name": "stdout",
     "output_type": "stream",
     "text": [
      "552  things good job security opinion people tcs job security tcs holds onto employees even tough situations market although large layoff recent past still job security plus balance good time pressure also work much challenging usually timid learning curve easy workwise support projects timing may issue one may support weekend night compensated development projects timing beginning casual time delivery haywire always time lot development left give idea poor management benefits nice health benefits employee family easy leaves maternity wedding etc read\n",
      "191  carrying company provided laptop pandemic hits devops engineer already vpn admin privileges turned long faced lag wfh period company also providing internet connection charges quite happy tcs\n",
      "67  draw salary without work even without going office single day month\n",
      "125  good excellent job security provided tcs pandemic good company policies excellent support employes providing work home option\n",
      "150  apart job security company provides various opportunities skill development flexible working environment various benefits provided company plus points\n",
      "248  tcs started precautionary measures since early stages covid employees stationed work home new normal company instrumental keeping psychological parameters balanced tough time help different programs expert views work life balance equally taken care\n",
      "107  job security better compared companies lot internal politicsemployees suffer lot role change project change\n",
      "144  tcs support extraordinary pandemic giving work home option risk covid associates also impact productivity thing working hours become still hikes\n",
      "552  life tcs dependant type project one allocated still one find things good job security best good worklife balance times things may become hectic times balanced many people interact chance work latest technologies project specific onsite possibility decided per followingjust unanimous conclusiona project onsite workb years working tcs employeec immeasurable knowledge equally impressive articulation skill good soft skills softskill importantd good fooling people convincing ones good workenvironment depends type associates one works withmine goodread\n",
      "176  tcs name says tata always best best secure company one imagine crisis pandemic time job security complete comfortable work home good work life balance employee friendly company\n",
      "8  security\n",
      "55  job security thing would like appreciate covid lockdown\n",
      "94  tata company comes heartfully help associates also near family members proud say employee tata\n",
      "17  work life balance\n",
      "83  job security people already earning good switch company freshers expect good growth\n",
      "556  see job security mentioned posts tcs good brand name flaunt matter pride learning opportunities immense learning development plethora articles exams training material enhance skills compensation best among mncs depends managers perspective sycophancy omnipresent needless say said still mention salary part positives medical digital claim system makes life easy facilities like gym cafeteria varies location location lucky enough deputed good place get good amenities place like malad old asylum infrastructure poor cons getting stuck internal project read\n",
      "104  looking challenging skill development roles good easy go minded people job secure people good youngsters\n",
      "174  less salaries company compare marketand given bonus covid situation rather increment salarywe work home toobut company provided increment decreased work even covid situations\n",
      "75  good environment due covid lockdown work home provided hence safe employees\n",
      "20  onsite opportunities\n",
      "340  tcs supporting us lockdown asking employees come back home stay near office spite dangerous ongoing conditionthey neither provided laptops provided internet working home spite fact company thousands crores profit every quarteralso one never join tcs career starting days destroy life completely learning repeating learn anything companyread\n",
      "279  overall experience good lot people keep wasting companys time indirectly impact hard working bunch tcs supportive covid period continuous wfh since april company keep gathering information associates well covid corner dedicated helpline number call doctos assistance help someone\n",
      "153  tcs one tha multinational com soft nice place working everyone desire evry person dreams come true tcs tha comfortable working environment compare compny\n",
      "82  company support good special thanks ratan tata sir donating huge amount need one s\n",
      "75  really hands organization situation many peoples unable working company let\n",
      "69  best terms securitywork life balanceteam activities skill development\n",
      "135  good work environment culture huge cafeteria gaming arcade chilling company policies good appraisal fair give salary hike bonus nothing\n",
      "59  situation company supporting us well issue salary deduction\n",
      "88  like govt jobwork culture excellent excellent company policies unbelievable tcs policies\n",
      "251  consider one reliable organisations global pandemicthought lots internal projects suffering still allocating project associates friends mncs simply asking stay bench indirectly forcing leave jobbut per personal realisationend day save productivityread\n",
      "185  work life balance frequent weekend workingsjob security politics teammates different cultural background work happily salary n compnsations good mediclaim policies n insurance excellent\n",
      "176  tcs handled pandemic situation great manner implemented work home culture immediately due wide spread corona virus taking associates health primary concern communicated clients\n",
      "24  tcs supporting work home\n",
      "29  pandemic secure job means lot\n",
      "175  contractor employee last years treated like contractor removed within days pandemicnow trust like company cannot support contractor employees situation alsovery bad experience\n",
      "90  think tcs yes given job securitybut personal lifeit like burden usthere growth financially\n",
      "22  learning opportunities\n",
      "138  work culture good colleagues used support lot together team used work hard enjoy well work life balance used good overall experience great\n",
      "94  lockdown time tcs pay salary employees also provide covid health centers usefull tcs employees\n",
      "15  working culture\n",
      "138  dont like thing tcs manager always support local guys support covid time manager didnt inform tcs system required calling us base location\n",
      "68  tcs awesome company work industry get support mgmt team freedom work\n",
      "106  mostly like health insurance policy get treatment best hospital country mediclaim need worry hospital bill\n",
      "56  good support tcs honestly timesheet policy become strict\n",
      "12  job security\n",
      "95  im longer employee left job higher studies hr person managers helped alot higher study policies\n",
      "97  assured jobs secured also lot exposure opportunities improve ourself feel proud lucky working tcs\n",
      "97  enjoyed time working good exposure latest technologies part innovation labs flexible work timings\n",
      "299  important thing tcs layoff anyone though hiring seniors happening given offer tcs committed cancelled offer due covid also helped virtual joining pandemic situation provided employee work hometcs project oriented certain variables payments based projects consultant expected work certain projectread\n",
      "133  webinars guidance better heath covid time availability heath experts counsellors daily tips yoga sessions ergonomic tips sessions lot\n",
      "54  prakash iyer tower lead telstra terminated immediately\n",
      "12  job security\n",
      "106  layoffs deduction salaries covid cover quarantine facility oxygen cylinder facility employee dependent lot\n",
      "243  really supportive work home comparatively safe period called us back office like risking lives hope tcs let us work home corona completely gone life rosk everywhere convenient work environment feel productive reasons like extended office hours\n",
      "142  tcs never let feel recession going insecurities job salary everything maintained smoothly didnt even bother let us know happening around world\n",
      "196  full job security time salary payment salary less hike percentage low plus covid got zero hikes zero promotions year hard grep financially company looking making good money yur ground rule company\n",
      "68  company culture full micro management worst managers promotion hikes\n",
      "159  havent come across incident lay employees continue get regular compensation tata kind compassionate believe projects little edge bumping pressure hour pandemic\n",
      "119  one employees tcs part company worked tcs time felt better felt safe place given opportunity want continue services tcs\n",
      "73  pandemic never stopped salary also provided camp covid affected employees\n",
      "20  good health policies\n",
      "418  increment year uncertain circumstances tcs promised job cuts also provided reimbursement facilities work home paraphernalias hrs called number associates enquiring overall health associate family also provided helpline numbersfor various issues might arise associate family member covid infected overall tcs handled situation fairly wellof course lack increments year demotivated number associates choose overlook read\n",
      "29  job securitywork life balance\n",
      "23  recognition hard worker\n",
      "71  good work environment cultures leave policies hr team always supportive\n",
      "35  except compensation everything good\n",
      "102  want work tcsi year experience accounts departmentgood work environment tcsif work tcs dream completed\n",
      "62  good opportunities learning new technologies travelling abroad\n",
      "99  happy opening year job become working like machine later years lost job satisfaction later left job\n",
      "51  tcs taking care majors caring organisation good job\n",
      "68  job security poor work culture management okay company policies poor\n",
      "168  love tcs really missing everything lot new things every day new learning tcs different projects get seemeettalk different people lot learning ample amount opportunities\n",
      "250  support management project working instead extra pressure put team take leaves would make earn revenue calls till asked holding situation obviously good thing tcs perhaps wont fire us tough times nothing hike otherwise bad company culture work inread\n",
      "131  tcs covering covid health issurance also providing self quarantine rooms needs companies firing employees tcs ensuring job security\n",
      "387  flowrish teammates sharp time training job security depends facility faculty want increase lifestyle adding term growth appraisal travel dont time wheelers help continue review lifestylelike give suggesyion politics good learning skill make friendly environment going find wife ininnovationmy working lifestyles quite different others want make environment say balanced working life read\n",
      "145  worked worlds safest organization whatever condition job secure also every higher management people pay attention towards health u effected virus\n",
      "269  providing work home offices closed situation also providing facilities healthcare facilities meeting communication expense facilities due covid despite current situation companies economic conditions although sometimes going got tough still im company years removed yet\n",
      "109  lot respect tcs heart though wish leave organisation future growth really respect tata group best thing india\n",
      "36  although hike fy however job secured\n",
      "117  glad got opportunity work tcs maintain good work environment employees provide various opportunities learn new skills\n",
      "72  want job security work life balance family culture tcs best company work\n",
      "87  providing employess wfh rest employees adding extra allowance whi requested work office\n",
      "62  liked job security overall tcs good supporting covid situation\n",
      "98  every way always work life balance ensuredexclusively team made work closed loop higher management\n",
      "35  friendly team tcs work culture good\n",
      "103  support received pandemic resulted worldwide lockdown encouraging sure things would shape coming months\n",
      "104  tcs cutting payment employees also r give leave much employee want one company world fill proud part tcs\n",
      "110  tcs supportive career development area paying money employee say worsti left company january still waiting ffs\n",
      "105  great work culture pendamic giving thank u much great mr ratan tata need people world like ratan tata sir\n",
      "39  proud tcsr safety comfortable zone work\n",
      "123  working tcs long lasting experience good company providing many opportunities take care employees first known ethics values\n",
      "257  tcs best among service based organizations india pandemic scenario every company laying people didnt hear single person leave tcs even providing certain amount medical expenses covid treatment also businessman industrialists prove time tcs star organization\n",
      "127  good job security learning perspective ar gaps bt happens want domain project working upon overall good organisation feel proud\n",
      "149  good work environment culture teammates supportive management transplant huge cafeteria gaming arcade chilling company policies good give salary hike\n",
      "236  job security learning growth like project conducted many training sessions proper dress coding checked security regularly covid situation proper asset management team still planning different ways finding x employees assets wfh location\n",
      "44  totally worst dont join hyderabad office tcs\n",
      "808  months training freshers graduate good everyone get good learning opportunity period important thing connected people different location diverse culture important everyone cope corporate environment completion school college life projects colleagues different age groups feel bore employee stays bench current scenario different projects available mostly support maintenance project get opportunity learn new things tcs good cab bus service kolkata location girls get cab pm boys get pm sure locations kolkata bus service free cost pick drop tcs well known csr activity well tcs maitree club organizes different extra curricular activity stating painting dancing trekking adventure activity end tcs famous mediclaim service must say sure companies dont need bother money family member sick insured schemeread\n",
      "102  tcs good place full opportunities different fieldsbut currently im working left tcs due higher studies\n",
      "61  handled well ie work home feel proud wfhhas carried employees\n",
      "34  good environment supportive people\n",
      "73  layoff salary cut grades good opportunities inside organization pure luck\n",
      "54  safe job wfh good thing medical facilities secured job\n",
      "88  truly stood everyone associates treated us utmost dignity difficult time always grateful\n",
      "62  like work culture work life balance support pandemic excellent\n",
      "65  tcs hr department touch monthly got wfh facility workoverall good\n",
      "147  supporting lack resources management every level worried customer matter happen employee everyone struggling laptop asking get desktop baselocatiin\n",
      "53  company cares employees covid period giving work home\n",
      "63  tata group committed values secured job even pandemic situation\n",
      "33  working tcs right answer question\n",
      "112  absolute pleasure working company care like family almost every alternate months call make sure well family fine\n",
      "69  tcs company also big brand offering work home covid working good thik\n",
      "105  amazing organization full talents happiness work culture awesome happy work trainers managers cooperative\n",
      "16  micro management\n",
      "458  tcs worked three companies seriously never ever felt experience like tcs didnt got salary tcs ive learnt lot things office seniors treat like parents give us much opportunity learn im band ill never ever leave company helped also supported bad days ill always serve company company means ill never treat like employee past took part social work office side ill always ready type social work given office love environment office behavior senior colleaguesread\n",
      "254  childhood dream join good company understand company go oneday talk tcs companythem dream work tcs company take dream company top time worried whole world peoples us worried tim tcs company thought people job selection appreciated thanks tcs company read\n",
      "33  one best company adopt new normal\n",
      "163  supporting employee necessary support delivering computer home also providing allowances internet happy say tcs providing medical support employees helping us alot\n",
      "41  policies employees always change good one\n",
      "19  friends circle good\n",
      "194  tcs company support us every situation unexpected people make worst us sometimes behaviour stop us reach ambitions bad fact organisation otherwise love stay tcs like rule none security employees\n",
      "86  permanent job security struggling face hr call back office cases increased drastically\n",
      "89  never worked company dont know speak much think work get learn lot give best duga company\n",
      "91  tcs removed bas contract people organizationplease dont go tcs job security less bas people\n",
      "576  took job tcs ive decided quit organization taking one time career opportunity worked really hard find better position role first team achieving got moved one another team circumstances arent really side due process migration movedalong team members still got placed good team right im working good people surrounded methis story could reveal tcs place get learning get know new world corporate businesses challenging environment improve last resort employees personal financial assistance good platform deeds ans needs right place explore evolve around globe likely familyread\n",
      "60  experience tcs proud tcsertcs good policies work environment\n",
      "76  working tata consultancy services since years month great experience working\n",
      "106  company help realising personal life also matters apart professional life got great help superiors getting\n",
      "87  like culture infrastructure tata consultancy service getting support tcs since employee\n",
      "152  worst management force come office hide covid positive cases office order avoid panic force quarantine willing come office force apply leaves hr useless\n",
      "26  gave antique computers wfh\n",
      "181  comapny helpful kind employees pandemic situation job well secured happy work provided work home strategy pandemic situation started also provided working envt home support business\n",
      "101  pleasure part firm past year tough time companies firing employees tcs remain loyal staff proud tcser\n",
      "99  feel good whenever share awareness present situation taking care us texts providing contact numbers\n",
      "408  exceptionally high support covidjob secure salary time management assurance everyone safe reduces anxietyhigh level communication guidanceinvolvement various activity bringing celebrities chef mountaineers athletesample support psychological counselinggood platformsfor collaboration else decisions employee safety kept priority even cost businesstcs rated top organisation comes support employees covid read\n",
      "34  job security taking care employees\n",
      "44  job security probability individual keep job\n",
      "222  tcs job secure month month improve knowledge using still based training also per process training conduct say good infrastructure help needy people sharing funds mainly covid following government rules etc tcs good company\n",
      "12  job security\n",
      "36  happy part tata consultancy services\n",
      "54  left job covid team mentally harrased forced leave job\n",
      "223  tcser yes company ultimate support possible outcome avoid spread virus taken care work home safety precautions updates providing mediclaim facilities work life pressure smooth balance work everything properly taken care tcs\n",
      "64  lay tcs job security paying internet cost also due wfh panademic\n",
      "23  supporting every aspect\n",
      "139  worked one half year payroll manager keep telling convert didnt happened removed contract employees stating covid impact worst decision tcs\n",
      "69  apart job security nothing good working analytics nkp mumbai location\n",
      "87  lockdown work homethey provided pc work even internet cost given company monthly salary\n",
      "83  good providing job security failed concerning employees issues benefits worst hikes\n",
      "29  job secured career growth tcs\n",
      "116  laid though contractor sure motive keep permanent employees happy view told making permanent employee never happened\n",
      "95  totally fracturing couldnt manage work life balance working day night without compensation hike\n",
      "69  happy work tcs great opportunity grown knowledge skills good team got\n",
      "109  good working covid bcz working home cut salary companies also work system delivered us ur home address safety\n",
      "82  despite pandemic still job secureso tcs best mnc company worldi proude working tcs\n",
      "133  kindly help proceduresto apply transfer mumbai location home town kerala location tcs either trivandrum kochin tcs due covid pandemic\n",
      "17  work life balance\n",
      "526  excited work tcs process tl managers made worst made us work like slaves even achieved target credits transferred favorite colleagues much partiality negative atmosphere inside company higher authorities doesnt manners humanity came earn money get work done try put good fake image clients dont know prior clients empoloyes come hire candidates much possible dont know manage mass recruiters show company destroying career people thing know torture employees try squeeze energy employees much possible ethics work culture read\n",
      "51  supporting applying leaves could provide device wfh\n",
      "63  job security good work culture opportunity learning development\n",
      "116  job security best part tcs even company taking care associates bench critical time people loosing jobs organisations\n",
      "80  best company work withworking tcs superb experiencejob security lenient policies\n",
      "407  work tcs gives great experience knowledge worked good team leader support every step process learned handling stress pressure odd situations salary hike makes unhappy little bit benefits good work tcs may gives good career also resigned due personal problems working environment friendly project always updates includes innovations working tcs felt working government org much security felt working tcs read\n",
      "73  work environment job culture good womens safety job security good benefit\n",
      "95  good work environment culture teammates supportive management transparent company policies good\n",
      "67  draw salary without work even without going office single day month\n",
      "191  carrying company provided laptop pandemic hits devops engineer already vpn admin privileges turned long faced lag wfh period company also providing internet connection charges quite happy tcs\n",
      "150  apart job security company provides various opportunities skill development flexible working environment various benefits provided company plus points\n",
      "125  good excellent job security provided tcs pandemic good company policies excellent support employes providing work home option\n",
      "107  job security better compared companies lot internal politicsemployees suffer lot role change project change\n",
      "113  knowledge luck connections great terms job security gives good health benefits take leave studies willing working\n",
      "248  tcs started precautionary measures since early stages covid employees stationed work home new normal company instrumental keeping psychological parameters balanced tough time help different programs expert views work life balance equally taken care\n",
      "552  life tcs dependant type project one allocated still one find things good job security best good worklife balance times things may become hectic times balanced many people interact chance work latest technologies project specific onsite possibility decided per followingjust unanimous conclusiona project onsite workb years working tcs employeec immeasurable knowledge equally impressive articulation skill good soft skills softskill importantd good fooling people convincing ones good workenvironment depends type associates one works withmine goodread\n",
      "176  tcs name says tata always best best secure company one imagine crisis pandemic time job security complete comfortable work home good work life balance employee friendly company\n",
      "144  tcs support extraordinary pandemic giving work home option risk covid associates also impact productivity thing working hours become still hikes\n",
      "556  see job security mentioned posts tcs good brand name flaunt matter pride learning opportunities immense learning development plethora articles exams training material enhance skills compensation best among mncs depends managers perspective sycophancy omnipresent needless say said still mention salary part positives medical digital claim system makes life easy facilities like gym cafeteria varies location location lucky enough deputed good place get good amenities place like malad old asylum infrastructure poor cons getting stuck internal project read\n",
      "13  great support\n",
      "55  job security thing would like appreciate covid lockdown\n",
      "8  security\n",
      "340  tcs supporting us lockdown asking employees come back home stay near office spite dangerous ongoing conditionthey neither provided laptops provided internet working home spite fact company thousands crores profit every quarteralso one never join tcs career starting days destroy life completely learning repeating learn anything companyread\n",
      "94  tata company comes heartfully help associates also near family members proud say employee tata\n",
      "83  job security people already earning good switch company freshers expect good growth\n",
      "17  work life balance\n",
      "20  onsite opportunities\n",
      "174  less salaries company compare marketand given bonus covid situation rather increment salarywe work home toobut company provided increment decreased work even covid situations\n",
      "75  good environment due covid lockdown work home provided hence safe employees\n",
      "104  looking challenging skill development roles good easy go minded people job secure people good youngsters\n",
      "279  overall experience good lot people keep wasting companys time indirectly impact hard working bunch tcs supportive covid period continuous wfh since april company keep gathering information associates well covid corner dedicated helpline number call doctos assistance help someone\n",
      "153  tcs one tha multinational com soft nice place working everyone desire evry person dreams come true tcs tha comfortable working environment compare compny\n",
      "185  work life balance frequent weekend workingsjob security politics teammates different cultural background work happily salary n compnsations good mediclaim policies n insurance excellent\n",
      "82  company support good special thanks ratan tata sir donating huge amount need one s\n",
      "135  good work environment culture huge cafeteria gaming arcade chilling company policies good appraisal fair give salary hike bonus nothing\n",
      "75  really hands organization situation many peoples unable working company let\n",
      "59  situation company supporting us well issue salary deduction\n",
      "251  consider one reliable organisations global pandemicthought lots internal projects suffering still allocating project associates friends mncs simply asking stay bench indirectly forcing leave jobbut per personal realisationend day save productivityread\n",
      "69  best terms securitywork life balanceteam activities skill development\n",
      "88  like govt jobwork culture excellent excellent company policies unbelievable tcs policies\n",
      "176  tcs handled pandemic situation great manner implemented work home culture immediately due wide spread corona virus taking associates health primary concern communicated clients\n",
      "68  tcs awesome company work industry get support mgmt team freedom work\n",
      "24  tcs supporting work home\n",
      "175  contractor employee last years treated like contractor removed within days pandemicnow trust like company cannot support contractor employees situation alsovery bad experience\n",
      "29  pandemic secure job means lot\n",
      "12  job security\n",
      "94  lockdown time tcs pay salary employees also provide covid health centers usefull tcs employees\n",
      "138  work culture good colleagues used support lot together team used work hard enjoy well work life balance used good overall experience great\n",
      "90  think tcs yes given job securitybut personal lifeit like burden usthere growth financially\n",
      "22  learning opportunities\n",
      "106  mostly like health insurance policy get treatment best hospital country mediclaim need worry hospital bill\n",
      "15  working culture\n",
      "138  dont like thing tcs manager always support local guys support covid time manager didnt inform tcs system required calling us base location\n",
      "299  important thing tcs layoff anyone though hiring seniors happening given offer tcs committed cancelled offer due covid also helped virtual joining pandemic situation provided employee work hometcs project oriented certain variables payments based projects consultant expected work certain projectread\n",
      "56  good support tcs honestly timesheet policy become strict\n",
      "12  job security\n",
      "97  enjoyed time working good exposure latest technologies part innovation labs flexible work timings\n",
      "95  im longer employee left job higher studies hr person managers helped alot higher study policies\n",
      "243  really supportive work home comparatively safe period called us back office like risking lives hope tcs let us work home corona completely gone life rosk everywhere convenient work environment feel productive reasons like extended office hours\n",
      "106  layoffs deduction salaries covid cover quarantine facility oxygen cylinder facility employee dependent lot\n",
      "97  assured jobs secured also lot exposure opportunities improve ourself feel proud lucky working tcs\n",
      "133  webinars guidance better heath covid time availability heath experts counsellors daily tips yoga sessions ergonomic tips sessions lot\n",
      "196  full job security time salary payment salary less hike percentage low plus covid got zero hikes zero promotions year hard grep financially company looking making good money yur ground rule company\n",
      "54  prakash iyer tower lead telstra terminated immediately\n",
      "142  tcs never let feel recession going insecurities job salary everything maintained smoothly didnt even bother let us know happening around world\n",
      "68  company culture full micro management worst managers promotion hikes\n",
      "159  havent come across incident lay employees continue get regular compensation tata kind compassionate believe projects little edge bumping pressure hour pandemic\n",
      "119  one employees tcs part company worked tcs time felt better felt safe place given opportunity want continue services tcs\n",
      "418  increment year uncertain circumstances tcs promised job cuts also provided reimbursement facilities work home paraphernalias hrs called number associates enquiring overall health associate family also provided helpline numbersfor various issues might arise associate family member covid infected overall tcs handled situation fairly wellof course lack increments year demotivated number associates choose overlook read\n",
      "73  pandemic never stopped salary also provided camp covid affected employees\n",
      "20  good health policies\n",
      "29  job securitywork life balance\n",
      "23  recognition hard worker\n",
      "387  flowrish teammates sharp time training job security depends facility faculty want increase lifestyle adding term growth appraisal travel dont time wheelers help continue review lifestylelike give suggesyion politics good learning skill make friendly environment going find wife ininnovationmy working lifestyles quite different others want make environment say balanced working life read\n",
      "71  good work environment cultures leave policies hr team always supportive\n",
      "99  happy opening year job become working like machine later years lost job satisfaction later left job\n",
      "35  except compensation everything good\n",
      "102  want work tcsi year experience accounts departmentgood work environment tcsif work tcs dream completed\n",
      "62  good opportunities learning new technologies travelling abroad\n",
      "269  providing work home offices closed situation also providing facilities healthcare facilities meeting communication expense facilities due covid despite current situation companies economic conditions although sometimes going got tough still im company years removed yet\n",
      "68  job security poor work culture management okay company policies poor\n",
      "168  love tcs really missing everything lot new things every day new learning tcs different projects get seemeettalk different people lot learning ample amount opportunities\n",
      "250  support management project working instead extra pressure put team take leaves would make earn revenue calls till asked holding situation obviously good thing tcs perhaps wont fire us tough times nothing hike otherwise bad company culture work inread\n",
      "51  tcs taking care majors caring organisation good job\n",
      "131  tcs covering covid health issurance also providing self quarantine rooms needs companies firing employees tcs ensuring job security\n",
      "117  glad got opportunity work tcs maintain good work environment employees provide various opportunities learn new skills\n",
      "145  worked worlds safest organization whatever condition job secure also every higher management people pay attention towards health u effected virus\n",
      "109  lot respect tcs heart though wish leave organisation future growth really respect tata group best thing india\n",
      "36  although hike fy however job secured\n",
      "808  months training freshers graduate good everyone get good learning opportunity period important thing connected people different location diverse culture important everyone cope corporate environment completion school college life projects colleagues different age groups feel bore employee stays bench current scenario different projects available mostly support maintenance project get opportunity learn new things tcs good cab bus service kolkata location girls get cab pm boys get pm sure locations kolkata bus service free cost pick drop tcs well known csr activity well tcs maitree club organizes different extra curricular activity stating painting dancing trekking adventure activity end tcs famous mediclaim service must say sure companies dont need bother money family member sick insured schemeread\n",
      "72  want job security work life balance family culture tcs best company work\n",
      "87  providing employess wfh rest employees adding extra allowance whi requested work office\n",
      "103  support received pandemic resulted worldwide lockdown encouraging sure things would shape coming months\n",
      "62  liked job security overall tcs good supporting covid situation\n",
      "98  every way always work life balance ensuredexclusively team made work closed loop higher management\n",
      "35  friendly team tcs work culture good\n",
      "110  tcs supportive career development area paying money employee say worsti left company january still waiting ffs\n",
      "104  tcs cutting payment employees also r give leave much employee want one company world fill proud part tcs\n",
      "105  great work culture pendamic giving thank u much great mr ratan tata need people world like ratan tata sir\n",
      "257  tcs best among service based organizations india pandemic scenario every company laying people didnt hear single person leave tcs even providing certain amount medical expenses covid treatment also businessman industrialists prove time tcs star organization\n",
      "123  working tcs long lasting experience good company providing many opportunities take care employees first known ethics values\n",
      "39  proud tcsr safety comfortable zone work\n",
      "149  good work environment culture teammates supportive management transplant huge cafeteria gaming arcade chilling company policies good give salary hike\n",
      "127  good job security learning perspective ar gaps bt happens want domain project working upon overall good organisation feel proud\n",
      "236  job security learning growth like project conducted many training sessions proper dress coding checked security regularly covid situation proper asset management team still planning different ways finding x employees assets wfh location\n",
      "102  tcs good place full opportunities different fieldsbut currently im working left tcs due higher studies\n",
      "44  totally worst dont join hyderabad office tcs\n",
      "458  tcs worked three companies seriously never ever felt experience like tcs didnt got salary tcs ive learnt lot things office seniors treat like parents give us much opportunity learn im band ill never ever leave company helped also supported bad days ill always serve company company means ill never treat like employee past took part social work office side ill always ready type social work given office love environment office behavior senior colleaguesread\n",
      "34  good environment supportive people\n",
      "73  layoff salary cut grades good opportunities inside organization pure luck\n",
      "61  handled well ie work home feel proud wfhhas carried employees\n",
      "88  truly stood everyone associates treated us utmost dignity difficult time always grateful\n",
      "54  safe job wfh good thing medical facilities secured job\n",
      "65  tcs hr department touch monthly got wfh facility workoverall good\n",
      "147  supporting lack resources management every level worried customer matter happen employee everyone struggling laptop asking get desktop baselocatiin\n",
      "53  company cares employees covid period giving work home\n",
      "63  tata group committed values secured job even pandemic situation\n",
      "33  working tcs right answer question\n",
      "62  like work culture work life balance support pandemic excellent\n",
      "576  took job tcs ive decided quit organization taking one time career opportunity worked really hard find better position role first team achieving got moved one another team circumstances arent really side due process migration movedalong team members still got placed good team right im working good people surrounded methis story could reveal tcs place get learning get know new world corporate businesses challenging environment improve last resort employees personal financial assistance good platform deeds ans needs right place explore evolve around globe likely familyread\n",
      "69  tcs company also big brand offering work home covid working good thik\n",
      "112  absolute pleasure working company care like family almost every alternate months call make sure well family fine\n",
      "105  amazing organization full talents happiness work culture awesome happy work trainers managers cooperative\n",
      "16  micro management\n",
      "33  one best company adopt new normal\n",
      "254  childhood dream join good company understand company go oneday talk tcs companythem dream work tcs company take dream company top time worried whole world peoples us worried tim tcs company thought people job selection appreciated thanks tcs company read\n",
      "41  policies employees always change good one\n",
      "163  supporting employee necessary support delivering computer home also providing allowances internet happy say tcs providing medical support employees helping us alot\n",
      "19  friends circle good\n",
      "194  tcs company support us every situation unexpected people make worst us sometimes behaviour stop us reach ambitions bad fact organisation otherwise love stay tcs like rule none security employees\n",
      "152  worst management force come office hide covid positive cases office order avoid panic force quarantine willing come office force apply leaves hr useless\n",
      "87  like culture infrastructure tata consultancy service getting support tcs since employee\n",
      "76  working tata consultancy services since years month great experience working\n",
      "86  permanent job security struggling face hr call back office cases increased drastically\n",
      "89  never worked company dont know speak much think work get learn lot give best duga company\n",
      "91  tcs removed bas contract people organizationplease dont go tcs job security less bas people\n",
      "60  experience tcs proud tcsertcs good policies work environment\n",
      "106  company help realising personal life also matters apart professional life got great help superiors getting\n",
      "69  apart job security nothing good working analytics nkp mumbai location\n",
      "408  exceptionally high support covidjob secure salary time management assurance everyone safe reduces anxietyhigh level communication guidanceinvolvement various activity bringing celebrities chef mountaineers athletesample support psychological counselinggood platformsfor collaboration else decisions employee safety kept priority even cost businesstcs rated top organisation comes support employees covid read\n",
      "181  comapny helpful kind employees pandemic situation job well secured happy work provided work home strategy pandemic situation started also provided working envt home support business\n",
      "26  gave antique computers wfh\n",
      "44  job security probability individual keep job\n",
      "222  tcs job secure month month improve knowledge using still based training also per process training conduct say good infrastructure help needy people sharing funds mainly covid following government rules etc tcs good company\n",
      "99  feel good whenever share awareness present situation taking care us texts providing contact numbers\n",
      "101  pleasure part firm past year tough time companies firing employees tcs remain loyal staff proud tcser\n",
      "526  excited work tcs process tl managers made worst made us work like slaves even achieved target credits transferred favorite colleagues much partiality negative atmosphere inside company higher authorities doesnt manners humanity came earn money get work done try put good fake image clients dont know prior clients empoloyes come hire candidates much possible dont know manage mass recruiters show company destroying career people thing know torture employees try squeeze energy employees much possible ethics work culture read\n",
      "12  job security\n",
      "223  tcser yes company ultimate support possible outcome avoid spread virus taken care work home safety precautions updates providing mediclaim facilities work life pressure smooth balance work everything properly taken care tcs\n",
      "34  job security taking care employees\n",
      "36  happy part tata consultancy services\n",
      "64  lay tcs job security paying internet cost also due wfh panademic\n",
      "54  left job covid team mentally harrased forced leave job\n",
      "109  good working covid bcz working home cut salary companies also work system delivered us ur home address safety\n",
      "87  lockdown work homethey provided pc work even internet cost given company monthly salary\n",
      "139  worked one half year payroll manager keep telling convert didnt happened removed contract employees stating covid impact worst decision tcs\n",
      "23  supporting every aspect\n",
      "29  job secured career growth tcs\n",
      "116  laid though contractor sure motive keep permanent employees happy view told making permanent employee never happened\n",
      "69  happy work tcs great opportunity grown knowledge skills good team got\n",
      "95  totally fracturing couldnt manage work life balance working day night without compensation hike\n",
      "83  good providing job security failed concerning employees issues benefits worst hikes\n",
      "472  company work segment divisions work makes like company directly indirectly work japanese team imbibe perfections methods solve particular problem problems pretty much every everyone fails one oranother matters reactrespond recover learned standards concept techniques product level management level fantastic working environment one really puts learning perfection priority work life balance simple hard work days week enjoy weekends hardwork means literally hardwork read\n",
      "82  despite pandemic still job secureso tcs best mnc company worldi proude working tcs\n",
      "133  kindly help proceduresto apply transfer mumbai location home town kerala location tcs either trivandrum kochin tcs due covid pandemic\n",
      "213  working india within tcs might offer benefits terms policies like sabbatical maternity leaves etc work life balance really depends project india onsite location manageris good want settle job security highest prio\n",
      "17  work life balance\n",
      "51  supporting applying leaves could provide device wfh\n",
      "423  horrible place work hr hiring ppl slum areas gutka inside floor working others work item exams tl given bpo employees helps gaining easy access appraisal done basis liking employees performance goal sheet fill long process big waste time feel changed immediate affect tl dont even check filled team members thing liked tv salary always time though really extremely less compared distance time employees give reach placeread\n",
      "63  job security good work culture opportunity learning development\n",
      "80  best company work withworking tcs superb experiencejob security lenient policies\n",
      "88  nothing onsite opportunities based performance years experience much favoritism nepotism\n",
      "116  job security best part tcs even company taking care associates bench critical time people loosing jobs organisations\n",
      "30  job security work life balance\n",
      "255  company open innovation readily adopts latest technology love fact part team markets reliable highquality products global client base job security work culture nice depend location project management also fast atlast policies good especially health policy\n",
      "48  tcs name brand working brand company proud thing\n",
      "209  likes job security work life balance company culture learning opportunities tcs tcs providing food facility associate stuck pg without food tcs introduced secure boarderless workspace work home difficult times\n",
      "16  didnt cut salary\n",
      "90  even pandemic expect report office project refused come past lop finally expect resign job\n",
      "180  happy proud tcser requesting please provide cab facilities every locationam working bangalore location work place sjm towers safety poor areahoping bau help cab facilities location\n",
      "76  best thing giving opportunities work many ways learning new things initiated\n",
      "203  got offer letter exciting join tcs fresher learnt lot dont expect could ever learnt way lockdown situation helpful providing us possible facilities like taking desktops home providing us internet charges\n",
      "29  feeling happy part tata group\n",
      "125  like worklife balancecovid support provided company desktop able work home weekly calls hr team asking health physical mental\n",
      "79  nice tcs helping lot social activity worklife balance well good working culture\n",
      "57  always support employeesi get opportunity would love work\n",
      "275  far good sending machines employees company desktop laptops hr calls enquire family provided quarantine centers ginger hotels tcs employees amazing initiative help families stay safe also updated insurance employees feel tata taking care employees way beyond expectationsread\n",
      "90  job security company comparatively good market tie centers quarantine quantity less though\n",
      "100  tcs standing us giving belief job security understanding situations well pandemic i m happy part tcs\n",
      "29  work home march gng great far\n",
      "87  tcs definitely freshers youre married pregnant old enough soon retire tcs perfect match\n",
      "126  honour work tcs great company improve ability skills case management careful associate health safety always ready provide help\n",
      "45  flexible working hours freedom work execution\n",
      "762  would like say worked say im still working tcs would like take things step stepfirst teammates teammates cooperative supportive helping hands learnt lot second thing training learnt lot new things innovativeness creativity hands training modules payroll employee concerns billing modules handling esacalation calls concerns third thing job security would like say years tcs think tcs company job security company fourth point highlight career growth doubt career growth past couple years tcs giving much hike terms career growth ok hiking weakrest salaryappraisal travelpolitics learningwork environment innovationwork life balance etc scanrios tcs good employee oriented companyi hope enoughif want anything else please send email thanks regardsnaser islam read\n",
      "68  tcs good safetest environment work support associate many ways covid\n",
      "27  work home nothing much abou\n",
      "51  awesome workplace nice atmosphere work life balance\n",
      "71  except salary compensation benefits everything excellent within company\n",
      "9  work home\n",
      "135  tcs supportive junior associates like experience ask healthmy personal experience tcs bad created situation resigned job covid pandemic\n",
      "35  traning session funlearnt lot thats\n",
      "326  team mates average job security high similar government job see people years experience moving around work life balance high even spend entire day nothing even stay hours one tell anything well still places innovate share ideas tcs gives privileges new ideas innovation best place settle years experience job security highread\n",
      "46  job security work culture onsite opportunities\n",
      "109  really nice intiative hrs management calling individuals personally asking safety help required work smoothly\n",
      "65  everything good like job security skill deveoopment carrer growth\n",
      "115  experience may vary project project overall experience good main good part tcs job security health insurance scheme\n",
      "187  personally like tcs foul play within organization provides complete job security employees yeah deduction salary even pandemic got learn much company overall changes perspective candidate\n",
      "75  excellent support received full salary even work home started proud b tcser\n",
      "84  job security high company policy also good note book follow reality project specific\n",
      "477  working tcs past yr months lucky enough start career heresee good company one take job unless serious violation growth poor company mean old projects doesnt scope jus one looking job security best career growth poor wont get salary hike bonus advice jus stay company years learn new technologies move company else hear number times manager ask move development project got one onsite chance good project send u next month fake promises dont stay jus look ur career move outread\n",
      "407  tcs strongly keep brand value towards satishfaction customers clients innovative way growth rate always constant bit higher anyone client customer handling skills language skill infact coming general back ground upskill trade financial expirt payments collections though people general back ground would possibly working hard get upskill still equal opportunity respect career growth feeling proud tcserread\n",
      "12  nothing sayy\n",
      "20  glad say working tcs\n",
      "16  work home option\n",
      "38  say published stuff different practice\n",
      "238  first tcs deginified cool company job safecomming pandemic situation tcs supporting employees well structured approach provided desktops employees march given security alerts wellso really like tcs much since show good direction employees\n",
      "116  good job security supports employees covid providing free doctor consultation provides preventive actions supportive\n",
      "117  company shown trust employees planning send official desktops home address employees unable collect machines lockdown\n",
      "403  tcs multinational company good projectsaccountslots onsite positions drop career bright like anything different domains company also focusing trending technologies job security career growth depends account landing joining salary per market standards tcs account wont track time finish work leave office wfh say work life balance best organization women employeesit best organization women employeesread\n",
      "75  job security thing good never fire even come office logout end without work\n",
      "83  good work good support team mets good salary ana every uesr incerement salary bonas\n",
      "117  like skill development learning technology learn via ultimatix useful us easy learn supporting rotational shift based\n",
      "42  atmosphere premises relationship employees\n",
      "70  key point pandemic job security terms job security tcs great way ahead\n",
      "203  overall work experience bad important thing job secured u want grow learn new skills find product based company u get overall development covid situation dint fire employees provide opportunity work home\n",
      "4  good\n",
      "198  liked working tcs got learn new things projects offered got great teammates helped every scenario got work life balance days went work became stagnant challenges work one thing good tcs job security\n",
      "21  excellent support tcs\n",
      "12  job security\n",
      "60  medical benefit job security good polices brand name ect ect\n",
      "53  lucky part organization getting possible help company\n",
      "15  good career tcs\n",
      "133  absolutely nothing liked physical design goal sheets set supervisors human resource official good implementation following pretty bad\n",
      "55  working home last months provided computer systems home\n",
      "35  good company good work life balance\n",
      "308  tcs decent firm work good freshers well experienced associates good platform grow knowledge enhance career many things learn also conducts internal learning programme get know fire safetywomen safety etc apart best part company assures job security wont terminate ram project unless done compliance issueread\n",
      "109  companies terminated employees covid period tata consultancy services give salary proper monthproud tcs staff\n",
      "11  working tcs\n",
      "759  hello guys i working since last years overall good experience far joined tcs till learning many things senior teammates colleagues talk career growth yes slowly keep till target otherwise get good opportunity manager account manager show visibility much contribute project may whatever related project internal work one stop career growth frankly speaking coming onsite looking onsite please dont trust anymore must go politics know well well everywhere career appraisal it depends know believe you job security yup much know like semi government innovationideation yes submit least one idea till appraisal otherwise manager definitely asksalary what yes without salary one work awww talking hikeincrement less thinking note tcs good secure company girls read\n",
      "25  friendly work environment\n",
      "512  tcs one indian corporate office unlike companies like infosys enjoy flexible timings entry exit time considerations result orientedremaining things common company india long working niche technologies job safe salaries appraisals based onyour bargaining capabilities performances things nothing great similar companies reg worklife balance depends project shifts dependency project one big plus point tcs health insurance covers family including parents many companies covers health insurance family parents read\n",
      "20  current employee tcs\n",
      "13  work home job\n",
      "162  trainings held daily basis helpful also teammates cooperative helpful nature regarding salary satisfied appraisal environment basically professional well mannered\n",
      "49  work life balance work home support call problems\n",
      "140  teamwork ambiance ilp one highlights entire experience tcs ahmadabad place mental career satisfaction tcs hyderabad project related learning\n",
      "17  team work quality\n",
      "336  best thing tcs job security offers pretty much secure job work without worry loosing job good seniors peer also help support throughout though less number work life balance good easily personal life working organization rest depends project work much people looking onsite opportunities come search suitable project meet aspirationsread\n",
      "65  much support selected high profile employees privileged work home\n",
      "126  best company terms career growth job securityif person continously switch companies wanted settle one workplacetcs good option\n",
      "95  yes tcs good company joined tcs cunsultency time removed us still unemployee critical situation\n",
      "152  calling back employee base location known mnc companythen atleast deliver desktop employees location situation travel quarantine centres collect desktop\n",
      "204  happy party tcs family company giving full salary employes working non working company job security many projects available shift one process another takes certain period time finally fully happy part tcs\n",
      "313  working environment tcs far better less time done training thrown floor hurdle yes believe job security tcs much better compared organisation salary appraisals iam ok management issues travelling managed politics thing entertain tcs believe better place innovation new things believe managed balance work liferead\n",
      "116  good part holding employees laying unless utmosttcs better place settle career recommended freshers career aspirants\n",
      "10  brand tata\n",
      "149  worst experience career working tcs released project without intimation also till didnt allocated projects salaries since lockdown never expected tcs\n",
      "134  frankly speaking every different client different company released client one cares previous achievement work everyone knows hikes due\n",
      "147  good company start stands first bpo companies good start salary fresher projects much business oriented steam opportunities finance retail business\n",
      "12  job security\n",
      "126  tata always care employees know spread across world time situation tcs call employee asked health family safety also thank tcs\n",
      "36  like work tcs management safety good\n",
      "28  providing work home facility\n",
      "449  like many things compared similar mncs based exp friends working companies like first job security leave policy work timings n worklife balance would say going long term solely depends projects working clients working worked many domainsand plenty clients felt different situation handling things apart work environment also liked tcs subsidiary tata sons know benevolence indian society feels immense proud around earnings going charity thanks read\n",
      "307  comes job security tcs ranks first always salary hikes career growth bit challenging stuff politics common every company dont waste time thinking work environment culture totally depends people working around varies project project ill advise stay calm work yes quite supportive paticular situation wellread\n",
      "56  place totally safe provide salary time career growth low\n",
      "86  paying salaries laying people provided work home facility employees cut appraisal year\n",
      "194  company open innovation readily adopts latest technology part production support another point colleagues come various cultural backgrounds working happily collaboration good supportive team got\n",
      "111  good work environment culture teammates supportive management transparent huge cafeteria gaming arcade chilling\n",
      "24  first job loved work tcs\n",
      "12  work culture\n",
      "185  one biggest company among world different charity also helping employees providing wfh optionbut people managing level isndisppointing employees different waythe job security peak level\n",
      "49  supporting job security salary increment benefits\n",
      "87  work home given company job security good management understand work support guide help\n",
      "183  work environment good get facilities like indooroutdoor games gym good canteen library good infrastructure various career optionsleaveonsite opportunities important thing job security\n",
      "141  r client location inspite mumbai maharashtra r going office daily manager forced come office daily else pay lossthere work home facility till\n",
      "60  getting fully paid time situation blessing much thankful tcs\n",
      "109  tcs big mnc company ceo already said lay offs tcs fight corona virus tcs cuts employees increments promotions\n",
      "43  getting full salary however production zero\n",
      "504  nothing last years worked salary worked different different fieldsjust working last years hike growth even company thinking employee big organization employee growthi wasted years tcs switch earlier thoughtafter least years tcs provide good salary promotion increments bad experience working years tcs rehire employee employee joined anywhere change policies least tcs see employee given year worked hard growth increments reason left company want talk big organization person take feedback employee read\n",
      "57  paid salary months without deductionsand caring employees\n",
      "19  bad support tcs bpo\n",
      "367  well starts name brand tata groups everyone knows career growth diversity exposure trained well operations would deal well ethics part going ahead got great team little bit politics everywhere canbe managed hard work kaizan foremost thing happy eyes team leadmanager course appraisal best part appreciation clients need work quality n efficiency delivered n team read\n",
      "650  blessed nice teammates training opportunities abundant instructorled teach tuesday initiative helps learn new topic every tuesday online learning platform free subscription lyndacom safari books online etc provide excellent learning resources moreover professional certifications company reimburses fees youcareer growth kind slow according mesalary increment appraisals less suffering current scenario industries indiatravel opportunities manypolitics something ever come across maybe im blessed part alsowork environment good optimal pressure good learning innovation learning goes parallelly work internal division tcs cant say client projectsread\n",
      "80  glad became part great organisation job security work culture company policy osm\n",
      "44  left job tcs i m feeling left beautiful job \n",
      "18  terminating anyone\n",
      "17  job security good\n",
      "20  absolutely fantastic\n",
      "29  good work environment culture\n",
      "105  company providing privilege possible time also till keeping resources benchfor company needs appreciation\n",
      "192  actually company good managers company humanity managers managers also career growth nd skill development company totally depends upon project manager project manager human like giant humanity\n",
      "113  good work life balance opportunity youre lucky work abroad pick different kinds roles internally youre lucky grow\n",
      "85  job security pay mediocre senior management money hungry doesnt care employees suffer\n",
      "113  support covid good wfh initiated however internet connection provided system issue night shift allowance deducted\n",
      "17  job security high\n",
      "18  yes work home best\n",
      "58  good learning opportunity support every level every aspect\n",
      "99  free transport childcareno work home free foodno team outings job training international relocation\n",
      "84  thank concernwe received calls hr stating health conditionshappy receive salary time\n",
      "85  nagpur tcs location good internal transfer difficult training knowledge rmg team good\n",
      "91  overall atmosphere ok opportunity move ahead individual great limited favourite individuals\n",
      "47  good made arrangements work home stay safe home\n",
      "114  tcs brand weak leadership apac really talented folks speed org slow also regional leadership weak motivated enough\n",
      "66  given us work home opportunity march september salary hike freezed\n",
      "66  since unable resume serviceare updateds taken online supportive hr\n",
      "218  working tcs awesome experience organisation handled lockdown situation effectively couldnt reach office collect asset stuck hometown assets delivered residence tcs coworkers tsc first company good organization freshers\n",
      "108  well depends majorly kind project work current project better previous ones flexibility work management able\n",
      "152  really worst scenario esteemed tcs organisation stood like beacon facing ever tempest hurricance provided shelter food clothes working staff extemporary\n",
      "69  everyone good helpful one hr contacted order find whether fine unique\n",
      "447  depends last teammates good compare new one trainer genttle familiar would like give mark lots new things learned still helping takling job security know job security untill regin career seen tough growth thats slow salary law ok local people think travell allowances politics imagination make cry work environment definitely depends people yes lots innovenation come big company work life balance difficult maintain shift timing stay changes read\n",
      "67  working home tcs making sure provide necessary documentsinformation\n",
      "101  employees allowed work home good idea company making sure emp moving unless critical important reason\n",
      "335  company provides benefits employees higher management projects bad care business employees heard project release fte bcoz fte wont able collect system office ridiculous location may employee belongs states company provide wfh also management waits last moment decision bcoz many fte stuck would able go home one management ask themread\n",
      "53  satisfied work life balance training work environment\n",
      "164  overall good experience little work pressure personally tagged support project faced issues adapting weekend oncall support system overall friendly environment work\n",
      "89  tcs provided personal desktop first week march hr continuously enquiring us facing issues\n",
      "45  overall goodmanagement goodappreciated enough\n",
      "53  tcs supporting lockdown good way cancelling increment\n",
      "111  company giving full support expect good organisation really good environment culture compay feel proud part tcs\n",
      "54  enabling sbws tcs facilities employees work home fight\n",
      "41  job good pay better compensation benefits\n",
      "26  depends project good arent\n",
      "16  tcs fundamentals\n",
      "28  supporting lot pandemic time\n",
      "82  tcs helping every possible way happy part organisation helps employees like family\n",
      "38  work environment training job security\n",
      "453  good place work true professional want learninggrowth career company definitely gone days tcs used pay lot employees old employees hold high positions company take lot money give poor salary people low ranksin name appraisals bootlickers get good reviews one thing position someone switching tcs shehe get salary compared already working tcs beforehand ya job security workculture peoplementality filthy downmarket particularly noida kolkata branch read\n",
      "136  u want exploredo without hesitation avoiding negative thoughtsfor covid initially thy stuck followed better ways government instructions\n",
      "106  best thing united continue giving support leading company home stay safe stay home continue giving support\n",
      "88  std tcs dream company work withi happy joining tcs trainer best cyrus n made mny friends\n",
      "93  goodthe frustrating part pressure immediate manager complete training theory learning handson\n",
      "84  benefits like medical travel job security usual female employees provided facilities\n",
      "149  company giving salary everymonth cutting anything really proud tcs pendamic situation also company supporting employees providing facilitiy work home\n",
      "164  company good policy clearly mentioned scenarios projects company good fresher luck decides career tcs randomly allocates freshers projects good company start career\n",
      "133  tcs big organization every field lakhs employees takes care employees due situation tcs decided layoff employee even cutting salaries\n",
      "96  company give full support every situation pandemic situation tcs proves much care every employee\n",
      "117  except salary every thing well good tcs takehome package totally different one clear explanation times hike per month\n",
      "70  brand wonderfulbeing freshergetting opportunity work tcs real pleasure\n",
      "702  teammates always cooperative learning prospective company gives lot chances employee doubtly chance get good knowledge technology actual problem time come implementing knowledge difficult get satisfying project point view much salary tcs provide employees fair enough corresponding work available case work life balance basically differs account account average peronally feel work life balance tcs moderate somebody thinks heshe wants join tcs skills growth would like say yes projects tcs innovative labs opportunity wont find satisfied projects last want add really wants see himher developer dont think right place himher even feel service based companies scenario max projects enhancement typeread\n",
      "70  feel good tcs teammates good tranning also good job security fantastic\n",
      "48  good experience worked tata consultancy services\n",
      "80  horrible people it s talent smart working need people cslog hours office nothing\n",
      "27  job security best thing tcs\n",
      "13  permanent job\n",
      "468  working tcs years able work good mentors managers taken responsibilities given best resulted overall growth work environment casual depends project project mostly production support toes times sometimes cool salary appraisal ok ok better others companies learning good amount learning portals training sessions learning within tcs lnd team timely follow skill upgrade competencies work life balance best seen know friends companies say better work life balance tcsread\n",
      "17  employee friendly\n",
      "267  according working culture good got best teammates support lot work together mine malaysian client strict deliveries team collabaration totally satisfied able deliver dedicatedly add one thing tcs get benefits health ourself family also would like say tcs job security\n",
      "576  tcs known rich values sound organization culture focusses employee development traininglearning development opportunities work environment may ever vary one project another dependant effectiveness line managersupervisor terms compensation benefits either matches market tries best lead market far job security concerned tcs one select companies thinks people first anything else career progression dependant variable relying effectiveness line managersupervisorhr imperative focus behavioural competencies well apart functionaltechnical competencies selecting line managerread\n",
      "188  great opportunity start carrier big company get lots knowledge help free online courses provided good environment infrastructure good library lots projects working best place start carrier\n",
      "306  training provided new joinees aspects life option remain bench searching project company provides good job security stability lots long term onsite opportunities senior associatescompany promotes innovative ideas appreciation work also therethe team members give feel familyflexible working hours thereread\n",
      "45  since work home applicable allowed paid leave\n",
      "36  longer part tcs sure coping lockdown\n",
      "49  nothing like tcs filled filthy corporate politics\n",
      "68  hr policies good donot hire fire policy health insurance scemes good\n",
      "12  job security\n",
      "12  like nothing\n",
      "161  work environment great leave structure also good enough platforms hone skills new technologies worklife balance also great offices many cities take transfer need\n",
      "8  terrible\n",
      "12  job security\n",
      "57  ganesh currently employee tcs still love experience spent\n",
      "14  working right \n",
      "55  traning language softno politics workingjob also secure\n",
      "139  company better monthly payments benefits etc better pantry facilities satisfactory transport services issues like earlylate pick considered\n"
     ]
    }
   ],
   "source": [
    "for i in range (0,len(data1)):\n",
    "    print(len(data1.clean_round_1[i]),\"\",data1.clean_round_1[i])\n",
    "    data1.rev_len_positive[i]=len(data1.clean_round_1[i])\n",
    "    "
   ]
  },
  {
   "cell_type": "code",
   "execution_count": 87,
   "metadata": {},
   "outputs": [
    {
     "data": {
      "text/html": [
       "<div>\n",
       "<style scoped>\n",
       "    .dataframe tbody tr th:only-of-type {\n",
       "        vertical-align: middle;\n",
       "    }\n",
       "\n",
       "    .dataframe tbody tr th {\n",
       "        vertical-align: top;\n",
       "    }\n",
       "\n",
       "    .dataframe thead th {\n",
       "        text-align: right;\n",
       "    }\n",
       "</style>\n",
       "<table border=\"1\" class=\"dataframe\">\n",
       "  <thead>\n",
       "    <tr style=\"text-align: right;\">\n",
       "      <th></th>\n",
       "      <th>Unnamed: 0</th>\n",
       "      <th>date</th>\n",
       "      <th>tital</th>\n",
       "      <th>user</th>\n",
       "      <th>dislike</th>\n",
       "      <th>like</th>\n",
       "      <th>page_index</th>\n",
       "      <th>clean_round_1</th>\n",
       "      <th>without_sw_and_punctuation_numbers</th>\n",
       "      <th>rating</th>\n",
       "      <th>rev_len_positive</th>\n",
       "    </tr>\n",
       "  </thead>\n",
       "  <tbody>\n",
       "    <tr>\n",
       "      <th>0</th>\n",
       "      <td>0</td>\n",
       "      <td>posted on 05 Sep 2018</td>\n",
       "      <td>System Engineer  in Kolkata</td>\n",
       "      <td>Anonymous · Finance Division</td>\n",
       "      <td>Dislikes 1. Growth: Not much scope of growth. ...</td>\n",
       "      <td>Likes Few things that are good: \\r\\n1. Job sec...</td>\n",
       "      <td>2</td>\n",
       "      <td>things good job security opinion people tcs jo...</td>\n",
       "      <td>[things, good, job, security, opinion, people,...</td>\n",
       "      <td>NaN</td>\n",
       "      <td></td>\n",
       "    </tr>\n",
       "    <tr>\n",
       "      <th>1</th>\n",
       "      <td>1</td>\n",
       "      <td>posted on 12 Aug 2020</td>\n",
       "      <td>It Analyst  in Kolkata</td>\n",
       "      <td>Anonymous · IoT Division</td>\n",
       "      <td>Dislikes Some of the managers are lagging with...</td>\n",
       "      <td>Likes I am carrying company provided laptop be...</td>\n",
       "      <td>2</td>\n",
       "      <td>carrying company provided laptop pandemic hits...</td>\n",
       "      <td>[carrying, company, provided, laptop, pandemic...</td>\n",
       "      <td>NaN</td>\n",
       "      <td></td>\n",
       "    </tr>\n",
       "    <tr>\n",
       "      <th>2</th>\n",
       "      <td>2</td>\n",
       "      <td>posted on 26 Jul 2019</td>\n",
       "      <td>Associate Consultant  in Bangalore</td>\n",
       "      <td>Anonymous · EIS Division</td>\n",
       "      <td>Dislikes 1. First of all, everybody in TCS are...</td>\n",
       "      <td>Likes You can draw salary without doing any wo...</td>\n",
       "      <td>2</td>\n",
       "      <td>draw salary without work even without going of...</td>\n",
       "      <td>[draw, salary, without, work, even, without, g...</td>\n",
       "      <td>NaN</td>\n",
       "      <td></td>\n",
       "    </tr>\n",
       "    <tr>\n",
       "      <th>3</th>\n",
       "      <td>3</td>\n",
       "      <td>posted on 29 Aug 2020</td>\n",
       "      <td>Assistant Consultant (ITIS)  in Whitefield</td>\n",
       "      <td>Anonymous · ITIS Division</td>\n",
       "      <td>Dislikes Nothing to dislike about working at TCS</td>\n",
       "      <td>Likes Good and excellent job security provided...</td>\n",
       "      <td>2</td>\n",
       "      <td>good excellent job security provided tcs pande...</td>\n",
       "      <td>[good, excellent, job, security, provided, tcs...</td>\n",
       "      <td>NaN</td>\n",
       "      <td></td>\n",
       "    </tr>\n",
       "    <tr>\n",
       "      <th>4</th>\n",
       "      <td>4</td>\n",
       "      <td>posted on 21 Aug 2020</td>\n",
       "      <td>Assistant System Engineer  in Pune</td>\n",
       "      <td>Anonymous · It Services Division</td>\n",
       "      <td>Dislikes Salary appraisal is very low for begi...</td>\n",
       "      <td>Likes Apart from Job security the company prov...</td>\n",
       "      <td>2</td>\n",
       "      <td>apart job security company provides various op...</td>\n",
       "      <td>[apart, job, security, company, provides, vari...</td>\n",
       "      <td>NaN</td>\n",
       "      <td></td>\n",
       "    </tr>\n",
       "    <tr>\n",
       "      <th>...</th>\n",
       "      <td>...</td>\n",
       "      <td>...</td>\n",
       "      <td>...</td>\n",
       "      <td>...</td>\n",
       "      <td>...</td>\n",
       "      <td>...</td>\n",
       "      <td>...</td>\n",
       "      <td>...</td>\n",
       "      <td>...</td>\n",
       "      <td>...</td>\n",
       "      <td>...</td>\n",
       "    </tr>\n",
       "    <tr>\n",
       "      <th>514</th>\n",
       "      <td>65</td>\n",
       "      <td>posted on 29 Jan 2020</td>\n",
       "      <td>It Analyst  in Kolkata</td>\n",
       "      <td>Anonymous · bfs Division</td>\n",
       "      <td>Dislikes 1.Poor Work Life balance, specially i...</td>\n",
       "      <td>Likes Job Security.</td>\n",
       "      <td>37</td>\n",
       "      <td>job security</td>\n",
       "      <td>[job, security]</td>\n",
       "      <td>2.0</td>\n",
       "      <td></td>\n",
       "    </tr>\n",
       "    <tr>\n",
       "      <th>515</th>\n",
       "      <td>66</td>\n",
       "      <td>posted on 07 Jun 2020</td>\n",
       "      <td>Associate  in Pune</td>\n",
       "      <td>Anonymous · Us Mortgage Division</td>\n",
       "      <td>Dislikes No opportunity to join again</td>\n",
       "      <td>Likes This is Ganesh currently I am not a empl...</td>\n",
       "      <td>37</td>\n",
       "      <td>ganesh currently employee tcs still love exper...</td>\n",
       "      <td>[ganesh, currently, employee, tcs, still, love...</td>\n",
       "      <td>5.0</td>\n",
       "      <td></td>\n",
       "    </tr>\n",
       "    <tr>\n",
       "      <th>516</th>\n",
       "      <td>67</td>\n",
       "      <td>posted on 04 Jun 2020</td>\n",
       "      <td>Office Boy for 4.9 years in Kolkata, Rajarhat</td>\n",
       "      <td>Anonymous · Former Employee · Office boy Divi...</td>\n",
       "      <td>Dislikes Admin pressures</td>\n",
       "      <td>Likes I am not working right now 😔</td>\n",
       "      <td>37</td>\n",
       "      <td>working right</td>\n",
       "      <td>[working, right, 😔]</td>\n",
       "      <td>5.0</td>\n",
       "      <td></td>\n",
       "    </tr>\n",
       "    <tr>\n",
       "      <th>517</th>\n",
       "      <td>68</td>\n",
       "      <td>posted on 05 Jun 2020</td>\n",
       "      <td>Senior Associate  in Pune Bhosari</td>\n",
       "      <td>Anonymous · Banking &amp; Finance Division</td>\n",
       "      <td>Dislikes nothing</td>\n",
       "      <td>Likes traning language is very soft.no politic...</td>\n",
       "      <td>37</td>\n",
       "      <td>traning language softno politics workingjob al...</td>\n",
       "      <td>[traning, language, softno, politics, workingj...</td>\n",
       "      <td>4.0</td>\n",
       "      <td></td>\n",
       "    </tr>\n",
       "    <tr>\n",
       "      <th>518</th>\n",
       "      <td>69</td>\n",
       "      <td>posted on 13 Mar 2020</td>\n",
       "      <td>Associate Technical Consultant  in Mumbai</td>\n",
       "      <td>Anonymous · BPO Division</td>\n",
       "      <td>Dislikes The company's alumni portal services ...</td>\n",
       "      <td>Likes The company is better with their monthly...</td>\n",
       "      <td>37</td>\n",
       "      <td>company better monthly payments benefits etc b...</td>\n",
       "      <td>[company, better, monthly, payments, benefits,...</td>\n",
       "      <td>5.0</td>\n",
       "      <td></td>\n",
       "    </tr>\n",
       "  </tbody>\n",
       "</table>\n",
       "<p>519 rows × 11 columns</p>\n",
       "</div>"
      ],
      "text/plain": [
       "     Unnamed: 0                   date  \\\n",
       "0             0  posted on 05 Sep 2018   \n",
       "1             1  posted on 12 Aug 2020   \n",
       "2             2  posted on 26 Jul 2019   \n",
       "3             3  posted on 29 Aug 2020   \n",
       "4             4  posted on 21 Aug 2020   \n",
       "..          ...                    ...   \n",
       "514          65  posted on 29 Jan 2020   \n",
       "515          66  posted on 07 Jun 2020   \n",
       "516          67  posted on 04 Jun 2020   \n",
       "517          68  posted on 05 Jun 2020   \n",
       "518          69  posted on 13 Mar 2020   \n",
       "\n",
       "                                             tital  \\\n",
       "0                      System Engineer  in Kolkata   \n",
       "1                           It Analyst  in Kolkata   \n",
       "2               Associate Consultant  in Bangalore   \n",
       "3       Assistant Consultant (ITIS)  in Whitefield   \n",
       "4               Assistant System Engineer  in Pune   \n",
       "..                                             ...   \n",
       "514                         It Analyst  in Kolkata   \n",
       "515                             Associate  in Pune   \n",
       "516  Office Boy for 4.9 years in Kolkata, Rajarhat   \n",
       "517              Senior Associate  in Pune Bhosari   \n",
       "518      Associate Technical Consultant  in Mumbai   \n",
       "\n",
       "                                                  user  \\\n",
       "0                     Anonymous · Finance Division       \n",
       "1                         Anonymous · IoT Division       \n",
       "2                         Anonymous · EIS Division       \n",
       "3                        Anonymous · ITIS Division       \n",
       "4                 Anonymous · It Services Division       \n",
       "..                                                 ...   \n",
       "514                       Anonymous · bfs Division       \n",
       "515               Anonymous · Us Mortgage Division       \n",
       "516   Anonymous · Former Employee · Office boy Divi...   \n",
       "517         Anonymous · Banking & Finance Division       \n",
       "518                       Anonymous · BPO Division       \n",
       "\n",
       "                                               dislike  \\\n",
       "0    Dislikes 1. Growth: Not much scope of growth. ...   \n",
       "1    Dislikes Some of the managers are lagging with...   \n",
       "2    Dislikes 1. First of all, everybody in TCS are...   \n",
       "3     Dislikes Nothing to dislike about working at TCS   \n",
       "4    Dislikes Salary appraisal is very low for begi...   \n",
       "..                                                 ...   \n",
       "514  Dislikes 1.Poor Work Life balance, specially i...   \n",
       "515             Dislikes No opportunity to join again    \n",
       "516                           Dislikes Admin pressures   \n",
       "517                                   Dislikes nothing   \n",
       "518  Dislikes The company's alumni portal services ...   \n",
       "\n",
       "                                                  like  page_index  \\\n",
       "0    Likes Few things that are good: \\r\\n1. Job sec...           2   \n",
       "1    Likes I am carrying company provided laptop be...           2   \n",
       "2    Likes You can draw salary without doing any wo...           2   \n",
       "3    Likes Good and excellent job security provided...           2   \n",
       "4    Likes Apart from Job security the company prov...           2   \n",
       "..                                                 ...         ...   \n",
       "514                                Likes Job Security.          37   \n",
       "515  Likes This is Ganesh currently I am not a empl...          37   \n",
       "516                 Likes I am not working right now 😔          37   \n",
       "517  Likes traning language is very soft.no politic...          37   \n",
       "518  Likes The company is better with their monthly...          37   \n",
       "\n",
       "                                         clean_round_1  \\\n",
       "0    things good job security opinion people tcs jo...   \n",
       "1    carrying company provided laptop pandemic hits...   \n",
       "2    draw salary without work even without going of...   \n",
       "3    good excellent job security provided tcs pande...   \n",
       "4    apart job security company provides various op...   \n",
       "..                                                 ...   \n",
       "514                                       job security   \n",
       "515  ganesh currently employee tcs still love exper...   \n",
       "516                                     working right    \n",
       "517  traning language softno politics workingjob al...   \n",
       "518  company better monthly payments benefits etc b...   \n",
       "\n",
       "                    without_sw_and_punctuation_numbers  rating  \\\n",
       "0    [things, good, job, security, opinion, people,...     NaN   \n",
       "1    [carrying, company, provided, laptop, pandemic...     NaN   \n",
       "2    [draw, salary, without, work, even, without, g...     NaN   \n",
       "3    [good, excellent, job, security, provided, tcs...     NaN   \n",
       "4    [apart, job, security, company, provides, vari...     NaN   \n",
       "..                                                 ...     ...   \n",
       "514                                    [job, security]     2.0   \n",
       "515  [ganesh, currently, employee, tcs, still, love...     5.0   \n",
       "516                                [working, right, 😔]     5.0   \n",
       "517  [traning, language, softno, politics, workingj...     4.0   \n",
       "518  [company, better, monthly, payments, benefits,...     5.0   \n",
       "\n",
       "    rev_len_positive  \n",
       "0                     \n",
       "1                     \n",
       "2                     \n",
       "3                     \n",
       "4                     \n",
       "..               ...  \n",
       "514                   \n",
       "515                   \n",
       "516                   \n",
       "517                   \n",
       "518                   \n",
       "\n",
       "[519 rows x 11 columns]"
      ]
     },
     "execution_count": 87,
     "metadata": {},
     "output_type": "execute_result"
    }
   ],
   "source": [
    "data1"
   ]
  },
  {
   "cell_type": "code",
   "execution_count": 88,
   "metadata": {},
   "outputs": [
    {
     "data": {
      "application/vnd.plotly.v1+json": {
       "config": {
        "linkText": "Export to plot.ly",
        "plotlyServerURL": "https://plot.ly",
        "showLink": true
       },
       "data": [
        {
         "histfunc": "count",
         "histnorm": "",
         "marker": {
          "color": "rgba(255, 153, 51, 1.0)",
          "line": {
           "color": "#000000",
           "width": 1.3
          }
         },
         "name": "rev_len_positive",
         "nbinsx": 100,
         "opacity": 0.8,
         "orientation": "v",
         "type": "histogram",
         "x": [
          552,
          191,
          67,
          125,
          150,
          248,
          107,
          144,
          552,
          176,
          8,
          55,
          94,
          17,
          83,
          556,
          104,
          174,
          75,
          20,
          340,
          279,
          153,
          82,
          75,
          69,
          135,
          59,
          88,
          251,
          185,
          176,
          24,
          29,
          175,
          90,
          22,
          138,
          94,
          15,
          138,
          68,
          106,
          56,
          12,
          95,
          97,
          97,
          299,
          133,
          54,
          12,
          106,
          243,
          142,
          196,
          68,
          159,
          119,
          73,
          20,
          418,
          29,
          23,
          71,
          35,
          102,
          62,
          99,
          51,
          68,
          168,
          250,
          131,
          387,
          145,
          269,
          109,
          36,
          117,
          72,
          87,
          62,
          98,
          35,
          103,
          104,
          110,
          105,
          39,
          123,
          257,
          127,
          149,
          236,
          44,
          808,
          102,
          61,
          34,
          73,
          54,
          88,
          62,
          65,
          147,
          53,
          63,
          33,
          112,
          69,
          105,
          16,
          458,
          254,
          33,
          163,
          41,
          19,
          194,
          86,
          89,
          91,
          576,
          60,
          76,
          106,
          87,
          152,
          26,
          181,
          101,
          99,
          408,
          34,
          44,
          222,
          12,
          36,
          54,
          223,
          64,
          23,
          139,
          69,
          87,
          83,
          29,
          116,
          95,
          69,
          109,
          82,
          133,
          17,
          526,
          51,
          63,
          116,
          80,
          407,
          73,
          95,
          67,
          191,
          150,
          125,
          107,
          113,
          248,
          552,
          176,
          144,
          556,
          13,
          55,
          8,
          340,
          94,
          83,
          17,
          20,
          174,
          75,
          104,
          279,
          153,
          185,
          82,
          135,
          75,
          59,
          251,
          69,
          88,
          176,
          68,
          24,
          175,
          29,
          12,
          94,
          138,
          90,
          22,
          106,
          15,
          138,
          299,
          56,
          12,
          97,
          95,
          243,
          106,
          97,
          133,
          196,
          54,
          142,
          68,
          159,
          119,
          418,
          73,
          20,
          29,
          23,
          387,
          71,
          99,
          35,
          102,
          62,
          269,
          68,
          168,
          250,
          51,
          131,
          117,
          145,
          109,
          36,
          808,
          72,
          87,
          103,
          62,
          98,
          35,
          110,
          104,
          105,
          257,
          123,
          39,
          149,
          127,
          236,
          102,
          44,
          458,
          34,
          73,
          61,
          88,
          54,
          65,
          147,
          53,
          63,
          33,
          62,
          576,
          69,
          112,
          105,
          16,
          33,
          254,
          41,
          163,
          19,
          194,
          152,
          87,
          76,
          86,
          89,
          91,
          60,
          106,
          69,
          408,
          181,
          26,
          44,
          222,
          99,
          101,
          526,
          12,
          223,
          34,
          36,
          64,
          54,
          109,
          87,
          139,
          23,
          29,
          116,
          69,
          95,
          83,
          472,
          82,
          133,
          213,
          17,
          51,
          423,
          63,
          80,
          88,
          116,
          30,
          255,
          48,
          209,
          16,
          90,
          180,
          76,
          203,
          29,
          125,
          79,
          57,
          275,
          90,
          100,
          29,
          87,
          126,
          45,
          762,
          68,
          27,
          51,
          71,
          9,
          135,
          35,
          326,
          46,
          109,
          65,
          115,
          187,
          75,
          84,
          477,
          407,
          12,
          20,
          16,
          38,
          238,
          116,
          117,
          403,
          75,
          83,
          117,
          42,
          70,
          203,
          4,
          198,
          21,
          12,
          60,
          53,
          15,
          133,
          55,
          35,
          308,
          109,
          11,
          759,
          25,
          512,
          20,
          13,
          162,
          49,
          140,
          17,
          336,
          65,
          126,
          95,
          152,
          204,
          313,
          116,
          10,
          149,
          134,
          147,
          12,
          126,
          36,
          28,
          449,
          307,
          56,
          86,
          194,
          111,
          24,
          12,
          185,
          49,
          87,
          183,
          141,
          60,
          109,
          43,
          504,
          57,
          19,
          367,
          650,
          80,
          44,
          18,
          17,
          20,
          29,
          105,
          192,
          113,
          85,
          113,
          17,
          18,
          58,
          99,
          84,
          85,
          91,
          47,
          114,
          66,
          66,
          218,
          108,
          152,
          69,
          447,
          67,
          101,
          335,
          53,
          164,
          89,
          45,
          53,
          111,
          54,
          41,
          26,
          16,
          28,
          82,
          38,
          453,
          136,
          106,
          88,
          93,
          84,
          149,
          164,
          133,
          96,
          117,
          70,
          702,
          70,
          48,
          80,
          27,
          13,
          468,
          17,
          267,
          576,
          188,
          306,
          45,
          36,
          49,
          68,
          12,
          12,
          161,
          8,
          12,
          57,
          14,
          55,
          139,
          519,
          519,
          519,
          519,
          519,
          519,
          519,
          519,
          519,
          519,
          519,
          519,
          519,
          519,
          519,
          519,
          519,
          519,
          519,
          519,
          519,
          519,
          519,
          519,
          519,
          519,
          519,
          519,
          519,
          519,
          519,
          519,
          519,
          519,
          519,
          519,
          519,
          519,
          519,
          519,
          519,
          519,
          519,
          519,
          519,
          519,
          519,
          519,
          519,
          519,
          519,
          519,
          519,
          519,
          519,
          519,
          519,
          519,
          519,
          519,
          519,
          519,
          519,
          519,
          519,
          519,
          519,
          519,
          519,
          519,
          519,
          519,
          519,
          519,
          519,
          519,
          519,
          519,
          519,
          519,
          519,
          519,
          519,
          519,
          519,
          519,
          519,
          519,
          519,
          519,
          519,
          519,
          519,
          519,
          519,
          519,
          519,
          519,
          519,
          519,
          519,
          519,
          519,
          519,
          519,
          519,
          519,
          519,
          519,
          519,
          519,
          519,
          519,
          519,
          519,
          519,
          519,
          519,
          519,
          519,
          519,
          519,
          519,
          519,
          519,
          519,
          519,
          519,
          519,
          519,
          519,
          519,
          519,
          519,
          519,
          519,
          519,
          519,
          519,
          519,
          519,
          519,
          519,
          519,
          519,
          519,
          519,
          519,
          519,
          519,
          519,
          519,
          519,
          519,
          519,
          519,
          519,
          519,
          519,
          519,
          519,
          519,
          519,
          519,
          519,
          519,
          519,
          519,
          519,
          519,
          519,
          519,
          519,
          519,
          519,
          519,
          519,
          519,
          519,
          519,
          519,
          519,
          519,
          519,
          519,
          519,
          519,
          519,
          519,
          519,
          519,
          519,
          519,
          519,
          519,
          519,
          519,
          519,
          519,
          519,
          519,
          519,
          519,
          519,
          519,
          519,
          519,
          519,
          519,
          519,
          519,
          519,
          519,
          519,
          519,
          519,
          519,
          519,
          519,
          519,
          519,
          519,
          519,
          519,
          519,
          519,
          519,
          519,
          519,
          519,
          519,
          519,
          519,
          519,
          519,
          519,
          519,
          519,
          519,
          519,
          519,
          519,
          519,
          519,
          519,
          519,
          519,
          519,
          519,
          519,
          519,
          519,
          519,
          519,
          519,
          519,
          519,
          519,
          519,
          519,
          519,
          519,
          519,
          519,
          519,
          519,
          519,
          519,
          519,
          519,
          519,
          519,
          519,
          519,
          519,
          519,
          519,
          519,
          519,
          519,
          519,
          519,
          519,
          519,
          519,
          519,
          519,
          519,
          519,
          519,
          519,
          519,
          519,
          519,
          519,
          519,
          519,
          519,
          519,
          519,
          519,
          519,
          519,
          519,
          519,
          519,
          519,
          519,
          519,
          519,
          519,
          519,
          519,
          519,
          519,
          519,
          519,
          519,
          519,
          519,
          519,
          519,
          519,
          519,
          519,
          519,
          519,
          519,
          519,
          519,
          519,
          519,
          519,
          519,
          519,
          519,
          519,
          519,
          519,
          519,
          519,
          519,
          519,
          519,
          519,
          519,
          519,
          519,
          519,
          519,
          519,
          519,
          519,
          519
         ]
        }
       ],
       "layout": {
        "barmode": "overlay",
        "legend": {
         "bgcolor": "#F5F6F9",
         "font": {
          "color": "#4D5663"
         }
        },
        "paper_bgcolor": "#F5F6F9",
        "plot_bgcolor": "#F5F6F9",
        "template": {
         "data": {
          "bar": [
           {
            "error_x": {
             "color": "#2a3f5f"
            },
            "error_y": {
             "color": "#2a3f5f"
            },
            "marker": {
             "line": {
              "color": "#E5ECF6",
              "width": 0.5
             }
            },
            "type": "bar"
           }
          ],
          "barpolar": [
           {
            "marker": {
             "line": {
              "color": "#E5ECF6",
              "width": 0.5
             }
            },
            "type": "barpolar"
           }
          ],
          "carpet": [
           {
            "aaxis": {
             "endlinecolor": "#2a3f5f",
             "gridcolor": "white",
             "linecolor": "white",
             "minorgridcolor": "white",
             "startlinecolor": "#2a3f5f"
            },
            "baxis": {
             "endlinecolor": "#2a3f5f",
             "gridcolor": "white",
             "linecolor": "white",
             "minorgridcolor": "white",
             "startlinecolor": "#2a3f5f"
            },
            "type": "carpet"
           }
          ],
          "choropleth": [
           {
            "colorbar": {
             "outlinewidth": 0,
             "ticks": ""
            },
            "type": "choropleth"
           }
          ],
          "contour": [
           {
            "colorbar": {
             "outlinewidth": 0,
             "ticks": ""
            },
            "colorscale": [
             [
              0,
              "#0d0887"
             ],
             [
              0.1111111111111111,
              "#46039f"
             ],
             [
              0.2222222222222222,
              "#7201a8"
             ],
             [
              0.3333333333333333,
              "#9c179e"
             ],
             [
              0.4444444444444444,
              "#bd3786"
             ],
             [
              0.5555555555555556,
              "#d8576b"
             ],
             [
              0.6666666666666666,
              "#ed7953"
             ],
             [
              0.7777777777777778,
              "#fb9f3a"
             ],
             [
              0.8888888888888888,
              "#fdca26"
             ],
             [
              1,
              "#f0f921"
             ]
            ],
            "type": "contour"
           }
          ],
          "contourcarpet": [
           {
            "colorbar": {
             "outlinewidth": 0,
             "ticks": ""
            },
            "type": "contourcarpet"
           }
          ],
          "heatmap": [
           {
            "colorbar": {
             "outlinewidth": 0,
             "ticks": ""
            },
            "colorscale": [
             [
              0,
              "#0d0887"
             ],
             [
              0.1111111111111111,
              "#46039f"
             ],
             [
              0.2222222222222222,
              "#7201a8"
             ],
             [
              0.3333333333333333,
              "#9c179e"
             ],
             [
              0.4444444444444444,
              "#bd3786"
             ],
             [
              0.5555555555555556,
              "#d8576b"
             ],
             [
              0.6666666666666666,
              "#ed7953"
             ],
             [
              0.7777777777777778,
              "#fb9f3a"
             ],
             [
              0.8888888888888888,
              "#fdca26"
             ],
             [
              1,
              "#f0f921"
             ]
            ],
            "type": "heatmap"
           }
          ],
          "heatmapgl": [
           {
            "colorbar": {
             "outlinewidth": 0,
             "ticks": ""
            },
            "colorscale": [
             [
              0,
              "#0d0887"
             ],
             [
              0.1111111111111111,
              "#46039f"
             ],
             [
              0.2222222222222222,
              "#7201a8"
             ],
             [
              0.3333333333333333,
              "#9c179e"
             ],
             [
              0.4444444444444444,
              "#bd3786"
             ],
             [
              0.5555555555555556,
              "#d8576b"
             ],
             [
              0.6666666666666666,
              "#ed7953"
             ],
             [
              0.7777777777777778,
              "#fb9f3a"
             ],
             [
              0.8888888888888888,
              "#fdca26"
             ],
             [
              1,
              "#f0f921"
             ]
            ],
            "type": "heatmapgl"
           }
          ],
          "histogram": [
           {
            "marker": {
             "colorbar": {
              "outlinewidth": 0,
              "ticks": ""
             }
            },
            "type": "histogram"
           }
          ],
          "histogram2d": [
           {
            "colorbar": {
             "outlinewidth": 0,
             "ticks": ""
            },
            "colorscale": [
             [
              0,
              "#0d0887"
             ],
             [
              0.1111111111111111,
              "#46039f"
             ],
             [
              0.2222222222222222,
              "#7201a8"
             ],
             [
              0.3333333333333333,
              "#9c179e"
             ],
             [
              0.4444444444444444,
              "#bd3786"
             ],
             [
              0.5555555555555556,
              "#d8576b"
             ],
             [
              0.6666666666666666,
              "#ed7953"
             ],
             [
              0.7777777777777778,
              "#fb9f3a"
             ],
             [
              0.8888888888888888,
              "#fdca26"
             ],
             [
              1,
              "#f0f921"
             ]
            ],
            "type": "histogram2d"
           }
          ],
          "histogram2dcontour": [
           {
            "colorbar": {
             "outlinewidth": 0,
             "ticks": ""
            },
            "colorscale": [
             [
              0,
              "#0d0887"
             ],
             [
              0.1111111111111111,
              "#46039f"
             ],
             [
              0.2222222222222222,
              "#7201a8"
             ],
             [
              0.3333333333333333,
              "#9c179e"
             ],
             [
              0.4444444444444444,
              "#bd3786"
             ],
             [
              0.5555555555555556,
              "#d8576b"
             ],
             [
              0.6666666666666666,
              "#ed7953"
             ],
             [
              0.7777777777777778,
              "#fb9f3a"
             ],
             [
              0.8888888888888888,
              "#fdca26"
             ],
             [
              1,
              "#f0f921"
             ]
            ],
            "type": "histogram2dcontour"
           }
          ],
          "mesh3d": [
           {
            "colorbar": {
             "outlinewidth": 0,
             "ticks": ""
            },
            "type": "mesh3d"
           }
          ],
          "parcoords": [
           {
            "line": {
             "colorbar": {
              "outlinewidth": 0,
              "ticks": ""
             }
            },
            "type": "parcoords"
           }
          ],
          "pie": [
           {
            "automargin": true,
            "type": "pie"
           }
          ],
          "scatter": [
           {
            "marker": {
             "colorbar": {
              "outlinewidth": 0,
              "ticks": ""
             }
            },
            "type": "scatter"
           }
          ],
          "scatter3d": [
           {
            "line": {
             "colorbar": {
              "outlinewidth": 0,
              "ticks": ""
             }
            },
            "marker": {
             "colorbar": {
              "outlinewidth": 0,
              "ticks": ""
             }
            },
            "type": "scatter3d"
           }
          ],
          "scattercarpet": [
           {
            "marker": {
             "colorbar": {
              "outlinewidth": 0,
              "ticks": ""
             }
            },
            "type": "scattercarpet"
           }
          ],
          "scattergeo": [
           {
            "marker": {
             "colorbar": {
              "outlinewidth": 0,
              "ticks": ""
             }
            },
            "type": "scattergeo"
           }
          ],
          "scattergl": [
           {
            "marker": {
             "colorbar": {
              "outlinewidth": 0,
              "ticks": ""
             }
            },
            "type": "scattergl"
           }
          ],
          "scattermapbox": [
           {
            "marker": {
             "colorbar": {
              "outlinewidth": 0,
              "ticks": ""
             }
            },
            "type": "scattermapbox"
           }
          ],
          "scatterpolar": [
           {
            "marker": {
             "colorbar": {
              "outlinewidth": 0,
              "ticks": ""
             }
            },
            "type": "scatterpolar"
           }
          ],
          "scatterpolargl": [
           {
            "marker": {
             "colorbar": {
              "outlinewidth": 0,
              "ticks": ""
             }
            },
            "type": "scatterpolargl"
           }
          ],
          "scatterternary": [
           {
            "marker": {
             "colorbar": {
              "outlinewidth": 0,
              "ticks": ""
             }
            },
            "type": "scatterternary"
           }
          ],
          "surface": [
           {
            "colorbar": {
             "outlinewidth": 0,
             "ticks": ""
            },
            "colorscale": [
             [
              0,
              "#0d0887"
             ],
             [
              0.1111111111111111,
              "#46039f"
             ],
             [
              0.2222222222222222,
              "#7201a8"
             ],
             [
              0.3333333333333333,
              "#9c179e"
             ],
             [
              0.4444444444444444,
              "#bd3786"
             ],
             [
              0.5555555555555556,
              "#d8576b"
             ],
             [
              0.6666666666666666,
              "#ed7953"
             ],
             [
              0.7777777777777778,
              "#fb9f3a"
             ],
             [
              0.8888888888888888,
              "#fdca26"
             ],
             [
              1,
              "#f0f921"
             ]
            ],
            "type": "surface"
           }
          ],
          "table": [
           {
            "cells": {
             "fill": {
              "color": "#EBF0F8"
             },
             "line": {
              "color": "white"
             }
            },
            "header": {
             "fill": {
              "color": "#C8D4E3"
             },
             "line": {
              "color": "white"
             }
            },
            "type": "table"
           }
          ]
         },
         "layout": {
          "annotationdefaults": {
           "arrowcolor": "#2a3f5f",
           "arrowhead": 0,
           "arrowwidth": 1
          },
          "coloraxis": {
           "colorbar": {
            "outlinewidth": 0,
            "ticks": ""
           }
          },
          "colorscale": {
           "diverging": [
            [
             0,
             "#8e0152"
            ],
            [
             0.1,
             "#c51b7d"
            ],
            [
             0.2,
             "#de77ae"
            ],
            [
             0.3,
             "#f1b6da"
            ],
            [
             0.4,
             "#fde0ef"
            ],
            [
             0.5,
             "#f7f7f7"
            ],
            [
             0.6,
             "#e6f5d0"
            ],
            [
             0.7,
             "#b8e186"
            ],
            [
             0.8,
             "#7fbc41"
            ],
            [
             0.9,
             "#4d9221"
            ],
            [
             1,
             "#276419"
            ]
           ],
           "sequential": [
            [
             0,
             "#0d0887"
            ],
            [
             0.1111111111111111,
             "#46039f"
            ],
            [
             0.2222222222222222,
             "#7201a8"
            ],
            [
             0.3333333333333333,
             "#9c179e"
            ],
            [
             0.4444444444444444,
             "#bd3786"
            ],
            [
             0.5555555555555556,
             "#d8576b"
            ],
            [
             0.6666666666666666,
             "#ed7953"
            ],
            [
             0.7777777777777778,
             "#fb9f3a"
            ],
            [
             0.8888888888888888,
             "#fdca26"
            ],
            [
             1,
             "#f0f921"
            ]
           ],
           "sequentialminus": [
            [
             0,
             "#0d0887"
            ],
            [
             0.1111111111111111,
             "#46039f"
            ],
            [
             0.2222222222222222,
             "#7201a8"
            ],
            [
             0.3333333333333333,
             "#9c179e"
            ],
            [
             0.4444444444444444,
             "#bd3786"
            ],
            [
             0.5555555555555556,
             "#d8576b"
            ],
            [
             0.6666666666666666,
             "#ed7953"
            ],
            [
             0.7777777777777778,
             "#fb9f3a"
            ],
            [
             0.8888888888888888,
             "#fdca26"
            ],
            [
             1,
             "#f0f921"
            ]
           ]
          },
          "colorway": [
           "#636efa",
           "#EF553B",
           "#00cc96",
           "#ab63fa",
           "#FFA15A",
           "#19d3f3",
           "#FF6692",
           "#B6E880",
           "#FF97FF",
           "#FECB52"
          ],
          "font": {
           "color": "#2a3f5f"
          },
          "geo": {
           "bgcolor": "white",
           "lakecolor": "white",
           "landcolor": "#E5ECF6",
           "showlakes": true,
           "showland": true,
           "subunitcolor": "white"
          },
          "hoverlabel": {
           "align": "left"
          },
          "hovermode": "closest",
          "mapbox": {
           "style": "light"
          },
          "paper_bgcolor": "white",
          "plot_bgcolor": "#E5ECF6",
          "polar": {
           "angularaxis": {
            "gridcolor": "white",
            "linecolor": "white",
            "ticks": ""
           },
           "bgcolor": "#E5ECF6",
           "radialaxis": {
            "gridcolor": "white",
            "linecolor": "white",
            "ticks": ""
           }
          },
          "scene": {
           "xaxis": {
            "backgroundcolor": "#E5ECF6",
            "gridcolor": "white",
            "gridwidth": 2,
            "linecolor": "white",
            "showbackground": true,
            "ticks": "",
            "zerolinecolor": "white"
           },
           "yaxis": {
            "backgroundcolor": "#E5ECF6",
            "gridcolor": "white",
            "gridwidth": 2,
            "linecolor": "white",
            "showbackground": true,
            "ticks": "",
            "zerolinecolor": "white"
           },
           "zaxis": {
            "backgroundcolor": "#E5ECF6",
            "gridcolor": "white",
            "gridwidth": 2,
            "linecolor": "white",
            "showbackground": true,
            "ticks": "",
            "zerolinecolor": "white"
           }
          },
          "shapedefaults": {
           "line": {
            "color": "#2a3f5f"
           }
          },
          "ternary": {
           "aaxis": {
            "gridcolor": "white",
            "linecolor": "white",
            "ticks": ""
           },
           "baxis": {
            "gridcolor": "white",
            "linecolor": "white",
            "ticks": ""
           },
           "bgcolor": "#E5ECF6",
           "caxis": {
            "gridcolor": "white",
            "linecolor": "white",
            "ticks": ""
           }
          },
          "title": {
           "x": 0.05
          },
          "xaxis": {
           "automargin": true,
           "gridcolor": "white",
           "linecolor": "white",
           "ticks": "",
           "title": {
            "standoff": 15
           },
           "zerolinecolor": "white",
           "zerolinewidth": 2
          },
          "yaxis": {
           "automargin": true,
           "gridcolor": "white",
           "linecolor": "white",
           "ticks": "",
           "title": {
            "standoff": 15
           },
           "zerolinecolor": "white",
           "zerolinewidth": 2
          }
         }
        },
        "title": {
         "font": {
          "color": "#4D5663"
         },
         "text": "Review Text Length Distribution"
        },
        "xaxis": {
         "gridcolor": "#E1E5ED",
         "linecolor": "black",
         "showgrid": true,
         "tickfont": {
          "color": "#4D5663"
         },
         "title": {
          "font": {
           "color": "#4D5663"
          },
          "text": "review length"
         },
         "zerolinecolor": "#E1E5ED"
        },
        "yaxis": {
         "gridcolor": "#E1E5ED",
         "linecolor": "black",
         "showgrid": true,
         "tickfont": {
          "color": "#4D5663"
         },
         "title": {
          "font": {
           "color": "#4D5663"
          },
          "text": "count"
         },
         "zerolinecolor": "#E1E5ED"
        }
       }
      },
      "text/html": [
       "<div>\n",
       "        \n",
       "        \n",
       "            <div id=\"3b004bed-2cd9-46e1-8087-a8d705d97d6c\" class=\"plotly-graph-div\" style=\"height:525px; width:100%;\"></div>\n",
       "            <script type=\"text/javascript\">\n",
       "                require([\"plotly\"], function(Plotly) {\n",
       "                    window.PLOTLYENV=window.PLOTLYENV || {};\n",
       "                    window.PLOTLYENV.BASE_URL='https://plot.ly';\n",
       "                    \n",
       "                if (document.getElementById(\"3b004bed-2cd9-46e1-8087-a8d705d97d6c\")) {\n",
       "                    Plotly.newPlot(\n",
       "                        '3b004bed-2cd9-46e1-8087-a8d705d97d6c',\n",
       "                        [{\"histfunc\": \"count\", \"histnorm\": \"\", \"marker\": {\"color\": \"rgba(255, 153, 51, 1.0)\", \"line\": {\"color\": \"#000000\", \"width\": 1.3}}, \"name\": \"rev_len_positive\", \"nbinsx\": 100, \"opacity\": 0.8, \"orientation\": \"v\", \"type\": \"histogram\", \"x\": [552, 191, 67, 125, 150, 248, 107, 144, 552, 176, 8, 55, 94, 17, 83, 556, 104, 174, 75, 20, 340, 279, 153, 82, 75, 69, 135, 59, 88, 251, 185, 176, 24, 29, 175, 90, 22, 138, 94, 15, 138, 68, 106, 56, 12, 95, 97, 97, 299, 133, 54, 12, 106, 243, 142, 196, 68, 159, 119, 73, 20, 418, 29, 23, 71, 35, 102, 62, 99, 51, 68, 168, 250, 131, 387, 145, 269, 109, 36, 117, 72, 87, 62, 98, 35, 103, 104, 110, 105, 39, 123, 257, 127, 149, 236, 44, 808, 102, 61, 34, 73, 54, 88, 62, 65, 147, 53, 63, 33, 112, 69, 105, 16, 458, 254, 33, 163, 41, 19, 194, 86, 89, 91, 576, 60, 76, 106, 87, 152, 26, 181, 101, 99, 408, 34, 44, 222, 12, 36, 54, 223, 64, 23, 139, 69, 87, 83, 29, 116, 95, 69, 109, 82, 133, 17, 526, 51, 63, 116, 80, 407, 73, 95, 67, 191, 150, 125, 107, 113, 248, 552, 176, 144, 556, 13, 55, 8, 340, 94, 83, 17, 20, 174, 75, 104, 279, 153, 185, 82, 135, 75, 59, 251, 69, 88, 176, 68, 24, 175, 29, 12, 94, 138, 90, 22, 106, 15, 138, 299, 56, 12, 97, 95, 243, 106, 97, 133, 196, 54, 142, 68, 159, 119, 418, 73, 20, 29, 23, 387, 71, 99, 35, 102, 62, 269, 68, 168, 250, 51, 131, 117, 145, 109, 36, 808, 72, 87, 103, 62, 98, 35, 110, 104, 105, 257, 123, 39, 149, 127, 236, 102, 44, 458, 34, 73, 61, 88, 54, 65, 147, 53, 63, 33, 62, 576, 69, 112, 105, 16, 33, 254, 41, 163, 19, 194, 152, 87, 76, 86, 89, 91, 60, 106, 69, 408, 181, 26, 44, 222, 99, 101, 526, 12, 223, 34, 36, 64, 54, 109, 87, 139, 23, 29, 116, 69, 95, 83, 472, 82, 133, 213, 17, 51, 423, 63, 80, 88, 116, 30, 255, 48, 209, 16, 90, 180, 76, 203, 29, 125, 79, 57, 275, 90, 100, 29, 87, 126, 45, 762, 68, 27, 51, 71, 9, 135, 35, 326, 46, 109, 65, 115, 187, 75, 84, 477, 407, 12, 20, 16, 38, 238, 116, 117, 403, 75, 83, 117, 42, 70, 203, 4, 198, 21, 12, 60, 53, 15, 133, 55, 35, 308, 109, 11, 759, 25, 512, 20, 13, 162, 49, 140, 17, 336, 65, 126, 95, 152, 204, 313, 116, 10, 149, 134, 147, 12, 126, 36, 28, 449, 307, 56, 86, 194, 111, 24, 12, 185, 49, 87, 183, 141, 60, 109, 43, 504, 57, 19, 367, 650, 80, 44, 18, 17, 20, 29, 105, 192, 113, 85, 113, 17, 18, 58, 99, 84, 85, 91, 47, 114, 66, 66, 218, 108, 152, 69, 447, 67, 101, 335, 53, 164, 89, 45, 53, 111, 54, 41, 26, 16, 28, 82, 38, 453, 136, 106, 88, 93, 84, 149, 164, 133, 96, 117, 70, 702, 70, 48, 80, 27, 13, 468, 17, 267, 576, 188, 306, 45, 36, 49, 68, 12, 12, 161, 8, 12, 57, 14, 55, 139, 519, 519, 519, 519, 519, 519, 519, 519, 519, 519, 519, 519, 519, 519, 519, 519, 519, 519, 519, 519, 519, 519, 519, 519, 519, 519, 519, 519, 519, 519, 519, 519, 519, 519, 519, 519, 519, 519, 519, 519, 519, 519, 519, 519, 519, 519, 519, 519, 519, 519, 519, 519, 519, 519, 519, 519, 519, 519, 519, 519, 519, 519, 519, 519, 519, 519, 519, 519, 519, 519, 519, 519, 519, 519, 519, 519, 519, 519, 519, 519, 519, 519, 519, 519, 519, 519, 519, 519, 519, 519, 519, 519, 519, 519, 519, 519, 519, 519, 519, 519, 519, 519, 519, 519, 519, 519, 519, 519, 519, 519, 519, 519, 519, 519, 519, 519, 519, 519, 519, 519, 519, 519, 519, 519, 519, 519, 519, 519, 519, 519, 519, 519, 519, 519, 519, 519, 519, 519, 519, 519, 519, 519, 519, 519, 519, 519, 519, 519, 519, 519, 519, 519, 519, 519, 519, 519, 519, 519, 519, 519, 519, 519, 519, 519, 519, 519, 519, 519, 519, 519, 519, 519, 519, 519, 519, 519, 519, 519, 519, 519, 519, 519, 519, 519, 519, 519, 519, 519, 519, 519, 519, 519, 519, 519, 519, 519, 519, 519, 519, 519, 519, 519, 519, 519, 519, 519, 519, 519, 519, 519, 519, 519, 519, 519, 519, 519, 519, 519, 519, 519, 519, 519, 519, 519, 519, 519, 519, 519, 519, 519, 519, 519, 519, 519, 519, 519, 519, 519, 519, 519, 519, 519, 519, 519, 519, 519, 519, 519, 519, 519, 519, 519, 519, 519, 519, 519, 519, 519, 519, 519, 519, 519, 519, 519, 519, 519, 519, 519, 519, 519, 519, 519, 519, 519, 519, 519, 519, 519, 519, 519, 519, 519, 519, 519, 519, 519, 519, 519, 519, 519, 519, 519, 519, 519, 519, 519, 519, 519, 519, 519, 519, 519, 519, 519, 519, 519, 519, 519, 519, 519, 519, 519, 519, 519, 519, 519, 519, 519, 519, 519, 519, 519, 519, 519, 519, 519, 519, 519, 519, 519, 519, 519, 519, 519, 519, 519, 519, 519, 519, 519, 519, 519, 519, 519, 519, 519, 519, 519, 519, 519, 519, 519, 519, 519]}],\n",
       "                        {\"barmode\": \"overlay\", \"legend\": {\"bgcolor\": \"#F5F6F9\", \"font\": {\"color\": \"#4D5663\"}}, \"paper_bgcolor\": \"#F5F6F9\", \"plot_bgcolor\": \"#F5F6F9\", \"template\": {\"data\": {\"bar\": [{\"error_x\": {\"color\": \"#2a3f5f\"}, \"error_y\": {\"color\": \"#2a3f5f\"}, \"marker\": {\"line\": {\"color\": \"#E5ECF6\", \"width\": 0.5}}, \"type\": \"bar\"}], \"barpolar\": [{\"marker\": {\"line\": {\"color\": \"#E5ECF6\", \"width\": 0.5}}, \"type\": \"barpolar\"}], \"carpet\": [{\"aaxis\": {\"endlinecolor\": \"#2a3f5f\", \"gridcolor\": \"white\", \"linecolor\": \"white\", \"minorgridcolor\": \"white\", \"startlinecolor\": \"#2a3f5f\"}, \"baxis\": {\"endlinecolor\": \"#2a3f5f\", \"gridcolor\": \"white\", \"linecolor\": \"white\", \"minorgridcolor\": \"white\", \"startlinecolor\": \"#2a3f5f\"}, \"type\": \"carpet\"}], \"choropleth\": [{\"colorbar\": {\"outlinewidth\": 0, \"ticks\": \"\"}, \"type\": \"choropleth\"}], \"contour\": [{\"colorbar\": {\"outlinewidth\": 0, \"ticks\": \"\"}, \"colorscale\": [[0.0, \"#0d0887\"], [0.1111111111111111, \"#46039f\"], [0.2222222222222222, \"#7201a8\"], [0.3333333333333333, \"#9c179e\"], [0.4444444444444444, \"#bd3786\"], [0.5555555555555556, \"#d8576b\"], [0.6666666666666666, \"#ed7953\"], [0.7777777777777778, \"#fb9f3a\"], [0.8888888888888888, \"#fdca26\"], [1.0, \"#f0f921\"]], \"type\": \"contour\"}], \"contourcarpet\": [{\"colorbar\": {\"outlinewidth\": 0, \"ticks\": \"\"}, \"type\": \"contourcarpet\"}], \"heatmap\": [{\"colorbar\": {\"outlinewidth\": 0, \"ticks\": \"\"}, \"colorscale\": [[0.0, \"#0d0887\"], [0.1111111111111111, \"#46039f\"], [0.2222222222222222, \"#7201a8\"], [0.3333333333333333, \"#9c179e\"], [0.4444444444444444, \"#bd3786\"], [0.5555555555555556, \"#d8576b\"], [0.6666666666666666, \"#ed7953\"], [0.7777777777777778, \"#fb9f3a\"], [0.8888888888888888, \"#fdca26\"], [1.0, \"#f0f921\"]], \"type\": \"heatmap\"}], \"heatmapgl\": [{\"colorbar\": {\"outlinewidth\": 0, \"ticks\": \"\"}, \"colorscale\": [[0.0, \"#0d0887\"], [0.1111111111111111, \"#46039f\"], [0.2222222222222222, \"#7201a8\"], [0.3333333333333333, \"#9c179e\"], [0.4444444444444444, \"#bd3786\"], [0.5555555555555556, \"#d8576b\"], [0.6666666666666666, \"#ed7953\"], [0.7777777777777778, \"#fb9f3a\"], [0.8888888888888888, \"#fdca26\"], [1.0, \"#f0f921\"]], \"type\": \"heatmapgl\"}], \"histogram\": [{\"marker\": {\"colorbar\": {\"outlinewidth\": 0, \"ticks\": \"\"}}, \"type\": \"histogram\"}], \"histogram2d\": [{\"colorbar\": {\"outlinewidth\": 0, \"ticks\": \"\"}, \"colorscale\": [[0.0, \"#0d0887\"], [0.1111111111111111, \"#46039f\"], [0.2222222222222222, \"#7201a8\"], [0.3333333333333333, \"#9c179e\"], [0.4444444444444444, \"#bd3786\"], [0.5555555555555556, \"#d8576b\"], [0.6666666666666666, \"#ed7953\"], [0.7777777777777778, \"#fb9f3a\"], [0.8888888888888888, \"#fdca26\"], [1.0, \"#f0f921\"]], \"type\": \"histogram2d\"}], \"histogram2dcontour\": [{\"colorbar\": {\"outlinewidth\": 0, \"ticks\": \"\"}, \"colorscale\": [[0.0, \"#0d0887\"], [0.1111111111111111, \"#46039f\"], [0.2222222222222222, \"#7201a8\"], [0.3333333333333333, \"#9c179e\"], [0.4444444444444444, \"#bd3786\"], [0.5555555555555556, \"#d8576b\"], [0.6666666666666666, \"#ed7953\"], [0.7777777777777778, \"#fb9f3a\"], [0.8888888888888888, \"#fdca26\"], [1.0, \"#f0f921\"]], \"type\": \"histogram2dcontour\"}], \"mesh3d\": [{\"colorbar\": {\"outlinewidth\": 0, \"ticks\": \"\"}, \"type\": \"mesh3d\"}], \"parcoords\": [{\"line\": {\"colorbar\": {\"outlinewidth\": 0, \"ticks\": \"\"}}, \"type\": \"parcoords\"}], \"pie\": [{\"automargin\": true, \"type\": \"pie\"}], \"scatter\": [{\"marker\": {\"colorbar\": {\"outlinewidth\": 0, \"ticks\": \"\"}}, \"type\": \"scatter\"}], \"scatter3d\": [{\"line\": {\"colorbar\": {\"outlinewidth\": 0, \"ticks\": \"\"}}, \"marker\": {\"colorbar\": {\"outlinewidth\": 0, \"ticks\": \"\"}}, \"type\": \"scatter3d\"}], \"scattercarpet\": [{\"marker\": {\"colorbar\": {\"outlinewidth\": 0, \"ticks\": \"\"}}, \"type\": \"scattercarpet\"}], \"scattergeo\": [{\"marker\": {\"colorbar\": {\"outlinewidth\": 0, \"ticks\": \"\"}}, \"type\": \"scattergeo\"}], \"scattergl\": [{\"marker\": {\"colorbar\": {\"outlinewidth\": 0, \"ticks\": \"\"}}, \"type\": \"scattergl\"}], \"scattermapbox\": [{\"marker\": {\"colorbar\": {\"outlinewidth\": 0, \"ticks\": \"\"}}, \"type\": \"scattermapbox\"}], \"scatterpolar\": [{\"marker\": {\"colorbar\": {\"outlinewidth\": 0, \"ticks\": \"\"}}, \"type\": \"scatterpolar\"}], \"scatterpolargl\": [{\"marker\": {\"colorbar\": {\"outlinewidth\": 0, \"ticks\": \"\"}}, \"type\": \"scatterpolargl\"}], \"scatterternary\": [{\"marker\": {\"colorbar\": {\"outlinewidth\": 0, \"ticks\": \"\"}}, \"type\": \"scatterternary\"}], \"surface\": [{\"colorbar\": {\"outlinewidth\": 0, \"ticks\": \"\"}, \"colorscale\": [[0.0, \"#0d0887\"], [0.1111111111111111, \"#46039f\"], [0.2222222222222222, \"#7201a8\"], [0.3333333333333333, \"#9c179e\"], [0.4444444444444444, \"#bd3786\"], [0.5555555555555556, \"#d8576b\"], [0.6666666666666666, \"#ed7953\"], [0.7777777777777778, \"#fb9f3a\"], [0.8888888888888888, \"#fdca26\"], [1.0, \"#f0f921\"]], \"type\": \"surface\"}], \"table\": [{\"cells\": {\"fill\": {\"color\": \"#EBF0F8\"}, \"line\": {\"color\": \"white\"}}, \"header\": {\"fill\": {\"color\": \"#C8D4E3\"}, \"line\": {\"color\": \"white\"}}, \"type\": \"table\"}]}, \"layout\": {\"annotationdefaults\": {\"arrowcolor\": \"#2a3f5f\", \"arrowhead\": 0, \"arrowwidth\": 1}, \"coloraxis\": {\"colorbar\": {\"outlinewidth\": 0, \"ticks\": \"\"}}, \"colorscale\": {\"diverging\": [[0, \"#8e0152\"], [0.1, \"#c51b7d\"], [0.2, \"#de77ae\"], [0.3, \"#f1b6da\"], [0.4, \"#fde0ef\"], [0.5, \"#f7f7f7\"], [0.6, \"#e6f5d0\"], [0.7, \"#b8e186\"], [0.8, \"#7fbc41\"], [0.9, \"#4d9221\"], [1, \"#276419\"]], \"sequential\": [[0.0, \"#0d0887\"], [0.1111111111111111, \"#46039f\"], [0.2222222222222222, \"#7201a8\"], [0.3333333333333333, \"#9c179e\"], [0.4444444444444444, \"#bd3786\"], [0.5555555555555556, \"#d8576b\"], [0.6666666666666666, \"#ed7953\"], [0.7777777777777778, \"#fb9f3a\"], [0.8888888888888888, \"#fdca26\"], [1.0, \"#f0f921\"]], \"sequentialminus\": [[0.0, \"#0d0887\"], [0.1111111111111111, \"#46039f\"], [0.2222222222222222, \"#7201a8\"], [0.3333333333333333, \"#9c179e\"], [0.4444444444444444, \"#bd3786\"], [0.5555555555555556, \"#d8576b\"], [0.6666666666666666, \"#ed7953\"], [0.7777777777777778, \"#fb9f3a\"], [0.8888888888888888, \"#fdca26\"], [1.0, \"#f0f921\"]]}, \"colorway\": [\"#636efa\", \"#EF553B\", \"#00cc96\", \"#ab63fa\", \"#FFA15A\", \"#19d3f3\", \"#FF6692\", \"#B6E880\", \"#FF97FF\", \"#FECB52\"], \"font\": {\"color\": \"#2a3f5f\"}, \"geo\": {\"bgcolor\": \"white\", \"lakecolor\": \"white\", \"landcolor\": \"#E5ECF6\", \"showlakes\": true, \"showland\": true, \"subunitcolor\": \"white\"}, \"hoverlabel\": {\"align\": \"left\"}, \"hovermode\": \"closest\", \"mapbox\": {\"style\": \"light\"}, \"paper_bgcolor\": \"white\", \"plot_bgcolor\": \"#E5ECF6\", \"polar\": {\"angularaxis\": {\"gridcolor\": \"white\", \"linecolor\": \"white\", \"ticks\": \"\"}, \"bgcolor\": \"#E5ECF6\", \"radialaxis\": {\"gridcolor\": \"white\", \"linecolor\": \"white\", \"ticks\": \"\"}}, \"scene\": {\"xaxis\": {\"backgroundcolor\": \"#E5ECF6\", \"gridcolor\": \"white\", \"gridwidth\": 2, \"linecolor\": \"white\", \"showbackground\": true, \"ticks\": \"\", \"zerolinecolor\": \"white\"}, \"yaxis\": {\"backgroundcolor\": \"#E5ECF6\", \"gridcolor\": \"white\", \"gridwidth\": 2, \"linecolor\": \"white\", \"showbackground\": true, \"ticks\": \"\", \"zerolinecolor\": \"white\"}, \"zaxis\": {\"backgroundcolor\": \"#E5ECF6\", \"gridcolor\": \"white\", \"gridwidth\": 2, \"linecolor\": \"white\", \"showbackground\": true, \"ticks\": \"\", \"zerolinecolor\": \"white\"}}, \"shapedefaults\": {\"line\": {\"color\": \"#2a3f5f\"}}, \"ternary\": {\"aaxis\": {\"gridcolor\": \"white\", \"linecolor\": \"white\", \"ticks\": \"\"}, \"baxis\": {\"gridcolor\": \"white\", \"linecolor\": \"white\", \"ticks\": \"\"}, \"bgcolor\": \"#E5ECF6\", \"caxis\": {\"gridcolor\": \"white\", \"linecolor\": \"white\", \"ticks\": \"\"}}, \"title\": {\"x\": 0.05}, \"xaxis\": {\"automargin\": true, \"gridcolor\": \"white\", \"linecolor\": \"white\", \"ticks\": \"\", \"title\": {\"standoff\": 15}, \"zerolinecolor\": \"white\", \"zerolinewidth\": 2}, \"yaxis\": {\"automargin\": true, \"gridcolor\": \"white\", \"linecolor\": \"white\", \"ticks\": \"\", \"title\": {\"standoff\": 15}, \"zerolinecolor\": \"white\", \"zerolinewidth\": 2}}}, \"title\": {\"font\": {\"color\": \"#4D5663\"}, \"text\": \"Review Text Length Distribution\"}, \"xaxis\": {\"gridcolor\": \"#E1E5ED\", \"linecolor\": \"black\", \"showgrid\": true, \"tickfont\": {\"color\": \"#4D5663\"}, \"title\": {\"font\": {\"color\": \"#4D5663\"}, \"text\": \"review length\"}, \"zerolinecolor\": \"#E1E5ED\"}, \"yaxis\": {\"gridcolor\": \"#E1E5ED\", \"linecolor\": \"black\", \"showgrid\": true, \"tickfont\": {\"color\": \"#4D5663\"}, \"title\": {\"font\": {\"color\": \"#4D5663\"}, \"text\": \"count\"}, \"zerolinecolor\": \"#E1E5ED\"}},\n",
       "                        {\"showLink\": true, \"linkText\": \"Export to plot.ly\", \"plotlyServerURL\": \"https://plot.ly\", \"responsive\": true}\n",
       "                    ).then(function(){\n",
       "                            \n",
       "var gd = document.getElementById('3b004bed-2cd9-46e1-8087-a8d705d97d6c');\n",
       "var x = new MutationObserver(function (mutations, observer) {{\n",
       "        var display = window.getComputedStyle(gd).display;\n",
       "        if (!display || display === 'none') {{\n",
       "            console.log([gd, 'removed!']);\n",
       "            Plotly.purge(gd);\n",
       "            observer.disconnect();\n",
       "        }}\n",
       "}});\n",
       "\n",
       "// Listen for the removal of the full notebook cells\n",
       "var notebookContainer = gd.closest('#notebook-container');\n",
       "if (notebookContainer) {{\n",
       "    x.observe(notebookContainer, {childList: true});\n",
       "}}\n",
       "\n",
       "// Listen for the clearing of the current output cell\n",
       "var outputEl = gd.closest('.output');\n",
       "if (outputEl) {{\n",
       "    x.observe(outputEl, {childList: true});\n",
       "}}\n",
       "\n",
       "                        })\n",
       "                };\n",
       "                });\n",
       "            </script>\n",
       "        </div>"
      ]
     },
     "metadata": {},
     "output_type": "display_data"
    }
   ],
   "source": [
    "data1['rev_len_positive'].iplot(\n",
    "    kind='hist',\n",
    "    bins=100,\n",
    "    xTitle='review length',\n",
    "    linecolor='black',\n",
    "    yTitle='count',\n",
    "    title='Review Text Length Distribution')"
   ]
  },
  {
   "cell_type": "code",
   "execution_count": 90,
   "metadata": {},
   "outputs": [
    {
     "data": {
      "application/vnd.plotly.v1+json": {
       "config": {
        "linkText": "Export to plot.ly",
        "plotlyServerURL": "https://plot.ly",
        "showLink": true
       },
       "data": [
        {
         "histfunc": "count",
         "histnorm": "",
         "marker": {
          "color": "rgba(255, 153, 51, 1.0)",
          "line": {
           "color": "#000000",
           "width": 1.3
          }
         },
         "name": "tital",
         "nbinsx": 100,
         "opacity": 0.8,
         "orientation": "v",
         "type": "histogram",
         "x": [
          "System Engineer  in Kolkata",
          "It Analyst  in Kolkata",
          "Associate Consultant  in Bangalore",
          "Assistant Consultant (ITIS)  in Whitefield",
          "Assistant System Engineer  in Pune",
          "Sql Database Administrator for 7.4 years in Kolkata",
          "Senior Systems Engineer  in Hyderabad, Telangana, India",
          "It Analyst  in Bhubaneswar",
          "Systems Engineer  in Bangalore",
          "It Analyst  in Bhubaneswar",
          "Business Process Lead  in Gandhinagar",
          "Database Administrator  in Pune",
          "Senior Visual Designer, SME For Content Management Team And QC For Myer Retail Online Site (Australi  in Bangalore",
          "Project Manager  in Kolkata",
          "Process Associate  in Mumbai",
          "Business Analyst  in Mumbai",
          "SAP SD Consultant- IT Software - ERP  in Hyderabad",
          "Officer  in Hyderabad",
          "Process Associate  in Pune",
          "Assistant Consultant  in Pune",
          "Software Engineer  in Delhi",
          "Assistant Consultant  in Kolkata",
          "Counter Sales  in Indore",
          "Assistant System Engineer Trainee  in Gurgaon ",
          "AML And KYC Analyst  in Pune",
          "Automation Test Engineer for 3.5 years in Bangalore",
          "Zonal Manager for 1.5 years in Fridabad",
          "Salesforce Developer for 4.9 years in Pune",
          "Investment Banking Associate  in Adibatla (hyd)",
          "Technical Support Analyst for 11 months in Chennai",
          "It Analyst  in Powai In Mumbai",
          "Information Technology Analyst  in Cincinnati, OH, USA",
          "Senior Process Associate  in Baroda",
          "Assistant System Engineer  for 1.4 years in Gurgaon",
          "Qa Analyst  in Powai",
          "Associate  in Gandhinagar",
          "Devops Engineer  in Gurgaon",
          "Senior Process Associate  in Chennai",
          "Gis Engineer for 4.6 years in Hyderabad",
          "Software Developer  in Bengaluru",
          "Software Tester  in Chennai",
          "Project Manager for 7.6 years in BENGALURU",
          "Information Processing Specialist  in KOLKATA",
          "Assistant Manager  in Thane West",
          "Senior Business Analyst  in Mumbai",
          "Process Associate  in Nagpur",
          "It Analyst  in Chennai, Tamil Nadu, India",
          "Associate System Engineer for 1.5 years in Bengaluru, Karnataka",
          "Associate Consultant  in Hyderabad",
          "System Engineer for 2.4 years in Delhi",
          "Senior Associate for 2 months in Hinjewadi Phase 3",
          "Associate  in Pune",
          "System Engineer  in Gurugram",
          "Identity And Access Management Analyst for 4 year in Bangalore",
          "System Engineer  in Pune",
          "Domain Consultant  in Hyderabad ",
          "System Engineer  in Chennai",
          "System Engineer  in New Delhi",
          "Production Support Analyst  in Bangalore",
          "System Engineer  in Mumbai",
          "Business Analyst  in Hyderabad",
          "System Engineer  in Kolkata",
          "It Analyst for 5.9 years in Noida",
          "Process Associate  in Hyderabad",
          "Drug Safety Associate  in Pune",
          "Assistant System Engineer   in Indore",
          "Accounts Support Executive  in Delhi",
          "AWS Certified Architect, DevOps ,Teraform, Ansible Developer  in Hyderabad",
          "Citizen Service Executive for 5.7 years in PSK KOLLAM",
          "Assistant Consultant  in Nagpur",
          "Senior It Analyst for 7.6 years in Chennai",
          "Systems Engineer for 3.4 years in Hyderabad",
          "Senior Business Analyst  in Bangalore",
          "Associate System Engineer  in Mumbai",
          "Associate/senior Associate -(nontechnical) for 3.6 years in Pune",
          "System Engineer  in Pune",
          "Business Analyst  in Different Locations",
          "Assistant System Engineer for 7 months in Gurgaon",
          "Team Leader Operations  in Kolkata",
          "System Engineer  in Kolkata",
          "Technology Consultant  in Indore",
          "System Engineer  in Pune",
          "Senior Process Associate  in Chennai",
          "Team Lead And Senior Test Engineer for 6.7 years in Chennai Siruseri",
          "Senior It Analyst for 7.8 years in Sydney ",
          "Assistant Consultant for 3.4 years in Bangalore",
          "Team Member  in Pune",
          "Automation Test Engineer  in Pune",
          "Process Associate for 2.7 years in Vatika ",
          "Backup Teamleader for 5.2 years in Ambattur",
          "Quality Analyst for 3.6 years in Gurgaon",
          "Assistant System Engineer  in Kolkata",
          "It Analyst  in Mumbai",
          "Sales Executive  in Hyderabad ",
          "Assistant System Engineer  in Bangalore",
          "Senior Process Associate  in Hyderabad",
          "System Engineer  in Kolkata",
          "Bps Analyst for 11 months in Pune",
          "Senior Engineer  in Bangalore ",
          "BPS Banking In Morgage  in Pune",
          "It Analyst  in Hyderabad",
          "Senior Associate  in Mumbai ",
          "Associate Consultant - IT  in Bangalore ",
          "Ast  in Hyderabad",
          "Business Process Lead  in Pune",
          "System Engineer  in Gurgaon",
          "Work Flow Specialist  in Chennai",
          "It Analyst  in Hyderabad",
          "Software Engineer  in Hyderabad",
          "Information Processing Specialist for 6 months in Bangalore",
          "Developer  in Pune",
          "Trainee -Pharmacovigilance for 2 months in Mumbai",
          "It Analyst for 8.1 years in Mumbai",
          "Senior Executive  in Gurgaon",
          "Workman/foreman/technician  in Haydrabad",
          "Technical Architect  in Thane",
          "Network Administrator for 2.8 years in Kochi",
          "Senior Technical Associate  in Belapur, Navi Mumbai",
          "Senior Sales Executive for 6.3 years in Faridabad",
          "System Engineer  in Noida",
          "Software Developer for 2.5 years in Bengaluru",
          "Site Engineer Civil Or Civil Designer  in Lucknow",
          "Sap Fico Functional Consultant  in Hyderabad",
          "Process Associate  in Chennai",
          "Associate  in Hyderabad",
          "Pharmacovigilance Scientist I for 3 year in Mumbai, Maharashtra, India",
          "System Engineer  in Gurgaon",
          "Java And PL-SQL Developer  in Bangalore",
          "It Analyst  in Chennai",
          "Major Incident Manager  in Hyderabad",
          "It Analyst for 1.6 years in Kochi",
          "Assistant System Engineer  in Hyderabad",
          "Assistant System Engineer  in Bangalore",
          "Consultant  in London",
          "System Engineer  in Noida",
          "Financial  in Chennai",
          "Process Analyst   in Chennai ",
          "ASSISTANT SYS  in Hyderabad ",
          "Salesforce Administrator for 4.9 years in Pune",
          "It Analyst for 7 years in Scotia Bank Canada",
          "It Analyst for 7.3 years in Thane",
          "Assistant System Engineer  in Bangalore",
          "Assistant System Engineer Trainee  in Gurgaon",
          "It Business Analyst for 1.5 years in Bengalore",
          "Senior Business Analyst  in Mumbai",
          "Process Associate  in Gandhinagar",
          "Information And Media Operational Specialist  in Hyderabad",
          "I T Analyst  in PUNE",
          "Oracle Database Administrator  in Pune",
          "Information Technology Analyst  in Chennai",
          "Senior Process Associate  in Chennai, Tamil Nadu, India",
          "Senior Associate  in Tril It Park ",
          "Software Engineer  in Kolkata",
          "Business Head -greater Mumbai for 3.1 years in Mumbai",
          "It Analyst for 8.5 years in Chennai",
          "Process Associate  in Nagpur ",
          "It Analyst  in Bangalore",
          "Senior Process Associate  in Bengaluru",
          "Team Leader  in Pune",
          "System Software Engineer  in Mumbai",
          "Bpo Information Processing Specialist  in Hyderabad",
          "Process Associate  in Chennai",
          "Process Associate  in Gachibowli ",
          "Associate Consultant  in Bangalore",
          "It Analyst  in Kolkata",
          "Assistant System Engineer  in Pune",
          "Assistant Consultant (ITIS)  in Whitefield",
          "Senior Systems Engineer  in Hyderabad, Telangana, India",
          "Data Scientist for 1.5 years in Thane",
          "Sql Database Administrator for 7.4 years in Kolkata",
          "Systems Engineer  in Bangalore",
          "It Analyst  in Bhubaneswar",
          "It Analyst  in Bhubaneswar",
          "Business Analyst  in Mumbai",
          "Software Manual Tester for 6 year in Bangalore",
          "Database Administrator  in Pune",
          "Business Process Lead  in Gandhinagar",
          "Software Engineer  in Delhi",
          "Senior Visual Designer, SME For Content Management Team And QC For Myer Retail Online Site (Australi  in Bangalore",
          "Process Associate  in Mumbai",
          "Project Manager  in Kolkata",
          "Assistant Consultant  in Pune",
          "Officer  in Hyderabad",
          "Process Associate  in Pune",
          "SAP SD Consultant- IT Software - ERP  in Hyderabad",
          "Assistant Consultant  in Kolkata",
          "Counter Sales  in Indore",
          "It Analyst  in Powai In Mumbai",
          "Assistant System Engineer Trainee  in Gurgaon ",
          "Zonal Manager for 1.5 years in Fridabad",
          "AML And KYC Analyst  in Pune",
          "Salesforce Developer for 4.9 years in Pune",
          "Technical Support Analyst for 11 months in Chennai",
          "Automation Test Engineer for 3.5 years in Bangalore",
          "Investment Banking Associate  in Adibatla (hyd)",
          "Information Technology Analyst  in Cincinnati, OH, USA",
          "Project Manager for 7.6 years in BENGALURU",
          "Senior Process Associate  in Baroda",
          "Qa Analyst  in Powai",
          "Assistant System Engineer  for 1.4 years in Gurgaon",
          "Associate  in Pune",
          "Gis Engineer for 4.6 years in Hyderabad",
          "Senior Process Associate  in Chennai",
          "Associate  in Gandhinagar",
          "Devops Engineer  in Gurgaon",
          "Information Processing Specialist  in KOLKATA",
          "Software Developer  in Bengaluru",
          "Software Tester  in Chennai",
          "Associate Consultant  in Hyderabad",
          "Assistant Manager  in Thane West",
          "Senior Business Analyst  in Mumbai",
          "Associate System Engineer for 1.5 years in Bengaluru, Karnataka",
          "Process Associate  in Nagpur",
          "Identity And Access Management Analyst for 4 year in Bangalore",
          "System Engineer  in Gurugram",
          "It Analyst  in Chennai, Tamil Nadu, India",
          "System Engineer for 2.4 years in Delhi",
          "Domain Consultant  in Hyderabad ",
          "Senior Associate for 2 months in Hinjewadi Phase 3",
          "System Engineer  in Pune",
          "System Engineer  in Chennai",
          "System Engineer  in New Delhi",
          "Production Support Analyst  in Bangalore",
          "System Engineer  in Kolkata",
          "System Engineer  in Mumbai",
          "Business Analyst  in Hyderabad",
          "It Analyst for 5.9 years in Noida",
          "Process Associate  in Hyderabad",
          "Associate/senior Associate -(nontechnical) for 3.6 years in Pune",
          "Drug Safety Associate  in Pune",
          "Citizen Service Executive for 5.7 years in PSK KOLLAM",
          "Assistant System Engineer   in Indore",
          "Accounts Support Executive  in Delhi",
          "AWS Certified Architect, DevOps ,Teraform, Ansible Developer  in Hyderabad",
          "Business Analyst  in Different Locations",
          "Senior It Analyst for 7.6 years in Chennai",
          "Systems Engineer for 3.4 years in Hyderabad",
          "Senior Business Analyst  in Bangalore",
          "Assistant Consultant  in Nagpur",
          "Associate System Engineer  in Mumbai",
          "System Engineer  in Kolkata",
          "System Engineer  in Pune",
          "Assistant System Engineer for 7 months in Gurgaon",
          "Team Leader Operations  in Kolkata",
          "System Engineer  in Kolkata",
          "Technology Consultant  in Indore",
          "System Engineer  in Pune",
          "Assistant Consultant for 3.4 years in Bangalore",
          "Senior Process Associate  in Chennai",
          "Team Lead And Senior Test Engineer for 6.7 years in Chennai Siruseri",
          "Senior It Analyst for 7.8 years in Sydney ",
          "Automation Test Engineer  in Pune",
          "Team Member  in Pune",
          "Process Associate for 2.7 years in Vatika ",
          "Assistant System Engineer  in Kolkata",
          "Quality Analyst for 3.6 years in Gurgaon",
          "Backup Teamleader for 5.2 years in Ambattur",
          "Sales Executive  in Hyderabad ",
          "It Analyst  in Mumbai",
          "Assistant System Engineer  in Bangalore",
          "Bps Analyst for 11 months in Pune",
          "Senior Process Associate  in Hyderabad",
          "Senior Executive  in Gurgaon",
          "BPS Banking In Morgage  in Pune",
          "It Analyst  in Hyderabad",
          "Senior Engineer  in Bangalore ",
          "Associate Consultant - IT  in Bangalore ",
          "Senior Associate  in Mumbai ",
          "Business Process Lead  in Pune",
          "System Engineer  in Gurgaon",
          "Work Flow Specialist  in Chennai",
          "It Analyst  in Hyderabad",
          "Software Engineer  in Hyderabad",
          "Ast  in Hyderabad",
          "Process Associate  in Chennai",
          "Developer  in Pune",
          "Information Processing Specialist for 6 months in Bangalore",
          "Trainee -Pharmacovigilance for 2 months in Mumbai",
          "It Analyst for 8.1 years in Mumbai",
          "Technical Architect  in Thane",
          "Workman/foreman/technician  in Haydrabad",
          "Senior Technical Associate  in Belapur, Navi Mumbai",
          "Network Administrator for 2.8 years in Kochi",
          "Senior Sales Executive for 6.3 years in Faridabad",
          "System Engineer  in Noida",
          "It Analyst  in Chennai",
          "Java And PL-SQL Developer  in Bangalore",
          "Pharmacovigilance Scientist I for 3 year in Mumbai, Maharashtra, India",
          "Software Developer for 2.5 years in Bengaluru",
          "Site Engineer Civil Or Civil Designer  in Lucknow",
          "Sap Fico Functional Consultant  in Hyderabad",
          "Associate  in Hyderabad",
          "System Engineer  in Gurgaon",
          "Senior Business Analyst  in Mumbai",
          "Consultant  in London",
          "It Analyst for 1.6 years in Kochi",
          "Major Incident Manager  in Hyderabad",
          "Financial  in Chennai",
          "Process Analyst   in Chennai ",
          "Assistant System Engineer  in Bangalore",
          "Assistant System Engineer  in Hyderabad",
          "Process Associate  in Nagpur ",
          "ASSISTANT SYS  in Hyderabad ",
          "It Analyst for 7.3 years in Thane",
          "System Engineer  in Noida",
          "Salesforce Administrator for 4.9 years in Pune",
          "Assistant System Engineer  in Bangalore",
          "It Analyst for 7 years in Scotia Bank Canada",
          "Senior Associate  in Tril It Park ",
          "Process Associate  in Gandhinagar",
          "It Business Analyst for 1.6 years in Bengalore",
          "Assistant System Engineer Trainee  in Gurgaon",
          "I T Analyst  in PUNE",
          "Oracle Database Administrator  in Pune",
          "Senior Process Associate  in Chennai, Tamil Nadu, India",
          "Information Technology Analyst  in Chennai",
          "Information And Media Operational Specialist  in Hyderabad",
          "System Engineer for 1.7 years in Japan - Hiroshima",
          "Software Engineer  in Kolkata",
          "Business Head -greater Mumbai for 3.1 years in Mumbai",
          "Business Analyst for 7.4 years in Amsterdam, Netherlands",
          "It Analyst for 8.5 years in Chennai",
          "It Analyst  in Bangalore",
          "BPS Information Process Enabler (BPO1.1)  in Kolkata",
          "Senior Process Associate  in Bengaluru",
          "System Software Engineer  in Mumbai",
          "Assistant Consultant for 12 years in Chennai, Tamil Nadu",
          "Team Leader  in Pune",
          "Business Process Lead  in Kolkata",
          "Ita  in Chennai",
          "Business Process Lead  in Vikhroli Mumbai",
          "Assistant System Engineer Trainee  in Bangalore",
          "Business Analyst  in Mumbai",
          "Sql Database Administrator  in Chennai",
          "Information Process Enabler for 1.3 years in BANGALORE",
          "Senior Trainer, South Region  in Banglore",
          "Graduate Engineer Trainee  in New Delhi",
          "Associate  in Pune",
          "It Analyst  in Pune",
          "Senior Software Engineer  in Powai Mumbai",
          "Assistant System Engineer for 1.9 years in Pune",
          "It Analyst  in Pune",
          "Test Manager for 11.5 years in Thane",
          "Systems Engineer  in Hyderabad ",
          "Senior Associate  in Olympus",
          "Senior Business Analyst  in Mumbai",
          "Senior Associate  in Nagpur",
          "Assistant Consultant for 5.7 years in Bangalore",
          "Process Executive  in Bangalore",
          "Bpo Information Processing Specialist for 2.5 years in Chennai",
          "Associate/senior Associate -(nontechnical) for 3.6 years in Chennai",
          "It Analyst for 6 months in Chennai",
          "System Engineer  in Chennai",
          "Salesforce Developer  in Noida",
          "Sharepoint Developer for 2.7 years in Noida ",
          "Associate  in Kolkata",
          "Sdet (software Development Engineer In Test)  in Kolkata",
          "I.t.analyst for 4.3 years in Gg7 Gurgaon",
          "Associate It Analyst  in Bangalore",
          "System Engineer for 3.5 years in Gurgaon",
          "It Analyst  in Kolkata",
          "Process Associate  in Varanasi ",
          "Team Leader for 6.3 years in Kolkata",
          "Ast  in Kolkata",
          "Software Support Executive  in Hyderabad",
          "Information Process Enabler for 4.3 years in Chennai",
          "It Analyst  in Chennai , Velachery",
          "Business Process Lead  in Mumbai ",
          "Sap Security And Grc Consultant  in Mumbai",
          "Assistant Consultant  in Chennai",
          "Information Technology Analyst for 3.5 years in Hyderabad",
          "It Analyst  in Bangalore ",
          "Technical Support Executive  in Mumbai",
          "Quality System Engineer for 3 years in Pune",
          "Assistant Systems Engineer  in Noida",
          "Line Incharge  in Chennai",
          "Application Support Analyst  in Chennai ",
          "Process Associate  in Gandhinagar",
          "Business Process Lead  in Kolkata",
          "System Engineer  in Noida",
          "Business Process Lead for 9.4 years in Bangalore",
          "Service Now Developer  in Kolkata",
          "It Analyst  in Noida",
          "Senior Process Associate  in Mumbai",
          "Associate/senior Associate -(nontechnical)  in Kolkata",
          "Operations Manager for 4.7 years in Delhi",
          "Desktop Support Engineer  in Pune",
          "Assistant System Engineer  in Chennai",
          "Technical Leader  in Gurgaon",
          "System Engineer  in Hyderabad",
          "Process Associate  in Kolkata",
          "Citizen Service Executive  in Trichy",
          "It Analyst for 5 year in Chennai, Tamil Nadu, India",
          "It Analyst for 4.2 years in Andheri Mumbai",
          "Work Flow Specialist  in Chennai ",
          "Associate Consultant  in Hyderabad",
          "Business Analyst for 1.8 years in Bangalore ",
          "Customer Support  in Moradabad, Uttar Pradesh, India",
          "Case Manager  in Mumbai",
          "System Engineer  in Noida",
          "Developer  in BENGALURU",
          "It Analyst  in Gurugram ",
          "It Analyst  in Bangalore",
          "System Engineer  in Gurgaon, Haryana, India",
          "System Engineer  in Kochi",
          "Customer Support Associate  in Hyderabad",
          "Test Engineer  in Bangalore",
          "Process Associate  in Hyderabad",
          "Customer Support Manager  in Hyderabad",
          "Plm Developer  in Hyderabad",
          "Data Manager  in Mumbai",
          "Devops Engineer for 10 months in Bangalore",
          "It Analyst for 5 years in Hyderabad",
          "Work Flow Specialist  in Chennai",
          "Technical Lead/project Lead  in Gurgaon",
          "Process Associate  in Nagpur",
          "Citizen Service Executive  in Vadodara",
          "Senior Process Associate  in Nagpur",
          "It Analyst C2 for 5 years in Chennai",
          "Process Associate for 2.2 years in Kolkata",
          "Administration Executive  in Patna, Bihar, India",
          "Sap Functional Consultant  in Mumbai",
          "It Support Executive  in Pune",
          "Associate  in Pune ",
          "Process Associate  in Chennai",
          "Manual Automation Test Engineer  in Bangalore",
          "Assistant System Engineer for 2.2 years in Bangalore",
          "System Engineer  in Kolkata",
          "Manager / Sr Manager - Administration  in CA Office Zoey Anwar & Co,  Nagpur",
          "Software Tester  in Gandhinagar",
          "Assistant Software Engineer - Trainee  in Navi Mumbai",
          "Transition Manager  in Indore",
          "Assistant System Engineer  in Hyderabad",
          "Process Associate  in Pune",
          "It Support Engineer  in Pune Sahyadri Park",
          "Citizen Service Executive  in Bengaluru",
          "Customer Care Executive  in Hyderabad",
          "Quality Analyst  in Pune",
          "Assistant System Engineer  in Mumbai",
          "Out Source Adviser  in Kolkata",
          "Process Specialist  in Chennai",
          "It Analyst  in Kolkata",
          "Senior Process Associate  in Chennai",
          "It Analyst  in Kolkata",
          "Process Associate  in Pune",
          "Software Developer  in DELHI",
          "System Engineer for 3.5 years in Delhi ",
          "Assistant Manager  in Noida ",
          "It Analyst  in Hyderabad",
          "Quality Analyst  in Mumbai",
          "It Analyst  in Bangalore",
          "Quality Analyst  in Mumbai",
          "Information Technical Analyst for 5.2 years in Uruguay",
          "Manager  in Mumbai",
          "Customer Support Agent  in Kolkata",
          "Senior Process Enabler  in Nagpur ",
          "Manager And PMO Lead  in Thane",
          "Process Associate  in Electronic City",
          "Area Business Manager  in Kuala Lumpur",
          "System Engineer  in Kolkata",
          "Sr Process Associate for 6.9 years in Pune",
          "Assistant System Engineer Trainee  in Siruseri",
          "Supply Chain Analyst  in Kolkata",
          "Officer for 8.5 years in Chennai",
          "Senior Process Associate  in Kolkata",
          "Process Associate  in Kolkata Gitanjali Park",
          "It Analyst  in Kolkata",
          "Manager  in Chennai",
          "Process Associate  in Gandhinagar",
          "Technical Support Executive for 3.4 years in Bangalore",
          "System Software Engineer  in Kolkata",
          "It Analyst  in BANGOLORE ",
          "Senior Associate Operations  in Kolkata ",
          "Senior Business Analyst for 9.2 years in Chennai",
          "EA (Assistant Manager In TCS) for 4.9 years in Gurgaon",
          "Senior Process Associate  in Gandhinagar",
          "Process Associate  in Chennai One Sez",
          "Email Support Executive  in Mumbai",
          "Associate/senior Associate -(technical) for 2.2 years in Hyderabad ",
          "Software Engineer for 3.6 years in Noida",
          "Assistant System Engineer  in NOIDA",
          "Project Management Officer  in Mumbai",
          "Assistant System Engineer  in Noida",
          "Assistant System Engineer for 2.3 years in Chennai",
          "Process Associate  in Bangalore",
          "Customer Service Executive  in Mumbai",
          "Axiom SL Developer - Immediate Joiner  in Ggm",
          "It Analyst  in Kolkata",
          "Business Associate  in Hyderabad",
          "Assistant System Engineer  in Mumbai",
          "Senior It Analyst  in Thane",
          "Assistant System Engineer for 1.8 years in Pune",
          "BFS  in Hyderabad",
          "Devops Engineer  in Bengaluru",
          "Java Developer  in Bangalore",
          "Process Associate  in Hyderabad(Q City)",
          "Cse Citizen Service Executive  in Bangalore ",
          "Assistant System Engineer  in Hyderabad ",
          "Engineer  in Hyderabad",
          "Application Support Engineer  in Hinjewadi Phase 3 Pune",
          "Assistant Consultant  in Noida",
          "Graduate Trainee  in Kochi",
          "Automation Test Analyst for 2 years in Bhubaneswar",
          "Systems Engineer for 5.7 years in Bangalore",
          "System Engineer  in Bangaluru",
          "System Engineer  in Bangalore",
          "Citizen Service Executive  in Kolkata",
          "Senior Process Associate  in Pune",
          "Assistant Consultant  in Bangalore",
          "Senior Associate  in Kolkata",
          "Assistant Consultant   in Chennai ",
          "Associate/senior Associate -(nontechnical)  in Gurgaon",
          "Systems Engineer  in Bangalore",
          "Developer  in Pune",
          "It Analyst  in Kolkata",
          "Associate  in Pune",
          "Office Boy for 4.9 years in Kolkata, Rajarhat",
          "Senior Associate  in Pune Bhosari",
          "Associate Technical Consultant  in Mumbai"
         ]
        }
       ],
       "layout": {
        "barmode": "overlay",
        "legend": {
         "bgcolor": "#F5F6F9",
         "font": {
          "color": "#4D5663"
         }
        },
        "paper_bgcolor": "#F5F6F9",
        "plot_bgcolor": "#F5F6F9",
        "template": {
         "data": {
          "bar": [
           {
            "error_x": {
             "color": "#2a3f5f"
            },
            "error_y": {
             "color": "#2a3f5f"
            },
            "marker": {
             "line": {
              "color": "#E5ECF6",
              "width": 0.5
             }
            },
            "type": "bar"
           }
          ],
          "barpolar": [
           {
            "marker": {
             "line": {
              "color": "#E5ECF6",
              "width": 0.5
             }
            },
            "type": "barpolar"
           }
          ],
          "carpet": [
           {
            "aaxis": {
             "endlinecolor": "#2a3f5f",
             "gridcolor": "white",
             "linecolor": "white",
             "minorgridcolor": "white",
             "startlinecolor": "#2a3f5f"
            },
            "baxis": {
             "endlinecolor": "#2a3f5f",
             "gridcolor": "white",
             "linecolor": "white",
             "minorgridcolor": "white",
             "startlinecolor": "#2a3f5f"
            },
            "type": "carpet"
           }
          ],
          "choropleth": [
           {
            "colorbar": {
             "outlinewidth": 0,
             "ticks": ""
            },
            "type": "choropleth"
           }
          ],
          "contour": [
           {
            "colorbar": {
             "outlinewidth": 0,
             "ticks": ""
            },
            "colorscale": [
             [
              0,
              "#0d0887"
             ],
             [
              0.1111111111111111,
              "#46039f"
             ],
             [
              0.2222222222222222,
              "#7201a8"
             ],
             [
              0.3333333333333333,
              "#9c179e"
             ],
             [
              0.4444444444444444,
              "#bd3786"
             ],
             [
              0.5555555555555556,
              "#d8576b"
             ],
             [
              0.6666666666666666,
              "#ed7953"
             ],
             [
              0.7777777777777778,
              "#fb9f3a"
             ],
             [
              0.8888888888888888,
              "#fdca26"
             ],
             [
              1,
              "#f0f921"
             ]
            ],
            "type": "contour"
           }
          ],
          "contourcarpet": [
           {
            "colorbar": {
             "outlinewidth": 0,
             "ticks": ""
            },
            "type": "contourcarpet"
           }
          ],
          "heatmap": [
           {
            "colorbar": {
             "outlinewidth": 0,
             "ticks": ""
            },
            "colorscale": [
             [
              0,
              "#0d0887"
             ],
             [
              0.1111111111111111,
              "#46039f"
             ],
             [
              0.2222222222222222,
              "#7201a8"
             ],
             [
              0.3333333333333333,
              "#9c179e"
             ],
             [
              0.4444444444444444,
              "#bd3786"
             ],
             [
              0.5555555555555556,
              "#d8576b"
             ],
             [
              0.6666666666666666,
              "#ed7953"
             ],
             [
              0.7777777777777778,
              "#fb9f3a"
             ],
             [
              0.8888888888888888,
              "#fdca26"
             ],
             [
              1,
              "#f0f921"
             ]
            ],
            "type": "heatmap"
           }
          ],
          "heatmapgl": [
           {
            "colorbar": {
             "outlinewidth": 0,
             "ticks": ""
            },
            "colorscale": [
             [
              0,
              "#0d0887"
             ],
             [
              0.1111111111111111,
              "#46039f"
             ],
             [
              0.2222222222222222,
              "#7201a8"
             ],
             [
              0.3333333333333333,
              "#9c179e"
             ],
             [
              0.4444444444444444,
              "#bd3786"
             ],
             [
              0.5555555555555556,
              "#d8576b"
             ],
             [
              0.6666666666666666,
              "#ed7953"
             ],
             [
              0.7777777777777778,
              "#fb9f3a"
             ],
             [
              0.8888888888888888,
              "#fdca26"
             ],
             [
              1,
              "#f0f921"
             ]
            ],
            "type": "heatmapgl"
           }
          ],
          "histogram": [
           {
            "marker": {
             "colorbar": {
              "outlinewidth": 0,
              "ticks": ""
             }
            },
            "type": "histogram"
           }
          ],
          "histogram2d": [
           {
            "colorbar": {
             "outlinewidth": 0,
             "ticks": ""
            },
            "colorscale": [
             [
              0,
              "#0d0887"
             ],
             [
              0.1111111111111111,
              "#46039f"
             ],
             [
              0.2222222222222222,
              "#7201a8"
             ],
             [
              0.3333333333333333,
              "#9c179e"
             ],
             [
              0.4444444444444444,
              "#bd3786"
             ],
             [
              0.5555555555555556,
              "#d8576b"
             ],
             [
              0.6666666666666666,
              "#ed7953"
             ],
             [
              0.7777777777777778,
              "#fb9f3a"
             ],
             [
              0.8888888888888888,
              "#fdca26"
             ],
             [
              1,
              "#f0f921"
             ]
            ],
            "type": "histogram2d"
           }
          ],
          "histogram2dcontour": [
           {
            "colorbar": {
             "outlinewidth": 0,
             "ticks": ""
            },
            "colorscale": [
             [
              0,
              "#0d0887"
             ],
             [
              0.1111111111111111,
              "#46039f"
             ],
             [
              0.2222222222222222,
              "#7201a8"
             ],
             [
              0.3333333333333333,
              "#9c179e"
             ],
             [
              0.4444444444444444,
              "#bd3786"
             ],
             [
              0.5555555555555556,
              "#d8576b"
             ],
             [
              0.6666666666666666,
              "#ed7953"
             ],
             [
              0.7777777777777778,
              "#fb9f3a"
             ],
             [
              0.8888888888888888,
              "#fdca26"
             ],
             [
              1,
              "#f0f921"
             ]
            ],
            "type": "histogram2dcontour"
           }
          ],
          "mesh3d": [
           {
            "colorbar": {
             "outlinewidth": 0,
             "ticks": ""
            },
            "type": "mesh3d"
           }
          ],
          "parcoords": [
           {
            "line": {
             "colorbar": {
              "outlinewidth": 0,
              "ticks": ""
             }
            },
            "type": "parcoords"
           }
          ],
          "pie": [
           {
            "automargin": true,
            "type": "pie"
           }
          ],
          "scatter": [
           {
            "marker": {
             "colorbar": {
              "outlinewidth": 0,
              "ticks": ""
             }
            },
            "type": "scatter"
           }
          ],
          "scatter3d": [
           {
            "line": {
             "colorbar": {
              "outlinewidth": 0,
              "ticks": ""
             }
            },
            "marker": {
             "colorbar": {
              "outlinewidth": 0,
              "ticks": ""
             }
            },
            "type": "scatter3d"
           }
          ],
          "scattercarpet": [
           {
            "marker": {
             "colorbar": {
              "outlinewidth": 0,
              "ticks": ""
             }
            },
            "type": "scattercarpet"
           }
          ],
          "scattergeo": [
           {
            "marker": {
             "colorbar": {
              "outlinewidth": 0,
              "ticks": ""
             }
            },
            "type": "scattergeo"
           }
          ],
          "scattergl": [
           {
            "marker": {
             "colorbar": {
              "outlinewidth": 0,
              "ticks": ""
             }
            },
            "type": "scattergl"
           }
          ],
          "scattermapbox": [
           {
            "marker": {
             "colorbar": {
              "outlinewidth": 0,
              "ticks": ""
             }
            },
            "type": "scattermapbox"
           }
          ],
          "scatterpolar": [
           {
            "marker": {
             "colorbar": {
              "outlinewidth": 0,
              "ticks": ""
             }
            },
            "type": "scatterpolar"
           }
          ],
          "scatterpolargl": [
           {
            "marker": {
             "colorbar": {
              "outlinewidth": 0,
              "ticks": ""
             }
            },
            "type": "scatterpolargl"
           }
          ],
          "scatterternary": [
           {
            "marker": {
             "colorbar": {
              "outlinewidth": 0,
              "ticks": ""
             }
            },
            "type": "scatterternary"
           }
          ],
          "surface": [
           {
            "colorbar": {
             "outlinewidth": 0,
             "ticks": ""
            },
            "colorscale": [
             [
              0,
              "#0d0887"
             ],
             [
              0.1111111111111111,
              "#46039f"
             ],
             [
              0.2222222222222222,
              "#7201a8"
             ],
             [
              0.3333333333333333,
              "#9c179e"
             ],
             [
              0.4444444444444444,
              "#bd3786"
             ],
             [
              0.5555555555555556,
              "#d8576b"
             ],
             [
              0.6666666666666666,
              "#ed7953"
             ],
             [
              0.7777777777777778,
              "#fb9f3a"
             ],
             [
              0.8888888888888888,
              "#fdca26"
             ],
             [
              1,
              "#f0f921"
             ]
            ],
            "type": "surface"
           }
          ],
          "table": [
           {
            "cells": {
             "fill": {
              "color": "#EBF0F8"
             },
             "line": {
              "color": "white"
             }
            },
            "header": {
             "fill": {
              "color": "#C8D4E3"
             },
             "line": {
              "color": "white"
             }
            },
            "type": "table"
           }
          ]
         },
         "layout": {
          "annotationdefaults": {
           "arrowcolor": "#2a3f5f",
           "arrowhead": 0,
           "arrowwidth": 1
          },
          "coloraxis": {
           "colorbar": {
            "outlinewidth": 0,
            "ticks": ""
           }
          },
          "colorscale": {
           "diverging": [
            [
             0,
             "#8e0152"
            ],
            [
             0.1,
             "#c51b7d"
            ],
            [
             0.2,
             "#de77ae"
            ],
            [
             0.3,
             "#f1b6da"
            ],
            [
             0.4,
             "#fde0ef"
            ],
            [
             0.5,
             "#f7f7f7"
            ],
            [
             0.6,
             "#e6f5d0"
            ],
            [
             0.7,
             "#b8e186"
            ],
            [
             0.8,
             "#7fbc41"
            ],
            [
             0.9,
             "#4d9221"
            ],
            [
             1,
             "#276419"
            ]
           ],
           "sequential": [
            [
             0,
             "#0d0887"
            ],
            [
             0.1111111111111111,
             "#46039f"
            ],
            [
             0.2222222222222222,
             "#7201a8"
            ],
            [
             0.3333333333333333,
             "#9c179e"
            ],
            [
             0.4444444444444444,
             "#bd3786"
            ],
            [
             0.5555555555555556,
             "#d8576b"
            ],
            [
             0.6666666666666666,
             "#ed7953"
            ],
            [
             0.7777777777777778,
             "#fb9f3a"
            ],
            [
             0.8888888888888888,
             "#fdca26"
            ],
            [
             1,
             "#f0f921"
            ]
           ],
           "sequentialminus": [
            [
             0,
             "#0d0887"
            ],
            [
             0.1111111111111111,
             "#46039f"
            ],
            [
             0.2222222222222222,
             "#7201a8"
            ],
            [
             0.3333333333333333,
             "#9c179e"
            ],
            [
             0.4444444444444444,
             "#bd3786"
            ],
            [
             0.5555555555555556,
             "#d8576b"
            ],
            [
             0.6666666666666666,
             "#ed7953"
            ],
            [
             0.7777777777777778,
             "#fb9f3a"
            ],
            [
             0.8888888888888888,
             "#fdca26"
            ],
            [
             1,
             "#f0f921"
            ]
           ]
          },
          "colorway": [
           "#636efa",
           "#EF553B",
           "#00cc96",
           "#ab63fa",
           "#FFA15A",
           "#19d3f3",
           "#FF6692",
           "#B6E880",
           "#FF97FF",
           "#FECB52"
          ],
          "font": {
           "color": "#2a3f5f"
          },
          "geo": {
           "bgcolor": "white",
           "lakecolor": "white",
           "landcolor": "#E5ECF6",
           "showlakes": true,
           "showland": true,
           "subunitcolor": "white"
          },
          "hoverlabel": {
           "align": "left"
          },
          "hovermode": "closest",
          "mapbox": {
           "style": "light"
          },
          "paper_bgcolor": "white",
          "plot_bgcolor": "#E5ECF6",
          "polar": {
           "angularaxis": {
            "gridcolor": "white",
            "linecolor": "white",
            "ticks": ""
           },
           "bgcolor": "#E5ECF6",
           "radialaxis": {
            "gridcolor": "white",
            "linecolor": "white",
            "ticks": ""
           }
          },
          "scene": {
           "xaxis": {
            "backgroundcolor": "#E5ECF6",
            "gridcolor": "white",
            "gridwidth": 2,
            "linecolor": "white",
            "showbackground": true,
            "ticks": "",
            "zerolinecolor": "white"
           },
           "yaxis": {
            "backgroundcolor": "#E5ECF6",
            "gridcolor": "white",
            "gridwidth": 2,
            "linecolor": "white",
            "showbackground": true,
            "ticks": "",
            "zerolinecolor": "white"
           },
           "zaxis": {
            "backgroundcolor": "#E5ECF6",
            "gridcolor": "white",
            "gridwidth": 2,
            "linecolor": "white",
            "showbackground": true,
            "ticks": "",
            "zerolinecolor": "white"
           }
          },
          "shapedefaults": {
           "line": {
            "color": "#2a3f5f"
           }
          },
          "ternary": {
           "aaxis": {
            "gridcolor": "white",
            "linecolor": "white",
            "ticks": ""
           },
           "baxis": {
            "gridcolor": "white",
            "linecolor": "white",
            "ticks": ""
           },
           "bgcolor": "#E5ECF6",
           "caxis": {
            "gridcolor": "white",
            "linecolor": "white",
            "ticks": ""
           }
          },
          "title": {
           "x": 0.05
          },
          "xaxis": {
           "automargin": true,
           "gridcolor": "white",
           "linecolor": "white",
           "ticks": "",
           "title": {
            "standoff": 15
           },
           "zerolinecolor": "white",
           "zerolinewidth": 2
          },
          "yaxis": {
           "automargin": true,
           "gridcolor": "white",
           "linecolor": "white",
           "ticks": "",
           "title": {
            "standoff": 15
           },
           "zerolinecolor": "white",
           "zerolinewidth": 2
          }
         }
        },
        "title": {
         "font": {
          "color": "#4D5663"
         },
         "text": "tital"
        },
        "xaxis": {
         "gridcolor": "#E1E5ED",
         "linecolor": "black",
         "showgrid": true,
         "tickfont": {
          "color": "#4D5663"
         },
         "title": {
          "font": {
           "color": "#4D5663"
          },
          "text": "tital"
         },
         "zerolinecolor": "#E1E5ED"
        },
        "yaxis": {
         "gridcolor": "#E1E5ED",
         "linecolor": "black",
         "showgrid": true,
         "tickfont": {
          "color": "#4D5663"
         },
         "title": {
          "font": {
           "color": "#4D5663"
          },
          "text": "count"
         },
         "zerolinecolor": "#E1E5ED"
        }
       }
      },
      "text/html": [
       "<div>\n",
       "        \n",
       "        \n",
       "            <div id=\"b5be2799-0a82-48bd-85ba-e06404396b6c\" class=\"plotly-graph-div\" style=\"height:525px; width:100%;\"></div>\n",
       "            <script type=\"text/javascript\">\n",
       "                require([\"plotly\"], function(Plotly) {\n",
       "                    window.PLOTLYENV=window.PLOTLYENV || {};\n",
       "                    window.PLOTLYENV.BASE_URL='https://plot.ly';\n",
       "                    \n",
       "                if (document.getElementById(\"b5be2799-0a82-48bd-85ba-e06404396b6c\")) {\n",
       "                    Plotly.newPlot(\n",
       "                        'b5be2799-0a82-48bd-85ba-e06404396b6c',\n",
       "                        [{\"histfunc\": \"count\", \"histnorm\": \"\", \"marker\": {\"color\": \"rgba(255, 153, 51, 1.0)\", \"line\": {\"color\": \"#000000\", \"width\": 1.3}}, \"name\": \"tital\", \"nbinsx\": 100, \"opacity\": 0.8, \"orientation\": \"v\", \"type\": \"histogram\", \"x\": [\"System Engineer  in Kolkata\", \"It Analyst  in Kolkata\", \"Associate Consultant  in Bangalore\", \"Assistant Consultant (ITIS)  in Whitefield\", \"Assistant System Engineer  in Pune\", \"Sql Database Administrator for 7.4 years in Kolkata\", \"Senior Systems Engineer  in Hyderabad, Telangana, India\", \"It Analyst  in Bhubaneswar\", \"Systems Engineer  in Bangalore\", \"It Analyst  in Bhubaneswar\", \"Business Process Lead  in Gandhinagar\", \"Database Administrator  in Pune\", \"Senior Visual Designer, SME For Content Management Team And QC For Myer Retail Online Site (Australi  in Bangalore\", \"Project Manager  in Kolkata\", \"Process Associate  in Mumbai\", \"Business Analyst  in Mumbai\", \"SAP SD Consultant- IT Software - ERP  in Hyderabad\", \"Officer  in Hyderabad\", \"Process Associate  in Pune\", \"Assistant Consultant  in Pune\", \"Software Engineer  in Delhi\", \"Assistant Consultant  in Kolkata\", \"Counter Sales  in Indore\", \"Assistant System Engineer Trainee  in Gurgaon \", \"AML And KYC Analyst  in Pune\", \"Automation Test Engineer for 3.5 years in Bangalore\", \"Zonal Manager for 1.5 years in Fridabad\", \"Salesforce Developer for 4.9 years in Pune\", \"Investment Banking Associate  in Adibatla (hyd)\", \"Technical Support Analyst for 11 months in Chennai\", \"It Analyst  in Powai In Mumbai\", \"Information Technology Analyst  in Cincinnati, OH, USA\", \"Senior Process Associate  in Baroda\", \"Assistant System Engineer  for 1.4 years in Gurgaon\", \"Qa Analyst  in Powai\", \"Associate  in Gandhinagar\", \"Devops Engineer  in Gurgaon\", \"Senior Process Associate  in Chennai\", \"Gis Engineer for 4.6 years in Hyderabad\", \"Software Developer  in Bengaluru\", \"Software Tester  in Chennai\", \"Project Manager for 7.6 years in BENGALURU\", \"Information Processing Specialist  in KOLKATA\", \"Assistant Manager  in Thane West\", \"Senior Business Analyst  in Mumbai\", \"Process Associate  in Nagpur\", \"It Analyst  in Chennai, Tamil Nadu, India\", \"Associate System Engineer for 1.5 years in Bengaluru, Karnataka\", \"Associate Consultant  in Hyderabad\", \"System Engineer for 2.4 years in Delhi\", \"Senior Associate for 2 months in Hinjewadi Phase 3\", \"Associate  in Pune\", \"System Engineer  in Gurugram\", \"Identity And Access Management Analyst for 4 year in Bangalore\", \"System Engineer  in Pune\", \"Domain Consultant  in Hyderabad \", \"System Engineer  in Chennai\", \"System Engineer  in New Delhi\", \"Production Support Analyst  in Bangalore\", \"System Engineer  in Mumbai\", \"Business Analyst  in Hyderabad\", \"System Engineer  in Kolkata\", \"It Analyst for 5.9 years in Noida\", \"Process Associate  in Hyderabad\", \"Drug Safety Associate  in Pune\", \"Assistant System Engineer   in Indore\", \"Accounts Support Executive  in Delhi\", \"AWS Certified Architect, DevOps ,Teraform, Ansible Developer  in Hyderabad\", \"Citizen Service Executive for 5.7 years in PSK KOLLAM\", \"Assistant Consultant  in Nagpur\", \"Senior It Analyst for 7.6 years in Chennai\", \"Systems Engineer for 3.4 years in Hyderabad\", \"Senior Business Analyst  in Bangalore\", \"Associate System Engineer  in Mumbai\", \"Associate/senior Associate -(nontechnical) for 3.6 years in Pune\", \"System Engineer  in Pune\", \"Business Analyst  in Different Locations\", \"Assistant System Engineer for 7 months in Gurgaon\", \"Team Leader Operations  in Kolkata\", \"System Engineer  in Kolkata\", \"Technology Consultant  in Indore\", \"System Engineer  in Pune\", \"Senior Process Associate  in Chennai\", \"Team Lead And Senior Test Engineer for 6.7 years in Chennai Siruseri\", \"Senior It Analyst for 7.8 years in Sydney \", \"Assistant Consultant for 3.4 years in Bangalore\", \"Team Member  in Pune\", \"Automation Test Engineer  in Pune\", \"Process Associate for 2.7 years in Vatika \", \"Backup Teamleader for 5.2 years in Ambattur\", \"Quality Analyst for 3.6 years in Gurgaon\", \"Assistant System Engineer  in Kolkata\", \"It Analyst  in Mumbai\", \"Sales Executive  in Hyderabad \", \"Assistant System Engineer  in Bangalore\", \"Senior Process Associate  in Hyderabad\", \"System Engineer  in Kolkata\", \"Bps Analyst for 11 months in Pune\", \"Senior Engineer  in Bangalore \", \"BPS Banking In Morgage  in Pune\", \"It Analyst  in Hyderabad\", \"Senior Associate  in Mumbai \", \"Associate Consultant - IT  in Bangalore \", \"Ast  in Hyderabad\", \"Business Process Lead  in Pune\", \"System Engineer  in Gurgaon\", \"Work Flow Specialist  in Chennai\", \"It Analyst  in Hyderabad\", \"Software Engineer  in Hyderabad\", \"Information Processing Specialist for 6 months in Bangalore\", \"Developer  in Pune\", \"Trainee -Pharmacovigilance for 2 months in Mumbai\", \"It Analyst for 8.1 years in Mumbai\", \"Senior Executive  in Gurgaon\", \"Workman/foreman/technician  in Haydrabad\", \"Technical Architect  in Thane\", \"Network Administrator for 2.8 years in Kochi\", \"Senior Technical Associate  in Belapur, Navi Mumbai\", \"Senior Sales Executive for 6.3 years in Faridabad\", \"System Engineer  in Noida\", \"Software Developer for 2.5 years in Bengaluru\", \"Site Engineer Civil Or Civil Designer  in Lucknow\", \"Sap Fico Functional Consultant  in Hyderabad\", \"Process Associate  in Chennai\", \"Associate  in Hyderabad\", \"Pharmacovigilance Scientist I for 3 year in Mumbai, Maharashtra, India\", \"System Engineer  in Gurgaon\", \"Java And PL-SQL Developer  in Bangalore\", \"It Analyst  in Chennai\", \"Major Incident Manager  in Hyderabad\", \"It Analyst for 1.6 years in Kochi\", \"Assistant System Engineer  in Hyderabad\", \"Assistant System Engineer  in Bangalore\", \"Consultant  in London\", \"System Engineer  in Noida\", \"Financial  in Chennai\", \"Process Analyst   in Chennai \", \"ASSISTANT SYS  in Hyderabad \", \"Salesforce Administrator for 4.9 years in Pune\", \"It Analyst for 7 years in Scotia Bank Canada\", \"It Analyst for 7.3 years in Thane\", \"Assistant System Engineer  in Bangalore\", \"Assistant System Engineer Trainee  in Gurgaon\", \"It Business Analyst for 1.5 years in Bengalore\", \"Senior Business Analyst  in Mumbai\", \"Process Associate  in Gandhinagar\", \"Information And Media Operational Specialist  in Hyderabad\", \"I T Analyst  in PUNE\", \"Oracle Database Administrator  in Pune\", \"Information Technology Analyst  in Chennai\", \"Senior Process Associate  in Chennai, Tamil Nadu, India\", \"Senior Associate  in Tril It Park \", \"Software Engineer  in Kolkata\", \"Business Head -greater Mumbai for 3.1 years in Mumbai\", \"It Analyst for 8.5 years in Chennai\", \"Process Associate  in Nagpur \", \"It Analyst  in Bangalore\", \"Senior Process Associate  in Bengaluru\", \"Team Leader  in Pune\", \"System Software Engineer  in Mumbai\", \"Bpo Information Processing Specialist  in Hyderabad\", \"Process Associate  in Chennai\", \"Process Associate  in Gachibowli \", \"Associate Consultant  in Bangalore\", \"It Analyst  in Kolkata\", \"Assistant System Engineer  in Pune\", \"Assistant Consultant (ITIS)  in Whitefield\", \"Senior Systems Engineer  in Hyderabad, Telangana, India\", \"Data Scientist for 1.5 years in Thane\", \"Sql Database Administrator for 7.4 years in Kolkata\", \"Systems Engineer  in Bangalore\", \"It Analyst  in Bhubaneswar\", \"It Analyst  in Bhubaneswar\", \"Business Analyst  in Mumbai\", \"Software Manual Tester for 6 year in Bangalore\", \"Database Administrator  in Pune\", \"Business Process Lead  in Gandhinagar\", \"Software Engineer  in Delhi\", \"Senior Visual Designer, SME For Content Management Team And QC For Myer Retail Online Site (Australi  in Bangalore\", \"Process Associate  in Mumbai\", \"Project Manager  in Kolkata\", \"Assistant Consultant  in Pune\", \"Officer  in Hyderabad\", \"Process Associate  in Pune\", \"SAP SD Consultant- IT Software - ERP  in Hyderabad\", \"Assistant Consultant  in Kolkata\", \"Counter Sales  in Indore\", \"It Analyst  in Powai In Mumbai\", \"Assistant System Engineer Trainee  in Gurgaon \", \"Zonal Manager for 1.5 years in Fridabad\", \"AML And KYC Analyst  in Pune\", \"Salesforce Developer for 4.9 years in Pune\", \"Technical Support Analyst for 11 months in Chennai\", \"Automation Test Engineer for 3.5 years in Bangalore\", \"Investment Banking Associate  in Adibatla (hyd)\", \"Information Technology Analyst  in Cincinnati, OH, USA\", \"Project Manager for 7.6 years in BENGALURU\", \"Senior Process Associate  in Baroda\", \"Qa Analyst  in Powai\", \"Assistant System Engineer  for 1.4 years in Gurgaon\", \"Associate  in Pune\", \"Gis Engineer for 4.6 years in Hyderabad\", \"Senior Process Associate  in Chennai\", \"Associate  in Gandhinagar\", \"Devops Engineer  in Gurgaon\", \"Information Processing Specialist  in KOLKATA\", \"Software Developer  in Bengaluru\", \"Software Tester  in Chennai\", \"Associate Consultant  in Hyderabad\", \"Assistant Manager  in Thane West\", \"Senior Business Analyst  in Mumbai\", \"Associate System Engineer for 1.5 years in Bengaluru, Karnataka\", \"Process Associate  in Nagpur\", \"Identity And Access Management Analyst for 4 year in Bangalore\", \"System Engineer  in Gurugram\", \"It Analyst  in Chennai, Tamil Nadu, India\", \"System Engineer for 2.4 years in Delhi\", \"Domain Consultant  in Hyderabad \", \"Senior Associate for 2 months in Hinjewadi Phase 3\", \"System Engineer  in Pune\", \"System Engineer  in Chennai\", \"System Engineer  in New Delhi\", \"Production Support Analyst  in Bangalore\", \"System Engineer  in Kolkata\", \"System Engineer  in Mumbai\", \"Business Analyst  in Hyderabad\", \"It Analyst for 5.9 years in Noida\", \"Process Associate  in Hyderabad\", \"Associate/senior Associate -(nontechnical) for 3.6 years in Pune\", \"Drug Safety Associate  in Pune\", \"Citizen Service Executive for 5.7 years in PSK KOLLAM\", \"Assistant System Engineer   in Indore\", \"Accounts Support Executive  in Delhi\", \"AWS Certified Architect, DevOps ,Teraform, Ansible Developer  in Hyderabad\", \"Business Analyst  in Different Locations\", \"Senior It Analyst for 7.6 years in Chennai\", \"Systems Engineer for 3.4 years in Hyderabad\", \"Senior Business Analyst  in Bangalore\", \"Assistant Consultant  in Nagpur\", \"Associate System Engineer  in Mumbai\", \"System Engineer  in Kolkata\", \"System Engineer  in Pune\", \"Assistant System Engineer for 7 months in Gurgaon\", \"Team Leader Operations  in Kolkata\", \"System Engineer  in Kolkata\", \"Technology Consultant  in Indore\", \"System Engineer  in Pune\", \"Assistant Consultant for 3.4 years in Bangalore\", \"Senior Process Associate  in Chennai\", \"Team Lead And Senior Test Engineer for 6.7 years in Chennai Siruseri\", \"Senior It Analyst for 7.8 years in Sydney \", \"Automation Test Engineer  in Pune\", \"Team Member  in Pune\", \"Process Associate for 2.7 years in Vatika \", \"Assistant System Engineer  in Kolkata\", \"Quality Analyst for 3.6 years in Gurgaon\", \"Backup Teamleader for 5.2 years in Ambattur\", \"Sales Executive  in Hyderabad \", \"It Analyst  in Mumbai\", \"Assistant System Engineer  in Bangalore\", \"Bps Analyst for 11 months in Pune\", \"Senior Process Associate  in Hyderabad\", \"Senior Executive  in Gurgaon\", \"BPS Banking In Morgage  in Pune\", \"It Analyst  in Hyderabad\", \"Senior Engineer  in Bangalore \", \"Associate Consultant - IT  in Bangalore \", \"Senior Associate  in Mumbai \", \"Business Process Lead  in Pune\", \"System Engineer  in Gurgaon\", \"Work Flow Specialist  in Chennai\", \"It Analyst  in Hyderabad\", \"Software Engineer  in Hyderabad\", \"Ast  in Hyderabad\", \"Process Associate  in Chennai\", \"Developer  in Pune\", \"Information Processing Specialist for 6 months in Bangalore\", \"Trainee -Pharmacovigilance for 2 months in Mumbai\", \"It Analyst for 8.1 years in Mumbai\", \"Technical Architect  in Thane\", \"Workman/foreman/technician  in Haydrabad\", \"Senior Technical Associate  in Belapur, Navi Mumbai\", \"Network Administrator for 2.8 years in Kochi\", \"Senior Sales Executive for 6.3 years in Faridabad\", \"System Engineer  in Noida\", \"It Analyst  in Chennai\", \"Java And PL-SQL Developer  in Bangalore\", \"Pharmacovigilance Scientist I for 3 year in Mumbai, Maharashtra, India\", \"Software Developer for 2.5 years in Bengaluru\", \"Site Engineer Civil Or Civil Designer  in Lucknow\", \"Sap Fico Functional Consultant  in Hyderabad\", \"Associate  in Hyderabad\", \"System Engineer  in Gurgaon\", \"Senior Business Analyst  in Mumbai\", \"Consultant  in London\", \"It Analyst for 1.6 years in Kochi\", \"Major Incident Manager  in Hyderabad\", \"Financial  in Chennai\", \"Process Analyst   in Chennai \", \"Assistant System Engineer  in Bangalore\", \"Assistant System Engineer  in Hyderabad\", \"Process Associate  in Nagpur \", \"ASSISTANT SYS  in Hyderabad \", \"It Analyst for 7.3 years in Thane\", \"System Engineer  in Noida\", \"Salesforce Administrator for 4.9 years in Pune\", \"Assistant System Engineer  in Bangalore\", \"It Analyst for 7 years in Scotia Bank Canada\", \"Senior Associate  in Tril It Park \", \"Process Associate  in Gandhinagar\", \"It Business Analyst for 1.6 years in Bengalore\", \"Assistant System Engineer Trainee  in Gurgaon\", \"I T Analyst  in PUNE\", \"Oracle Database Administrator  in Pune\", \"Senior Process Associate  in Chennai, Tamil Nadu, India\", \"Information Technology Analyst  in Chennai\", \"Information And Media Operational Specialist  in Hyderabad\", \"System Engineer for 1.7 years in Japan - Hiroshima\", \"Software Engineer  in Kolkata\", \"Business Head -greater Mumbai for 3.1 years in Mumbai\", \"Business Analyst for 7.4 years in Amsterdam, Netherlands\", \"It Analyst for 8.5 years in Chennai\", \"It Analyst  in Bangalore\", \"BPS Information Process Enabler (BPO1.1)  in Kolkata\", \"Senior Process Associate  in Bengaluru\", \"System Software Engineer  in Mumbai\", \"Assistant Consultant for 12 years in Chennai, Tamil Nadu\", \"Team Leader  in Pune\", \"Business Process Lead  in Kolkata\", \"Ita  in Chennai\", \"Business Process Lead  in Vikhroli Mumbai\", \"Assistant System Engineer Trainee  in Bangalore\", \"Business Analyst  in Mumbai\", \"Sql Database Administrator  in Chennai\", \"Information Process Enabler for 1.3 years in BANGALORE\", \"Senior Trainer, South Region  in Banglore\", \"Graduate Engineer Trainee  in New Delhi\", \"Associate  in Pune\", \"It Analyst  in Pune\", \"Senior Software Engineer  in Powai Mumbai\", \"Assistant System Engineer for 1.9 years in Pune\", \"It Analyst  in Pune\", \"Test Manager for 11.5 years in Thane\", \"Systems Engineer  in Hyderabad \", \"Senior Associate  in Olympus\", \"Senior Business Analyst  in Mumbai\", \"Senior Associate  in Nagpur\", \"Assistant Consultant for 5.7 years in Bangalore\", \"Process Executive  in Bangalore\", \"Bpo Information Processing Specialist for 2.5 years in Chennai\", \"Associate/senior Associate -(nontechnical) for 3.6 years in Chennai\", \"It Analyst for 6 months in Chennai\", \"System Engineer  in Chennai\", \"Salesforce Developer  in Noida\", \"Sharepoint Developer for 2.7 years in Noida \", \"Associate  in Kolkata\", \"Sdet (software Development Engineer In Test)  in Kolkata\", \"I.t.analyst for 4.3 years in Gg7 Gurgaon\", \"Associate It Analyst  in Bangalore\", \"System Engineer for 3.5 years in Gurgaon\", \"It Analyst  in Kolkata\", \"Process Associate  in Varanasi \", \"Team Leader for 6.3 years in Kolkata\", \"Ast  in Kolkata\", \"Software Support Executive  in Hyderabad\", \"Information Process Enabler for 4.3 years in Chennai\", \"It Analyst  in Chennai , Velachery\", \"Business Process Lead  in Mumbai \", \"Sap Security And Grc Consultant  in Mumbai\", \"Assistant Consultant  in Chennai\", \"Information Technology Analyst for 3.5 years in Hyderabad\", \"It Analyst  in Bangalore \", \"Technical Support Executive  in Mumbai\", \"Quality System Engineer for 3 years in Pune\", \"Assistant Systems Engineer  in Noida\", \"Line Incharge  in Chennai\", \"Application Support Analyst  in Chennai \", \"Process Associate  in Gandhinagar\", \"Business Process Lead  in Kolkata\", \"System Engineer  in Noida\", \"Business Process Lead for 9.4 years in Bangalore\", \"Service Now Developer  in Kolkata\", \"It Analyst  in Noida\", \"Senior Process Associate  in Mumbai\", \"Associate/senior Associate -(nontechnical)  in Kolkata\", \"Operations Manager for 4.7 years in Delhi\", \"Desktop Support Engineer  in Pune\", \"Assistant System Engineer  in Chennai\", \"Technical Leader  in Gurgaon\", \"System Engineer  in Hyderabad\", \"Process Associate  in Kolkata\", \"Citizen Service Executive  in Trichy\", \"It Analyst for 5 year in Chennai, Tamil Nadu, India\", \"It Analyst for 4.2 years in Andheri Mumbai\", \"Work Flow Specialist  in Chennai \", \"Associate Consultant  in Hyderabad\", \"Business Analyst for 1.8 years in Bangalore \", \"Customer Support  in Moradabad, Uttar Pradesh, India\", \"Case Manager  in Mumbai\", \"System Engineer  in Noida\", \"Developer  in BENGALURU\", \"It Analyst  in Gurugram \", \"It Analyst  in Bangalore\", \"System Engineer  in Gurgaon, Haryana, India\", \"System Engineer  in Kochi\", \"Customer Support Associate  in Hyderabad\", \"Test Engineer  in Bangalore\", \"Process Associate  in Hyderabad\", \"Customer Support Manager  in Hyderabad\", \"Plm Developer  in Hyderabad\", \"Data Manager  in Mumbai\", \"Devops Engineer for 10 months in Bangalore\", \"It Analyst for 5 years in Hyderabad\", \"Work Flow Specialist  in Chennai\", \"Technical Lead/project Lead  in Gurgaon\", \"Process Associate  in Nagpur\", \"Citizen Service Executive  in Vadodara\", \"Senior Process Associate  in Nagpur\", \"It Analyst C2 for 5 years in Chennai\", \"Process Associate for 2.2 years in Kolkata\", \"Administration Executive  in Patna, Bihar, India\", \"Sap Functional Consultant  in Mumbai\", \"It Support Executive  in Pune\", \"Associate  in Pune \", \"Process Associate  in Chennai\", \"Manual Automation Test Engineer  in Bangalore\", \"Assistant System Engineer for 2.2 years in Bangalore\", \"System Engineer  in Kolkata\", \"Manager / Sr Manager - Administration  in CA Office Zoey Anwar & Co,  Nagpur\", \"Software Tester  in Gandhinagar\", \"Assistant Software Engineer - Trainee  in Navi Mumbai\", \"Transition Manager  in Indore\", \"Assistant System Engineer  in Hyderabad\", \"Process Associate  in Pune\", \"It Support Engineer  in Pune Sahyadri Park\", \"Citizen Service Executive  in Bengaluru\", \"Customer Care Executive  in Hyderabad\", \"Quality Analyst  in Pune\", \"Assistant System Engineer  in Mumbai\", \"Out Source Adviser  in Kolkata\", \"Process Specialist  in Chennai\", \"It Analyst  in Kolkata\", \"Senior Process Associate  in Chennai\", \"It Analyst  in Kolkata\", \"Process Associate  in Pune\", \"Software Developer  in DELHI\", \"System Engineer for 3.5 years in Delhi \", \"Assistant Manager  in Noida \", \"It Analyst  in Hyderabad\", \"Quality Analyst  in Mumbai\", \"It Analyst  in Bangalore\", \"Quality Analyst  in Mumbai\", \"Information Technical Analyst for 5.2 years in Uruguay\", \"Manager  in Mumbai\", \"Customer Support Agent  in Kolkata\", \"Senior Process Enabler  in Nagpur \", \"Manager And PMO Lead  in Thane\", \"Process Associate  in Electronic City\", \"Area Business Manager  in Kuala Lumpur\", \"System Engineer  in Kolkata\", \"Sr Process Associate for 6.9 years in Pune\", \"Assistant System Engineer Trainee  in Siruseri\", \"Supply Chain Analyst  in Kolkata\", \"Officer for 8.5 years in Chennai\", \"Senior Process Associate  in Kolkata\", \"Process Associate  in Kolkata Gitanjali Park\", \"It Analyst  in Kolkata\", \"Manager  in Chennai\", \"Process Associate  in Gandhinagar\", \"Technical Support Executive for 3.4 years in Bangalore\", \"System Software Engineer  in Kolkata\", \"It Analyst  in BANGOLORE \", \"Senior Associate Operations  in Kolkata \", \"Senior Business Analyst for 9.2 years in Chennai\", \"EA (Assistant Manager In TCS) for 4.9 years in Gurgaon\", \"Senior Process Associate  in Gandhinagar\", \"Process Associate  in Chennai One Sez\", \"Email Support Executive  in Mumbai\", \"Associate/senior Associate -(technical) for 2.2 years in Hyderabad \", \"Software Engineer for 3.6 years in Noida\", \"Assistant System Engineer  in NOIDA\", \"Project Management Officer  in Mumbai\", \"Assistant System Engineer  in Noida\", \"Assistant System Engineer for 2.3 years in Chennai\", \"Process Associate  in Bangalore\", \"Customer Service Executive  in Mumbai\", \"Axiom SL Developer - Immediate Joiner  in Ggm\", \"It Analyst  in Kolkata\", \"Business Associate  in Hyderabad\", \"Assistant System Engineer  in Mumbai\", \"Senior It Analyst  in Thane\", \"Assistant System Engineer for 1.8 years in Pune\", \"BFS  in Hyderabad\", \"Devops Engineer  in Bengaluru\", \"Java Developer  in Bangalore\", \"Process Associate  in Hyderabad(Q City)\", \"Cse Citizen Service Executive  in Bangalore \", \"Assistant System Engineer  in Hyderabad \", \"Engineer  in Hyderabad\", \"Application Support Engineer  in Hinjewadi Phase 3 Pune\", \"Assistant Consultant  in Noida\", \"Graduate Trainee  in Kochi\", \"Automation Test Analyst for 2 years in Bhubaneswar\", \"Systems Engineer for 5.7 years in Bangalore\", \"System Engineer  in Bangaluru\", \"System Engineer  in Bangalore\", \"Citizen Service Executive  in Kolkata\", \"Senior Process Associate  in Pune\", \"Assistant Consultant  in Bangalore\", \"Senior Associate  in Kolkata\", \"Assistant Consultant   in Chennai \", \"Associate/senior Associate -(nontechnical)  in Gurgaon\", \"Systems Engineer  in Bangalore\", \"Developer  in Pune\", \"It Analyst  in Kolkata\", \"Associate  in Pune\", \"Office Boy for 4.9 years in Kolkata, Rajarhat\", \"Senior Associate  in Pune Bhosari\", \"Associate Technical Consultant  in Mumbai\"]}],\n",
       "                        {\"barmode\": \"overlay\", \"legend\": {\"bgcolor\": \"#F5F6F9\", \"font\": {\"color\": \"#4D5663\"}}, \"paper_bgcolor\": \"#F5F6F9\", \"plot_bgcolor\": \"#F5F6F9\", \"template\": {\"data\": {\"bar\": [{\"error_x\": {\"color\": \"#2a3f5f\"}, \"error_y\": {\"color\": \"#2a3f5f\"}, \"marker\": {\"line\": {\"color\": \"#E5ECF6\", \"width\": 0.5}}, \"type\": \"bar\"}], \"barpolar\": [{\"marker\": {\"line\": {\"color\": \"#E5ECF6\", \"width\": 0.5}}, \"type\": \"barpolar\"}], \"carpet\": [{\"aaxis\": {\"endlinecolor\": \"#2a3f5f\", \"gridcolor\": \"white\", \"linecolor\": \"white\", \"minorgridcolor\": \"white\", \"startlinecolor\": \"#2a3f5f\"}, \"baxis\": {\"endlinecolor\": \"#2a3f5f\", \"gridcolor\": \"white\", \"linecolor\": \"white\", \"minorgridcolor\": \"white\", \"startlinecolor\": \"#2a3f5f\"}, \"type\": \"carpet\"}], \"choropleth\": [{\"colorbar\": {\"outlinewidth\": 0, \"ticks\": \"\"}, \"type\": \"choropleth\"}], \"contour\": [{\"colorbar\": {\"outlinewidth\": 0, \"ticks\": \"\"}, \"colorscale\": [[0.0, \"#0d0887\"], [0.1111111111111111, \"#46039f\"], [0.2222222222222222, \"#7201a8\"], [0.3333333333333333, \"#9c179e\"], [0.4444444444444444, \"#bd3786\"], [0.5555555555555556, \"#d8576b\"], [0.6666666666666666, \"#ed7953\"], [0.7777777777777778, \"#fb9f3a\"], [0.8888888888888888, \"#fdca26\"], [1.0, \"#f0f921\"]], \"type\": \"contour\"}], \"contourcarpet\": [{\"colorbar\": {\"outlinewidth\": 0, \"ticks\": \"\"}, \"type\": \"contourcarpet\"}], \"heatmap\": [{\"colorbar\": {\"outlinewidth\": 0, \"ticks\": \"\"}, \"colorscale\": [[0.0, \"#0d0887\"], [0.1111111111111111, \"#46039f\"], [0.2222222222222222, \"#7201a8\"], [0.3333333333333333, \"#9c179e\"], [0.4444444444444444, \"#bd3786\"], [0.5555555555555556, \"#d8576b\"], [0.6666666666666666, \"#ed7953\"], [0.7777777777777778, \"#fb9f3a\"], [0.8888888888888888, \"#fdca26\"], [1.0, \"#f0f921\"]], \"type\": \"heatmap\"}], \"heatmapgl\": [{\"colorbar\": {\"outlinewidth\": 0, \"ticks\": \"\"}, \"colorscale\": [[0.0, \"#0d0887\"], [0.1111111111111111, \"#46039f\"], [0.2222222222222222, \"#7201a8\"], [0.3333333333333333, \"#9c179e\"], [0.4444444444444444, \"#bd3786\"], [0.5555555555555556, \"#d8576b\"], [0.6666666666666666, \"#ed7953\"], [0.7777777777777778, \"#fb9f3a\"], [0.8888888888888888, \"#fdca26\"], [1.0, \"#f0f921\"]], \"type\": \"heatmapgl\"}], \"histogram\": [{\"marker\": {\"colorbar\": {\"outlinewidth\": 0, \"ticks\": \"\"}}, \"type\": \"histogram\"}], \"histogram2d\": [{\"colorbar\": {\"outlinewidth\": 0, \"ticks\": \"\"}, \"colorscale\": [[0.0, \"#0d0887\"], [0.1111111111111111, \"#46039f\"], [0.2222222222222222, \"#7201a8\"], [0.3333333333333333, \"#9c179e\"], [0.4444444444444444, \"#bd3786\"], [0.5555555555555556, \"#d8576b\"], [0.6666666666666666, \"#ed7953\"], [0.7777777777777778, \"#fb9f3a\"], [0.8888888888888888, \"#fdca26\"], [1.0, \"#f0f921\"]], \"type\": \"histogram2d\"}], \"histogram2dcontour\": [{\"colorbar\": {\"outlinewidth\": 0, \"ticks\": \"\"}, \"colorscale\": [[0.0, \"#0d0887\"], [0.1111111111111111, \"#46039f\"], [0.2222222222222222, \"#7201a8\"], [0.3333333333333333, \"#9c179e\"], [0.4444444444444444, \"#bd3786\"], [0.5555555555555556, \"#d8576b\"], [0.6666666666666666, \"#ed7953\"], [0.7777777777777778, \"#fb9f3a\"], [0.8888888888888888, \"#fdca26\"], [1.0, \"#f0f921\"]], \"type\": \"histogram2dcontour\"}], \"mesh3d\": [{\"colorbar\": {\"outlinewidth\": 0, \"ticks\": \"\"}, \"type\": \"mesh3d\"}], \"parcoords\": [{\"line\": {\"colorbar\": {\"outlinewidth\": 0, \"ticks\": \"\"}}, \"type\": \"parcoords\"}], \"pie\": [{\"automargin\": true, \"type\": \"pie\"}], \"scatter\": [{\"marker\": {\"colorbar\": {\"outlinewidth\": 0, \"ticks\": \"\"}}, \"type\": \"scatter\"}], \"scatter3d\": [{\"line\": {\"colorbar\": {\"outlinewidth\": 0, \"ticks\": \"\"}}, \"marker\": {\"colorbar\": {\"outlinewidth\": 0, \"ticks\": \"\"}}, \"type\": \"scatter3d\"}], \"scattercarpet\": [{\"marker\": {\"colorbar\": {\"outlinewidth\": 0, \"ticks\": \"\"}}, \"type\": \"scattercarpet\"}], \"scattergeo\": [{\"marker\": {\"colorbar\": {\"outlinewidth\": 0, \"ticks\": \"\"}}, \"type\": \"scattergeo\"}], \"scattergl\": [{\"marker\": {\"colorbar\": {\"outlinewidth\": 0, \"ticks\": \"\"}}, \"type\": \"scattergl\"}], \"scattermapbox\": [{\"marker\": {\"colorbar\": {\"outlinewidth\": 0, \"ticks\": \"\"}}, \"type\": \"scattermapbox\"}], \"scatterpolar\": [{\"marker\": {\"colorbar\": {\"outlinewidth\": 0, \"ticks\": \"\"}}, \"type\": \"scatterpolar\"}], \"scatterpolargl\": [{\"marker\": {\"colorbar\": {\"outlinewidth\": 0, \"ticks\": \"\"}}, \"type\": \"scatterpolargl\"}], \"scatterternary\": [{\"marker\": {\"colorbar\": {\"outlinewidth\": 0, \"ticks\": \"\"}}, \"type\": \"scatterternary\"}], \"surface\": [{\"colorbar\": {\"outlinewidth\": 0, \"ticks\": \"\"}, \"colorscale\": [[0.0, \"#0d0887\"], [0.1111111111111111, \"#46039f\"], [0.2222222222222222, \"#7201a8\"], [0.3333333333333333, \"#9c179e\"], [0.4444444444444444, \"#bd3786\"], [0.5555555555555556, \"#d8576b\"], [0.6666666666666666, \"#ed7953\"], [0.7777777777777778, \"#fb9f3a\"], [0.8888888888888888, \"#fdca26\"], [1.0, \"#f0f921\"]], \"type\": \"surface\"}], \"table\": [{\"cells\": {\"fill\": {\"color\": \"#EBF0F8\"}, \"line\": {\"color\": \"white\"}}, \"header\": {\"fill\": {\"color\": \"#C8D4E3\"}, \"line\": {\"color\": \"white\"}}, \"type\": \"table\"}]}, \"layout\": {\"annotationdefaults\": {\"arrowcolor\": \"#2a3f5f\", \"arrowhead\": 0, \"arrowwidth\": 1}, \"coloraxis\": {\"colorbar\": {\"outlinewidth\": 0, \"ticks\": \"\"}}, \"colorscale\": {\"diverging\": [[0, \"#8e0152\"], [0.1, \"#c51b7d\"], [0.2, \"#de77ae\"], [0.3, \"#f1b6da\"], [0.4, \"#fde0ef\"], [0.5, \"#f7f7f7\"], [0.6, \"#e6f5d0\"], [0.7, \"#b8e186\"], [0.8, \"#7fbc41\"], [0.9, \"#4d9221\"], [1, \"#276419\"]], \"sequential\": [[0.0, \"#0d0887\"], [0.1111111111111111, \"#46039f\"], [0.2222222222222222, \"#7201a8\"], [0.3333333333333333, \"#9c179e\"], [0.4444444444444444, \"#bd3786\"], [0.5555555555555556, \"#d8576b\"], [0.6666666666666666, \"#ed7953\"], [0.7777777777777778, \"#fb9f3a\"], [0.8888888888888888, \"#fdca26\"], [1.0, \"#f0f921\"]], \"sequentialminus\": [[0.0, \"#0d0887\"], [0.1111111111111111, \"#46039f\"], [0.2222222222222222, \"#7201a8\"], [0.3333333333333333, \"#9c179e\"], [0.4444444444444444, \"#bd3786\"], [0.5555555555555556, \"#d8576b\"], [0.6666666666666666, \"#ed7953\"], [0.7777777777777778, \"#fb9f3a\"], [0.8888888888888888, \"#fdca26\"], [1.0, \"#f0f921\"]]}, \"colorway\": [\"#636efa\", \"#EF553B\", \"#00cc96\", \"#ab63fa\", \"#FFA15A\", \"#19d3f3\", \"#FF6692\", \"#B6E880\", \"#FF97FF\", \"#FECB52\"], \"font\": {\"color\": \"#2a3f5f\"}, \"geo\": {\"bgcolor\": \"white\", \"lakecolor\": \"white\", \"landcolor\": \"#E5ECF6\", \"showlakes\": true, \"showland\": true, \"subunitcolor\": \"white\"}, \"hoverlabel\": {\"align\": \"left\"}, \"hovermode\": \"closest\", \"mapbox\": {\"style\": \"light\"}, \"paper_bgcolor\": \"white\", \"plot_bgcolor\": \"#E5ECF6\", \"polar\": {\"angularaxis\": {\"gridcolor\": \"white\", \"linecolor\": \"white\", \"ticks\": \"\"}, \"bgcolor\": \"#E5ECF6\", \"radialaxis\": {\"gridcolor\": \"white\", \"linecolor\": \"white\", \"ticks\": \"\"}}, \"scene\": {\"xaxis\": {\"backgroundcolor\": \"#E5ECF6\", \"gridcolor\": \"white\", \"gridwidth\": 2, \"linecolor\": \"white\", \"showbackground\": true, \"ticks\": \"\", \"zerolinecolor\": \"white\"}, \"yaxis\": {\"backgroundcolor\": \"#E5ECF6\", \"gridcolor\": \"white\", \"gridwidth\": 2, \"linecolor\": \"white\", \"showbackground\": true, \"ticks\": \"\", \"zerolinecolor\": \"white\"}, \"zaxis\": {\"backgroundcolor\": \"#E5ECF6\", \"gridcolor\": \"white\", \"gridwidth\": 2, \"linecolor\": \"white\", \"showbackground\": true, \"ticks\": \"\", \"zerolinecolor\": \"white\"}}, \"shapedefaults\": {\"line\": {\"color\": \"#2a3f5f\"}}, \"ternary\": {\"aaxis\": {\"gridcolor\": \"white\", \"linecolor\": \"white\", \"ticks\": \"\"}, \"baxis\": {\"gridcolor\": \"white\", \"linecolor\": \"white\", \"ticks\": \"\"}, \"bgcolor\": \"#E5ECF6\", \"caxis\": {\"gridcolor\": \"white\", \"linecolor\": \"white\", \"ticks\": \"\"}}, \"title\": {\"x\": 0.05}, \"xaxis\": {\"automargin\": true, \"gridcolor\": \"white\", \"linecolor\": \"white\", \"ticks\": \"\", \"title\": {\"standoff\": 15}, \"zerolinecolor\": \"white\", \"zerolinewidth\": 2}, \"yaxis\": {\"automargin\": true, \"gridcolor\": \"white\", \"linecolor\": \"white\", \"ticks\": \"\", \"title\": {\"standoff\": 15}, \"zerolinecolor\": \"white\", \"zerolinewidth\": 2}}}, \"title\": {\"font\": {\"color\": \"#4D5663\"}, \"text\": \"tital\"}, \"xaxis\": {\"gridcolor\": \"#E1E5ED\", \"linecolor\": \"black\", \"showgrid\": true, \"tickfont\": {\"color\": \"#4D5663\"}, \"title\": {\"font\": {\"color\": \"#4D5663\"}, \"text\": \"tital\"}, \"zerolinecolor\": \"#E1E5ED\"}, \"yaxis\": {\"gridcolor\": \"#E1E5ED\", \"linecolor\": \"black\", \"showgrid\": true, \"tickfont\": {\"color\": \"#4D5663\"}, \"title\": {\"font\": {\"color\": \"#4D5663\"}, \"text\": \"count\"}, \"zerolinecolor\": \"#E1E5ED\"}},\n",
       "                        {\"showLink\": true, \"linkText\": \"Export to plot.ly\", \"plotlyServerURL\": \"https://plot.ly\", \"responsive\": true}\n",
       "                    ).then(function(){\n",
       "                            \n",
       "var gd = document.getElementById('b5be2799-0a82-48bd-85ba-e06404396b6c');\n",
       "var x = new MutationObserver(function (mutations, observer) {{\n",
       "        var display = window.getComputedStyle(gd).display;\n",
       "        if (!display || display === 'none') {{\n",
       "            console.log([gd, 'removed!']);\n",
       "            Plotly.purge(gd);\n",
       "            observer.disconnect();\n",
       "        }}\n",
       "}});\n",
       "\n",
       "// Listen for the removal of the full notebook cells\n",
       "var notebookContainer = gd.closest('#notebook-container');\n",
       "if (notebookContainer) {{\n",
       "    x.observe(notebookContainer, {childList: true});\n",
       "}}\n",
       "\n",
       "// Listen for the clearing of the current output cell\n",
       "var outputEl = gd.closest('.output');\n",
       "if (outputEl) {{\n",
       "    x.observe(outputEl, {childList: true});\n",
       "}}\n",
       "\n",
       "                        })\n",
       "                };\n",
       "                });\n",
       "            </script>\n",
       "        </div>"
      ]
     },
     "metadata": {},
     "output_type": "display_data"
    }
   ],
   "source": [
    "data1['tital'].iplot(\n",
    "    kind='hist',\n",
    "    bins=100,\n",
    "    xTitle='tital',\n",
    "    linecolor='black',\n",
    "    yTitle='count',\n",
    "    title='tital')"
   ]
  },
  {
   "cell_type": "code",
   "execution_count": 97,
   "metadata": {},
   "outputs": [
    {
     "ename": "KeyError",
     "evalue": "\"['0'] not found in axis\"",
     "output_type": "error",
     "traceback": [
      "\u001b[0;31m---------------------------------------------------------------------------\u001b[0m",
      "\u001b[0;31mKeyError\u001b[0m                                  Traceback (most recent call last)",
      "\u001b[0;32m<ipython-input-97-f1f73a69cbfc>\u001b[0m in \u001b[0;36m<module>\u001b[0;34m\u001b[0m\n\u001b[0;32m----> 1\u001b[0;31m \u001b[0mdata1\u001b[0m\u001b[0;34m.\u001b[0m\u001b[0mdrop\u001b[0m\u001b[0;34m(\u001b[0m\u001b[0;34m\"0\"\u001b[0m\u001b[0;34m)\u001b[0m\u001b[0;34m\u001b[0m\u001b[0;34m\u001b[0m\u001b[0m\n\u001b[0m",
      "\u001b[0;32m~/anaconda3/lib/python3.7/site-packages/pandas/core/frame.py\u001b[0m in \u001b[0;36mdrop\u001b[0;34m(self, labels, axis, index, columns, level, inplace, errors)\u001b[0m\n\u001b[1;32m   3995\u001b[0m             \u001b[0mlevel\u001b[0m\u001b[0;34m=\u001b[0m\u001b[0mlevel\u001b[0m\u001b[0;34m,\u001b[0m\u001b[0;34m\u001b[0m\u001b[0;34m\u001b[0m\u001b[0m\n\u001b[1;32m   3996\u001b[0m             \u001b[0minplace\u001b[0m\u001b[0;34m=\u001b[0m\u001b[0minplace\u001b[0m\u001b[0;34m,\u001b[0m\u001b[0;34m\u001b[0m\u001b[0;34m\u001b[0m\u001b[0m\n\u001b[0;32m-> 3997\u001b[0;31m             \u001b[0merrors\u001b[0m\u001b[0;34m=\u001b[0m\u001b[0merrors\u001b[0m\u001b[0;34m,\u001b[0m\u001b[0;34m\u001b[0m\u001b[0;34m\u001b[0m\u001b[0m\n\u001b[0m\u001b[1;32m   3998\u001b[0m         )\n\u001b[1;32m   3999\u001b[0m \u001b[0;34m\u001b[0m\u001b[0m\n",
      "\u001b[0;32m~/anaconda3/lib/python3.7/site-packages/pandas/core/generic.py\u001b[0m in \u001b[0;36mdrop\u001b[0;34m(self, labels, axis, index, columns, level, inplace, errors)\u001b[0m\n\u001b[1;32m   3934\u001b[0m         \u001b[0;32mfor\u001b[0m \u001b[0maxis\u001b[0m\u001b[0;34m,\u001b[0m \u001b[0mlabels\u001b[0m \u001b[0;32min\u001b[0m \u001b[0maxes\u001b[0m\u001b[0;34m.\u001b[0m\u001b[0mitems\u001b[0m\u001b[0;34m(\u001b[0m\u001b[0;34m)\u001b[0m\u001b[0;34m:\u001b[0m\u001b[0;34m\u001b[0m\u001b[0;34m\u001b[0m\u001b[0m\n\u001b[1;32m   3935\u001b[0m             \u001b[0;32mif\u001b[0m \u001b[0mlabels\u001b[0m \u001b[0;32mis\u001b[0m \u001b[0;32mnot\u001b[0m \u001b[0;32mNone\u001b[0m\u001b[0;34m:\u001b[0m\u001b[0;34m\u001b[0m\u001b[0;34m\u001b[0m\u001b[0m\n\u001b[0;32m-> 3936\u001b[0;31m                 \u001b[0mobj\u001b[0m \u001b[0;34m=\u001b[0m \u001b[0mobj\u001b[0m\u001b[0;34m.\u001b[0m\u001b[0m_drop_axis\u001b[0m\u001b[0;34m(\u001b[0m\u001b[0mlabels\u001b[0m\u001b[0;34m,\u001b[0m \u001b[0maxis\u001b[0m\u001b[0;34m,\u001b[0m \u001b[0mlevel\u001b[0m\u001b[0;34m=\u001b[0m\u001b[0mlevel\u001b[0m\u001b[0;34m,\u001b[0m \u001b[0merrors\u001b[0m\u001b[0;34m=\u001b[0m\u001b[0merrors\u001b[0m\u001b[0;34m)\u001b[0m\u001b[0;34m\u001b[0m\u001b[0;34m\u001b[0m\u001b[0m\n\u001b[0m\u001b[1;32m   3937\u001b[0m \u001b[0;34m\u001b[0m\u001b[0m\n\u001b[1;32m   3938\u001b[0m         \u001b[0;32mif\u001b[0m \u001b[0minplace\u001b[0m\u001b[0;34m:\u001b[0m\u001b[0;34m\u001b[0m\u001b[0;34m\u001b[0m\u001b[0m\n",
      "\u001b[0;32m~/anaconda3/lib/python3.7/site-packages/pandas/core/generic.py\u001b[0m in \u001b[0;36m_drop_axis\u001b[0;34m(self, labels, axis, level, errors)\u001b[0m\n\u001b[1;32m   3968\u001b[0m                 \u001b[0mnew_axis\u001b[0m \u001b[0;34m=\u001b[0m \u001b[0maxis\u001b[0m\u001b[0;34m.\u001b[0m\u001b[0mdrop\u001b[0m\u001b[0;34m(\u001b[0m\u001b[0mlabels\u001b[0m\u001b[0;34m,\u001b[0m \u001b[0mlevel\u001b[0m\u001b[0;34m=\u001b[0m\u001b[0mlevel\u001b[0m\u001b[0;34m,\u001b[0m \u001b[0merrors\u001b[0m\u001b[0;34m=\u001b[0m\u001b[0merrors\u001b[0m\u001b[0;34m)\u001b[0m\u001b[0;34m\u001b[0m\u001b[0;34m\u001b[0m\u001b[0m\n\u001b[1;32m   3969\u001b[0m             \u001b[0;32melse\u001b[0m\u001b[0;34m:\u001b[0m\u001b[0;34m\u001b[0m\u001b[0;34m\u001b[0m\u001b[0m\n\u001b[0;32m-> 3970\u001b[0;31m                 \u001b[0mnew_axis\u001b[0m \u001b[0;34m=\u001b[0m \u001b[0maxis\u001b[0m\u001b[0;34m.\u001b[0m\u001b[0mdrop\u001b[0m\u001b[0;34m(\u001b[0m\u001b[0mlabels\u001b[0m\u001b[0;34m,\u001b[0m \u001b[0merrors\u001b[0m\u001b[0;34m=\u001b[0m\u001b[0merrors\u001b[0m\u001b[0;34m)\u001b[0m\u001b[0;34m\u001b[0m\u001b[0;34m\u001b[0m\u001b[0m\n\u001b[0m\u001b[1;32m   3971\u001b[0m             \u001b[0mresult\u001b[0m \u001b[0;34m=\u001b[0m \u001b[0mself\u001b[0m\u001b[0;34m.\u001b[0m\u001b[0mreindex\u001b[0m\u001b[0;34m(\u001b[0m\u001b[0;34m**\u001b[0m\u001b[0;34m{\u001b[0m\u001b[0maxis_name\u001b[0m\u001b[0;34m:\u001b[0m \u001b[0mnew_axis\u001b[0m\u001b[0;34m}\u001b[0m\u001b[0;34m)\u001b[0m\u001b[0;34m\u001b[0m\u001b[0;34m\u001b[0m\u001b[0m\n\u001b[1;32m   3972\u001b[0m \u001b[0;34m\u001b[0m\u001b[0m\n",
      "\u001b[0;32m~/anaconda3/lib/python3.7/site-packages/pandas/core/indexes/base.py\u001b[0m in \u001b[0;36mdrop\u001b[0;34m(self, labels, errors)\u001b[0m\n\u001b[1;32m   5016\u001b[0m         \u001b[0;32mif\u001b[0m \u001b[0mmask\u001b[0m\u001b[0;34m.\u001b[0m\u001b[0many\u001b[0m\u001b[0;34m(\u001b[0m\u001b[0;34m)\u001b[0m\u001b[0;34m:\u001b[0m\u001b[0;34m\u001b[0m\u001b[0;34m\u001b[0m\u001b[0m\n\u001b[1;32m   5017\u001b[0m             \u001b[0;32mif\u001b[0m \u001b[0merrors\u001b[0m \u001b[0;34m!=\u001b[0m \u001b[0;34m\"ignore\"\u001b[0m\u001b[0;34m:\u001b[0m\u001b[0;34m\u001b[0m\u001b[0;34m\u001b[0m\u001b[0m\n\u001b[0;32m-> 5018\u001b[0;31m                 \u001b[0;32mraise\u001b[0m \u001b[0mKeyError\u001b[0m\u001b[0;34m(\u001b[0m\u001b[0;34mf\"{labels[mask]} not found in axis\"\u001b[0m\u001b[0;34m)\u001b[0m\u001b[0;34m\u001b[0m\u001b[0;34m\u001b[0m\u001b[0m\n\u001b[0m\u001b[1;32m   5019\u001b[0m             \u001b[0mindexer\u001b[0m \u001b[0;34m=\u001b[0m \u001b[0mindexer\u001b[0m\u001b[0;34m[\u001b[0m\u001b[0;34m~\u001b[0m\u001b[0mmask\u001b[0m\u001b[0;34m]\u001b[0m\u001b[0;34m\u001b[0m\u001b[0;34m\u001b[0m\u001b[0m\n\u001b[1;32m   5020\u001b[0m         \u001b[0;32mreturn\u001b[0m \u001b[0mself\u001b[0m\u001b[0;34m.\u001b[0m\u001b[0mdelete\u001b[0m\u001b[0;34m(\u001b[0m\u001b[0mindexer\u001b[0m\u001b[0;34m)\u001b[0m\u001b[0;34m\u001b[0m\u001b[0;34m\u001b[0m\u001b[0m\n",
      "\u001b[0;31mKeyError\u001b[0m: \"['0'] not found in axis\""
     ]
    }
   ],
   "source": []
  },
  {
   "cell_type": "code",
   "execution_count": 98,
   "metadata": {},
   "outputs": [
    {
     "name": "stderr",
     "output_type": "stream",
     "text": [
      "/home/siddharth/anaconda3/lib/python3.7/site-packages/pandas/core/ops/array_ops.py:253: FutureWarning:\n",
      "\n",
      "elementwise comparison failed; returning scalar instead, but in the future will perform elementwise comparison\n",
      "\n"
     ]
    },
    {
     "data": {
      "text/html": [
       "<div>\n",
       "<style scoped>\n",
       "    .dataframe tbody tr th:only-of-type {\n",
       "        vertical-align: middle;\n",
       "    }\n",
       "\n",
       "    .dataframe tbody tr th {\n",
       "        vertical-align: top;\n",
       "    }\n",
       "\n",
       "    .dataframe thead th {\n",
       "        text-align: right;\n",
       "    }\n",
       "</style>\n",
       "<table border=\"1\" class=\"dataframe\">\n",
       "  <thead>\n",
       "    <tr style=\"text-align: right;\">\n",
       "      <th></th>\n",
       "      <th>Unnamed: 0</th>\n",
       "      <th>date</th>\n",
       "      <th>tital</th>\n",
       "      <th>user</th>\n",
       "      <th>dislike</th>\n",
       "      <th>like</th>\n",
       "      <th>page_index</th>\n",
       "      <th>clean_round_1</th>\n",
       "      <th>without_sw_and_punctuation_numbers</th>\n",
       "      <th>rating</th>\n",
       "      <th>rev_len_positive</th>\n",
       "    </tr>\n",
       "  </thead>\n",
       "  <tbody>\n",
       "  </tbody>\n",
       "</table>\n",
       "</div>"
      ],
      "text/plain": [
       "Empty DataFrame\n",
       "Columns: [Unnamed: 0, date, tital, user, dislike, like, page_index, clean_round_1, without_sw_and_punctuation_numbers, rating, rev_len_positive]\n",
       "Index: []"
      ]
     },
     "execution_count": 98,
     "metadata": {},
     "output_type": "execute_result"
    }
   ],
   "source": [
    "data1[data1['rating']=='5.0']"
   ]
  },
  {
   "cell_type": "code",
   "execution_count": null,
   "metadata": {},
   "outputs": [],
   "source": []
  },
  {
   "cell_type": "code",
   "execution_count": null,
   "metadata": {},
   "outputs": [],
   "source": []
  }
 ],
 "metadata": {
  "kernelspec": {
   "display_name": "Python 3",
   "language": "python",
   "name": "python3"
  },
  "language_info": {
   "codemirror_mode": {
    "name": "ipython",
    "version": 3
   },
   "file_extension": ".py",
   "mimetype": "text/x-python",
   "name": "python",
   "nbconvert_exporter": "python",
   "pygments_lexer": "ipython3",
   "version": "3.7.6"
  }
 },
 "nbformat": 4,
 "nbformat_minor": 4
}
